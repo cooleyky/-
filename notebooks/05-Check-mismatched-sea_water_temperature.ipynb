{
 "cells": [
  {
   "cell_type": "markdown",
   "id": "2a2698b9-0b26-44fb-afd7-9d0521b9022c",
   "metadata": {},
   "source": [
    "# Check values at mismatched QARTOD flags against suspect range thresholds"
   ]
  },
  {
   "cell_type": "code",
   "execution_count": 12,
   "id": "4e59f073-aa39-495c-b65e-25c823274c6c",
   "metadata": {},
   "outputs": [],
   "source": [
    "# Import required libraries\n",
    "import xarray as xr\n",
    "import glob\n",
    "import os\n",
    "import re\n",
    "import json\n",
    "import matplotlib.pyplot as plt\n",
    "import matplotlib.dates as mdates\n",
    "from matplotlib.colors import ListedColormap"
   ]
  },
  {
   "cell_type": "code",
   "execution_count": 1,
   "id": "01a9dc0b-17bc-419d-9918-b74fb7841dba",
   "metadata": {},
   "outputs": [],
   "source": [
    "# Import local project functions\n",
    "from qartod_testing.local_qc_test import load_climatology_qartod_test_values"
   ]
  },
  {
   "cell_type": "code",
   "execution_count": 3,
   "id": "254b45a9-6440-40a2-9112-a95f790dc796",
   "metadata": {},
   "outputs": [],
   "source": [
    "# Set reference designator, data stream, and method \n",
    "method = \"recovered_inst\"                       \n",
    "stream = \"ctdbp_cdef_instrument_recovered\"   \n",
    "refdes = \"CP01CNSM-RID27-03-CTDBPC000\"              "
   ]
  },
  {
   "cell_type": "code",
   "execution_count": 4,
   "id": "b633888c-d1ca-40d5-b308-0b691385b9d6",
   "metadata": {
    "tags": []
   },
   "outputs": [],
   "source": [
    "# build path to folder where data was saved\n",
    "folder_path = os.path.join(os.path.abspath('../data/processed'), method, stream, refdes)\n",
    "\n",
    "# retrieve file name for mismatched flags in this directory\n",
    "local_files = glob.glob(folder_path+'/*climatology_test_comparison*.nc') # need to change this tag if files exist for more than one parameter\n",
    "local_files.sort()\n",
    "# local_files"
   ]
  },
  {
   "cell_type": "code",
   "execution_count": 5,
   "id": "54fbfa1f-44fc-412d-b6ba-30badb6c5d6a",
   "metadata": {
    "tags": []
   },
   "outputs": [
    {
     "data": {
      "text/html": [
       "<div><svg style=\"position: absolute; width: 0; height: 0; overflow: hidden\">\n",
       "<defs>\n",
       "<symbol id=\"icon-database\" viewBox=\"0 0 32 32\">\n",
       "<path d=\"M16 0c-8.837 0-16 2.239-16 5v4c0 2.761 7.163 5 16 5s16-2.239 16-5v-4c0-2.761-7.163-5-16-5z\"></path>\n",
       "<path d=\"M16 17c-8.837 0-16-2.239-16-5v6c0 2.761 7.163 5 16 5s16-2.239 16-5v-6c0 2.761-7.163 5-16 5z\"></path>\n",
       "<path d=\"M16 26c-8.837 0-16-2.239-16-5v6c0 2.761 7.163 5 16 5s16-2.239 16-5v-6c0 2.761-7.163 5-16 5z\"></path>\n",
       "</symbol>\n",
       "<symbol id=\"icon-file-text2\" viewBox=\"0 0 32 32\">\n",
       "<path d=\"M28.681 7.159c-0.694-0.947-1.662-2.053-2.724-3.116s-2.169-2.030-3.116-2.724c-1.612-1.182-2.393-1.319-2.841-1.319h-15.5c-1.378 0-2.5 1.121-2.5 2.5v27c0 1.378 1.122 2.5 2.5 2.5h23c1.378 0 2.5-1.122 2.5-2.5v-19.5c0-0.448-0.137-1.23-1.319-2.841zM24.543 5.457c0.959 0.959 1.712 1.825 2.268 2.543h-4.811v-4.811c0.718 0.556 1.584 1.309 2.543 2.268zM28 29.5c0 0.271-0.229 0.5-0.5 0.5h-23c-0.271 0-0.5-0.229-0.5-0.5v-27c0-0.271 0.229-0.5 0.5-0.5 0 0 15.499-0 15.5 0v7c0 0.552 0.448 1 1 1h7v19.5z\"></path>\n",
       "<path d=\"M23 26h-14c-0.552 0-1-0.448-1-1s0.448-1 1-1h14c0.552 0 1 0.448 1 1s-0.448 1-1 1z\"></path>\n",
       "<path d=\"M23 22h-14c-0.552 0-1-0.448-1-1s0.448-1 1-1h14c0.552 0 1 0.448 1 1s-0.448 1-1 1z\"></path>\n",
       "<path d=\"M23 18h-14c-0.552 0-1-0.448-1-1s0.448-1 1-1h14c0.552 0 1 0.448 1 1s-0.448 1-1 1z\"></path>\n",
       "</symbol>\n",
       "</defs>\n",
       "</svg>\n",
       "<style>/* CSS stylesheet for displaying xarray objects in jupyterlab.\n",
       " *\n",
       " */\n",
       "\n",
       ":root {\n",
       "  --xr-font-color0: var(--jp-content-font-color0, rgba(0, 0, 0, 1));\n",
       "  --xr-font-color2: var(--jp-content-font-color2, rgba(0, 0, 0, 0.54));\n",
       "  --xr-font-color3: var(--jp-content-font-color3, rgba(0, 0, 0, 0.38));\n",
       "  --xr-border-color: var(--jp-border-color2, #e0e0e0);\n",
       "  --xr-disabled-color: var(--jp-layout-color3, #bdbdbd);\n",
       "  --xr-background-color: var(--jp-layout-color0, white);\n",
       "  --xr-background-color-row-even: var(--jp-layout-color1, white);\n",
       "  --xr-background-color-row-odd: var(--jp-layout-color2, #eeeeee);\n",
       "}\n",
       "\n",
       "html[theme=dark],\n",
       "body[data-theme=dark],\n",
       "body.vscode-dark {\n",
       "  --xr-font-color0: rgba(255, 255, 255, 1);\n",
       "  --xr-font-color2: rgba(255, 255, 255, 0.54);\n",
       "  --xr-font-color3: rgba(255, 255, 255, 0.38);\n",
       "  --xr-border-color: #1F1F1F;\n",
       "  --xr-disabled-color: #515151;\n",
       "  --xr-background-color: #111111;\n",
       "  --xr-background-color-row-even: #111111;\n",
       "  --xr-background-color-row-odd: #313131;\n",
       "}\n",
       "\n",
       ".xr-wrap {\n",
       "  display: block !important;\n",
       "  min-width: 300px;\n",
       "  max-width: 700px;\n",
       "}\n",
       "\n",
       ".xr-text-repr-fallback {\n",
       "  /* fallback to plain text repr when CSS is not injected (untrusted notebook) */\n",
       "  display: none;\n",
       "}\n",
       "\n",
       ".xr-header {\n",
       "  padding-top: 6px;\n",
       "  padding-bottom: 6px;\n",
       "  margin-bottom: 4px;\n",
       "  border-bottom: solid 1px var(--xr-border-color);\n",
       "}\n",
       "\n",
       ".xr-header > div,\n",
       ".xr-header > ul {\n",
       "  display: inline;\n",
       "  margin-top: 0;\n",
       "  margin-bottom: 0;\n",
       "}\n",
       "\n",
       ".xr-obj-type,\n",
       ".xr-array-name {\n",
       "  margin-left: 2px;\n",
       "  margin-right: 10px;\n",
       "}\n",
       "\n",
       ".xr-obj-type {\n",
       "  color: var(--xr-font-color2);\n",
       "}\n",
       "\n",
       ".xr-sections {\n",
       "  padding-left: 0 !important;\n",
       "  display: grid;\n",
       "  grid-template-columns: 150px auto auto 1fr 20px 20px;\n",
       "}\n",
       "\n",
       ".xr-section-item {\n",
       "  display: contents;\n",
       "}\n",
       "\n",
       ".xr-section-item input {\n",
       "  display: none;\n",
       "}\n",
       "\n",
       ".xr-section-item input + label {\n",
       "  color: var(--xr-disabled-color);\n",
       "}\n",
       "\n",
       ".xr-section-item input:enabled + label {\n",
       "  cursor: pointer;\n",
       "  color: var(--xr-font-color2);\n",
       "}\n",
       "\n",
       ".xr-section-item input:enabled + label:hover {\n",
       "  color: var(--xr-font-color0);\n",
       "}\n",
       "\n",
       ".xr-section-summary {\n",
       "  grid-column: 1;\n",
       "  color: var(--xr-font-color2);\n",
       "  font-weight: 500;\n",
       "}\n",
       "\n",
       ".xr-section-summary > span {\n",
       "  display: inline-block;\n",
       "  padding-left: 0.5em;\n",
       "}\n",
       "\n",
       ".xr-section-summary-in:disabled + label {\n",
       "  color: var(--xr-font-color2);\n",
       "}\n",
       "\n",
       ".xr-section-summary-in + label:before {\n",
       "  display: inline-block;\n",
       "  content: '►';\n",
       "  font-size: 11px;\n",
       "  width: 15px;\n",
       "  text-align: center;\n",
       "}\n",
       "\n",
       ".xr-section-summary-in:disabled + label:before {\n",
       "  color: var(--xr-disabled-color);\n",
       "}\n",
       "\n",
       ".xr-section-summary-in:checked + label:before {\n",
       "  content: '▼';\n",
       "}\n",
       "\n",
       ".xr-section-summary-in:checked + label > span {\n",
       "  display: none;\n",
       "}\n",
       "\n",
       ".xr-section-summary,\n",
       ".xr-section-inline-details {\n",
       "  padding-top: 4px;\n",
       "  padding-bottom: 4px;\n",
       "}\n",
       "\n",
       ".xr-section-inline-details {\n",
       "  grid-column: 2 / -1;\n",
       "}\n",
       "\n",
       ".xr-section-details {\n",
       "  display: none;\n",
       "  grid-column: 1 / -1;\n",
       "  margin-bottom: 5px;\n",
       "}\n",
       "\n",
       ".xr-section-summary-in:checked ~ .xr-section-details {\n",
       "  display: contents;\n",
       "}\n",
       "\n",
       ".xr-array-wrap {\n",
       "  grid-column: 1 / -1;\n",
       "  display: grid;\n",
       "  grid-template-columns: 20px auto;\n",
       "}\n",
       "\n",
       ".xr-array-wrap > label {\n",
       "  grid-column: 1;\n",
       "  vertical-align: top;\n",
       "}\n",
       "\n",
       ".xr-preview {\n",
       "  color: var(--xr-font-color3);\n",
       "}\n",
       "\n",
       ".xr-array-preview,\n",
       ".xr-array-data {\n",
       "  padding: 0 5px !important;\n",
       "  grid-column: 2;\n",
       "}\n",
       "\n",
       ".xr-array-data,\n",
       ".xr-array-in:checked ~ .xr-array-preview {\n",
       "  display: none;\n",
       "}\n",
       "\n",
       ".xr-array-in:checked ~ .xr-array-data,\n",
       ".xr-array-preview {\n",
       "  display: inline-block;\n",
       "}\n",
       "\n",
       ".xr-dim-list {\n",
       "  display: inline-block !important;\n",
       "  list-style: none;\n",
       "  padding: 0 !important;\n",
       "  margin: 0;\n",
       "}\n",
       "\n",
       ".xr-dim-list li {\n",
       "  display: inline-block;\n",
       "  padding: 0;\n",
       "  margin: 0;\n",
       "}\n",
       "\n",
       ".xr-dim-list:before {\n",
       "  content: '(';\n",
       "}\n",
       "\n",
       ".xr-dim-list:after {\n",
       "  content: ')';\n",
       "}\n",
       "\n",
       ".xr-dim-list li:not(:last-child):after {\n",
       "  content: ',';\n",
       "  padding-right: 5px;\n",
       "}\n",
       "\n",
       ".xr-has-index {\n",
       "  font-weight: bold;\n",
       "}\n",
       "\n",
       ".xr-var-list,\n",
       ".xr-var-item {\n",
       "  display: contents;\n",
       "}\n",
       "\n",
       ".xr-var-item > div,\n",
       ".xr-var-item label,\n",
       ".xr-var-item > .xr-var-name span {\n",
       "  background-color: var(--xr-background-color-row-even);\n",
       "  margin-bottom: 0;\n",
       "}\n",
       "\n",
       ".xr-var-item > .xr-var-name:hover span {\n",
       "  padding-right: 5px;\n",
       "}\n",
       "\n",
       ".xr-var-list > li:nth-child(odd) > div,\n",
       ".xr-var-list > li:nth-child(odd) > label,\n",
       ".xr-var-list > li:nth-child(odd) > .xr-var-name span {\n",
       "  background-color: var(--xr-background-color-row-odd);\n",
       "}\n",
       "\n",
       ".xr-var-name {\n",
       "  grid-column: 1;\n",
       "}\n",
       "\n",
       ".xr-var-dims {\n",
       "  grid-column: 2;\n",
       "}\n",
       "\n",
       ".xr-var-dtype {\n",
       "  grid-column: 3;\n",
       "  text-align: right;\n",
       "  color: var(--xr-font-color2);\n",
       "}\n",
       "\n",
       ".xr-var-preview {\n",
       "  grid-column: 4;\n",
       "}\n",
       "\n",
       ".xr-index-preview {\n",
       "  grid-column: 2 / 5;\n",
       "  color: var(--xr-font-color2);\n",
       "}\n",
       "\n",
       ".xr-var-name,\n",
       ".xr-var-dims,\n",
       ".xr-var-dtype,\n",
       ".xr-preview,\n",
       ".xr-attrs dt {\n",
       "  white-space: nowrap;\n",
       "  overflow: hidden;\n",
       "  text-overflow: ellipsis;\n",
       "  padding-right: 10px;\n",
       "}\n",
       "\n",
       ".xr-var-name:hover,\n",
       ".xr-var-dims:hover,\n",
       ".xr-var-dtype:hover,\n",
       ".xr-attrs dt:hover {\n",
       "  overflow: visible;\n",
       "  width: auto;\n",
       "  z-index: 1;\n",
       "}\n",
       "\n",
       ".xr-var-attrs,\n",
       ".xr-var-data,\n",
       ".xr-index-data {\n",
       "  display: none;\n",
       "  background-color: var(--xr-background-color) !important;\n",
       "  padding-bottom: 5px !important;\n",
       "}\n",
       "\n",
       ".xr-var-attrs-in:checked ~ .xr-var-attrs,\n",
       ".xr-var-data-in:checked ~ .xr-var-data,\n",
       ".xr-index-data-in:checked ~ .xr-index-data {\n",
       "  display: block;\n",
       "}\n",
       "\n",
       ".xr-var-data > table {\n",
       "  float: right;\n",
       "}\n",
       "\n",
       ".xr-var-name span,\n",
       ".xr-var-data,\n",
       ".xr-index-name div,\n",
       ".xr-index-data,\n",
       ".xr-attrs {\n",
       "  padding-left: 25px !important;\n",
       "}\n",
       "\n",
       ".xr-attrs,\n",
       ".xr-var-attrs,\n",
       ".xr-var-data,\n",
       ".xr-index-data {\n",
       "  grid-column: 1 / -1;\n",
       "}\n",
       "\n",
       "dl.xr-attrs {\n",
       "  padding: 0;\n",
       "  margin: 0;\n",
       "  display: grid;\n",
       "  grid-template-columns: 125px auto;\n",
       "}\n",
       "\n",
       ".xr-attrs dt,\n",
       ".xr-attrs dd {\n",
       "  padding: 0;\n",
       "  margin: 0;\n",
       "  float: left;\n",
       "  padding-right: 10px;\n",
       "  width: auto;\n",
       "}\n",
       "\n",
       ".xr-attrs dt {\n",
       "  font-weight: normal;\n",
       "  grid-column: 1;\n",
       "}\n",
       "\n",
       ".xr-attrs dt:hover span {\n",
       "  display: inline-block;\n",
       "  background: var(--xr-background-color);\n",
       "  padding-right: 10px;\n",
       "}\n",
       "\n",
       ".xr-attrs dd {\n",
       "  grid-column: 2;\n",
       "  white-space: pre-wrap;\n",
       "  word-break: break-all;\n",
       "}\n",
       "\n",
       ".xr-icon-database,\n",
       ".xr-icon-file-text2,\n",
       ".xr-no-icon {\n",
       "  display: inline-block;\n",
       "  vertical-align: middle;\n",
       "  width: 1em;\n",
       "  height: 1.5em !important;\n",
       "  stroke-width: 0;\n",
       "  stroke: currentColor;\n",
       "  fill: currentColor;\n",
       "}\n",
       "</style><pre class='xr-text-repr-fallback'>&lt;xarray.Dataset&gt;\n",
       "Dimensions:          (time: 6297)\n",
       "Coordinates:\n",
       "  * time             (time) datetime64[ns] 2015-12-04T10:31:50 ... 2016-04-01...\n",
       "Data variables:\n",
       "    expected_flags   (time) object &#x27;3&#x27; &#x27;3&#x27; &#x27;3&#x27; &#x27;3&#x27; &#x27;3&#x27; ... &#x27;3&#x27; &#x27;3&#x27; &#x27;3&#x27; &#x27;3&#x27; &#x27;3&#x27;\n",
       "    local_flags      (time) uint8 1 1 1 1 1 1 1 1 1 1 1 ... 1 1 1 1 1 1 1 1 1 1\n",
       "    expected_values  (time) float64 14.89 14.89 14.89 ... 11.27 11.27 11.27\n",
       "Attributes:\n",
       "    parameter_name:      sea_water_temperature\n",
       "    ooinet_name:         ctdbp_seawater_temperature\n",
       "    percent_mismatched:  2%\n",
       "    file_name:           /home/jovyan/code/qartod_testing/data/external/recov...</pre><div class='xr-wrap' style='display:none'><div class='xr-header'><div class='xr-obj-type'>xarray.Dataset</div></div><ul class='xr-sections'><li class='xr-section-item'><input id='section-6334c6bb-9354-4cfc-bf6d-8474f852d819' class='xr-section-summary-in' type='checkbox' disabled ><label for='section-6334c6bb-9354-4cfc-bf6d-8474f852d819' class='xr-section-summary'  title='Expand/collapse section'>Dimensions:</label><div class='xr-section-inline-details'><ul class='xr-dim-list'><li><span class='xr-has-index'>time</span>: 6297</li></ul></div><div class='xr-section-details'></div></li><li class='xr-section-item'><input id='section-2bcfb574-133a-4557-b609-38de0363ed7d' class='xr-section-summary-in' type='checkbox'  checked><label for='section-2bcfb574-133a-4557-b609-38de0363ed7d' class='xr-section-summary' >Coordinates: <span>(1)</span></label><div class='xr-section-inline-details'></div><div class='xr-section-details'><ul class='xr-var-list'><li class='xr-var-item'><div class='xr-var-name'><span class='xr-has-index'>time</span></div><div class='xr-var-dims'>(time)</div><div class='xr-var-dtype'>datetime64[ns]</div><div class='xr-var-preview xr-preview'>2015-12-04T10:31:50 ... 2016-04-...</div><input id='attrs-adcfb099-72be-4b69-aee6-59d7d8ea2891' class='xr-var-attrs-in' type='checkbox' disabled><label for='attrs-adcfb099-72be-4b69-aee6-59d7d8ea2891' title='Show/Hide attributes'><svg class='icon xr-icon-file-text2'><use xlink:href='#icon-file-text2'></use></svg></label><input id='data-e68b6a37-e3d5-4974-9cfb-2c91de9e193c' class='xr-var-data-in' type='checkbox'><label for='data-e68b6a37-e3d5-4974-9cfb-2c91de9e193c' title='Show/Hide data repr'><svg class='icon xr-icon-database'><use xlink:href='#icon-database'></use></svg></label><div class='xr-var-attrs'><dl class='xr-attrs'></dl></div><div class='xr-var-data'><pre>array([&#x27;2015-12-04T10:31:50.000000000&#x27;, &#x27;2015-12-04T10:33:10.000000000&#x27;,\n",
       "       &#x27;2015-12-04T10:33:20.000000000&#x27;, ..., &#x27;2016-04-01T16:18:39.000000000&#x27;,\n",
       "       &#x27;2016-04-01T22:15:57.000000000&#x27;, &#x27;2016-04-01T22:17:07.000000000&#x27;],\n",
       "      dtype=&#x27;datetime64[ns]&#x27;)</pre></div></li></ul></div></li><li class='xr-section-item'><input id='section-7c6a4df6-1309-40a7-adf4-aa6a2f9dc435' class='xr-section-summary-in' type='checkbox'  checked><label for='section-7c6a4df6-1309-40a7-adf4-aa6a2f9dc435' class='xr-section-summary' >Data variables: <span>(3)</span></label><div class='xr-section-inline-details'></div><div class='xr-section-details'><ul class='xr-var-list'><li class='xr-var-item'><div class='xr-var-name'><span>expected_flags</span></div><div class='xr-var-dims'>(time)</div><div class='xr-var-dtype'>object</div><div class='xr-var-preview xr-preview'>&#x27;3&#x27; &#x27;3&#x27; &#x27;3&#x27; &#x27;3&#x27; ... &#x27;3&#x27; &#x27;3&#x27; &#x27;3&#x27; &#x27;3&#x27;</div><input id='attrs-9be8bcf6-7284-43ae-8f06-d71128643759' class='xr-var-attrs-in' type='checkbox' disabled><label for='attrs-9be8bcf6-7284-43ae-8f06-d71128643759' title='Show/Hide attributes'><svg class='icon xr-icon-file-text2'><use xlink:href='#icon-file-text2'></use></svg></label><input id='data-f0878120-2e86-41ea-8e42-d7171ae4f684' class='xr-var-data-in' type='checkbox'><label for='data-f0878120-2e86-41ea-8e42-d7171ae4f684' title='Show/Hide data repr'><svg class='icon xr-icon-database'><use xlink:href='#icon-database'></use></svg></label><div class='xr-var-attrs'><dl class='xr-attrs'></dl></div><div class='xr-var-data'><pre>array([&#x27;3&#x27;, &#x27;3&#x27;, &#x27;3&#x27;, ..., &#x27;3&#x27;, &#x27;3&#x27;, &#x27;3&#x27;], dtype=object)</pre></div></li><li class='xr-var-item'><div class='xr-var-name'><span>local_flags</span></div><div class='xr-var-dims'>(time)</div><div class='xr-var-dtype'>uint8</div><div class='xr-var-preview xr-preview'>1 1 1 1 1 1 1 1 ... 1 1 1 1 1 1 1 1</div><input id='attrs-262ebb3e-9628-476f-823d-281aeea5a1c2' class='xr-var-attrs-in' type='checkbox' disabled><label for='attrs-262ebb3e-9628-476f-823d-281aeea5a1c2' title='Show/Hide attributes'><svg class='icon xr-icon-file-text2'><use xlink:href='#icon-file-text2'></use></svg></label><input id='data-5d66ea0f-5d60-4297-986e-6ea830491a41' class='xr-var-data-in' type='checkbox'><label for='data-5d66ea0f-5d60-4297-986e-6ea830491a41' title='Show/Hide data repr'><svg class='icon xr-icon-database'><use xlink:href='#icon-database'></use></svg></label><div class='xr-var-attrs'><dl class='xr-attrs'></dl></div><div class='xr-var-data'><pre>array([1, 1, 1, ..., 1, 1, 1], dtype=uint8)</pre></div></li><li class='xr-var-item'><div class='xr-var-name'><span>expected_values</span></div><div class='xr-var-dims'>(time)</div><div class='xr-var-dtype'>float64</div><div class='xr-var-preview xr-preview'>14.89 14.89 14.89 ... 11.27 11.27</div><input id='attrs-b6913989-3a66-4b37-a588-4e92e3364f93' class='xr-var-attrs-in' type='checkbox' disabled><label for='attrs-b6913989-3a66-4b37-a588-4e92e3364f93' title='Show/Hide attributes'><svg class='icon xr-icon-file-text2'><use xlink:href='#icon-file-text2'></use></svg></label><input id='data-b8f61033-e154-494f-aee0-18c696779b90' class='xr-var-data-in' type='checkbox'><label for='data-b8f61033-e154-494f-aee0-18c696779b90' title='Show/Hide data repr'><svg class='icon xr-icon-database'><use xlink:href='#icon-database'></use></svg></label><div class='xr-var-attrs'><dl class='xr-attrs'></dl></div><div class='xr-var-data'><pre>array([14.88955308, 14.89085923, 14.8900909 , ..., 11.27094692,\n",
       "       11.26773894, 11.26732944])</pre></div></li></ul></div></li><li class='xr-section-item'><input id='section-1fa96e77-afff-4b6b-aed2-af1464c8fb47' class='xr-section-summary-in' type='checkbox'  ><label for='section-1fa96e77-afff-4b6b-aed2-af1464c8fb47' class='xr-section-summary' >Indexes: <span>(1)</span></label><div class='xr-section-inline-details'></div><div class='xr-section-details'><ul class='xr-var-list'><li class='xr-var-item'><div class='xr-index-name'><div>time</div></div><div class='xr-index-preview'>PandasIndex</div><div></div><input id='index-bbe16c2c-d671-4211-b008-1ff1c9e0e228' class='xr-index-data-in' type='checkbox'/><label for='index-bbe16c2c-d671-4211-b008-1ff1c9e0e228' title='Show/Hide index repr'><svg class='icon xr-icon-database'><use xlink:href='#icon-database'></use></svg></label><div class='xr-index-data'><pre>PandasIndex(DatetimeIndex([&#x27;2015-12-04 10:31:50&#x27;, &#x27;2015-12-04 10:33:10&#x27;,\n",
       "               &#x27;2015-12-04 10:33:20&#x27;, &#x27;2015-12-04 10:33:30&#x27;,\n",
       "               &#x27;2015-12-04 10:45:29&#x27;, &#x27;2015-12-04 10:45:39&#x27;,\n",
       "               &#x27;2015-12-04 10:45:49&#x27;, &#x27;2015-12-04 10:45:59&#x27;,\n",
       "               &#x27;2015-12-04 10:46:09&#x27;, &#x27;2015-12-04 10:46:19&#x27;,\n",
       "               ...\n",
       "               &#x27;2016-04-01 16:17:29&#x27;, &#x27;2016-04-01 16:17:39&#x27;,\n",
       "               &#x27;2016-04-01 16:17:49&#x27;, &#x27;2016-04-01 16:17:59&#x27;,\n",
       "               &#x27;2016-04-01 16:18:09&#x27;, &#x27;2016-04-01 16:18:19&#x27;,\n",
       "               &#x27;2016-04-01 16:18:29&#x27;, &#x27;2016-04-01 16:18:39&#x27;,\n",
       "               &#x27;2016-04-01 22:15:57&#x27;, &#x27;2016-04-01 22:17:07&#x27;],\n",
       "              dtype=&#x27;datetime64[ns]&#x27;, name=&#x27;time&#x27;, length=6297, freq=None))</pre></div></li></ul></div></li><li class='xr-section-item'><input id='section-f60ad16c-3993-4d11-9220-2437b407d01e' class='xr-section-summary-in' type='checkbox'  checked><label for='section-f60ad16c-3993-4d11-9220-2437b407d01e' class='xr-section-summary' >Attributes: <span>(4)</span></label><div class='xr-section-inline-details'></div><div class='xr-section-details'><dl class='xr-attrs'><dt><span>parameter_name :</span></dt><dd>sea_water_temperature</dd><dt><span>ooinet_name :</span></dt><dd>ctdbp_seawater_temperature</dd><dt><span>percent_mismatched :</span></dt><dd>2%</dd><dt><span>file_name :</span></dt><dd>/home/jovyan/code/qartod_testing/data/external/recovered_inst/ctdbp_cdef_instrument_recovered/CP01CNSM-RID27-03-CTDBPC000/deployment0004_CP01CNSM-RID27-03-CTDBPC000-recovered_inst-ctdbp_cdef_instrument_recovered_20151023T191528-20160402T034848.nc</dd></dl></div></li></ul></div></div>"
      ],
      "text/plain": [
       "<xarray.Dataset>\n",
       "Dimensions:          (time: 6297)\n",
       "Coordinates:\n",
       "  * time             (time) datetime64[ns] 2015-12-04T10:31:50 ... 2016-04-01...\n",
       "Data variables:\n",
       "    expected_flags   (time) object '3' '3' '3' '3' '3' ... '3' '3' '3' '3' '3'\n",
       "    local_flags      (time) uint8 1 1 1 1 1 1 1 1 1 1 1 ... 1 1 1 1 1 1 1 1 1 1\n",
       "    expected_values  (time) float64 14.89 14.89 14.89 ... 11.27 11.27 11.27\n",
       "Attributes:\n",
       "    parameter_name:      sea_water_temperature\n",
       "    ooinet_name:         ctdbp_seawater_temperature\n",
       "    percent_mismatched:  2%\n",
       "    file_name:           /home/jovyan/code/qartod_testing/data/external/recov..."
      ]
     },
     "execution_count": 5,
     "metadata": {},
     "output_type": "execute_result"
    }
   ],
   "source": [
    "# load CSV data into pandas DataFrame\n",
    "file = local_files[0]\n",
    "mismatch_results = xr.load_dataset(file)\n",
    "mismatch_results"
   ]
  },
  {
   "cell_type": "code",
   "execution_count": 6,
   "id": "174d5898-3fa8-4bf7-bf9d-492c712481c9",
   "metadata": {
    "tags": []
   },
   "outputs": [
    {
     "data": {
      "image/png": "[encoded data removed]",
      "text/plain": [
       "<Figure size 640x480 with 1 Axes>"
      ]
     },
     "metadata": {},
     "output_type": "display_data"
    }
   ],
   "source": [
    "# create figure with scatter plot of expected sea water temperature values\n",
    "ax = plt.subplot(111,aspect=12)\n",
    "plt.scatter(mismatch_results['time'], mismatch_results['expected_values'])\n",
    "plt.ylabel(mismatch_results.parameter_name+' [$^{\\circ}$C]')\n",
    "plt.xlabel('Date')\n",
    "ax.xaxis.set_major_locator(mdates.MonthLocator())"
   ]
  },
  {
   "cell_type": "markdown",
   "id": "e8fe02c9-f74c-43bc-beb1-1f023868b957",
   "metadata": {},
   "source": [
    "Since the saved comparison dataset only contains datetime, flag values that didn't match up, original data points and original data file name, we will also have to import the climatology test threshold values so that we can plot these together"
   ]
  },
  {
   "cell_type": "code",
   "execution_count": 7,
   "id": "59445b31-ca8e-497e-8e5b-6805a1a2352b",
   "metadata": {
    "tags": []
   },
   "outputs": [
    {
     "data": {
      "text/plain": [
       "[5.9399, 12.8153]"
      ]
     },
     "execution_count": 7,
     "metadata": {},
     "output_type": "execute_result"
    }
   ],
   "source": [
    "# import threshold values for climatology test\n",
    "# refdes is already defined but we still need to define the parameter\n",
    "param = mismatch_results.ooinet_name\n",
    "thresholds = load_climatology_qartod_test_values(refdes, param)\n",
    "thresholds['[1, 1]'][0]"
   ]
  },
  {
   "cell_type": "markdown",
   "id": "91812775-7f89-4a28-bc14-2da058229ac0",
   "metadata": {
    "tags": []
   },
   "source": [
    "The QARTOD climatology test suspect thesholds change with month, so we will need to plot these values as horizontal lines over a single month "
   ]
  },
  {
   "cell_type": "code",
   "execution_count": 8,
   "id": "d7e0e7eb-3b1b-4b80-9951-2edb2b42742f",
   "metadata": {
    "tags": []
   },
   "outputs": [],
   "source": [
    "dec = mismatch_results['time'].sel(time=slice('2015-12','2015-12'))\n",
    "jan = mismatch_results['time'].sel(time=slice('2016-01','2016-01'))\n",
    "feb = mismatch_results['time'].sel(time=slice('2016-02','2016-02'))\n",
    "mar = mismatch_results['time'].sel(time=slice('2016-03','2016-03'))\n",
    "apr = mismatch_results['time'].sel(time=slice('2016-04','2016-04'))"
   ]
  },
  {
   "cell_type": "code",
   "execution_count": 9,
   "id": "f748e585-0ac7-4c08-b9e2-f31154482d9f",
   "metadata": {},
   "outputs": [
    {
     "data": {
      "image/png": "[encoded data removed]",
      "text/plain": [
       "<Figure size 640x480 with 1 Axes>"
      ]
     },
     "metadata": {},
     "output_type": "display_data"
    }
   ],
   "source": [
    "# create figure with horizontal lines showing climatology test monthly thresholds\n",
    "ax = plt.subplot(111)\n",
    "plt.scatter(mismatch_results['time'], mismatch_results['expected_values'])\n",
    "plt.hlines(thresholds['[1, 1]'][0], jan[0], jan[-1], colors=['blue','red'], linestyles='dashed')\n",
    "plt.hlines(thresholds['[2, 2]'][0], feb[0], feb[-1], colors=['blue','red'], linestyles='dashed')\n",
    "plt.hlines(thresholds['[3, 3]'][0], mar[0], mar[-1], colors=['blue','red'], linestyles='dashed')\n",
    "plt.hlines(thresholds['[4, 4]'][0], apr[0], apr[-1], colors=['blue','red'], linestyles='dashed')\n",
    "plt.hlines(thresholds['[12, 12]'][0], dec[0], dec[-1], colors=['blue','red'], linestyles='dashed')\n",
    "plt.ylabel(mismatch_results.parameter_name+' [$^{\\circ}$C]')\n",
    "plt.xlabel('Date')\n",
    "ax.xaxis.set_major_locator(mdates.MonthLocator())\n",
    "\n"
   ]
  },
  {
   "cell_type": "code",
   "execution_count": 41,
   "id": "e17e9a86-6965-471f-b5e2-37404761b70e",
   "metadata": {
    "collapsed": true,
    "jupyter": {
     "outputs_hidden": true,
     "source_hidden": true
    },
    "tags": []
   },
   "outputs": [
    {
     "data": {
      "text/plain": [
       "Text(0.5, 0, 'Expected QARTOD flags')"
      ]
     },
     "execution_count": 41,
     "metadata": {},
     "output_type": "execute_result"
    },
    {
     "data": {
      "image/png": "[encoded data removed]",
      "text/plain": [
       "<Figure size 640x480 with 1 Axes>"
      ]
     },
     "metadata": {},
     "output_type": "display_data"
    }
   ],
   "source": [
    "# scatter plot of expected flags v local flags (potential correlation?)\n",
    "ax = plt.subplot(111)\n",
    "plt.scatter(mismatch_results['expected_flags'], mismatch_results['local_flags'])\n",
    "plt.ylabel('QARTOD flags from local climatology test')\n",
    "plt.xlabel('Expected QARTOD flags')"
   ]
  },
  {
   "cell_type": "markdown",
   "id": "aa3e5d8e-a842-49de-add5-8c7e40aea3bc",
   "metadata": {},
   "source": [
    "So the plot above is not that interesting; it just seems to show that the local and expected flags disagree on which points should be 'good' and which are 'suspect'. At least I know that none of the conflicting flags are 9's, 4's or 2's."
   ]
  },
  {
   "cell_type": "code",
   "execution_count": 16,
   "id": "275c0446-22a0-47ee-9467-0cfe530da774",
   "metadata": {},
   "outputs": [
    {
     "data": {
      "image/png": "[encoded data removed]",
      "text/plain": [
       "<Figure size 640x480 with 2 Axes>"
      ]
     },
     "metadata": {},
     "output_type": "display_data"
    }
   ],
   "source": [
    "# Same plot with temperature values and test thresholds as above but two plots: one with color\n",
    "# of the points determined by local flags and one where color of points is determined by \n",
    "# expected flags.\n",
    "ax1 = plt.subplot(211)\n",
    "plt.scatter(mismatch_results['time'], mismatch_results['expected_values'], c=mismatch_results['expected_flags'], cmap=ListedColormap(['green', 'orange']))\n",
    "plt.hlines(thresholds['[1, 1]'][0], jan[0], jan[-1], colors=['blue','red'], linestyles='dashed')\n",
    "plt.hlines(thresholds['[2, 2]'][0], feb[0], feb[-1], colors=['blue','red'], linestyles='dashed')\n",
    "plt.hlines(thresholds['[3, 3]'][0], mar[0], mar[-1], colors=['blue','red'], linestyles='dashed')\n",
    "plt.hlines(thresholds['[4, 4]'][0], apr[0], apr[-1], colors=['blue','red'], linestyles='dashed')\n",
    "plt.hlines(thresholds['[12, 12]'][0], dec[0], dec[-1], colors=['blue','red'], linestyles='dashed')\n",
    "plt.ylabel(mismatch_results.parameter_name+' [$^{\\circ}$C]')\n",
    "\n",
    "ax2 = plt.subplot(212, sharex=ax1)\n",
    "plt.scatter(mismatch_results['time'], mismatch_results['expected_values'], c=mismatch_results['local_flags'], cmap=ListedColormap(['green', 'orange']))\n",
    "plt.hlines(thresholds['[1, 1]'][0], jan[0], jan[-1], colors=['blue','red'], linestyles='dashed')\n",
    "plt.hlines(thresholds['[2, 2]'][0], feb[0], feb[-1], colors=['blue','red'], linestyles='dashed')\n",
    "plt.hlines(thresholds['[3, 3]'][0], mar[0], mar[-1], colors=['blue','red'], linestyles='dashed')\n",
    "plt.hlines(thresholds['[4, 4]'][0], apr[0], apr[-1], colors=['blue','red'], linestyles='dashed')\n",
    "plt.hlines(thresholds['[12, 12]'][0], dec[0], dec[-1], colors=['blue','red'], linestyles='dashed')\n",
    "plt.ylabel(mismatch_results.parameter_name+' [$^{\\circ}$C]')\n",
    "plt.xlabel('Date')\n",
    "ax.xaxis.set_major_locator(mdates.MonthLocator())"
   ]
  },
  {
   "cell_type": "markdown",
   "id": "9dcb7c59-c1eb-4582-aa8c-575136e7e3da",
   "metadata": {},
   "source": [
    "I forgot how to not have the top x-axis have numbers and need to move on to something else for now, so next: clean up the plot above, while thinking about what it could mean and questions to ask Andrew "
   ]
  },
  {
   "cell_type": "code",
   "execution_count": null,
   "id": "d3f0f684-6797-41f7-885e-3b91daa73589",
   "metadata": {},
   "outputs": [],
   "source": []
  }
 ],
 "metadata": {
  "kernelspec": {
   "display_name": "qartod_test",
   "language": "python",
   "name": "qartod_test"
  },
  "language_info": {
   "codemirror_mode": {
    "name": "ipython",
    "version": 3
   },
   "file_extension": ".py",
   "mimetype": "text/x-python",
   "name": "python",
   "nbconvert_exporter": "python",
   "pygments_lexer": "ipython3",
   "version": "3.11.3"
  }
 },
 "nbformat": 4,
 "nbformat_minor": 5
}
