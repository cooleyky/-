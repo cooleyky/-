{
 "cells": [
  {
   "cell_type": "markdown",
   "id": "9da0e0be-2abf-41df-98fa-201313d38b1a",
   "metadata": {},
   "source": [
    "# 07 - Generate statistics CSVs\n",
    "Creating a separate notebook to calculate the statistics all in one pass so that I can complete a representative set of CSVs for each instrument class."
   ]
  },
  {
   "cell_type": "markdown",
   "id": "b187db9e-4aec-44e9-a34f-9d192c16ee56",
   "metadata": {},
   "source": [
    "### Statistics for QARTOD tests in production"
   ]
  },
  {
   "cell_type": "code",
   "execution_count": 1,
   "id": "5f2cb034-3e94-4f10-b02c-4fc837a4f765",
   "metadata": {},
   "outputs": [],
   "source": [
    "# Import libraries available from main conda channels or conda-forge\n",
    "import xarray as xr\n",
    "import pandas as pd\n",
    "import numpy as np\n",
    "import glob\n",
    "import os\n",
    "import re\n",
    "import warnings\n",
    "warnings.filterwarnings(\"ignore\")\n",
    "\n",
    "# Import dask tools and ProgressBar\n",
    "import dask\n",
    "from dask.diagnostics import ProgressBar\n",
    "\n",
    "# Import qartod_testing project functions\n",
    "from qartod_testing.qc_flag_statistics import ooinet_gold_copy_request, \\\n",
    "    get_test_parameters, parse_qartod_executed, qartod_summary_expanded\n",
    "\n",
    "# Import OOI library functions\n",
    "from ooi_data_explorations.common import merge_frames\n",
    "from ooinet.M2M import get_deployments, get_annotations"
   ]
  },
  {
   "cell_type": "code",
   "execution_count": 2,
   "id": "128c1604-566f-4764-99f1-560d861341fe",
   "metadata": {
    "tags": []
   },
   "outputs": [],
   "source": [
    "# Setup parameters needed to request data\n",
    "refdes = \"\"\n",
    "method = \"recovered_host\"\n",
    "stream = \"phsen_abcdef_imodem_instrument_recovered\"\n",
    "\n",
    "# Site, node, and sensor info from deconstructed reference designator\n",
    "# [site, node, sensor] = refdes.split('-', 2)"
   ]
  },
  {
   "cell_type": "code",
   "execution_count": 3,
   "id": "9839f7e1-94d7-47ba-839f-84a000108f12",
   "metadata": {
    "tags": []
   },
   "outputs": [
    {
     "name": "stderr",
     "output_type": "stream",
     "text": [
      "Downloading and Processing Data Files: 100%|██████████| 2/2 [00:01<00:00,  1.02it/s]\n"
     ]
    }
   ],
   "source": [
    "# Routine in data_processing module from this project to download the gold copy THREDDs datasets\n",
    "# Variable 'files' contains list of catalog URLs for downloaded datasets \n",
    "files = ooinet_gold_copy_request(refdes, method, stream)"
   ]
  },
  {
   "cell_type": "code",
   "execution_count": 4,
   "id": "46111ce7-7288-46ca-b1ed-38709445743d",
   "metadata": {},
   "outputs": [],
   "source": [
    "# Load expected results data from external data folder\n",
    "folder_path = os.path.join(os.path.abspath('../data/external'), method, stream, refdes)\n",
    "expected_files = glob.glob(folder_path+'/*.nc')\n",
    "expected_files.sort() # sorts local test files in alphanumeric order"
   ]
  },
  {
   "cell_type": "code",
   "execution_count": 5,
   "id": "7252f391-1786-4476-a691-f29ad6a0332b",
   "metadata": {
    "tags": []
   },
   "outputs": [
    {
     "data": {
      "text/plain": [
       "['/home/jovyan/code/qartod_testing/data/external/recovered_host/phsen_abcdef_imodem_instrument_recovered/GS01SUMO-RII11-02-PHSENE042/deployment0002_GS01SUMO-RII11-02-PHSENE042-recovered_host-phsen_abcdef_imodem_instrument_recovered_20151214T205959-20160427T075959.nc',\n",
       " '/home/jovyan/code/qartod_testing/data/external/recovered_host/phsen_abcdef_imodem_instrument_recovered/GS01SUMO-RII11-02-PHSENE042/deployment0004_GS01SUMO-RII11-02-PHSENE042-recovered_host-phsen_abcdef_imodem_instrument_recovered_20181204T210000-20181206T115959.nc']"
      ]
     },
     "execution_count": 5,
     "metadata": {},
     "output_type": "execute_result"
    }
   ],
   "source": [
    "expected_files\n",
    "# get_deployments(refdes)"
   ]
  },
  {
   "cell_type": "code",
   "execution_count": 6,
   "id": "72e2cc74-e482-41fa-8484-cec4909353fd",
   "metadata": {
    "tags": []
   },
   "outputs": [
    {
     "data": {
      "text/html": [
       "<div>\n",
       "<style scoped>\n",
       "    .dataframe tbody tr th:only-of-type {\n",
       "        vertical-align: middle;\n",
       "    }\n",
       "\n",
       "    .dataframe tbody tr th {\n",
       "        vertical-align: top;\n",
       "    }\n",
       "\n",
       "    .dataframe thead th {\n",
       "        text-align: right;\n",
       "    }\n",
       "</style>\n",
       "<table border=\"1\" class=\"dataframe\">\n",
       "  <thead>\n",
       "    <tr style=\"text-align: right;\">\n",
       "      <th></th>\n",
       "      <th>@class</th>\n",
       "      <th>id</th>\n",
       "      <th>subsite</th>\n",
       "      <th>node</th>\n",
       "      <th>sensor</th>\n",
       "      <th>method</th>\n",
       "      <th>stream</th>\n",
       "      <th>beginDT</th>\n",
       "      <th>endDT</th>\n",
       "      <th>annotation</th>\n",
       "      <th>exclusionFlag</th>\n",
       "      <th>source</th>\n",
       "      <th>qcFlag</th>\n",
       "      <th>parameters</th>\n",
       "    </tr>\n",
       "  </thead>\n",
       "  <tbody>\n",
       "    <tr>\n",
       "      <th>0</th>\n",
       "      <td>.AnnotationRecord</td>\n",
       "      <td>1597</td>\n",
       "      <td>GS01SUMO</td>\n",
       "      <td>RII11</td>\n",
       "      <td>02-PHSENE042</td>\n",
       "      <td>None</td>\n",
       "      <td>None</td>\n",
       "      <td>1543968000000</td>\n",
       "      <td>1579514460000</td>\n",
       "      <td>UPDATED 2020-04-15: The instrument failed two ...</td>\n",
       "      <td>False</td>\n",
       "      <td>cdobson@whoi.edu</td>\n",
       "      <td>0</td>\n",
       "      <td>[]</td>\n",
       "    </tr>\n",
       "    <tr>\n",
       "      <th>1</th>\n",
       "      <td>.AnnotationRecord</td>\n",
       "      <td>2149</td>\n",
       "      <td>GS01SUMO</td>\n",
       "      <td>RII11</td>\n",
       "      <td>02-PHSENE042</td>\n",
       "      <td>None</td>\n",
       "      <td>None</td>\n",
       "      <td>1480071600000</td>\n",
       "      <td>1544330520000</td>\n",
       "      <td>Deployment 3: The PHSEN042 failed upon deploym...</td>\n",
       "      <td>False</td>\n",
       "      <td>cdobson@whoi.edu</td>\n",
       "      <td>9</td>\n",
       "      <td>[]</td>\n",
       "    </tr>\n",
       "    <tr>\n",
       "      <th>2</th>\n",
       "      <td>.AnnotationRecord</td>\n",
       "      <td>834</td>\n",
       "      <td>GS01SUMO</td>\n",
       "      <td>None</td>\n",
       "      <td>None</td>\n",
       "      <td>None</td>\n",
       "      <td>None</td>\n",
       "      <td>1512777600000</td>\n",
       "      <td>1544330520000</td>\n",
       "      <td>Deployment 3: *UPDATED 2020-04-28: This moorin...</td>\n",
       "      <td>False</td>\n",
       "      <td>lgarzio@marine.rutgers.edu</td>\n",
       "      <td>0</td>\n",
       "      <td>[]</td>\n",
       "    </tr>\n",
       "    <tr>\n",
       "      <th>3</th>\n",
       "      <td>.AnnotationRecord</td>\n",
       "      <td>3614</td>\n",
       "      <td>GS01SUMO</td>\n",
       "      <td>RII11</td>\n",
       "      <td>02-PHSENE042</td>\n",
       "      <td>None</td>\n",
       "      <td>None</td>\n",
       "      <td>1450124400000</td>\n",
       "      <td>1450128600000</td>\n",
       "      <td>Deployment 1: This instrument was not deployed.</td>\n",
       "      <td>False</td>\n",
       "      <td>swhite@whoi.edu</td>\n",
       "      <td>0</td>\n",
       "      <td>[]</td>\n",
       "    </tr>\n",
       "  </tbody>\n",
       "</table>\n",
       "</div>"
      ],
      "text/plain": [
       "              @class    id   subsite   node        sensor method stream  \\\n",
       "0  .AnnotationRecord  1597  GS01SUMO  RII11  02-PHSENE042   None   None   \n",
       "1  .AnnotationRecord  2149  GS01SUMO  RII11  02-PHSENE042   None   None   \n",
       "2  .AnnotationRecord   834  GS01SUMO   None          None   None   None   \n",
       "3  .AnnotationRecord  3614  GS01SUMO  RII11  02-PHSENE042   None   None   \n",
       "\n",
       "         beginDT          endDT  \\\n",
       "0  1543968000000  1579514460000   \n",
       "1  1480071600000  1544330520000   \n",
       "2  1512777600000  1544330520000   \n",
       "3  1450124400000  1450128600000   \n",
       "\n",
       "                                          annotation  exclusionFlag  \\\n",
       "0  UPDATED 2020-04-15: The instrument failed two ...          False   \n",
       "1  Deployment 3: The PHSEN042 failed upon deploym...          False   \n",
       "2  Deployment 3: *UPDATED 2020-04-28: This moorin...          False   \n",
       "3    Deployment 1: This instrument was not deployed.          False   \n",
       "\n",
       "                       source qcFlag parameters  \n",
       "0            cdobson@whoi.edu      0         []  \n",
       "1            cdobson@whoi.edu      9         []  \n",
       "2  lgarzio@marine.rutgers.edu      0         []  \n",
       "3             swhite@whoi.edu      0         []  "
      ]
     },
     "execution_count": 6,
     "metadata": {},
     "output_type": "execute_result"
    }
   ],
   "source": [
    "get_annotations(refdes)"
   ]
  },
  {
   "cell_type": "markdown",
   "id": "bb52808e-d333-490b-92a1-64ec9d148d1f",
   "metadata": {},
   "source": [
    "#### Gross range test statistics"
   ]
  },
  {
   "cell_type": "code",
   "execution_count": 7,
   "id": "916ec0e9-f2cc-40ed-a1b1-8d5b6261c619",
   "metadata": {},
   "outputs": [],
   "source": [
    "def collect_statistics(file_paths, test_name):\n",
    "    \"\"\"\n",
    "    Calls other functions to calculate statistics from a set of files and a name of a QARTOD test. The statistics are organized in a DataFrame.\n",
    "    \n",
    "    Parameters:\n",
    "    -----------\n",
    "        file_paths: list of paths to each file that will have statistics calculated. File names must include \"deployment00##\".\n",
    "        test_name: string of QARTOD test name, i.e. \"gross_range\", \"climatology\".\n",
    "        \n",
    "    Returns:\n",
    "    --------\n",
    "        statistics: Pandas DataFrame containing statistics on each parameter with a QARTOD test in order of deployment number, then statistics of the full record.\n",
    "        \n",
    "    Version 23 Aug 2023, Kylene M Cooley    \n",
    "    \"\"\"\n",
    "    \n",
    "    # Initialize empty dictionary for statistics\n",
    "    statistics = {}\n",
    "    \n",
    "    # Create a copy of list of file paths for individual deployment statistics\n",
    "    paths_copy = file_paths.copy()\n",
    "    m = 0\n",
    "\n",
    "    while len(paths_copy)>0:\n",
    "        file = paths_copy[0]\n",
    "\n",
    "        # get deployment from current file, then open local test and expected test datasets\n",
    "        deployment = re.findall('deployment00[0-2][0-9]', file)[0][-2:]\n",
    "        # here figure out how to get all files of a single deployment and do a merged dataset like below\n",
    "        files_with_deployment_num = [x for x in paths_copy if f'deployment00{deployment}' in x]\n",
    "        \n",
    "        if len(files_with_deployment_num)>1:\n",
    "            file_ds = [xr.open_dataset(single_file) for single_file in files_with_deployment_num]\n",
    "            file_ds = merge_frames(file_ds)\n",
    "        else:  \n",
    "            file_ds = xr.open_dataset(file)\n",
    "\n",
    "        # Get parameters that have QARTOD executed from expected test dataset\n",
    "        test_parameters = get_test_parameters(file_ds)\n",
    "        parameters = list(test_parameters.keys())\n",
    "\n",
    "        # Separate QARTOD test flags in expected test dataset by QARTOD test name\n",
    "        file_ds = parse_qartod_executed(file_ds, parameters)\n",
    "\n",
    "        # Update summary statistics dictionary for each deployment, then for all deployments\n",
    "        print(\"Evaluating statistics on QARTOD flags for deployment \"f\"{deployment}\")\n",
    "        summary_results = qartod_summary_expanded(file_ds, parameters, deployment, test_name)\n",
    "        statistics.update({f\"{m}\" : summary_results })\n",
    "        \n",
    "        for x in files_with_deployment_num:\n",
    "            paths_copy.remove(x)\n",
    "        m += 1\n",
    "\n",
    "    # Add entry to summary statistics for full data record after last deployments\n",
    "    # Open all expected data files and create merged full dataset\n",
    "    merged_ds = [xr.open_dataset(single_file) for single_file in file_paths]\n",
    "    merged_ds = merge_frames(merged_ds)\n",
    "    deployment = \"all\"\n",
    "\n",
    "    # Summary of flags from merged dataset\n",
    "    print(\"Evaluating statistics on QARTOD flags for all deployments\")\n",
    "    merged_ds = parse_qartod_executed(merged_ds, parameters)\n",
    "    summary_results = qartod_summary_expanded(merged_ds, parameters, deployment, test_name)\n",
    "    statistics.update({ \"all\" : summary_results })\n",
    "\n",
    "    # Create data frame from dictionary and check contents\n",
    "    statistics = pd.DataFrame.from_dict(statistics, orient='index')\n",
    "    statistics = statistics.set_index('deployment')\n",
    "    return statistics"
   ]
  },
  {
   "cell_type": "code",
   "execution_count": 8,
   "id": "3b7294bf-fe60-468c-ae18-443ec4dbd41d",
   "metadata": {},
   "outputs": [
    {
     "name": "stdout",
     "output_type": "stream",
     "text": [
      "Evaluating statistics on QARTOD flags for deployment 02\n",
      "Evaluating statistics on QARTOD flags for deployment 04\n",
      "Evaluating statistics on QARTOD flags for all deployments\n"
     ]
    },
    {
     "data": {
      "text/html": [
       "<div>\n",
       "<style scoped>\n",
       "    .dataframe tbody tr th:only-of-type {\n",
       "        vertical-align: middle;\n",
       "    }\n",
       "\n",
       "    .dataframe tbody tr th {\n",
       "        vertical-align: top;\n",
       "    }\n",
       "\n",
       "    .dataframe thead th {\n",
       "        text-align: right;\n",
       "    }\n",
       "</style>\n",
       "<table border=\"1\" class=\"dataframe\">\n",
       "  <thead>\n",
       "    <tr style=\"text-align: right;\">\n",
       "      <th></th>\n",
       "      <th>ph_seawater total</th>\n",
       "      <th>seawater good</th>\n",
       "      <th>seawater good %</th>\n",
       "      <th>seawater suspect</th>\n",
       "      <th>seawater suspect %</th>\n",
       "      <th>seawater fail</th>\n",
       "      <th>seawater fail %</th>\n",
       "    </tr>\n",
       "    <tr>\n",
       "      <th>deployment</th>\n",
       "      <th></th>\n",
       "      <th></th>\n",
       "      <th></th>\n",
       "      <th></th>\n",
       "      <th></th>\n",
       "      <th></th>\n",
       "      <th></th>\n",
       "    </tr>\n",
       "  </thead>\n",
       "  <tbody>\n",
       "    <tr>\n",
       "      <th>02</th>\n",
       "      <td>3103</td>\n",
       "      <td>3070</td>\n",
       "      <td>98.94</td>\n",
       "      <td>33</td>\n",
       "      <td>1.06</td>\n",
       "      <td>0</td>\n",
       "      <td>0.0</td>\n",
       "    </tr>\n",
       "    <tr>\n",
       "      <th>04</th>\n",
       "      <td>36</td>\n",
       "      <td>31</td>\n",
       "      <td>86.11</td>\n",
       "      <td>5</td>\n",
       "      <td>13.89</td>\n",
       "      <td>0</td>\n",
       "      <td>0.0</td>\n",
       "    </tr>\n",
       "    <tr>\n",
       "      <th>all</th>\n",
       "      <td>3139</td>\n",
       "      <td>3101</td>\n",
       "      <td>98.79</td>\n",
       "      <td>38</td>\n",
       "      <td>1.21</td>\n",
       "      <td>0</td>\n",
       "      <td>0.0</td>\n",
       "    </tr>\n",
       "  </tbody>\n",
       "</table>\n",
       "</div>"
      ],
      "text/plain": [
       "            ph_seawater total  seawater good  seawater good %  \\\n",
       "deployment                                                      \n",
       "02                       3103           3070            98.94   \n",
       "04                         36             31            86.11   \n",
       "all                      3139           3101            98.79   \n",
       "\n",
       "            seawater suspect  seawater suspect %  seawater fail  \\\n",
       "deployment                                                        \n",
       "02                        33                1.06              0   \n",
       "04                         5               13.89              0   \n",
       "all                       38                1.21              0   \n",
       "\n",
       "            seawater fail %  \n",
       "deployment                   \n",
       "02                      0.0  \n",
       "04                      0.0  \n",
       "all                     0.0  "
      ]
     },
     "execution_count": 8,
     "metadata": {},
     "output_type": "execute_result"
    }
   ],
   "source": [
    "gross_range_stats = collect_statistics(expected_files, \"gross_range\")\n",
    "gross_range_stats"
   ]
  },
  {
   "cell_type": "code",
   "execution_count": 9,
   "id": "10893cb5-ffc5-4747-b508-a4c616818c1c",
   "metadata": {},
   "outputs": [],
   "source": [
    "# Save data frames as CSVs\n",
    "folder_path = os.path.join(os.path.abspath('../data/processed'), method, stream, refdes)\n",
    "os.makedirs(folder_path, exist_ok=True)\n",
    "gross_range_stats.to_csv(folder_path+f\"/gross_range-{refdes}-flag_statistics.csv\", na_rep='NaN', mode='w')"
   ]
  },
  {
   "cell_type": "markdown",
   "id": "b31c35ad-a8e6-4139-bc12-c7486c39636c",
   "metadata": {},
   "source": [
    "#### Climatology test statistics"
   ]
  },
  {
   "cell_type": "code",
   "execution_count": 10,
   "id": "9c8f9b64-92c1-4610-b20c-2e193f1d5755",
   "metadata": {},
   "outputs": [
    {
     "name": "stdout",
     "output_type": "stream",
     "text": [
      "Evaluating statistics on QARTOD flags for deployment 02\n",
      "Evaluating statistics on QARTOD flags for deployment 04\n",
      "Evaluating statistics on QARTOD flags for all deployments\n"
     ]
    },
    {
     "data": {
      "text/html": [
       "<div>\n",
       "<style scoped>\n",
       "    .dataframe tbody tr th:only-of-type {\n",
       "        vertical-align: middle;\n",
       "    }\n",
       "\n",
       "    .dataframe tbody tr th {\n",
       "        vertical-align: top;\n",
       "    }\n",
       "\n",
       "    .dataframe thead th {\n",
       "        text-align: right;\n",
       "    }\n",
       "</style>\n",
       "<table border=\"1\" class=\"dataframe\">\n",
       "  <thead>\n",
       "    <tr style=\"text-align: right;\">\n",
       "      <th></th>\n",
       "      <th>ph_seawater total</th>\n",
       "      <th>seawater good</th>\n",
       "      <th>seawater good %</th>\n",
       "      <th>seawater suspect</th>\n",
       "      <th>seawater suspect %</th>\n",
       "      <th>seawater fail</th>\n",
       "      <th>seawater fail %</th>\n",
       "    </tr>\n",
       "    <tr>\n",
       "      <th>deployment</th>\n",
       "      <th></th>\n",
       "      <th></th>\n",
       "      <th></th>\n",
       "      <th></th>\n",
       "      <th></th>\n",
       "      <th></th>\n",
       "      <th></th>\n",
       "    </tr>\n",
       "  </thead>\n",
       "  <tbody>\n",
       "    <tr>\n",
       "      <th>02</th>\n",
       "      <td>3103</td>\n",
       "      <td>3067</td>\n",
       "      <td>98.84</td>\n",
       "      <td>36</td>\n",
       "      <td>1.16</td>\n",
       "      <td>0</td>\n",
       "      <td>0.0</td>\n",
       "    </tr>\n",
       "    <tr>\n",
       "      <th>04</th>\n",
       "      <td>36</td>\n",
       "      <td>30</td>\n",
       "      <td>83.33</td>\n",
       "      <td>6</td>\n",
       "      <td>16.67</td>\n",
       "      <td>0</td>\n",
       "      <td>0.0</td>\n",
       "    </tr>\n",
       "    <tr>\n",
       "      <th>all</th>\n",
       "      <td>3139</td>\n",
       "      <td>3097</td>\n",
       "      <td>98.66</td>\n",
       "      <td>42</td>\n",
       "      <td>1.34</td>\n",
       "      <td>0</td>\n",
       "      <td>0.0</td>\n",
       "    </tr>\n",
       "  </tbody>\n",
       "</table>\n",
       "</div>"
      ],
      "text/plain": [
       "            ph_seawater total  seawater good  seawater good %  \\\n",
       "deployment                                                      \n",
       "02                       3103           3067            98.84   \n",
       "04                         36             30            83.33   \n",
       "all                      3139           3097            98.66   \n",
       "\n",
       "            seawater suspect  seawater suspect %  seawater fail  \\\n",
       "deployment                                                        \n",
       "02                        36                1.16              0   \n",
       "04                         6               16.67              0   \n",
       "all                       42                1.34              0   \n",
       "\n",
       "            seawater fail %  \n",
       "deployment                   \n",
       "02                      0.0  \n",
       "04                      0.0  \n",
       "all                     0.0  "
      ]
     },
     "execution_count": 10,
     "metadata": {},
     "output_type": "execute_result"
    }
   ],
   "source": [
    "climatology_stats = collect_statistics(expected_files, \"climatology\")\n",
    "climatology_stats"
   ]
  },
  {
   "cell_type": "code",
   "execution_count": 11,
   "id": "8bd6eade-ec87-4189-a88c-10a7ddc0c3cc",
   "metadata": {
    "tags": []
   },
   "outputs": [],
   "source": [
    "# Save data frames as CSVs\n",
    "folder_path = os.path.join(os.path.abspath('../data/processed'), method, stream, refdes)\n",
    "os.makedirs(folder_path, exist_ok=True)\n",
    "climatology_stats.to_csv(folder_path+f\"/climatology-{refdes}-flag_statistics.csv\", na_rep='NaN', mode='w')"
   ]
  },
  {
   "cell_type": "code",
   "execution_count": null,
   "id": "5f92862f-f56a-482f-b7b5-0936af02975a",
   "metadata": {},
   "outputs": [],
   "source": []
  }
 ],
 "metadata": {
  "kernelspec": {
   "display_name": "qartod_test",
   "language": "python",
   "name": "qartod_test"
  },
  "language_info": {
   "codemirror_mode": {
    "name": "ipython",
    "version": 3
   },
   "file_extension": ".py",
   "mimetype": "text/x-python",
   "name": "python",
   "nbconvert_exporter": "python",
   "pygments_lexer": "ipython3",
   "version": "3.11.3"
  }
 },
 "nbformat": 4,
 "nbformat_minor": 5
}
