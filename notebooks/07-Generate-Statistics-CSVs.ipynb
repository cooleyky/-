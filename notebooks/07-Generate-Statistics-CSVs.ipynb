{
 "cells": [
  {
   "cell_type": "markdown",
   "id": "9da0e0be-2abf-41df-98fa-201313d38b1a",
   "metadata": {},
   "source": [
    "# 07 - Generate statistics CSVs\n",
    "Creating a separate notebook to calculate the statistics all in one pass so that I can complete a representative set of CSVs for each instrument class."
   ]
  },
  {
   "cell_type": "markdown",
   "id": "b187db9e-4aec-44e9-a34f-9d192c16ee56",
   "metadata": {},
   "source": [
    "### Statistics for QARTOD tests in production"
   ]
  },
  {
   "cell_type": "code",
   "execution_count": null,
   "id": "5f2cb034-3e94-4f10-b02c-4fc837a4f765",
   "metadata": {},
   "outputs": [],
   "source": []
  }
 ],
 "metadata": {
  "kernelspec": {
   "display_name": "pioneer_metbk",
   "language": "python",
   "name": "pioneer_metbk"
  },
  "language_info": {
   "codemirror_mode": {
    "name": "ipython",
    "version": 3
   },
   "file_extension": ".py",
   "mimetype": "text/x-python",
   "name": "python",
   "nbconvert_exporter": "python",
   "pygments_lexer": "ipython3",
   "version": "3.11.4"
  }
 },
 "nbformat": 4,
 "nbformat_minor": 5
}
