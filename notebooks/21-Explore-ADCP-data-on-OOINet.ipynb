{
 "cells": [
  {
   "cell_type": "markdown",
   "id": "9e30c421-a4e7-4163-9d54-38ef5e378506",
   "metadata": {},
   "source": [
    "# ADCP Assessment 2.1: Explore ADCP data on OOINet\n",
    "\n",
    "Looking at available sensors, streams, and datasets from CGSN ADCPs in the OOINet gold copy catalog. We'll open and plot a few datasets to familiarize ourselves with the science parameters."
   ]
  },
  {
   "cell_type": "code",
   "execution_count": null,
   "id": "42eda8a3-5edb-4061-bc0a-5f84c2ea3099",
   "metadata": {},
   "outputs": [],
   "source": []
  }
 ],
 "metadata": {
  "kernelspec": {
   "display_name": "qartod_test",
   "language": "python",
   "name": "qartod_test"
  },
  "language_info": {
   "codemirror_mode": {
    "name": "ipython",
    "version": 3
   },
   "file_extension": ".py",
   "mimetype": "text/x-python",
   "name": "python",
   "nbconvert_exporter": "python",
   "pygments_lexer": "ipython3",
   "version": "3.11.3"
  }
 },
 "nbformat": 4,
 "nbformat_minor": 5
}
