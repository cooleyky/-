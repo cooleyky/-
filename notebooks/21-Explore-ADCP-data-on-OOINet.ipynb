{
 "cells": [
  {
   "cell_type": "markdown",
   "id": "9e30c421-a4e7-4163-9d54-38ef5e378506",
   "metadata": {},
   "source": [
    "# ADCP Assessment 2.1: Explore ADCP data on OOINet\n",
    "\n",
    "Looking at available sensors, streams, and datasets from CGSN ADCPs in the OOINet gold copy catalog. We'll open and plot a few datasets to familiarize ourselves with the science parameters.\n",
    "\n",
    "| Instrument Series | Model |\n",
    "|-------------------|-------|\n",
    "| ADCPT-F | Teledyne RDI WorkHorse Sentinel 150 kHz |\n",
    "| ADCPT-G | Teledyne RDI WorkHorse Sentinel 150 kHz - inductive |\n",
    "| ADCPS-J | Teledyne RDI WorkHorse LongRanger Sentinel 75 kHz |\n",
    "| ADCPS-L | Teledyne RDI WorkHorse LongRanger Sentinel 75 kHz - inductive |\n",
    "| ADCPS-N | Teledyne RDI WorkHorse LongRanger Sentinel 75 kHz - inductive |\n"
   ]
  },
  {
   "cell_type": "code",
   "execution_count": 1,
   "id": "42eda8a3-5edb-4061-bc0a-5f84c2ea3099",
   "metadata": {},
   "outputs": [],
   "source": [
    "# Import libraries needed in this notebook\n",
    "\n",
    "# Import ooi-data-explorations functions\n",
    "\n",
    "# Import ooinet functions\n",
    "\n",
    "# Import qartod-testing functions"
   ]
  },
  {
   "cell_type": "code",
   "execution_count": 2,
   "id": "4cbbdc63-59f5-452a-b251-5d1ac4b08221",
   "metadata": {
    "tags": []
   },
   "outputs": [],
   "source": [
    "# Request a list of subsites with ADCPs\n"
   ]
  },
  {
   "cell_type": "code",
   "execution_count": 3,
   "id": "24c15605-c834-4511-97c4-d3a5945cc6a9",
   "metadata": {
    "tags": []
   },
   "outputs": [],
   "source": [
    "# Pick a refdes\n",
    "\n",
    "# Request data recovery methods for this refdes"
   ]
  },
  {
   "cell_type": "code",
   "execution_count": 4,
   "id": "b99d289a-3ddd-47f7-b164-85346c1d75de",
   "metadata": {
    "tags": []
   },
   "outputs": [],
   "source": [
    "# Pick a method\n",
    "\n",
    "# Request science data streams available for this method and refdes"
   ]
  },
  {
   "cell_type": "code",
   "execution_count": 5,
   "id": "11e3013e-2367-44b7-8f8f-5eb41053a8c5",
   "metadata": {
    "tags": []
   },
   "outputs": [],
   "source": [
    "# Pick a data stream"
   ]
  },
  {
   "cell_type": "code",
   "execution_count": 6,
   "id": "1e5b2c38-757c-46d6-bcdf-84144ad35550",
   "metadata": {
    "tags": []
   },
   "outputs": [],
   "source": [
    "# Import the dataset to the workspace"
   ]
  },
  {
   "cell_type": "code",
   "execution_count": 7,
   "id": "df79c289-3a3b-4e9c-866d-fdaa14e8fdec",
   "metadata": {
    "tags": []
   },
   "outputs": [],
   "source": [
    "# Apply post-processing to the data"
   ]
  },
  {
   "cell_type": "code",
   "execution_count": null,
   "id": "7ff3c2ae-82a3-4eaf-bfe6-4b0cab8171d8",
   "metadata": {},
   "outputs": [],
   "source": [
    "# Show dataset details to explore variables and attributes"
   ]
  }
 ],
 "metadata": {
  "kernelspec": {
   "display_name": "qartod_test",
   "language": "python",
   "name": "qartod_test"
  },
  "language_info": {
   "codemirror_mode": {
    "name": "ipython",
    "version": 3
   },
   "file_extension": ".py",
   "mimetype": "text/x-python",
   "name": "python",
   "nbconvert_exporter": "python",
   "pygments_lexer": "ipython3",
   "version": "3.11.3"
  }
 },
 "nbformat": 4,
 "nbformat_minor": 5
}
