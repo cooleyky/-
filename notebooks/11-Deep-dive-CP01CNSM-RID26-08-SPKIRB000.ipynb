{
 "cells": [
  {
   "attachments": {},
   "cell_type": "markdown",
   "metadata": {},
   "source": [
    "# SPKIR CG data deep dive 1.1\n",
    "### Ref Des: CP01CNSM-RID26-08-SPKIRB000"
   ]
  },
  {
   "cell_type": "code",
   "execution_count": null,
   "metadata": {},
   "outputs": [],
   "source": [
    "import numpy as np\n",
    "import pandas as pd\n",
    "import xarray as xr\n",
    "import os\n",
    "import requests\n",
    "\n",
    "from ooinet import M2M\n",
    "\n",
    "from qartod_testing.timeseries import nanfill_time_gaps"
   ]
  },
  {
   "cell_type": "code",
   "execution_count": null,
   "metadata": {},
   "outputs": [],
   "source": [
    "# Set parameters for data request \n",
    "refdes = 'CP01CNSM-RID26-08-SPKIRB000'\n",
    "methods = [\"telemetered\", \"recovered_host\", \"recovered_inst\"]\n",
    "# stream = \"ctdbp_cdef_instrument_recovered\"          # name of data stream\n",
    "\n",
    "\n",
    "site, node, sensor = refdes.split('-', 2)"
   ]
  }
 ],
 "metadata": {
  "kernelspec": {
   "display_name": "base",
   "language": "python",
   "name": "python3"
  },
  "language_info": {
   "codemirror_mode": {
    "name": "ipython",
    "version": 3
   },
   "file_extension": ".py",
   "mimetype": "text/x-python",
   "name": "python",
   "nbconvert_exporter": "python",
   "pygments_lexer": "ipython3",
   "version": "3.10.9"
  },
  "orig_nbformat": 4
 },
 "nbformat": 4,
 "nbformat_minor": 2
}
