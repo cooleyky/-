{
 "cells": [
  {
   "cell_type": "markdown",
   "id": "f9f95658",
   "metadata": {},
   "source": [
    "### Import modules used in this notebook"
   ]
  },
  {
   "cell_type": "code",
   "execution_count": null,
   "id": "48d4e9d7",
   "metadata": {},
   "outputs": [],
   "source": [
    "# Import libraries\n",
    "import os\n",
    "import re\n",
    "import gc\n",
    "import io\n",
    "import ast\n",
    "import pandas as pd\n",
    "import numpy as np\n",
    "import xarray as xr\n",
    "import warnings\n",
    "warnings.filterwarnings(\"ignore\")\n",
    "import sys"
   ]
  },
  {
   "cell_type": "code",
   "execution_count": null,
   "id": "77b6887d",
   "metadata": {},
   "outputs": [],
   "source": [
    "# Import OOINet library\n",
    "sys.path.append(\"c:\\\\Users\\\\cooleyky\\\\Documents\\\\GitHub\\\\OOINet\") # this is what was missing from the steps I followed to install ooinet and ooi-data-explorations as local dev repo\n",
    "from ooinet import M2M\n",
    "from ooinet.Instrument.common import process_file"
   ]
  },
  {
   "cell_type": "code",
   "execution_count": null,
   "id": "95a50fdd",
   "metadata": {},
   "outputs": [],
   "source": [
    "# Import functions from ooi-data-explorations library\n",
    "sys.path.append(\"c:\\\\Users\\\\cooleyky\\\\Documents\\\\GitHub\\\\ooi-data-explorations\\\\python\") # why did the initial install not include this?\n",
    "from ooi_data_explorations.uncabled.process_dosta import dosta_datalogger\n",
    "from ooi_data_explorations.combine_data import combine_datasets"
   ]
  },
  {
   "cell_type": "code",
   "execution_count": null,
   "id": "91e07d51",
   "metadata": {},
   "outputs": [],
   "source": [
    "# Import dask tools and ProgressBar\n",
    "import dask\n",
    "from dask.diagnostics import ProgressBar"
   ]
  },
  {
   "cell_type": "code",
   "execution_count": 2,
   "id": "034f93a5",
   "metadata": {},
   "outputs": [],
   "source": [
    "# Import IOOS module with QARTOD tests\n",
    "import ioos_qc"
   ]
  },
  {
   "cell_type": "markdown",
   "id": "7ca8706f",
   "metadata": {},
   "source": [
    "## 2: create data stream URL"
   ]
  },
  {
   "cell_type": "code",
   "execution_count": null,
   "id": "4600703d",
   "metadata": {},
   "outputs": [],
   "source": [
    "# API username and token\n",
    "# site\n",
    "# node\n",
    "# sensor\n",
    "# dates/deployment\n",
    "# gold copy base URL\n",
    "datapath = (/).join(base,site,node,sensor,deployment)"
   ]
  },
  {
   "cell_type": "markdown",
   "id": "fdcd8646",
   "metadata": {},
   "source": [
    "## 3: collect test QARTOD value tables"
   ]
  },
  {
   "cell_type": "markdown",
   "id": "9b119cdf",
   "metadata": {},
   "source": [
    "## 4: run QARTOD tests locally"
   ]
  },
  {
   "cell_type": "markdown",
   "id": "987de098",
   "metadata": {},
   "source": [
    "## 5: download expected results via M2M"
   ]
  },
  {
   "cell_type": "markdown",
   "id": "a0e41d3f",
   "metadata": {},
   "source": [
    "## 6: identify differences in results"
   ]
  },
  {
   "cell_type": "markdown",
   "id": "9d6e5d5e",
   "metadata": {},
   "source": [
    "## 7: export differing values to CSV with relevant metadata\n",
    "metadata could include: date & time, sensor, node, site, local & expected test results... whatever"
   ]
  },
  {
   "cell_type": "code",
   "execution_count": null,
   "id": "87dd9eb5",
   "metadata": {},
   "outputs": [],
   "source": []
  }
 ],
 "metadata": {
  "kernelspec": {
   "display_name": "Python 3 (ipykernel)",
   "language": "python",
   "name": "python3"
  },
  "language_info": {
   "codemirror_mode": {
    "name": "ipython",
    "version": 3
   },
   "file_extension": ".py",
   "mimetype": "text/x-python",
   "name": "python",
   "nbconvert_exporter": "python",
   "pygments_lexer": "ipython3",
   "version": "3.9.16"
  }
 },
 "nbformat": 4,
 "nbformat_minor": 5
}
