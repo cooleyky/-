{
 "cells": [
  {
   "cell_type": "markdown",
   "id": "838577ce",
   "metadata": {},
   "source": [
    "# Run QARTOD Test on Locally Saved Data\n",
    "\n",
    "In this notebook we use the paths to locally saved data in the external data folder to extract QARTOD test parameters, download parameter thresholds on the OOI GitHub, run the QARTOD climatology and gross range tests on the imported data, and save the test results to the interim data folder.\n",
    "\n",
    "More info about QARTOD tests and the ioos_qc module can be found from the [Integrated Ocean Observing System website](https://ioos.noaa.gov/project/qartod/) and [Python module documentation](https://ioos.github.io/ioos_qc/), respectively."
   ]
  },
  {
   "cell_type": "markdown",
   "id": "f9f95658",
   "metadata": {},
   "source": [
    "### Import modules for local QC test"
   ]
  },
  {
   "cell_type": "code",
   "execution_count": 1,
   "id": "48d4e9d7",
   "metadata": {
    "tags": []
   },
   "outputs": [],
   "source": [
    "# Import libraries\n",
    "import os\n",
    "import warnings\n",
    "warnings.filterwarnings(\"ignore\")\n",
    "import glob\n",
    "\n",
    "# Import qartod_testing project functions\n",
    "from qartod_testing.local_qc_test import save_local_qc_tests"
   ]
  },
  {
   "cell_type": "markdown",
   "id": "7ca8706f",
   "metadata": {},
   "source": [
    "### Find locally saved data downloaded from OOINet"
   ]
  },
  {
   "cell_type": "code",
   "execution_count": 2,
   "id": "4600703d",
   "metadata": {
    "tags": []
   },
   "outputs": [],
   "source": [
    "# Set reference designator, data stream, and method \n",
    "refdes = \"GA03FLMB-RIS01-04-PHSENF000\"        \n",
    "method = \"recovered_inst\"\n",
    "stream = \"phsen_abcdef_instrument\""
   ]
  },
  {
   "cell_type": "code",
   "execution_count": 3,
   "id": "fdc560f6-ac10-42fd-9098-94b60db5faf9",
   "metadata": {
    "tags": []
   },
   "outputs": [],
   "source": [
    "# Build path to folder where data was saved\n",
    "folder_path = os.path.join(os.path.abspath('../data/external'), method,\n",
    "                           stream, refdes)\n",
    "\n",
    "# Retrieve a list of netCDF files in this directory\n",
    "file_paths = glob.glob(folder_path+'/*.nc')\n",
    "file_paths.sort()"
   ]
  },
  {
   "cell_type": "markdown",
   "id": "41730a86-7f72-4629-ab63-eb8825b7dfda",
   "metadata": {
    "tags": []
   },
   "source": [
    "### Run QARTOD tests locally\n",
    "Next, we run the QC tests locally to get our own (\"local\") results that can be compared with the production (\"expected\") results from the datasets downloaded from OOINet. This is done using the climatology or gross range tests from the ```ioos_qc``` QARTOD package in conjunction with the ```qartod_test_values``` tables on the oceanobservatories/qc-lookup repository on GitHub. All of the requests for the lookup tables are done within our functions to configure and run the local tests. ```save_local_qc_tests``` will identify which parameters in the dataset have QARTOD applied to them from variable names that contain ```qartod_executed``` to run the local tests on just these parameters."
   ]
  },
  {
   "cell_type": "markdown",
   "id": "82ca8575-867b-4209-ab65-c4156a89858e",
   "metadata": {
    "tags": []
   },
   "source": [
    "#### Gross Range Test"
   ]
  },
  {
   "cell_type": "code",
   "execution_count": 4,
   "id": "c05b9f04-e190-4080-bc7c-40f94052bfc5",
   "metadata": {
    "tags": []
   },
   "outputs": [
    {
     "name": "stdout",
     "output_type": "stream",
     "text": [
      "Running local QARTOD gross_range test for deployment 01.\n",
      "Running local QARTOD gross_range test for deployment 02.\n",
      "Running local QARTOD gross_range test for deployment 03.\n"
     ]
    }
   ],
   "source": [
    "# Run local QARTOD gross range tests\n",
    "save_local_qc_tests(file_paths, refdes, stream, method, \"gross_range\")"
   ]
  },
  {
   "cell_type": "markdown",
   "id": "25594bb3",
   "metadata": {
    "tags": []
   },
   "source": [
    "#### Climatology Test"
   ]
  },
  {
   "cell_type": "code",
   "execution_count": 5,
   "id": "b3fc1916-e394-4941-9ec9-29b0a95c8d98",
   "metadata": {
    "tags": []
   },
   "outputs": [
    {
     "name": "stdout",
     "output_type": "stream",
     "text": [
      "Running local QARTOD climatology test for deployment 01.\n",
      "Running local QARTOD climatology test for deployment 02.\n",
      "Running local QARTOD climatology test for deployment 03.\n"
     ]
    }
   ],
   "source": [
    "# Run local QARTOD climatology tests\n",
    "save_local_qc_tests(file_paths, refdes, stream, method, \"climatology\")"
   ]
  },
  {
   "cell_type": "code",
   "execution_count": null,
   "id": "0500caf6-29d5-40fb-ac54-04145aaea660",
   "metadata": {},
   "outputs": [],
   "source": []
  }
 ],
 "metadata": {
  "kernelspec": {
   "display_name": "qartod_test",
   "language": "python",
   "name": "qartod_test"
  },
  "language_info": {
   "codemirror_mode": {
    "name": "ipython",
    "version": 3
   },
   "file_extension": ".py",
   "mimetype": "text/x-python",
   "name": "python",
   "nbconvert_exporter": "python",
   "pygments_lexer": "ipython3",
   "version": "3.11.3"
  },
  "toc-showtags": false
 },
 "nbformat": 4,
 "nbformat_minor": 5
}
