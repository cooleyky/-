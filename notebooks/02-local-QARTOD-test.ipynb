{
 "cells": [
  {
   "attachments": {},
   "cell_type": "markdown",
   "id": "838577ce",
   "metadata": {},
   "source": [
    "# Run QARTOD Test on Locally Saved Data\n",
    "\n",
    "In this notebook we will load locally saved data from the interim data folder, extract QARTOD test parameters from spreadsheets on the OOI GitHub, run the QARTOD climatology and gross range tests on the imported data, and save the test results to the processed data folder.\n",
    "\n",
    "More info about QARTOD tests and the ioos_qc module can be found from the [Integrated Ocean Observing System website](https://ioos.noaa.gov/project/qartod/) and [Python module documentation](https://ioos.github.io/ioos_qc/), respectively."
   ]
  },
  {
   "cell_type": "markdown",
   "id": "f9f95658",
   "metadata": {},
   "source": [
    "### Import modules used in this notebook"
   ]
  },
  {
   "cell_type": "code",
   "execution_count": null,
   "id": "48d4e9d7",
   "metadata": {},
   "outputs": [],
   "source": [
    "# Import libraries\n",
    "import os\n",
    "import re\n",
    "import gc\n",
    "import io\n",
    "import ast\n",
    "import pandas as pd\n",
    "import numpy as np\n",
    "import xarray as xr\n",
    "import warnings\n",
    "warnings.filterwarnings(\"ignore\")\n",
    "import sys\n",
    "\n",
    "# Import IOOS module with QARTOD tests\n",
    "import ioos_qc\n",
    "\n",
    "# Import dask tools and ProgressBar\n",
    "import dask\n",
    "from dask.diagnostics import ProgressBar"
   ]
  },
  {
   "cell_type": "code",
   "execution_count": null,
   "id": "77b6887d",
   "metadata": {},
   "outputs": [],
   "source": [
    "# Import OOINet library - might delete\n",
    "sys.path.append(\"c:\\\\Users\\\\cooleyky\\\\Documents\\\\GitHub\\\\OOINet\") # this is what was missing from the steps I followed to install ooinet and ooi-data-explorations as local dev repo\n",
    "from ooinet import M2M\n",
    "from ooinet.Instrument.common import process_file"
   ]
  },
  {
   "cell_type": "code",
   "execution_count": null,
   "id": "95a50fdd",
   "metadata": {},
   "outputs": [],
   "source": [
    "# Import functions from ooi-data-explorations library - might delete\n",
    "sys.path.append(\"c:\\\\Users\\\\cooleyky\\\\Documents\\\\GitHub\\\\ooi-data-explorations\\\\python\") # why did the initial install not include this?\n",
    "from ooi_data_explorations.uncabled.process_dosta import dosta_datalogger\n",
    "from ooi_data_explorations.combine_data import combine_datasets"
   ]
  },
  {
   "attachments": {},
   "cell_type": "markdown",
   "id": "7ca8706f",
   "metadata": {},
   "source": [
    "### Load locally saved data"
   ]
  },
  {
   "cell_type": "code",
   "execution_count": null,
   "id": "4600703d",
   "metadata": {},
   "outputs": [],
   "source": [
    "# Use reference designator, data stream, and method to build file name and path for chosen dataset\n",
    "\n",
    "site = \"CP01CNSM\"                                   # Coastal Pioneer Array (NES) - Central Surface Mooring\n",
    "node = \"MFD37\"                                      # \n",
    "sensor = \"03-CTDBPD000\"                             # CTD Bottom-pumped\n",
    "method = \"recovered_inst\"                           # non-decimated data from recovered instrument\n",
    "stream = \"ctdbp_cdef_instrument_recovered\"          # name of data stream\n",
    "\n",
    "refdes = '-'.join((site,node,sensor))"
   ]
  },
  {
   "cell_type": "code",
   "execution_count": null,
   "id": "44e3a492",
   "metadata": {},
   "outputs": [],
   "source": [
    "# Build filename and path to interim data\n",
    "# This whole cell is something that would be good to turn into a function in the source code since we also repeat a similar process in notebook 01\n",
    "\n",
    "dev_filename = '-'.join(('dev',refdes,method,stream))+'.nc'             # build ds_dev filename from dataset attributes\n",
    "prod_filename = '-'.join(('prod',refdes,method,stream))+'.nc'           # ds_prod filename from dataset attribute\n",
    "\n",
    "interim_data = os.path.relpath('../data/interim')                       # path to interim data folder from notebook folder\n",
    "\n",
    "dev_path=os.path.join(interim_data, dev_filename)                       # build full relative path with ds_dev filename\n",
    "prod_path=os.path.join(interim_data, prod_filename)                     # repeat for ds_prod"
   ]
  },
  {
   "cell_type": "code",
   "execution_count": null,
   "id": "ad6c3442",
   "metadata": {},
   "outputs": [],
   "source": [
    "# Load data from .nc files\n",
    "ds_prod = xr.open_dataset(prod_path)\n",
    "ds_dev = xr.open_dataset(dev_path)"
   ]
  },
  {
   "attachments": {},
   "cell_type": "markdown",
   "id": "fdcd8646",
   "metadata": {},
   "source": [
    "### Collect test QARTOD value tables"
   ]
  },
  {
   "cell_type": "code",
   "execution_count": null,
   "id": "31ca9485",
   "metadata": {},
   "outputs": [],
   "source": []
  },
  {
   "attachments": {},
   "cell_type": "markdown",
   "id": "9b119cdf",
   "metadata": {},
   "source": [
    "### Run QARTOD tests locally"
   ]
  },
  {
   "cell_type": "code",
   "execution_count": null,
   "id": "d093c4e2",
   "metadata": {},
   "outputs": [],
   "source": []
  },
  {
   "attachments": {},
   "cell_type": "markdown",
   "id": "987de098",
   "metadata": {},
   "source": [
    "### Save test results to processed data folder"
   ]
  },
  {
   "cell_type": "code",
   "execution_count": null,
   "id": "87dd9eb5",
   "metadata": {},
   "outputs": [],
   "source": []
  }
 ],
 "metadata": {
  "kernelspec": {
   "display_name": "Python 3 (ipykernel)",
   "language": "python",
   "name": "python3"
  },
  "language_info": {
   "codemirror_mode": {
    "name": "ipython",
    "version": 3
   },
   "file_extension": ".py",
   "mimetype": "text/x-python",
   "name": "python",
   "nbconvert_exporter": "python",
   "pygments_lexer": "ipython3",
   "version": "3.9.16"
  }
 },
 "nbformat": 4,
 "nbformat_minor": 5
}
