{
 "cells": [
  {
   "cell_type": "markdown",
   "id": "838577ce",
   "metadata": {},
   "source": [
    "# Run QARTOD Test on Locally Saved Data\n",
    "\n",
    "In this notebook we will load locally saved data from the external data folder, extract QARTOD test parameters from spreadsheets on the OOI GitHub, run the QARTOD climatology and gross range tests on the imported data, and save the test results to the interim data folder.\n",
    "\n",
    "More info about QARTOD tests and the ioos_qc module can be found from the [Integrated Ocean Observing System website](https://ioos.noaa.gov/project/qartod/) and [Python module documentation](https://ioos.github.io/ioos_qc/), respectively."
   ]
  },
  {
   "cell_type": "markdown",
   "id": "f9f95658",
   "metadata": {},
   "source": [
    "### Import modules for data manipulation"
   ]
  },
  {
   "cell_type": "code",
   "execution_count": 1,
   "id": "48d4e9d7",
   "metadata": {
    "tags": []
   },
   "outputs": [],
   "source": [
    "# Import libraries\n",
    "import os\n",
    "import requests\n",
    "import re\n",
    "import gc\n",
    "import io\n",
    "import ast\n",
    "import pandas as pd\n",
    "import numpy as np\n",
    "import xarray as xr\n",
    "import warnings\n",
    "warnings.filterwarnings(\"ignore\")\n",
    "import sys\n",
    "import glob\n",
    "\n",
    "# Import dask tools and ProgressBar\n",
    "import dask\n",
    "from dask.diagnostics import ProgressBar\n",
    "\n",
    "# Import qartod_testing project functions\n",
    "from qartod_testing.qc_flag_statistics import \\\n",
    "    timeseries_dict_to_xarray, build_data_path, get_test_parameters, \\\n",
    "    get_deployment_ds\n",
    "from qartod_testing.local_qc_test import run_qartod_gross_range, \\\n",
    "    run_qartod_climatology"
   ]
  },
  {
   "cell_type": "markdown",
   "id": "7ca8706f",
   "metadata": {},
   "source": [
    "### Load locally saved data"
   ]
  },
  {
   "cell_type": "code",
   "execution_count": 2,
   "id": "4600703d",
   "metadata": {
    "tags": []
   },
   "outputs": [],
   "source": [
    "# Set reference designator, data stream, and method \n",
    "refdes = \"GA03FLMB-RIS01-04-PHSENF000\"        \n",
    "method = \"recovered_inst\"\n",
    "stream = \"phsen_abcdef_instrument\"\n",
    "\n",
    "# Get site, node, and sensor info from deconstructed reference designator\n",
    "[site, node, sensor] = refdes.split('-', 2)"
   ]
  },
  {
   "cell_type": "code",
   "execution_count": 3,
   "id": "fdc560f6-ac10-42fd-9098-94b60db5faf9",
   "metadata": {
    "tags": []
   },
   "outputs": [],
   "source": [
    "# Build path to folder where data was saved\n",
    "folder_path = os.path.join(os.path.abspath('../data/external'), method,\n",
    "                           stream, refdes)\n",
    "\n",
    "# Retrieve a list of netCDF files in this directory\n",
    "file_paths = glob.glob(folder_path+'/*.nc')\n",
    "file_paths.sort()"
   ]
  },
  {
   "cell_type": "markdown",
   "id": "499a4f2e",
   "metadata": {
    "tags": []
   },
   "source": [
    "### Identify Test Parameters\n",
    "\n",
    "Next, identify which parameters in the dataset have QARTOD applied to them. Sometimes the variable name in the dataset is different that the key that is used by OOINet to build the datasets. For that we can check the attributes of the variable for the \"alternate_parameter_name\"!"
   ]
  },
  {
   "cell_type": "markdown",
   "id": "fdcd8646",
   "metadata": {
    "tags": []
   },
   "source": [
    "### Collect test QARTOD lookup value tables from GitHub\n",
    "We can grab the QARTOD tables with the test values straight from GitHub, which ensures we are using the same input and threshold values as OOINet. However, the QARTOD tables utilize the ```ooinet_parameter_name``` instead of the dataset variable name. Thus, when loading the tables we need to make sure we are requesting the correct parameter name.\n",
    "\n",
    "Note to Self: This section should probably be deleted altogether since importing lookup table values is done within the QARTOD test functions."
   ]
  },
  {
   "cell_type": "markdown",
   "id": "41730a86-7f72-4629-ab63-eb8825b7dfda",
   "metadata": {
    "tags": []
   },
   "source": [
    "### Run QARTOD tests locally\n",
    "Next, we run the gross range test locally to get local results that can be compared with the output from the tests. This is done using the ```ioos_qc``` QARTOD package in conjunction with the ```qartod_test_values``` tables."
   ]
  },
  {
   "cell_type": "code",
   "execution_count": 4,
   "id": "d0f14319-c62b-4e23-b22a-0f1f25789b73",
   "metadata": {
    "tags": []
   },
   "outputs": [],
   "source": [
    "def save_local_qc_tests(file_paths, test_name):\n",
    "    \"\"\"\n",
    "    \"\"\"\n",
    "    # Create copy of list of file paths for loading multi-file, single-deployment datasets\n",
    "    paths_copy = file_paths.copy()\n",
    "    \n",
    "    while len(paths_copy) > 0:\n",
    "        # Load data from a single deployment\n",
    "        deploy_ds, deployment, paths_copy = get_deployment_ds(paths_copy) \n",
    "    \n",
    "        # Create a dictionary of key-value pairs of dataset variable name:alternate parameter name\n",
    "        test_parameters = get_test_parameters(deploy_ds)\n",
    "        \n",
    "        # Run local QARTOD test\n",
    "        print(f'Running local QARTOD {test_name} test for deployment {deployment}.')  \n",
    "        if len(test_parameters) > 0:\n",
    "            qc_test_results = eval(f'run_qartod_{test_name}(refdes, stream, test_parameters, deploy_ds)')\n",
    "            qc_test_results = timeseries_dict_to_xarray(qc_test_results, deploy_ds)\n",
    "            # Add variable containing deployment number used in sorting and merging overlapping deployments\n",
    "            qc_test_results['deployment'] = deploy_ds['deployment']\n",
    "        else:\n",
    "            pass\n",
    "\n",
    "        # Build file name and directory for local QARTOD test results\n",
    "        folder_path = os.path.join(os.path.abspath('../data/interim'), method, stream, refdes)\n",
    "        os.makedirs(folder_path, exist_ok=True)\n",
    "        test_results_path = os.path.join(folder_path, f\"{test_name}_test-deployment00{deployment}.nc\")\n",
    "\n",
    "        # Save local test results\n",
    "        qc_test_results.to_netcdf(test_results_path, mode='w')\n",
    "    return"
   ]
  },
  {
   "cell_type": "markdown",
   "id": "82ca8575-867b-4209-ab65-c4156a89858e",
   "metadata": {
    "tags": []
   },
   "source": [
    "#### Gross Range Test"
   ]
  },
  {
   "cell_type": "code",
   "execution_count": 5,
   "id": "c05b9f04-e190-4080-bc7c-40f94052bfc5",
   "metadata": {
    "tags": []
   },
   "outputs": [
    {
     "name": "stdout",
     "output_type": "stream",
     "text": [
      "Running local QARTOD gross_range test for deployment 01.\n",
      "Running local QARTOD gross_range test for deployment 02.\n",
      "Running local QARTOD gross_range test for deployment 03.\n"
     ]
    }
   ],
   "source": [
    "# Run local QARTOD gross range tests\n",
    "save_local_qc_tests(file_paths, \"gross_range\")"
   ]
  },
  {
   "cell_type": "markdown",
   "id": "25594bb3",
   "metadata": {
    "tags": []
   },
   "source": [
    "#### Climatology Test"
   ]
  },
  {
   "cell_type": "code",
   "execution_count": 6,
   "id": "b3fc1916-e394-4941-9ec9-29b0a95c8d98",
   "metadata": {
    "tags": []
   },
   "outputs": [
    {
     "name": "stdout",
     "output_type": "stream",
     "text": [
      "Running local QARTOD climatology test for deployment 01.\n"
     ]
    },
    {
     "ename": "IndexError",
     "evalue": "only integers, slices (`:`), ellipsis (`...`), numpy.newaxis (`None`) and integer or boolean arrays are valid indices",
     "output_type": "error",
     "traceback": [
      "\u001b[0;31m---------------------------------------------------------------------------\u001b[0m",
      "\u001b[0;31mIndexError\u001b[0m                                Traceback (most recent call last)",
      "Cell \u001b[0;32mIn[6], line 2\u001b[0m\n\u001b[1;32m      1\u001b[0m \u001b[38;5;66;03m# Run local QARTOD climatology tests\u001b[39;00m\n\u001b[0;32m----> 2\u001b[0m save_local_qc_tests(file_paths, \u001b[38;5;124m\"\u001b[39m\u001b[38;5;124mclimatology\u001b[39m\u001b[38;5;124m\"\u001b[39m)\n",
      "Cell \u001b[0;32mIn[4], line 17\u001b[0m, in \u001b[0;36msave_local_qc_tests\u001b[0;34m(file_paths, test_name)\u001b[0m\n\u001b[1;32m     15\u001b[0m \u001b[38;5;28mprint\u001b[39m(\u001b[38;5;124mf\u001b[39m\u001b[38;5;124m'\u001b[39m\u001b[38;5;124mRunning local QARTOD \u001b[39m\u001b[38;5;132;01m{\u001b[39;00mtest_name\u001b[38;5;132;01m}\u001b[39;00m\u001b[38;5;124m test for deployment \u001b[39m\u001b[38;5;132;01m{\u001b[39;00mdeployment\u001b[38;5;132;01m}\u001b[39;00m\u001b[38;5;124m.\u001b[39m\u001b[38;5;124m'\u001b[39m)  \n\u001b[1;32m     16\u001b[0m \u001b[38;5;28;01mif\u001b[39;00m \u001b[38;5;28mlen\u001b[39m(test_parameters) \u001b[38;5;241m>\u001b[39m \u001b[38;5;241m0\u001b[39m:\n\u001b[0;32m---> 17\u001b[0m     qc_test_results \u001b[38;5;241m=\u001b[39m \u001b[38;5;28meval\u001b[39m(\u001b[38;5;124mf\u001b[39m\u001b[38;5;124m'\u001b[39m\u001b[38;5;124mrun_qartod_\u001b[39m\u001b[38;5;132;01m{\u001b[39;00mtest_name\u001b[38;5;132;01m}\u001b[39;00m\u001b[38;5;124m(refdes, stream, test_parameters, deploy_ds)\u001b[39m\u001b[38;5;124m'\u001b[39m)\n\u001b[1;32m     18\u001b[0m     qc_test_results \u001b[38;5;241m=\u001b[39m timeseries_dict_to_xarray(qc_test_results, deploy_ds)\n\u001b[1;32m     19\u001b[0m     \u001b[38;5;66;03m# Add variable containing deployment number used in sorting and merging overlapping deployments\u001b[39;00m\n",
      "File \u001b[0;32m<string>:1\u001b[0m\n",
      "File \u001b[0;32m~/code/qartod_testing/qartod_testing/local_qc_test.py:221\u001b[0m, in \u001b[0;36mrun_qartod_climatology\u001b[0;34m(refdes, stream, test_parameters, ds)\u001b[0m\n\u001b[1;32m    214\u001b[0m         c\u001b[38;5;241m.\u001b[39madd(tspan\u001b[38;5;241m=\u001b[39m[tstart, tend],\n\u001b[1;32m    215\u001b[0m             vspan\u001b[38;5;241m=\u001b[39m[vmin, vmax],\n\u001b[1;32m    216\u001b[0m             fspan\u001b[38;5;241m=\u001b[39m[fail_span[\u001b[38;5;241m0\u001b[39m], fail_span[\u001b[38;5;241m1\u001b[39m]],\n\u001b[1;32m    217\u001b[0m             period\u001b[38;5;241m=\u001b[39m\u001b[38;5;124m\"\u001b[39m\u001b[38;5;124mmonth\u001b[39m\u001b[38;5;124m\"\u001b[39m)\n\u001b[1;32m    218\u001b[0m         \u001b[38;5;66;03m# print([pmin, pmax])\u001b[39;00m\n\u001b[1;32m    219\u001b[0m \u001b[38;5;66;03m# Run the climatology test\u001b[39;00m\n\u001b[1;32m    220\u001b[0m \u001b[38;5;66;03m# time = ds[\"time\"].astype(object)\u001b[39;00m\n\u001b[0;32m--> 221\u001b[0m param_results \u001b[38;5;241m=\u001b[39m climatology_test(c,\n\u001b[1;32m    222\u001b[0m                                 inp\u001b[38;5;241m=\u001b[39mds[param]\u001b[38;5;241m.\u001b[39mto_numpy(),\n\u001b[1;32m    223\u001b[0m                                 tinp\u001b[38;5;241m=\u001b[39mds[\u001b[38;5;124m\"\u001b[39m\u001b[38;5;124mtime\u001b[39m\u001b[38;5;124m\"\u001b[39m]\u001b[38;5;241m.\u001b[39mto_numpy(),\n\u001b[1;32m    224\u001b[0m                                 zinp\u001b[38;5;241m=\u001b[39mnp\u001b[38;5;241m.\u001b[39mones_like(ds[\u001b[38;5;124m\"\u001b[39m\u001b[38;5;124mtime\u001b[39m\u001b[38;5;124m\"\u001b[39m])\n\u001b[1;32m    225\u001b[0m                                 )\n\u001b[1;32m    226\u001b[0m \u001b[38;5;66;03m# param_results = climatology_test(c,\u001b[39;00m\n\u001b[1;32m    227\u001b[0m \u001b[38;5;66;03m#                                 inp=ds[param],\u001b[39;00m\n\u001b[1;32m    228\u001b[0m \u001b[38;5;66;03m#                                 tinp=time,\u001b[39;00m\n\u001b[1;32m    229\u001b[0m \u001b[38;5;66;03m#                                 zinp=ds['sea_water_pressure'])\u001b[39;00m\n\u001b[1;32m    230\u001b[0m \n\u001b[1;32m    231\u001b[0m \u001b[38;5;66;03m# Append the results to the end of the dictionary\u001b[39;00m\n\u001b[1;32m    232\u001b[0m climatology_results\u001b[38;5;241m.\u001b[39mupdate({\n\u001b[1;32m    233\u001b[0m     param: param_results\n\u001b[1;32m    234\u001b[0m })\n",
      "File \u001b[0;32m~/.conda/envs/qartod_test/lib/python3.11/site-packages/ioos_qc/qartod.py:456\u001b[0m, in \u001b[0;36mclimatology_test\u001b[0;34m(config, inp, tinp, zinp)\u001b[0m\n\u001b[1;32m    453\u001b[0m inp \u001b[38;5;241m=\u001b[39m inp\u001b[38;5;241m.\u001b[39mflatten()\n\u001b[1;32m    454\u001b[0m zinp \u001b[38;5;241m=\u001b[39m zinp\u001b[38;5;241m.\u001b[39mflatten()\n\u001b[0;32m--> 456\u001b[0m flag_arr \u001b[38;5;241m=\u001b[39m config\u001b[38;5;241m.\u001b[39mcheck(tinp, inp, zinp)\n\u001b[1;32m    457\u001b[0m \u001b[38;5;28;01mreturn\u001b[39;00m flag_arr\u001b[38;5;241m.\u001b[39mreshape(original_shape)\n",
      "File \u001b[0;32m~/.conda/envs/qartod_test/lib/python3.11/site-packages/ioos_qc/qartod.py:394\u001b[0m, in \u001b[0;36mClimatologyConfig.check\u001b[0;34m(self, tinp, inp, zinp)\u001b[0m\n\u001b[1;32m    391\u001b[0m suspect_idx \u001b[38;5;241m=\u001b[39m (inp \u001b[38;5;241m<\u001b[39m m\u001b[38;5;241m.\u001b[39mvspan\u001b[38;5;241m.\u001b[39mminv) \u001b[38;5;241m|\u001b[39m (inp \u001b[38;5;241m>\u001b[39m m\u001b[38;5;241m.\u001b[39mvspan\u001b[38;5;241m.\u001b[39mmaxv)\n\u001b[1;32m    393\u001b[0m \u001b[38;5;28;01mwith\u001b[39;00m np\u001b[38;5;241m.\u001b[39merrstate(invalid\u001b[38;5;241m=\u001b[39m\u001b[38;5;124m'\u001b[39m\u001b[38;5;124mignore\u001b[39m\u001b[38;5;124m'\u001b[39m):\n\u001b[0;32m--> 394\u001b[0m     flag_arr[(values_idx \u001b[38;5;241m&\u001b[39m fail_idx)] \u001b[38;5;241m=\u001b[39m QartodFlags\u001b[38;5;241m.\u001b[39mFAIL\n\u001b[1;32m    395\u001b[0m     flag_arr[(values_idx \u001b[38;5;241m&\u001b[39m \u001b[38;5;241m~\u001b[39mfail_idx \u001b[38;5;241m&\u001b[39m suspect_idx)] \u001b[38;5;241m=\u001b[39m QartodFlags\u001b[38;5;241m.\u001b[39mSUSPECT\n\u001b[1;32m    396\u001b[0m     flag_arr[(values_idx \u001b[38;5;241m&\u001b[39m \u001b[38;5;241m~\u001b[39mfail_idx \u001b[38;5;241m&\u001b[39m \u001b[38;5;241m~\u001b[39msuspect_idx)] \u001b[38;5;241m=\u001b[39m QartodFlags\u001b[38;5;241m.\u001b[39mGOOD\n",
      "File \u001b[0;32m~/.conda/envs/qartod_test/lib/python3.11/contextlib.py:81\u001b[0m, in \u001b[0;36mContextDecorator.__call__.<locals>.inner\u001b[0;34m(*args, **kwds)\u001b[0m\n\u001b[1;32m     78\u001b[0m \u001b[38;5;129m@wraps\u001b[39m(func)\n\u001b[1;32m     79\u001b[0m \u001b[38;5;28;01mdef\u001b[39;00m \u001b[38;5;21minner\u001b[39m(\u001b[38;5;241m*\u001b[39margs, \u001b[38;5;241m*\u001b[39m\u001b[38;5;241m*\u001b[39mkwds):\n\u001b[1;32m     80\u001b[0m     \u001b[38;5;28;01mwith\u001b[39;00m \u001b[38;5;28mself\u001b[39m\u001b[38;5;241m.\u001b[39m_recreate_cm():\n\u001b[0;32m---> 81\u001b[0m         \u001b[38;5;28;01mreturn\u001b[39;00m func(\u001b[38;5;241m*\u001b[39margs, \u001b[38;5;241m*\u001b[39m\u001b[38;5;241m*\u001b[39mkwds)\n",
      "File \u001b[0;32m~/.conda/envs/qartod_test/lib/python3.11/site-packages/numpy/ma/core.py:3387\u001b[0m, in \u001b[0;36mMaskedArray.__setitem__\u001b[0;34m(self, indx, value)\u001b[0m\n\u001b[1;32m   3384\u001b[0m     mval \u001b[38;5;241m=\u001b[39m \u001b[38;5;28mtuple\u001b[39m([\u001b[38;5;28;01mFalse\u001b[39;00m] \u001b[38;5;241m*\u001b[39m \u001b[38;5;28mlen\u001b[39m(_dtype\u001b[38;5;241m.\u001b[39mnames))\n\u001b[1;32m   3385\u001b[0m \u001b[38;5;28;01mif\u001b[39;00m _mask \u001b[38;5;129;01mis\u001b[39;00m nomask:\n\u001b[1;32m   3386\u001b[0m     \u001b[38;5;66;03m# Set the data, then the mask\u001b[39;00m\n\u001b[0;32m-> 3387\u001b[0m     _data[indx] \u001b[38;5;241m=\u001b[39m dval\n\u001b[1;32m   3388\u001b[0m     \u001b[38;5;28;01mif\u001b[39;00m mval \u001b[38;5;129;01mis\u001b[39;00m \u001b[38;5;129;01mnot\u001b[39;00m nomask:\n\u001b[1;32m   3389\u001b[0m         _mask \u001b[38;5;241m=\u001b[39m \u001b[38;5;28mself\u001b[39m\u001b[38;5;241m.\u001b[39m_mask \u001b[38;5;241m=\u001b[39m make_mask_none(\u001b[38;5;28mself\u001b[39m\u001b[38;5;241m.\u001b[39mshape, _dtype)\n",
      "\u001b[0;31mIndexError\u001b[0m: only integers, slices (`:`), ellipsis (`...`), numpy.newaxis (`None`) and integer or boolean arrays are valid indices"
     ]
    }
   ],
   "source": [
    "# Run local QARTOD climatology tests\n",
    "save_local_qc_tests(file_paths, \"climatology\")"
   ]
  },
  {
   "cell_type": "code",
   "execution_count": null,
   "id": "0500caf6-29d5-40fb-ac54-04145aaea660",
   "metadata": {},
   "outputs": [],
   "source": []
  }
 ],
 "metadata": {
  "kernelspec": {
   "display_name": "qartod_test",
   "language": "python",
   "name": "qartod_test"
  },
  "language_info": {
   "codemirror_mode": {
    "name": "ipython",
    "version": 3
   },
   "file_extension": ".py",
   "mimetype": "text/x-python",
   "name": "python",
   "nbconvert_exporter": "python",
   "pygments_lexer": "ipython3",
   "version": "3.11.3"
  },
  "toc-showtags": false
 },
 "nbformat": 4,
 "nbformat_minor": 5
}
