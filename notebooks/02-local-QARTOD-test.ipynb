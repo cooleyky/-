{
 "cells": [
  {
   "cell_type": "markdown",
   "id": "f9f95658",
   "metadata": {},
   "source": [
    "# Comparing local results of QARTOD tests to expected results \n",
    "(from ingestion?)"
   ]
  },
  {
   "cell_type": "markdown",
   "id": "f12f0b76",
   "metadata": {},
   "source": [
    "## 1: load dependencies"
   ]
  },
  {
   "cell_type": "code",
   "execution_count": 2,
   "id": "034f93a5",
   "metadata": {},
   "outputs": [],
   "source": [
    "import ioos_qc"
   ]
  },
  {
   "cell_type": "markdown",
   "id": "7ca8706f",
   "metadata": {},
   "source": [
    "## 2: create data stream URL"
   ]
  },
  {
   "cell_type": "code",
   "execution_count": null,
   "id": "4600703d",
   "metadata": {},
   "outputs": [],
   "source": [
    "# API username and token\n",
    "# site\n",
    "# node\n",
    "# sensor\n",
    "# dates/deployment\n",
    "# gold copy base URL\n",
    "datapath = (/).join(base,site,node,sensor,deployment)"
   ]
  },
  {
   "cell_type": "markdown",
   "id": "fdcd8646",
   "metadata": {},
   "source": [
    "## 3: collect test QARTOD value tables"
   ]
  },
  {
   "cell_type": "markdown",
   "id": "9b119cdf",
   "metadata": {},
   "source": [
    "## 4: run QARTOD tests locally"
   ]
  },
  {
   "cell_type": "markdown",
   "id": "987de098",
   "metadata": {},
   "source": [
    "## 5: download expected results via M2M"
   ]
  },
  {
   "cell_type": "markdown",
   "id": "a0e41d3f",
   "metadata": {},
   "source": [
    "## 6: identify differences in results"
   ]
  },
  {
   "cell_type": "markdown",
   "id": "9d6e5d5e",
   "metadata": {},
   "source": [
    "## 7: export differing values to CSV with relevant metadata\n",
    "metadata could include: date & time, sensor, node, site, local & expected test results... whatever"
   ]
  },
  {
   "cell_type": "code",
   "execution_count": null,
   "id": "87dd9eb5",
   "metadata": {},
   "outputs": [],
   "source": []
  }
 ],
 "metadata": {
  "kernelspec": {
   "display_name": "Python 3 (ipykernel)",
   "language": "python",
   "name": "python3"
  },
  "language_info": {
   "codemirror_mode": {
    "name": "ipython",
    "version": 3
   },
   "file_extension": ".py",
   "mimetype": "text/x-python",
   "name": "python",
   "nbconvert_exporter": "python",
   "pygments_lexer": "ipython3",
   "version": "3.10.9"
  }
 },
 "nbformat": 4,
 "nbformat_minor": 5
}
