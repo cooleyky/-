{
 "cells": [
  {
   "cell_type": "markdown",
   "id": "d83470a1",
   "metadata": {},
   "source": [
    "# Comparing local results of QARTOD tests to expected results \n",
    "(from ingestion?)"
   ]
  },
  {
   "cell_type": "markdown",
   "id": "3ecc1a42",
   "metadata": {},
   "source": [
    "## 1: load dependencies"
   ]
  },
  {
   "cell_type": "code",
   "execution_count": 2,
   "id": "931c7aef",
   "metadata": {},
   "outputs": [],
   "source": [
    "import ioos_qc"
   ]
  },
  {
   "cell_type": "markdown",
   "id": "c7b10930",
   "metadata": {},
   "source": [
    "## 2: create data stream URL"
   ]
  },
  {
   "cell_type": "code",
   "execution_count": null,
   "id": "c1ee95a9",
   "metadata": {},
   "outputs": [],
   "source": [
    "# API username and token\n",
    "# site\n",
    "# node\n",
    "# sensor\n",
    "# dates/deployment\n",
    "# gold copy base URL\n",
    "datapath = (/).join(base,site,node,sensor,deployment)"
   ]
  },
  {
   "cell_type": "markdown",
   "id": "c93f082d",
   "metadata": {},
   "source": [
    "## 3: collect test value tables"
   ]
  },
  {
   "cell_type": "markdown",
   "id": "1c09f89d",
   "metadata": {},
   "source": [
    "## 4: run QARTOD tests locally"
   ]
  },
  {
   "cell_type": "markdown",
   "id": "6d1e35d3",
   "metadata": {},
   "source": [
    "## 5: download expected results via M2M"
   ]
  },
  {
   "cell_type": "markdown",
   "id": "be7df7e4",
   "metadata": {},
   "source": [
    "## 6: identify differences in results"
   ]
  },
  {
   "cell_type": "markdown",
   "id": "54a820a5",
   "metadata": {},
   "source": [
    "## 7: export differing values to CSV with relevant metadata\n",
    "metadata could include: date & time, sensor, node, site, local & expected test results... whatever"
   ]
  },
  {
   "cell_type": "code",
   "execution_count": null,
   "id": "1a9f9812",
   "metadata": {},
   "outputs": [],
   "source": []
  }
 ],
 "metadata": {
  "kernelspec": {
   "display_name": "Python 3 (ipykernel)",
   "language": "python",
   "name": "python3"
  },
  "language_info": {
   "codemirror_mode": {
    "name": "ipython",
    "version": 3
   },
   "file_extension": ".py",
   "mimetype": "text/x-python",
   "name": "python",
   "nbconvert_exporter": "python",
   "pygments_lexer": "ipython3",
   "version": "3.10.9"
  }
 },
 "nbformat": 4,
 "nbformat_minor": 5
}
