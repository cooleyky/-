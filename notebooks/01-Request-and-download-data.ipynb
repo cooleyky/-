{
 "cells": [
  {
   "attachments": {},
   "cell_type": "markdown",
   "id": "0eff3fa8",
   "metadata": {},
   "source": [
    "# Request and Download OOI Data\n",
    "\n",
    "**Purpose:** This notebook creates requests for data and QARTOD QC test results that are available from OOINet and from the OOI dev1 server. QC tests associated with datasets from OOINet have already been implemented in production by the Data Team. The dev1 server is where datasets with results of QARTOD tests in development are hosted. Access to dev1 is restricted to OOI personnel on the internal network.\n",
    "\n",
    "The requests built below include the retrieval method, data stream, and either the reference designator or site, node, and sensor combination for a specific instrument to request data through the OOI M2M API. The requested datasets can also be limited to a time period defined by start datetime and end datetime parameters.\n",
    "\n",
    "After downloading the datasets and performing preprocessing to prepare the data for analysis, the datasets are saved locally to an interim data folder for the next step in testing and analyzing QARTOD test results."
   ]
  },
  {
   "attachments": {},
   "cell_type": "markdown",
   "id": "75d71717",
   "metadata": {},
   "source": [
    "### Import modules used in this notebook"
   ]
  },
  {
   "cell_type": "code",
   "execution_count": 1,
   "id": "231381dd",
   "metadata": {},
   "outputs": [],
   "source": [
    "# Import libraries available from main conda channels or conda-forge\n",
    "import xarray as xr\n",
    "import io\n",
    "import os\n",
    "import warnings\n",
    "import re\n",
    "warnings.filterwarnings(\"ignore\")\n",
    "from tqdm import tqdm\n",
    "import requests\n",
    "\n",
    "# Import functions from ooi-data-explorations library\n",
    "from ooi_data_explorations import common \n",
    "from ooi_data_explorations.common import SESSION\n",
    "\n",
    "# Import OOINet library\n",
    "from ooinet import M2M\n",
    "from ooinet.M2M import AUTH, SESSION \n",
    "from ooinet.Instrument.common import process_file\n",
    "\n",
    "# Import qartod_testing project modules\n",
    "import qartod_testing.data_processing as dp"
   ]
  },
  {
   "attachments": {},
   "cell_type": "markdown",
   "id": "119c89b2",
   "metadata": {},
   "source": [
    "### QARTOD in Production: Request data from the OOINet THREDDS catalog\n",
    "\n",
    "The next 4 subsections are different attempts a requesting data from OOINet. \n",
    "Downloading data with `M2M.download_netCDF_files()` was successful for a couple of PHSEN instruments, although it does not do any preprocessing before saving these datasets. For other datasets I usually run into a file or directory not found error at the local directory where I am trying to write data."
   ]
  },
  {
   "attachments": {},
   "cell_type": "markdown",
   "id": "bedc13fb",
   "metadata": {},
   "source": [
    "##### Define data parameters"
   ]
  },
  {
   "cell_type": "code",
   "execution_count": 2,
   "id": "548967d3",
   "metadata": {},
   "outputs": [],
   "source": [
    "# Setup parameters needed to request data\n",
    "refdes = \"GA01SUMO-RII11-02-CTDBPP032\"              # Coastal Pioneer Array (NES) - Central Surface Mooring CTD Bottom-pumped, is this the same as site, node, sensor?\n",
    "method = \"recovered_inst\"                           # non-decimated data from recovered instrument\n",
    "stream = \"ctdbp_cdef_instrument_recovered\"          # name of data stream\n",
    "\n",
    "# Site, node, and sensor info from deconstructed reference designator\n",
    "[site, node, sensor] = refdes.split('-', 2)\n",
    "\n",
    "login, password = AUTH[0], AUTH[2]"
   ]
  },
  {
   "attachments": {},
   "cell_type": "markdown",
   "id": "f2ab43be",
   "metadata": {},
   "source": [
    "##### Using OOINet module"
   ]
  },
  {
   "cell_type": "code",
   "execution_count": 10,
   "id": "36cd3b6e",
   "metadata": {},
   "outputs": [],
   "source": [
    "# Use the gold copy THREDDs datasets\n",
    "thredds_url = M2M.get_thredds_url(refdes, method, stream, goldCopy=True)\n",
    "\n",
    "# Get the THREDDs catalog\n",
    "thredds_catalog = M2M.get_thredds_catalog(thredds_url)\n",
    "deployments = M2M.get_deployments(refdes)"
   ]
  },
  {
   "cell_type": "code",
   "execution_count": 11,
   "id": "d9b24f05",
   "metadata": {},
   "outputs": [],
   "source": [
    "# Clean the THREDDs catalog\n",
    "# This step separates entries from thredds_catalog if they do not match the stream. These ancillary files are usually provided \n",
    "# because they are used in calculating a derived variable from the measured variable stream.\n",
    "sensor_files = M2M.clean_catalog(thredds_catalog, stream, deployments) \n",
    "\n",
    "# Now build the url to access the data\n",
    "# sensor_files = [re.sub(\"catalog.html\\?dataset=\", M2M.URLS[\"goldCopy_fileServer\"], file) for file in sensor_files]"
   ]
  },
  {
   "cell_type": "code",
   "execution_count": 10,
   "id": "35efc88d",
   "metadata": {},
   "outputs": [
    {
     "data": {
      "text/plain": [
       "['catalog.html?dataset=ooigoldcopy/public/CP01CNSM-RID27-04-DOSTAD000-recovered_host-dosta_abcdjm_dcl_instrument_recovered/deployment0001_CP01CNSM-RID27-04-DOSTAD000-recovered_host-dosta_abcdjm_dcl_instrument_recovered_20131121T182017.889000-20140217T132558.909000.nc',\n",
       " 'catalog.html?dataset=ooigoldcopy/public/CP01CNSM-RID27-04-DOSTAD000-recovered_host-dosta_abcdjm_dcl_instrument_recovered/deployment0003_CP01CNSM-RID27-04-DOSTAD000-recovered_host-dosta_abcdjm_dcl_instrument_recovered_20150507T174515.211000-20151023T193331.593000.nc',\n",
       " 'catalog.html?dataset=ooigoldcopy/public/CP01CNSM-RID27-04-DOSTAD000-recovered_host-dosta_abcdjm_dcl_instrument_recovered/deployment0004_CP01CNSM-RID27-04-DOSTAD000-recovered_host-dosta_abcdjm_dcl_instrument_recovered_20151023T190008.653000-20160402T041511.024000.nc',\n",
       " 'catalog.html?dataset=ooigoldcopy/public/CP01CNSM-RID27-04-DOSTAD000-recovered_host-dosta_abcdjm_dcl_instrument_recovered/deployment0005_CP01CNSM-RID27-04-DOSTAD000-recovered_host-dosta_abcdjm_dcl_instrument_recovered_20160513T140009.594000-20160906T001817.464000.nc',\n",
       " 'catalog.html?dataset=ooigoldcopy/public/CP01CNSM-RID27-04-DOSTAD000-recovered_host-dosta_abcdjm_dcl_instrument_recovered/deployment0006_CP01CNSM-RID27-04-DOSTAD000-recovered_host-dosta_abcdjm_dcl_instrument_recovered_20161013T184515.219000-20170609T094833.123000.nc',\n",
       " 'catalog.html?dataset=ooigoldcopy/public/CP01CNSM-RID27-04-DOSTAD000-recovered_host-dosta_abcdjm_dcl_instrument_recovered/deployment0007_CP01CNSM-RID27-04-DOSTAD000-recovered_host-dosta_abcdjm_dcl_instrument_recovered_20170609T143013.027000-20171031T120316.744000.nc',\n",
       " 'catalog.html?dataset=ooigoldcopy/public/CP01CNSM-RID27-04-DOSTAD000-recovered_host-dosta_abcdjm_dcl_instrument_recovered/deployment0008_CP01CNSM-RID27-04-DOSTAD000-recovered_host-dosta_abcdjm_dcl_instrument_recovered_20171029T141511.635000-20180329T190318.158000.nc',\n",
       " 'catalog.html?dataset=ooigoldcopy/public/CP01CNSM-RID27-04-DOSTAD000-recovered_host-dosta_abcdjm_dcl_instrument_recovered/deployment0009_CP01CNSM-RID27-04-DOSTAD000-recovered_host-dosta_abcdjm_dcl_instrument_recovered_20180324T213200.955000-20180423T191817.520000.nc',\n",
       " 'catalog.html?dataset=ooigoldcopy/public/CP01CNSM-RID27-04-DOSTAD000-recovered_host-dosta_abcdjm_dcl_instrument_recovered/deployment0010_CP01CNSM-RID27-04-DOSTAD000-recovered_host-dosta_abcdjm_dcl_instrument_recovered_20181030T014800.135000-20190407T131817.022000.nc',\n",
       " 'catalog.html?dataset=ooigoldcopy/public/CP01CNSM-RID27-04-DOSTAD000-recovered_host-dosta_abcdjm_dcl_instrument_recovered/deployment0011_CP01CNSM-RID27-04-DOSTAD000-recovered_host-dosta_abcdjm_dcl_instrument_recovered_20190406T144511.980000-20190926T154818.010000.nc',\n",
       " 'catalog.html?dataset=ooigoldcopy/public/CP01CNSM-RID27-04-DOSTAD000-recovered_host-dosta_abcdjm_dcl_instrument_recovered/deployment0012_CP01CNSM-RID27-04-DOSTAD000-recovered_host-dosta_abcdjm_dcl_instrument_recovered_20190927T183014.084000-20201106T114816.837000.nc',\n",
       " 'catalog.html?dataset=ooigoldcopy/public/CP01CNSM-RID27-04-DOSTAD000-recovered_host-dosta_abcdjm_dcl_instrument_recovered/deployment0013_CP01CNSM-RID27-04-DOSTAD000-recovered_host-dosta_abcdjm_dcl_instrument_recovered_20201029T150008.619000-20210403T110302.533000.nc',\n",
       " 'catalog.html?dataset=ooigoldcopy/public/CP01CNSM-RID27-04-DOSTAD000-recovered_host-dosta_abcdjm_dcl_instrument_recovered/deployment0014_CP01CNSM-RID27-04-DOSTAD000-recovered_host-dosta_abcdjm_dcl_instrument_recovered_20210331T154511.909000-20211103T160303.003000.nc',\n",
       " 'catalog.html?dataset=ooigoldcopy/public/CP01CNSM-RID27-04-DOSTAD000-recovered_host-dosta_abcdjm_dcl_instrument_recovered/deployment0015_CP01CNSM-RID27-04-DOSTAD000-recovered_host-dosta_abcdjm_dcl_instrument_recovered_20211103T144509.941000-20220413T111801.322000.nc',\n",
       " 'catalog.html?dataset=ooigoldcopy/public/CP01CNSM-RID27-04-DOSTAD000-recovered_host-dosta_abcdjm_dcl_instrument_recovered/deployment0016_CP01CNSM-RID27-04-DOSTAD000-recovered_host-dosta_abcdjm_dcl_instrument_recovered_20220413T111801.575000-20221111T111600.899000.nc']"
      ]
     },
     "execution_count": 10,
     "metadata": {},
     "output_type": "execute_result"
    }
   ],
   "source": [
    "sensor_files"
   ]
  },
  {
   "cell_type": "code",
   "execution_count": 4,
   "id": "29b5ea37",
   "metadata": {},
   "outputs": [],
   "source": [
    "# build path to folder where data will be saved\n",
    "folder_path = os.path.join(os.path.abspath('../data'), 'external', method, stream, refdes)\n",
    "# make folder if it does not already exist\n",
    "# if not os.path.exists(folder_path):\n",
    "#     os.makedirs(folder_path)"
   ]
  },
  {
   "cell_type": "code",
   "execution_count": 13,
   "id": "de9d9266",
   "metadata": {},
   "outputs": [
    {
     "name": "stdout",
     "output_type": "stream",
     "text": [
      "----- Downloading files -----\n"
     ]
    },
    {
     "name": "stdout",
     "output_type": "stream",
     "text": [
      "Downloading https://thredds.dataexplorer.oceanobservatories.org/thredds/fileServer/ooigoldcopy/public/CP01CNSM-RID27-03-CTDBPC000-recovered_inst-ctdbp_cdef_instrument_recovered/deployment0001_CP01CNSM-RID27-03-CTDBPC000-recovered_inst-ctdbp_cdef_instrument_recovered_20131121T181601-20140217T132711.nc to c:\\Users\\kylene.cooley\\Documents\\GitHub\\qartod_testing\\data\\external\\recovered_inst\\ctdbp_cdef_instrument_recovered\\CP01CNSM-RID27-03-CTDBPC000\\deployment0001_CP01CNSM-RID27-03-CTDBPC000-recovered_inst-ctdbp_cdef_instrument_recovered_20131121T181601-20140217T132711.nc \n",
      "Downloading https://thredds.dataexplorer.oceanobservatories.org/thredds/fileServer/ooigoldcopy/public/CP01CNSM-RID27-03-CTDBPC000-recovered_inst-ctdbp_cdef_instrument_recovered/deployment0004_CP01CNSM-RID27-03-CTDBPC000-recovered_inst-ctdbp_cdef_instrument_recovered_20151023T191528-20160402T034848.nc to c:\\Users\\kylene.cooley\\Documents\\GitHub\\qartod_testing\\data\\external\\recovered_inst\\ctdbp_cdef_instrument_recovered\\CP01CNSM-RID27-03-CTDBPC000\\deployment0004_CP01CNSM-RID27-03-CTDBPC000-recovered_inst-ctdbp_cdef_instrument_recovered_20151023T191528-20160402T034848.nc \n",
      "Downloading https://thredds.dataexplorer.oceanobservatories.org/thredds/fileServer/ooigoldcopy/public/CP01CNSM-RID27-03-CTDBPC000-recovered_inst-ctdbp_cdef_instrument_recovered/deployment0007_CP01CNSM-RID27-03-CTDBPC000-recovered_inst-ctdbp_cdef_instrument_recovered_20170609T142931-20171101T202931.nc to c:\\Users\\kylene.cooley\\Documents\\GitHub\\qartod_testing\\data\\external\\recovered_inst\\ctdbp_cdef_instrument_recovered\\CP01CNSM-RID27-03-CTDBPC000\\deployment0007_CP01CNSM-RID27-03-CTDBPC000-recovered_inst-ctdbp_cdef_instrument_recovered_20170609T142931-20171101T202931.nc \n",
      "Downloading https://thredds.dataexplorer.oceanobservatories.org/thredds/fileServer/ooigoldcopy/public/CP01CNSM-RID27-03-CTDBPC000-recovered_inst-ctdbp_cdef_instrument_recovered/deployment0010_CP01CNSM-RID27-03-CTDBPC000-recovered_inst-ctdbp_cdef_instrument_recovered_20181030T014808-20190407T131809.nc to c:\\Users\\kylene.cooley\\Documents\\GitHub\\qartod_testing\\data\\external\\recovered_inst\\ctdbp_cdef_instrument_recovered\\CP01CNSM-RID27-03-CTDBPC000\\deployment0010_CP01CNSM-RID27-03-CTDBPC000-recovered_inst-ctdbp_cdef_instrument_recovered_20181030T014808-20190407T131809.nc \n",
      "Downloading https://thredds.dataexplorer.oceanobservatories.org/thredds/fileServer/ooigoldcopy/public/CP01CNSM-RID27-03-CTDBPC000-recovered_inst-ctdbp_cdef_instrument_recovered/deployment0012_CP01CNSM-RID27-03-CTDBPC000-recovered_inst-ctdbp_cdef_instrument_recovered_20190927T183018-20201106T114826.nc to c:\\Users\\kylene.cooley\\Documents\\GitHub\\qartod_testing\\data\\external\\recovered_inst\\ctdbp_cdef_instrument_recovered\\CP01CNSM-RID27-03-CTDBPC000\\deployment0012_CP01CNSM-RID27-03-CTDBPC000-recovered_inst-ctdbp_cdef_instrument_recovered_20190927T183018-20201106T114826.nc \n",
      "Downloading https://thredds.dataexplorer.oceanobservatories.org/thredds/fileServer/ooigoldcopy/public/CP01CNSM-RID27-03-CTDBPC000-recovered_inst-ctdbp_cdef_instrument_recovered/deployment0005_CP01CNSM-RID27-03-CTDBPC000-recovered_inst-ctdbp_cdef_instrument_recovered_20160513T135001-20161013T193001.nc to c:\\Users\\kylene.cooley\\Documents\\GitHub\\qartod_testing\\data\\external\\recovered_inst\\ctdbp_cdef_instrument_recovered\\CP01CNSM-RID27-03-CTDBPC000\\deployment0005_CP01CNSM-RID27-03-CTDBPC000-recovered_inst-ctdbp_cdef_instrument_recovered_20160513T135001-20161013T193001.nc \n",
      "Downloading https://thredds.dataexplorer.oceanobservatories.org/thredds/fileServer/ooigoldcopy/public/CP01CNSM-RID27-03-CTDBPC000-recovered_inst-ctdbp_cdef_instrument_recovered/deployment0009_CP01CNSM-RID27-03-CTDBPC000-recovered_inst-ctdbp_cdef_instrument_recovered_20180324T213207-20180502T203844.nc to c:\\Users\\kylene.cooley\\Documents\\GitHub\\qartod_testing\\data\\external\\recovered_inst\\ctdbp_cdef_instrument_recovered\\CP01CNSM-RID27-03-CTDBPC000\\deployment0009_CP01CNSM-RID27-03-CTDBPC000-recovered_inst-ctdbp_cdef_instrument_recovered_20180324T213207-20180502T203844.nc \n",
      "Downloading https://thredds.dataexplorer.oceanobservatories.org/thredds/fileServer/ooigoldcopy/public/CP01CNSM-RID27-03-CTDBPC000-recovered_inst-ctdbp_cdef_instrument_recovered/deployment0006_CP01CNSM-RID27-03-CTDBPC000-recovered_inst-ctdbp_cdef_instrument_recovered_20161013T183731-20161122T190001.nc to c:\\Users\\kylene.cooley\\Documents\\GitHub\\qartod_testing\\data\\external\\recovered_inst\\ctdbp_cdef_instrument_recovered\\CP01CNSM-RID27-03-CTDBPC000\\deployment0006_CP01CNSM-RID27-03-CTDBPC000-recovered_inst-ctdbp_cdef_instrument_recovered_20161013T183731-20161122T190001.nc \n",
      "Downloading https://thredds.dataexplorer.oceanobservatories.org/thredds/fileServer/ooigoldcopy/public/CP01CNSM-RID27-03-CTDBPC000-recovered_inst-ctdbp_cdef_instrument_recovered/deployment0011_CP01CNSM-RID27-03-CTDBPC000-recovered_inst-ctdbp_cdef_instrument_recovered_20190406T144517-20190926T161808.nc to c:\\Users\\kylene.cooley\\Documents\\GitHub\\qartod_testing\\data\\external\\recovered_inst\\ctdbp_cdef_instrument_recovered\\CP01CNSM-RID27-03-CTDBPC000\\deployment0011_CP01CNSM-RID27-03-CTDBPC000-recovered_inst-ctdbp_cdef_instrument_recovered_20190406T144517-20190926T161808.nc \n",
      "Downloading https://thredds.dataexplorer.oceanobservatories.org/thredds/fileServer/ooigoldcopy/public/CP01CNSM-RID27-03-CTDBPC000-recovered_inst-ctdbp_cdef_instrument_recovered/deployment0008_CP01CNSM-RID27-03-CTDBPC000-recovered_inst-ctdbp_cdef_instrument_recovered_20171029T141519-20180329T190320.nc to c:\\Users\\kylene.cooley\\Documents\\GitHub\\qartod_testing\\data\\external\\recovered_inst\\ctdbp_cdef_instrument_recovered\\CP01CNSM-RID27-03-CTDBPC000\\deployment0008_CP01CNSM-RID27-03-CTDBPC000-recovered_inst-ctdbp_cdef_instrument_recovered_20171029T141519-20180329T190320.nc \n",
      "\n",
      "\n",
      "\n",
      "\n",
      "\n",
      "\n",
      "\n",
      "\n",
      "\n",
      "\n"
     ]
    },
    {
     "name": "stderr",
     "output_type": "stream",
     "text": [
      "Exception in thread Thread-26:\n",
      "Traceback (most recent call last):\n",
      "  File \"c:\\Users\\kylene.cooley\\AppData\\Local\\anaconda3\\envs\\qartod_test\\Lib\\threading.py\", line 1038, in _bootstrap_inner\n",
      "    self.run()\n",
      "  File \"C:\\Users\\kylene.cooley\\Documents\\GitHub\\OOINet\\ooinet\\Download.py\", line 60, in run\n",
      "    download_file(directory, link)\n",
      "  File \"C:\\Users\\kylene.cooley\\Documents\\GitHub\\OOINet\\ooinet\\Download.py\", line 30, in download_file\n",
      "    urlretrieve(link, download_path)\n",
      "  File \"c:\\Users\\kylene.cooley\\AppData\\Local\\anaconda3\\envs\\qartod_test\\Lib\\urllib\\request.py\", line 251, in urlretrieve\n",
      "    tfp = open(filename, 'wb')\n",
      "          ^^^^^^^^^^^^^^^^^^^^\n",
      "FileNotFoundError: [Errno 2] No such file or directory: 'c:\\\\Users\\\\kylene.cooley\\\\Documents\\\\GitHub\\\\qartod_testing\\\\data\\\\external\\\\recovered_inst\\\\ctdbp_cdef_instrument_recovered\\\\CP01CNSM-RID27-03-CTDBPC000\\\\deployment0005_CP01CNSM-RID27-03-CTDBPC000-recovered_inst-ctdbp_cdef_instrument_recovered_20160513T135001-20161013T193001.nc'\n",
      "Exception in thread Thread-22:\n",
      "Traceback (most recent call last):\n",
      "  File \"c:\\Users\\kylene.cooley\\AppData\\Local\\anaconda3\\envs\\qartod_test\\Lib\\threading.py\", line 1038, in _bootstrap_inner\n",
      "    self.run()\n",
      "  File \"C:\\Users\\kylene.cooley\\Documents\\GitHub\\OOINet\\ooinet\\Download.py\", line 60, in run\n",
      "    download_file(directory, link)\n",
      "  File \"C:\\Users\\kylene.cooley\\Documents\\GitHub\\OOINet\\ooinet\\Download.py\", line 30, in download_file\n",
      "    urlretrieve(link, download_path)\n",
      "  File \"c:\\Users\\kylene.cooley\\AppData\\Local\\anaconda3\\envs\\qartod_test\\Lib\\urllib\\request.py\", line 251, in urlretrieve\n",
      "    tfp = open(filename, 'wb')\n",
      "          ^^^^^^^^^^^^^^^^^^^^\n",
      "FileNotFoundError: [Errno 2] No such file or directory: 'c:\\\\Users\\\\kylene.cooley\\\\Documents\\\\GitHub\\\\qartod_testing\\\\data\\\\external\\\\recovered_inst\\\\ctdbp_cdef_instrument_recovered\\\\CP01CNSM-RID27-03-CTDBPC000\\\\deployment0012_CP01CNSM-RID27-03-CTDBPC000-recovered_inst-ctdbp_cdef_instrument_recovered_20190927T183018-20201106T114826.nc'\n",
      "Exception in thread Thread-23:\n",
      "Exception in thread Traceback (most recent call last):\n",
      "Thread-27  File \"c:\\Users\\kylene.cooley\\AppData\\Local\\anaconda3\\envs\\qartod_test\\Lib\\threading.py\", line 1038, in _bootstrap_inner\n",
      ":\n",
      "Traceback (most recent call last):\n",
      "  File \"c:\\Users\\kylene.cooley\\AppData\\Local\\anaconda3\\envs\\qartod_test\\Lib\\threading.py\", line 1038, in _bootstrap_inner\n",
      "    self.run()    \n",
      "self.run()\n",
      "  File \"C:\\Users\\kylene.cooley\\Documents\\GitHub\\OOINet\\ooinet\\Download.py\", line 60, in run\n",
      "  File \"C:\\Users\\kylene.cooley\\Documents\\GitHub\\OOINet\\ooinet\\Download.py\", line 60, in run\n",
      "        download_file(directory, link)download_file(directory, link)\n",
      "\n",
      "  File \"C:\\Users\\kylene.cooley\\Documents\\GitHub\\OOINet\\ooinet\\Download.py\", line 30, in download_file\n",
      "  File \"C:\\Users\\kylene.cooley\\Documents\\GitHub\\OOINet\\ooinet\\Download.py\", line 30, in download_file\n",
      "    urlretrieve(link, download_path)    \n",
      "urlretrieve(link, download_path)\n",
      "  File \"c:\\Users\\kylene.cooley\\AppData\\Local\\anaconda3\\envs\\qartod_test\\Lib\\urllib\\request.py\", line 251, in urlretrieve\n",
      "  File \"c:\\Users\\kylene.cooley\\AppData\\Local\\anaconda3\\envs\\qartod_test\\Lib\\urllib\\request.py\", line 251, in urlretrieve\n",
      "        tfp = open(filename, 'wb')tfp = open(filename, 'wb')\n",
      "\n",
      "                   ^ ^^^^^^^^^^^^^^^^^^^^^^^^^^^^^^^^^^^^^^^\n",
      "\n",
      "FileNotFoundError: FileNotFoundError[Errno 2] No such file or directory: 'c:\\\\Users\\\\kylene.cooley\\\\Documents\\\\GitHub\\\\qartod_testing\\\\data\\\\external\\\\recovered_inst\\\\ctdbp_cdef_instrument_recovered\\\\CP01CNSM-RID27-03-CTDBPC000\\\\deployment0004_CP01CNSM-RID27-03-CTDBPC000-recovered_inst-ctdbp_cdef_instrument_recovered_20151023T191528-20160402T034848.nc'\n",
      ": [Errno 2] No such file or directory: 'c:\\\\Users\\\\kylene.cooley\\\\Documents\\\\GitHub\\\\qartod_testing\\\\data\\\\external\\\\recovered_inst\\\\ctdbp_cdef_instrument_recovered\\\\CP01CNSM-RID27-03-CTDBPC000\\\\deployment0006_CP01CNSM-RID27-03-CTDBPC000-recovered_inst-ctdbp_cdef_instrument_recovered_20161013T183731-20161122T190001.nc'\n",
      "Exception in thread Thread-28:\n",
      "Traceback (most recent call last):\n",
      "  File \"c:\\Users\\kylene.cooley\\AppData\\Local\\anaconda3\\envs\\qartod_test\\Lib\\threading.py\", line 1038, in _bootstrap_inner\n",
      "    self.run()\n",
      "  File \"C:\\Users\\kylene.cooley\\Documents\\GitHub\\OOINet\\ooinet\\Download.py\", line 60, in run\n",
      "    download_file(directory, link)\n",
      "  File \"C:\\Users\\kylene.cooley\\Documents\\GitHub\\OOINet\\ooinet\\Download.py\", line 30, in download_file\n",
      "    urlretrieve(link, download_path)\n",
      "  File \"c:\\Users\\kylene.cooley\\AppData\\Local\\anaconda3\\envs\\qartod_test\\Lib\\urllib\\request.py\", line 251, in urlretrieve\n",
      "    tfp = open(filename, 'wb')\n",
      "          ^^^^^^^^^^^^^^^^^^^^\n",
      "FileNotFoundError: [Errno 2] No such file or directory: 'c:\\\\Users\\\\kylene.cooley\\\\Documents\\\\GitHub\\\\qartod_testing\\\\data\\\\external\\\\recovered_inst\\\\ctdbp_cdef_instrument_recovered\\\\CP01CNSM-RID27-03-CTDBPC000\\\\deployment0007_CP01CNSM-RID27-03-CTDBPC000-recovered_inst-ctdbp_cdef_instrument_recovered_20170609T142931-20171101T202931.nc'\n",
      "Exception in thread Thread-25:\n",
      "Traceback (most recent call last):\n",
      "Exception in thread   File \"c:\\Users\\kylene.cooley\\AppData\\Local\\anaconda3\\envs\\qartod_test\\Lib\\threading.py\", line 1038, in _bootstrap_inner\n",
      "Thread-24Exception in thread :\n",
      "Exception in thread     self.run()Thread-20Traceback (most recent call last):\n",
      "\n",
      ":\n",
      "  File \"c:\\Users\\kylene.cooley\\AppData\\Local\\anaconda3\\envs\\qartod_test\\Lib\\threading.py\", line 1038, in _bootstrap_inner\n",
      "Thread-21Traceback (most recent call last):\n",
      "  File \"C:\\Users\\kylene.cooley\\Documents\\GitHub\\OOINet\\ooinet\\Download.py\", line 60, in run\n",
      ":\n",
      "  File \"c:\\Users\\kylene.cooley\\AppData\\Local\\anaconda3\\envs\\qartod_test\\Lib\\threading.py\", line 1038, in _bootstrap_inner\n",
      "Traceback (most recent call last):\n",
      "          File \"c:\\Users\\kylene.cooley\\AppData\\Local\\anaconda3\\envs\\qartod_test\\Lib\\threading.py\", line 1038, in _bootstrap_inner\n",
      "    download_file(directory, link)self.run()\n",
      "\n",
      "self.run()  File \"C:\\Users\\kylene.cooley\\Documents\\GitHub\\OOINet\\ooinet\\Download.py\", line 30, in download_file\n",
      "\n",
      "  File \"C:\\Users\\kylene.cooley\\Documents\\GitHub\\OOINet\\ooinet\\Download.py\", line 60, in run\n",
      "      File \"C:\\Users\\kylene.cooley\\Documents\\GitHub\\OOINet\\ooinet\\Download.py\", line 60, in run\n",
      "self.run()        \n",
      "  File \"C:\\Users\\kylene.cooley\\Documents\\GitHub\\OOINet\\ooinet\\Download.py\", line 60, in run\n",
      "urlretrieve(link, download_path)download_file(directory, link)\n",
      "    \n",
      "      File \"C:\\Users\\kylene.cooley\\Documents\\GitHub\\OOINet\\ooinet\\Download.py\", line 30, in download_file\n",
      "download_file(directory, link)  File \"c:\\Users\\kylene.cooley\\AppData\\Local\\anaconda3\\envs\\qartod_test\\Lib\\urllib\\request.py\", line 251, in urlretrieve\n",
      "download_file(directory, link)\n",
      "\n",
      "      File \"C:\\Users\\kylene.cooley\\Documents\\GitHub\\OOINet\\ooinet\\Download.py\", line 30, in download_file\n",
      "      File \"C:\\Users\\kylene.cooley\\Documents\\GitHub\\OOINet\\ooinet\\Download.py\", line 30, in download_file\n",
      "urlretrieve(link, download_path)tfp = open(filename, 'wb')\n",
      "      File \"c:\\Users\\kylene.cooley\\AppData\\Local\\anaconda3\\envs\\qartod_test\\Lib\\urllib\\request.py\", line 251, in urlretrieve\n",
      "\n",
      "     urlretrieve(link, download_path)urlretrieve(link, download_path) \n",
      "\n",
      "      File \"c:\\Users\\kylene.cooley\\AppData\\Local\\anaconda3\\envs\\qartod_test\\Lib\\urllib\\request.py\", line 251, in urlretrieve\n",
      "tfp = open(filename, 'wb')  File \"c:\\Users\\kylene.cooley\\AppData\\Local\\anaconda3\\envs\\qartod_test\\Lib\\urllib\\request.py\", line 251, in urlretrieve\n",
      " \n",
      "           tfp = open(filename, 'wb')  tfp = open(filename, 'wb')\n",
      " \n",
      "             ^  ^     ^  ^  ^^  ^ ^ ^ ^ ^ ^^^^^^^^^^^^^^^^^^^^^^^^^^^^^^^^^^^^^^^^^^^^^^\n",
      "^^^^FileNotFoundError^^: ^^^^[Errno 2] No such file or directory: 'c:\\\\Users\\\\kylene.cooley\\\\Documents\\\\GitHub\\\\qartod_testing\\\\data\\\\external\\\\recovered_inst\\\\ctdbp_cdef_instrument_recovered\\\\CP01CNSM-RID27-03-CTDBPC000\\\\deployment0010_CP01CNSM-RID27-03-CTDBPC000-recovered_inst-ctdbp_cdef_instrument_recovered_20181030T014808-20190407T131809.nc'^^^\n",
      "^\n",
      "^^FileNotFoundError^: ^[Errno 2] No such file or directory: 'c:\\\\Users\\\\kylene.cooley\\\\Documents\\\\GitHub\\\\qartod_testing\\\\data\\\\external\\\\recovered_inst\\\\ctdbp_cdef_instrument_recovered\\\\CP01CNSM-RID27-03-CTDBPC000\\\\deployment0008_CP01CNSM-RID27-03-CTDBPC000-recovered_inst-ctdbp_cdef_instrument_recovered_20171029T141519-20180329T190320.nc'^^\n",
      "^^FileNotFoundError\n",
      "^: \n",
      "[Errno 2] No such file or directory: 'c:\\\\Users\\\\kylene.cooley\\\\Documents\\\\GitHub\\\\qartod_testing\\\\data\\\\external\\\\recovered_inst\\\\ctdbp_cdef_instrument_recovered\\\\CP01CNSM-RID27-03-CTDBPC000\\\\deployment0011_CP01CNSM-RID27-03-CTDBPC000-recovered_inst-ctdbp_cdef_instrument_recovered_20190406T144517-20190926T161808.nc'FileNotFoundError\n",
      ": [Errno 2] No such file or directory: 'c:\\\\Users\\\\kylene.cooley\\\\Documents\\\\GitHub\\\\qartod_testing\\\\data\\\\external\\\\recovered_inst\\\\ctdbp_cdef_instrument_recovered\\\\CP01CNSM-RID27-03-CTDBPC000\\\\deployment0001_CP01CNSM-RID27-03-CTDBPC000-recovered_inst-ctdbp_cdef_instrument_recovered_20131121T181601-20140217T132711.nc'\n",
      "Exception in thread Thread-29:\n",
      "Traceback (most recent call last):\n",
      "  File \"c:\\Users\\kylene.cooley\\AppData\\Local\\anaconda3\\envs\\qartod_test\\Lib\\threading.py\", line 1038, in _bootstrap_inner\n",
      "    self.run()\n",
      "  File \"C:\\Users\\kylene.cooley\\Documents\\GitHub\\OOINet\\ooinet\\Download.py\", line 60, in run\n",
      "    download_file(directory, link)\n",
      "  File \"C:\\Users\\kylene.cooley\\Documents\\GitHub\\OOINet\\ooinet\\Download.py\", line 30, in download_file\n",
      "    urlretrieve(link, download_path)\n",
      "  File \"c:\\Users\\kylene.cooley\\AppData\\Local\\anaconda3\\envs\\qartod_test\\Lib\\urllib\\request.py\", line 251, in urlretrieve\n",
      "    tfp = open(filename, 'wb')\n",
      "          ^^^^^^^^^^^^^^^^^^^^\n",
      "FileNotFoundError: [Errno 2] No such file or directory: 'c:\\\\Users\\\\kylene.cooley\\\\Documents\\\\GitHub\\\\qartod_testing\\\\data\\\\external\\\\recovered_inst\\\\ctdbp_cdef_instrument_recovered\\\\CP01CNSM-RID27-03-CTDBPC000\\\\deployment0009_CP01CNSM-RID27-03-CTDBPC000-recovered_inst-ctdbp_cdef_instrument_recovered_20180324T213207-20180502T203844.nc'\n"
     ]
    }
   ],
   "source": [
    "M2M.download_netCDF_files(sensor_files, goldCopy=True, saveDir=folder_path)"
   ]
  },
  {
   "attachments": {},
   "cell_type": "markdown",
   "id": "707c9956",
   "metadata": {},
   "source": [
    "#### Try same process as dev1 data download"
   ]
  },
  {
   "cell_type": "code",
   "execution_count": 3,
   "id": "45d88a94",
   "metadata": {},
   "outputs": [
    {
     "ename": "JSONDecodeError",
     "evalue": "Expecting value: line 1 column 1 (char 0)",
     "output_type": "error",
     "traceback": [
      "\u001b[1;31m---------------------------------------------------------------------------\u001b[0m",
      "\u001b[1;31mJSONDecodeError\u001b[0m                           Traceback (most recent call last)",
      "File \u001b[1;32mc:\\Users\\kylene.cooley\\AppData\\Local\\anaconda3\\envs\\qartod_test\\Lib\\site-packages\\requests\\models.py:971\u001b[0m, in \u001b[0;36mResponse.json\u001b[1;34m(self, **kwargs)\u001b[0m\n\u001b[0;32m    970\u001b[0m \u001b[39mtry\u001b[39;00m:\n\u001b[1;32m--> 971\u001b[0m     \u001b[39mreturn\u001b[39;00m complexjson\u001b[39m.\u001b[39mloads(\u001b[39mself\u001b[39m\u001b[39m.\u001b[39mtext, \u001b[39m*\u001b[39m\u001b[39m*\u001b[39mkwargs)\n\u001b[0;32m    972\u001b[0m \u001b[39mexcept\u001b[39;00m JSONDecodeError \u001b[39mas\u001b[39;00m e:\n\u001b[0;32m    973\u001b[0m     \u001b[39m# Catch JSON-related errors and raise as requests.JSONDecodeError\u001b[39;00m\n\u001b[0;32m    974\u001b[0m     \u001b[39m# This aliases json.JSONDecodeError and simplejson.JSONDecodeError\u001b[39;00m\n",
      "File \u001b[1;32mc:\\Users\\kylene.cooley\\AppData\\Local\\anaconda3\\envs\\qartod_test\\Lib\\json\\__init__.py:346\u001b[0m, in \u001b[0;36mloads\u001b[1;34m(s, cls, object_hook, parse_float, parse_int, parse_constant, object_pairs_hook, **kw)\u001b[0m\n\u001b[0;32m    343\u001b[0m \u001b[39mif\u001b[39;00m (\u001b[39mcls\u001b[39m \u001b[39mis\u001b[39;00m \u001b[39mNone\u001b[39;00m \u001b[39mand\u001b[39;00m object_hook \u001b[39mis\u001b[39;00m \u001b[39mNone\u001b[39;00m \u001b[39mand\u001b[39;00m\n\u001b[0;32m    344\u001b[0m         parse_int \u001b[39mis\u001b[39;00m \u001b[39mNone\u001b[39;00m \u001b[39mand\u001b[39;00m parse_float \u001b[39mis\u001b[39;00m \u001b[39mNone\u001b[39;00m \u001b[39mand\u001b[39;00m\n\u001b[0;32m    345\u001b[0m         parse_constant \u001b[39mis\u001b[39;00m \u001b[39mNone\u001b[39;00m \u001b[39mand\u001b[39;00m object_pairs_hook \u001b[39mis\u001b[39;00m \u001b[39mNone\u001b[39;00m \u001b[39mand\u001b[39;00m \u001b[39mnot\u001b[39;00m kw):\n\u001b[1;32m--> 346\u001b[0m     \u001b[39mreturn\u001b[39;00m _default_decoder\u001b[39m.\u001b[39mdecode(s)\n\u001b[0;32m    347\u001b[0m \u001b[39mif\u001b[39;00m \u001b[39mcls\u001b[39m \u001b[39mis\u001b[39;00m \u001b[39mNone\u001b[39;00m:\n",
      "File \u001b[1;32mc:\\Users\\kylene.cooley\\AppData\\Local\\anaconda3\\envs\\qartod_test\\Lib\\json\\decoder.py:337\u001b[0m, in \u001b[0;36mJSONDecoder.decode\u001b[1;34m(self, s, _w)\u001b[0m\n\u001b[0;32m    333\u001b[0m \u001b[39m\u001b[39m\u001b[39m\"\"\"Return the Python representation of ``s`` (a ``str`` instance\u001b[39;00m\n\u001b[0;32m    334\u001b[0m \u001b[39mcontaining a JSON document).\u001b[39;00m\n\u001b[0;32m    335\u001b[0m \n\u001b[0;32m    336\u001b[0m \u001b[39m\"\"\"\u001b[39;00m\n\u001b[1;32m--> 337\u001b[0m obj, end \u001b[39m=\u001b[39m \u001b[39mself\u001b[39m\u001b[39m.\u001b[39mraw_decode(s, idx\u001b[39m=\u001b[39m_w(s, \u001b[39m0\u001b[39m)\u001b[39m.\u001b[39mend())\n\u001b[0;32m    338\u001b[0m end \u001b[39m=\u001b[39m _w(s, end)\u001b[39m.\u001b[39mend()\n",
      "File \u001b[1;32mc:\\Users\\kylene.cooley\\AppData\\Local\\anaconda3\\envs\\qartod_test\\Lib\\json\\decoder.py:355\u001b[0m, in \u001b[0;36mJSONDecoder.raw_decode\u001b[1;34m(self, s, idx)\u001b[0m\n\u001b[0;32m    354\u001b[0m \u001b[39mexcept\u001b[39;00m \u001b[39mStopIteration\u001b[39;00m \u001b[39mas\u001b[39;00m err:\n\u001b[1;32m--> 355\u001b[0m     \u001b[39mraise\u001b[39;00m JSONDecodeError(\u001b[39m\"\u001b[39m\u001b[39mExpecting value\u001b[39m\u001b[39m\"\u001b[39m, s, err\u001b[39m.\u001b[39mvalue) \u001b[39mfrom\u001b[39;00m \u001b[39mNone\u001b[39;00m\n\u001b[0;32m    356\u001b[0m \u001b[39mreturn\u001b[39;00m obj, end\n",
      "\u001b[1;31mJSONDecodeError\u001b[0m: Expecting value: line 1 column 1 (char 0)",
      "\nDuring handling of the above exception, another exception occurred:\n",
      "\u001b[1;31mJSONDecodeError\u001b[0m                           Traceback (most recent call last)",
      "Cell \u001b[1;32mIn[3], line 14\u001b[0m\n\u001b[0;32m     12\u001b[0m \u001b[39m# Build and send the data request\u001b[39;00m\n\u001b[0;32m     13\u001b[0m r \u001b[39m=\u001b[39m requests\u001b[39m.\u001b[39mget(data_request_url, auth\u001b[39m=\u001b[39m(login, password))\n\u001b[1;32m---> 14\u001b[0m data_request \u001b[39m=\u001b[39m r\u001b[39m.\u001b[39mjson()\n",
      "File \u001b[1;32mc:\\Users\\kylene.cooley\\AppData\\Local\\anaconda3\\envs\\qartod_test\\Lib\\site-packages\\requests\\models.py:975\u001b[0m, in \u001b[0;36mResponse.json\u001b[1;34m(self, **kwargs)\u001b[0m\n\u001b[0;32m    971\u001b[0m     \u001b[39mreturn\u001b[39;00m complexjson\u001b[39m.\u001b[39mloads(\u001b[39mself\u001b[39m\u001b[39m.\u001b[39mtext, \u001b[39m*\u001b[39m\u001b[39m*\u001b[39mkwargs)\n\u001b[0;32m    972\u001b[0m \u001b[39mexcept\u001b[39;00m JSONDecodeError \u001b[39mas\u001b[39;00m e:\n\u001b[0;32m    973\u001b[0m     \u001b[39m# Catch JSON-related errors and raise as requests.JSONDecodeError\u001b[39;00m\n\u001b[0;32m    974\u001b[0m     \u001b[39m# This aliases json.JSONDecodeError and simplejson.JSONDecodeError\u001b[39;00m\n\u001b[1;32m--> 975\u001b[0m     \u001b[39mraise\u001b[39;00m RequestsJSONDecodeError(e\u001b[39m.\u001b[39mmsg, e\u001b[39m.\u001b[39mdoc, e\u001b[39m.\u001b[39mpos)\n",
      "\u001b[1;31mJSONDecodeError\u001b[0m: Expecting value: line 1 column 1 (char 0)"
     ]
    }
   ],
   "source": [
    "# Use the Dev1 data catalog URL for the request\n",
    "api_base_url = M2M.URLS['goldCopy_dodsC']\n",
    "api_base_url = re.sub(\"https\", \"http\", api_base_url) \n",
    "\n",
    "# Use the fileServer URL for downloading data files from the thredds server\n",
    "tds_url = M2M.URLS['goldCopy_fileServer']\n",
    "tds_url = re.sub(\"https\", \"http\", tds_url) \n",
    "\n",
    "# Create the request URL\n",
    "data_request_url =''.join((api_base_url,'-'.join((site,node,sensor,method,stream))))\n",
    "\n",
    "# Build and send the data request\n",
    "r = requests.get(data_request_url, auth=(login, password))\n",
    "data_request = r.json()"
   ]
  },
  {
   "cell_type": "code",
   "execution_count": 47,
   "id": "399a595f",
   "metadata": {},
   "outputs": [
    {
     "data": {
      "text/plain": [
       "'http://thredds.dataexplorer.oceanobservatories.org/thredds/dodsC/'"
      ]
     },
     "execution_count": 47,
     "metadata": {},
     "output_type": "execute_result"
    }
   ],
   "source": [
    "api_base_url"
   ]
  },
  {
   "cell_type": "code",
   "execution_count": 48,
   "id": "404902d0",
   "metadata": {},
   "outputs": [
    {
     "data": {
      "text/plain": [
       "'http://thredds.dataexplorer.oceanobservatories.org/thredds/dodsC/CP01CNSM-RID27-03-CTDBPC000-recovered_inst-ctdbp_cdef_instrument_recovered'"
      ]
     },
     "execution_count": 48,
     "metadata": {},
     "output_type": "execute_result"
    }
   ],
   "source": [
    "data_request_url"
   ]
  },
  {
   "cell_type": "code",
   "execution_count": 37,
   "id": "7c069d28",
   "metadata": {},
   "outputs": [
    {
     "data": {
      "text/plain": [
       "b'Error {\\n    code = 400;\\n    message = \"Unrecognized request\";\\n};\\n'"
      ]
     },
     "execution_count": 37,
     "metadata": {},
     "output_type": "execute_result"
    }
   ],
   "source": [
    "# Checking contents of request \n",
    "r.content"
   ]
  },
  {
   "attachments": {},
   "cell_type": "markdown",
   "id": "bd5e9a10",
   "metadata": {},
   "source": [
    "#### Using some M2M module and some xarray \n",
    "\n",
    "Xarray would be used at the step where we download the data once the request is successful, but so far my attempts have failed before I can try downloading any data."
   ]
  },
  {
   "cell_type": "code",
   "execution_count": 3,
   "id": "38249131",
   "metadata": {},
   "outputs": [
    {
     "name": "stderr",
     "output_type": "stream",
     "text": [
      "Downloading and Processing Data Files:   0%|          | 0/2 [00:10<?, ?it/s]\n"
     ]
    },
    {
     "ename": "PermissionError",
     "evalue": "[Errno 13] Permission denied: b'c:\\\\Users\\\\kylene.cooley\\\\Documents\\\\GitHub\\\\qartod_testing\\\\data\\\\external\\\\recovered_inst\\\\ctdbp_cdef_instrument_recovered\\\\GA01SUMO-RII11-02-CTDBPP032\\\\deployment0002_GA01SUMO-RII11-02-CTDBPP032-recovered_inst-ctdbp_cdef_instrument_recovered_20151114T220003-20160606T220003.nc'",
     "output_type": "error",
     "traceback": [
      "\u001b[1;31m---------------------------------------------------------------------------\u001b[0m",
      "\u001b[1;31mKeyError\u001b[0m                                  Traceback (most recent call last)",
      "File \u001b[1;32mc:\\Users\\kylene.cooley\\AppData\\Local\\anaconda3\\envs\\qartod_test\\Lib\\site-packages\\xarray\\backends\\file_manager.py:209\u001b[0m, in \u001b[0;36mCachingFileManager._acquire_with_cache_info\u001b[1;34m(self, needs_lock)\u001b[0m\n\u001b[0;32m    208\u001b[0m \u001b[39mtry\u001b[39;00m:\n\u001b[1;32m--> 209\u001b[0m     file \u001b[39m=\u001b[39m \u001b[39mself\u001b[39m\u001b[39m.\u001b[39m_cache[\u001b[39mself\u001b[39m\u001b[39m.\u001b[39m_key]\n\u001b[0;32m    210\u001b[0m \u001b[39mexcept\u001b[39;00m \u001b[39mKeyError\u001b[39;00m:\n",
      "File \u001b[1;32mc:\\Users\\kylene.cooley\\AppData\\Local\\anaconda3\\envs\\qartod_test\\Lib\\site-packages\\xarray\\backends\\lru_cache.py:55\u001b[0m, in \u001b[0;36mLRUCache.__getitem__\u001b[1;34m(self, key)\u001b[0m\n\u001b[0;32m     54\u001b[0m \u001b[39mwith\u001b[39;00m \u001b[39mself\u001b[39m\u001b[39m.\u001b[39m_lock:\n\u001b[1;32m---> 55\u001b[0m     value \u001b[39m=\u001b[39m \u001b[39mself\u001b[39m\u001b[39m.\u001b[39m_cache[key]\n\u001b[0;32m     56\u001b[0m     \u001b[39mself\u001b[39m\u001b[39m.\u001b[39m_cache\u001b[39m.\u001b[39mmove_to_end(key)\n",
      "\u001b[1;31mKeyError\u001b[0m: [<class 'netCDF4._netCDF4.Dataset'>, ('c:\\\\Users\\\\kylene.cooley\\\\Documents\\\\GitHub\\\\qartod_testing\\\\data\\\\external\\\\recovered_inst\\\\ctdbp_cdef_instrument_recovered\\\\GA01SUMO-RII11-02-CTDBPP032\\\\deployment0002_GA01SUMO-RII11-02-CTDBPP032-recovered_inst-ctdbp_cdef_instrument_recovered_20151114T220003-20160606T220003.nc',), 'a', (('clobber', True), ('diskless', False), ('format', 'NETCDF4'), ('persist', False)), '785759b2-338e-4131-af56-2d7cd58c7fc8']",
      "\nDuring handling of the above exception, another exception occurred:\n",
      "\u001b[1;31mPermissionError\u001b[0m                           Traceback (most recent call last)",
      "Cell \u001b[1;32mIn[3], line 3\u001b[0m\n\u001b[0;32m      1\u001b[0m \u001b[39m# Routine in data_processing module from this project to download the gold copy THREDDs datasets\u001b[39;00m\n\u001b[1;32m----> 3\u001b[0m files \u001b[39m=\u001b[39m dp\u001b[39m.\u001b[39mooinet_gold_copy_request(refdes, method, stream)\n",
      "File \u001b[1;32m~\\Documents\\GitHub\\qartod_testing\\qartod_testing\\data_processing.py:123\u001b[0m, in \u001b[0;36mooinet_gold_copy_request\u001b[1;34m(refdes, method, stream, use_dask)\u001b[0m\n\u001b[0;32m    121\u001b[0m     file_path \u001b[39m=\u001b[39m os\u001b[39m.\u001b[39mpath\u001b[39m.\u001b[39mjoin(folder_path, file_name)\n\u001b[0;32m    122\u001b[0m     \u001b[39m# file_path = re.sub('c', 'C', file_path, 1)\u001b[39;00m\n\u001b[1;32m--> 123\u001b[0m     ds\u001b[39m.\u001b[39mto_netcdf(file_path)\n\u001b[0;32m    124\u001b[0m \u001b[39melse\u001b[39;00m:\n\u001b[0;32m    125\u001b[0m     \u001b[39mprint\u001b[39m(\u001b[39m\"\u001b[39m\u001b[39mbad request\u001b[39m\u001b[39m\"\u001b[39m)\n",
      "File \u001b[1;32mc:\\Users\\kylene.cooley\\AppData\\Local\\anaconda3\\envs\\qartod_test\\Lib\\site-packages\\xarray\\core\\dataset.py:1903\u001b[0m, in \u001b[0;36mDataset.to_netcdf\u001b[1;34m(self, path, mode, format, group, engine, encoding, unlimited_dims, compute, invalid_netcdf)\u001b[0m\n\u001b[0;32m   1900\u001b[0m     encoding \u001b[39m=\u001b[39m {}\n\u001b[0;32m   1901\u001b[0m \u001b[39mfrom\u001b[39;00m \u001b[39m.\u001b[39;00m\u001b[39m.\u001b[39;00m\u001b[39mbackends\u001b[39;00m\u001b[39m.\u001b[39;00m\u001b[39mapi\u001b[39;00m \u001b[39mimport\u001b[39;00m to_netcdf\n\u001b[1;32m-> 1903\u001b[0m \u001b[39mreturn\u001b[39;00m to_netcdf(  \u001b[39m# type: ignore  # mypy cannot resolve the overloads:(\u001b[39;00m\n\u001b[0;32m   1904\u001b[0m     \u001b[39mself\u001b[39m,\n\u001b[0;32m   1905\u001b[0m     path,\n\u001b[0;32m   1906\u001b[0m     mode\u001b[39m=\u001b[39mmode,\n\u001b[0;32m   1907\u001b[0m     \u001b[39mformat\u001b[39m\u001b[39m=\u001b[39m\u001b[39mformat\u001b[39m,\n\u001b[0;32m   1908\u001b[0m     group\u001b[39m=\u001b[39mgroup,\n\u001b[0;32m   1909\u001b[0m     engine\u001b[39m=\u001b[39mengine,\n\u001b[0;32m   1910\u001b[0m     encoding\u001b[39m=\u001b[39mencoding,\n\u001b[0;32m   1911\u001b[0m     unlimited_dims\u001b[39m=\u001b[39munlimited_dims,\n\u001b[0;32m   1912\u001b[0m     compute\u001b[39m=\u001b[39mcompute,\n\u001b[0;32m   1913\u001b[0m     multifile\u001b[39m=\u001b[39m\u001b[39mFalse\u001b[39;00m,\n\u001b[0;32m   1914\u001b[0m     invalid_netcdf\u001b[39m=\u001b[39minvalid_netcdf,\n\u001b[0;32m   1915\u001b[0m )\n",
      "File \u001b[1;32mc:\\Users\\kylene.cooley\\AppData\\Local\\anaconda3\\envs\\qartod_test\\Lib\\site-packages\\xarray\\backends\\api.py:1213\u001b[0m, in \u001b[0;36mto_netcdf\u001b[1;34m(dataset, path_or_file, mode, format, group, engine, encoding, unlimited_dims, compute, multifile, invalid_netcdf)\u001b[0m\n\u001b[0;32m   1209\u001b[0m     \u001b[39melse\u001b[39;00m:\n\u001b[0;32m   1210\u001b[0m         \u001b[39mraise\u001b[39;00m \u001b[39mValueError\u001b[39;00m(\n\u001b[0;32m   1211\u001b[0m             \u001b[39mf\u001b[39m\u001b[39m\"\u001b[39m\u001b[39munrecognized option \u001b[39m\u001b[39m'\u001b[39m\u001b[39minvalid_netcdf\u001b[39m\u001b[39m'\u001b[39m\u001b[39m for engine \u001b[39m\u001b[39m{\u001b[39;00mengine\u001b[39m}\u001b[39;00m\u001b[39m\"\u001b[39m\n\u001b[0;32m   1212\u001b[0m         )\n\u001b[1;32m-> 1213\u001b[0m store \u001b[39m=\u001b[39m store_open(target, mode, \u001b[39mformat\u001b[39m, group, \u001b[39m*\u001b[39m\u001b[39m*\u001b[39mkwargs)\n\u001b[0;32m   1215\u001b[0m \u001b[39mif\u001b[39;00m unlimited_dims \u001b[39mis\u001b[39;00m \u001b[39mNone\u001b[39;00m:\n\u001b[0;32m   1216\u001b[0m     unlimited_dims \u001b[39m=\u001b[39m dataset\u001b[39m.\u001b[39mencoding\u001b[39m.\u001b[39mget(\u001b[39m\"\u001b[39m\u001b[39munlimited_dims\u001b[39m\u001b[39m\"\u001b[39m, \u001b[39mNone\u001b[39;00m)\n",
      "File \u001b[1;32mc:\\Users\\kylene.cooley\\AppData\\Local\\anaconda3\\envs\\qartod_test\\Lib\\site-packages\\xarray\\backends\\netCDF4_.py:376\u001b[0m, in \u001b[0;36mNetCDF4DataStore.open\u001b[1;34m(cls, filename, mode, format, group, clobber, diskless, persist, lock, lock_maker, autoclose)\u001b[0m\n\u001b[0;32m    370\u001b[0m kwargs \u001b[39m=\u001b[39m \u001b[39mdict\u001b[39m(\n\u001b[0;32m    371\u001b[0m     clobber\u001b[39m=\u001b[39mclobber, diskless\u001b[39m=\u001b[39mdiskless, persist\u001b[39m=\u001b[39mpersist, \u001b[39mformat\u001b[39m\u001b[39m=\u001b[39m\u001b[39mformat\u001b[39m\n\u001b[0;32m    372\u001b[0m )\n\u001b[0;32m    373\u001b[0m manager \u001b[39m=\u001b[39m CachingFileManager(\n\u001b[0;32m    374\u001b[0m     netCDF4\u001b[39m.\u001b[39mDataset, filename, mode\u001b[39m=\u001b[39mmode, kwargs\u001b[39m=\u001b[39mkwargs\n\u001b[0;32m    375\u001b[0m )\n\u001b[1;32m--> 376\u001b[0m \u001b[39mreturn\u001b[39;00m \u001b[39mcls\u001b[39m(manager, group\u001b[39m=\u001b[39mgroup, mode\u001b[39m=\u001b[39mmode, lock\u001b[39m=\u001b[39mlock, autoclose\u001b[39m=\u001b[39mautoclose)\n",
      "File \u001b[1;32mc:\\Users\\kylene.cooley\\AppData\\Local\\anaconda3\\envs\\qartod_test\\Lib\\site-packages\\xarray\\backends\\netCDF4_.py:323\u001b[0m, in \u001b[0;36mNetCDF4DataStore.__init__\u001b[1;34m(self, manager, group, mode, lock, autoclose)\u001b[0m\n\u001b[0;32m    321\u001b[0m \u001b[39mself\u001b[39m\u001b[39m.\u001b[39m_group \u001b[39m=\u001b[39m group\n\u001b[0;32m    322\u001b[0m \u001b[39mself\u001b[39m\u001b[39m.\u001b[39m_mode \u001b[39m=\u001b[39m mode\n\u001b[1;32m--> 323\u001b[0m \u001b[39mself\u001b[39m\u001b[39m.\u001b[39mformat \u001b[39m=\u001b[39m \u001b[39mself\u001b[39m\u001b[39m.\u001b[39mds\u001b[39m.\u001b[39mdata_model\n\u001b[0;32m    324\u001b[0m \u001b[39mself\u001b[39m\u001b[39m.\u001b[39m_filename \u001b[39m=\u001b[39m \u001b[39mself\u001b[39m\u001b[39m.\u001b[39mds\u001b[39m.\u001b[39mfilepath()\n\u001b[0;32m    325\u001b[0m \u001b[39mself\u001b[39m\u001b[39m.\u001b[39mis_remote \u001b[39m=\u001b[39m is_remote_uri(\u001b[39mself\u001b[39m\u001b[39m.\u001b[39m_filename)\n",
      "File \u001b[1;32mc:\\Users\\kylene.cooley\\AppData\\Local\\anaconda3\\envs\\qartod_test\\Lib\\site-packages\\xarray\\backends\\netCDF4_.py:385\u001b[0m, in \u001b[0;36mNetCDF4DataStore.ds\u001b[1;34m(self)\u001b[0m\n\u001b[0;32m    383\u001b[0m \u001b[39m@property\u001b[39m\n\u001b[0;32m    384\u001b[0m \u001b[39mdef\u001b[39;00m \u001b[39mds\u001b[39m(\u001b[39mself\u001b[39m):\n\u001b[1;32m--> 385\u001b[0m     \u001b[39mreturn\u001b[39;00m \u001b[39mself\u001b[39m\u001b[39m.\u001b[39m_acquire()\n",
      "File \u001b[1;32mc:\\Users\\kylene.cooley\\AppData\\Local\\anaconda3\\envs\\qartod_test\\Lib\\site-packages\\xarray\\backends\\netCDF4_.py:379\u001b[0m, in \u001b[0;36mNetCDF4DataStore._acquire\u001b[1;34m(self, needs_lock)\u001b[0m\n\u001b[0;32m    378\u001b[0m \u001b[39mdef\u001b[39;00m \u001b[39m_acquire\u001b[39m(\u001b[39mself\u001b[39m, needs_lock\u001b[39m=\u001b[39m\u001b[39mTrue\u001b[39;00m):\n\u001b[1;32m--> 379\u001b[0m     \u001b[39mwith\u001b[39;00m \u001b[39mself\u001b[39m\u001b[39m.\u001b[39m_manager\u001b[39m.\u001b[39macquire_context(needs_lock) \u001b[39mas\u001b[39;00m root:\n\u001b[0;32m    380\u001b[0m         ds \u001b[39m=\u001b[39m _nc4_require_group(root, \u001b[39mself\u001b[39m\u001b[39m.\u001b[39m_group, \u001b[39mself\u001b[39m\u001b[39m.\u001b[39m_mode)\n\u001b[0;32m    381\u001b[0m     \u001b[39mreturn\u001b[39;00m ds\n",
      "File \u001b[1;32mc:\\Users\\kylene.cooley\\AppData\\Local\\anaconda3\\envs\\qartod_test\\Lib\\contextlib.py:137\u001b[0m, in \u001b[0;36m_GeneratorContextManager.__enter__\u001b[1;34m(self)\u001b[0m\n\u001b[0;32m    135\u001b[0m \u001b[39mdel\u001b[39;00m \u001b[39mself\u001b[39m\u001b[39m.\u001b[39margs, \u001b[39mself\u001b[39m\u001b[39m.\u001b[39mkwds, \u001b[39mself\u001b[39m\u001b[39m.\u001b[39mfunc\n\u001b[0;32m    136\u001b[0m \u001b[39mtry\u001b[39;00m:\n\u001b[1;32m--> 137\u001b[0m     \u001b[39mreturn\u001b[39;00m \u001b[39mnext\u001b[39m(\u001b[39mself\u001b[39m\u001b[39m.\u001b[39mgen)\n\u001b[0;32m    138\u001b[0m \u001b[39mexcept\u001b[39;00m \u001b[39mStopIteration\u001b[39;00m:\n\u001b[0;32m    139\u001b[0m     \u001b[39mraise\u001b[39;00m \u001b[39mRuntimeError\u001b[39;00m(\u001b[39m\"\u001b[39m\u001b[39mgenerator didn\u001b[39m\u001b[39m'\u001b[39m\u001b[39mt yield\u001b[39m\u001b[39m\"\u001b[39m) \u001b[39mfrom\u001b[39;00m \u001b[39mNone\u001b[39;00m\n",
      "File \u001b[1;32mc:\\Users\\kylene.cooley\\AppData\\Local\\anaconda3\\envs\\qartod_test\\Lib\\site-packages\\xarray\\backends\\file_manager.py:197\u001b[0m, in \u001b[0;36mCachingFileManager.acquire_context\u001b[1;34m(self, needs_lock)\u001b[0m\n\u001b[0;32m    194\u001b[0m \u001b[39m@contextlib\u001b[39m\u001b[39m.\u001b[39mcontextmanager\n\u001b[0;32m    195\u001b[0m \u001b[39mdef\u001b[39;00m \u001b[39macquire_context\u001b[39m(\u001b[39mself\u001b[39m, needs_lock\u001b[39m=\u001b[39m\u001b[39mTrue\u001b[39;00m):\n\u001b[0;32m    196\u001b[0m \u001b[39m    \u001b[39m\u001b[39m\"\"\"Context manager for acquiring a file.\"\"\"\u001b[39;00m\n\u001b[1;32m--> 197\u001b[0m     file, cached \u001b[39m=\u001b[39m \u001b[39mself\u001b[39m\u001b[39m.\u001b[39m_acquire_with_cache_info(needs_lock)\n\u001b[0;32m    198\u001b[0m     \u001b[39mtry\u001b[39;00m:\n\u001b[0;32m    199\u001b[0m         \u001b[39myield\u001b[39;00m file\n",
      "File \u001b[1;32mc:\\Users\\kylene.cooley\\AppData\\Local\\anaconda3\\envs\\qartod_test\\Lib\\site-packages\\xarray\\backends\\file_manager.py:215\u001b[0m, in \u001b[0;36mCachingFileManager._acquire_with_cache_info\u001b[1;34m(self, needs_lock)\u001b[0m\n\u001b[0;32m    213\u001b[0m     kwargs \u001b[39m=\u001b[39m kwargs\u001b[39m.\u001b[39mcopy()\n\u001b[0;32m    214\u001b[0m     kwargs[\u001b[39m\"\u001b[39m\u001b[39mmode\u001b[39m\u001b[39m\"\u001b[39m] \u001b[39m=\u001b[39m \u001b[39mself\u001b[39m\u001b[39m.\u001b[39m_mode\n\u001b[1;32m--> 215\u001b[0m file \u001b[39m=\u001b[39m \u001b[39mself\u001b[39m\u001b[39m.\u001b[39m_opener(\u001b[39m*\u001b[39m\u001b[39mself\u001b[39m\u001b[39m.\u001b[39m_args, \u001b[39m*\u001b[39m\u001b[39m*\u001b[39mkwargs)\n\u001b[0;32m    216\u001b[0m \u001b[39mif\u001b[39;00m \u001b[39mself\u001b[39m\u001b[39m.\u001b[39m_mode \u001b[39m==\u001b[39m \u001b[39m\"\u001b[39m\u001b[39mw\u001b[39m\u001b[39m\"\u001b[39m:\n\u001b[0;32m    217\u001b[0m     \u001b[39m# ensure file doesn't get overridden when opened again\u001b[39;00m\n\u001b[0;32m    218\u001b[0m     \u001b[39mself\u001b[39m\u001b[39m.\u001b[39m_mode \u001b[39m=\u001b[39m \u001b[39m\"\u001b[39m\u001b[39ma\u001b[39m\u001b[39m\"\u001b[39m\n",
      "File \u001b[1;32msrc\\netCDF4\\_netCDF4.pyx:2463\u001b[0m, in \u001b[0;36mnetCDF4._netCDF4.Dataset.__init__\u001b[1;34m()\u001b[0m\n",
      "File \u001b[1;32msrc\\netCDF4\\_netCDF4.pyx:2026\u001b[0m, in \u001b[0;36mnetCDF4._netCDF4._ensure_nc_success\u001b[1;34m()\u001b[0m\n",
      "\u001b[1;31mPermissionError\u001b[0m: [Errno 13] Permission denied: b'c:\\\\Users\\\\kylene.cooley\\\\Documents\\\\GitHub\\\\qartod_testing\\\\data\\\\external\\\\recovered_inst\\\\ctdbp_cdef_instrument_recovered\\\\GA01SUMO-RII11-02-CTDBPP032\\\\deployment0002_GA01SUMO-RII11-02-CTDBPP032-recovered_inst-ctdbp_cdef_instrument_recovered_20151114T220003-20160606T220003.nc'"
     ]
    }
   ],
   "source": [
    "# Routine in data_processing module from this project to download the gold copy THREDDs datasets\n",
    "\n",
    "files = dp.ooinet_gold_copy_request(refdes, method, stream)"
   ]
  },
  {
   "cell_type": "code",
   "execution_count": 5,
   "id": "33fef1ce",
   "metadata": {},
   "outputs": [
    {
     "name": "stdout",
     "output_type": "stream",
     "text": [
      "c:\\Users\\kylene.cooley\n"
     ]
    }
   ],
   "source": [
    "txt = \"c:\\\\Users\\\\kylene.cooley\"\n",
    "txt = r'%s' % txt\n",
    "print(txt)"
   ]
  },
  {
   "cell_type": "code",
   "execution_count": 3,
   "id": "9fda1055",
   "metadata": {},
   "outputs": [],
   "source": [
    "# Same as routine in project but step by step (this cell is the same as all-M2M request)\n",
    "# Use the gold copy THREDDs datasets\n",
    "thredds_url = M2M.get_thredds_url(refdes, method, stream, goldCopy=True)\n",
    "\n",
    "# Get the THREDDs catalog\n",
    "thredds_catalog = M2M.get_thredds_catalog(thredds_url)\n",
    "deployments = M2M.get_deployments(refdes)\n",
    "\n",
    "# Clean the THREDDs catalog\n",
    "# This step separates entries from thredds_catalog if they do not match the stream. These ancillary files are usually provided \n",
    "# because they are used in calculating a derived variable from the measured variable stream.\n",
    "sensor_files = M2M.clean_catalog(thredds_catalog, stream, deployments) "
   ]
  },
  {
   "cell_type": "code",
   "execution_count": 4,
   "id": "9a20e0d7",
   "metadata": {},
   "outputs": [],
   "source": [
    "file = sensor_files[0]\n",
    "from ooi_data_explorations.common import process_file"
   ]
  },
  {
   "cell_type": "code",
   "execution_count": 5,
   "id": "79723df9",
   "metadata": {},
   "outputs": [
    {
     "data": {
      "text/plain": [
       "'catalog.html?dataset=ooigoldcopy/public/CP01CNSM-RID27-03-CTDBPC000-recovered_inst-ctdbp_cdef_instrument_recovered/deployment0001_CP01CNSM-RID27-03-CTDBPC000-recovered_inst-ctdbp_cdef_instrument_recovered_20131121T181601-20140217T132711.nc'"
      ]
     },
     "execution_count": 5,
     "metadata": {},
     "output_type": "execute_result"
    }
   ],
   "source": [
    "file"
   ]
  },
  {
   "cell_type": "code",
   "execution_count": 6,
   "id": "5af9ab6b",
   "metadata": {},
   "outputs": [
    {
     "data": {
      "text/html": [
       "<div><svg style=\"position: absolute; width: 0; height: 0; overflow: hidden\">\n",
       "<defs>\n",
       "<symbol id=\"icon-database\" viewBox=\"0 0 32 32\">\n",
       "<path d=\"M16 0c-8.837 0-16 2.239-16 5v4c0 2.761 7.163 5 16 5s16-2.239 16-5v-4c0-2.761-7.163-5-16-5z\"></path>\n",
       "<path d=\"M16 17c-8.837 0-16-2.239-16-5v6c0 2.761 7.163 5 16 5s16-2.239 16-5v-6c0 2.761-7.163 5-16 5z\"></path>\n",
       "<path d=\"M16 26c-8.837 0-16-2.239-16-5v6c0 2.761 7.163 5 16 5s16-2.239 16-5v-6c0 2.761-7.163 5-16 5z\"></path>\n",
       "</symbol>\n",
       "<symbol id=\"icon-file-text2\" viewBox=\"0 0 32 32\">\n",
       "<path d=\"M28.681 7.159c-0.694-0.947-1.662-2.053-2.724-3.116s-2.169-2.030-3.116-2.724c-1.612-1.182-2.393-1.319-2.841-1.319h-15.5c-1.378 0-2.5 1.121-2.5 2.5v27c0 1.378 1.122 2.5 2.5 2.5h23c1.378 0 2.5-1.122 2.5-2.5v-19.5c0-0.448-0.137-1.23-1.319-2.841zM24.543 5.457c0.959 0.959 1.712 1.825 2.268 2.543h-4.811v-4.811c0.718 0.556 1.584 1.309 2.543 2.268zM28 29.5c0 0.271-0.229 0.5-0.5 0.5h-23c-0.271 0-0.5-0.229-0.5-0.5v-27c0-0.271 0.229-0.5 0.5-0.5 0 0 15.499-0 15.5 0v7c0 0.552 0.448 1 1 1h7v19.5z\"></path>\n",
       "<path d=\"M23 26h-14c-0.552 0-1-0.448-1-1s0.448-1 1-1h14c0.552 0 1 0.448 1 1s-0.448 1-1 1z\"></path>\n",
       "<path d=\"M23 22h-14c-0.552 0-1-0.448-1-1s0.448-1 1-1h14c0.552 0 1 0.448 1 1s-0.448 1-1 1z\"></path>\n",
       "<path d=\"M23 18h-14c-0.552 0-1-0.448-1-1s0.448-1 1-1h14c0.552 0 1 0.448 1 1s-0.448 1-1 1z\"></path>\n",
       "</symbol>\n",
       "</defs>\n",
       "</svg>\n",
       "<style>/* CSS stylesheet for displaying xarray objects in jupyterlab.\n",
       " *\n",
       " */\n",
       "\n",
       ":root {\n",
       "  --xr-font-color0: var(--jp-content-font-color0, rgba(0, 0, 0, 1));\n",
       "  --xr-font-color2: var(--jp-content-font-color2, rgba(0, 0, 0, 0.54));\n",
       "  --xr-font-color3: var(--jp-content-font-color3, rgba(0, 0, 0, 0.38));\n",
       "  --xr-border-color: var(--jp-border-color2, #e0e0e0);\n",
       "  --xr-disabled-color: var(--jp-layout-color3, #bdbdbd);\n",
       "  --xr-background-color: var(--jp-layout-color0, white);\n",
       "  --xr-background-color-row-even: var(--jp-layout-color1, white);\n",
       "  --xr-background-color-row-odd: var(--jp-layout-color2, #eeeeee);\n",
       "}\n",
       "\n",
       "html[theme=dark],\n",
       "body[data-theme=dark],\n",
       "body.vscode-dark {\n",
       "  --xr-font-color0: rgba(255, 255, 255, 1);\n",
       "  --xr-font-color2: rgba(255, 255, 255, 0.54);\n",
       "  --xr-font-color3: rgba(255, 255, 255, 0.38);\n",
       "  --xr-border-color: #1F1F1F;\n",
       "  --xr-disabled-color: #515151;\n",
       "  --xr-background-color: #111111;\n",
       "  --xr-background-color-row-even: #111111;\n",
       "  --xr-background-color-row-odd: #313131;\n",
       "}\n",
       "\n",
       ".xr-wrap {\n",
       "  display: block !important;\n",
       "  min-width: 300px;\n",
       "  max-width: 700px;\n",
       "}\n",
       "\n",
       ".xr-text-repr-fallback {\n",
       "  /* fallback to plain text repr when CSS is not injected (untrusted notebook) */\n",
       "  display: none;\n",
       "}\n",
       "\n",
       ".xr-header {\n",
       "  padding-top: 6px;\n",
       "  padding-bottom: 6px;\n",
       "  margin-bottom: 4px;\n",
       "  border-bottom: solid 1px var(--xr-border-color);\n",
       "}\n",
       "\n",
       ".xr-header > div,\n",
       ".xr-header > ul {\n",
       "  display: inline;\n",
       "  margin-top: 0;\n",
       "  margin-bottom: 0;\n",
       "}\n",
       "\n",
       ".xr-obj-type,\n",
       ".xr-array-name {\n",
       "  margin-left: 2px;\n",
       "  margin-right: 10px;\n",
       "}\n",
       "\n",
       ".xr-obj-type {\n",
       "  color: var(--xr-font-color2);\n",
       "}\n",
       "\n",
       ".xr-sections {\n",
       "  padding-left: 0 !important;\n",
       "  display: grid;\n",
       "  grid-template-columns: 150px auto auto 1fr 20px 20px;\n",
       "}\n",
       "\n",
       ".xr-section-item {\n",
       "  display: contents;\n",
       "}\n",
       "\n",
       ".xr-section-item input {\n",
       "  display: none;\n",
       "}\n",
       "\n",
       ".xr-section-item input + label {\n",
       "  color: var(--xr-disabled-color);\n",
       "}\n",
       "\n",
       ".xr-section-item input:enabled + label {\n",
       "  cursor: pointer;\n",
       "  color: var(--xr-font-color2);\n",
       "}\n",
       "\n",
       ".xr-section-item input:enabled + label:hover {\n",
       "  color: var(--xr-font-color0);\n",
       "}\n",
       "\n",
       ".xr-section-summary {\n",
       "  grid-column: 1;\n",
       "  color: var(--xr-font-color2);\n",
       "  font-weight: 500;\n",
       "}\n",
       "\n",
       ".xr-section-summary > span {\n",
       "  display: inline-block;\n",
       "  padding-left: 0.5em;\n",
       "}\n",
       "\n",
       ".xr-section-summary-in:disabled + label {\n",
       "  color: var(--xr-font-color2);\n",
       "}\n",
       "\n",
       ".xr-section-summary-in + label:before {\n",
       "  display: inline-block;\n",
       "  content: '►';\n",
       "  font-size: 11px;\n",
       "  width: 15px;\n",
       "  text-align: center;\n",
       "}\n",
       "\n",
       ".xr-section-summary-in:disabled + label:before {\n",
       "  color: var(--xr-disabled-color);\n",
       "}\n",
       "\n",
       ".xr-section-summary-in:checked + label:before {\n",
       "  content: '▼';\n",
       "}\n",
       "\n",
       ".xr-section-summary-in:checked + label > span {\n",
       "  display: none;\n",
       "}\n",
       "\n",
       ".xr-section-summary,\n",
       ".xr-section-inline-details {\n",
       "  padding-top: 4px;\n",
       "  padding-bottom: 4px;\n",
       "}\n",
       "\n",
       ".xr-section-inline-details {\n",
       "  grid-column: 2 / -1;\n",
       "}\n",
       "\n",
       ".xr-section-details {\n",
       "  display: none;\n",
       "  grid-column: 1 / -1;\n",
       "  margin-bottom: 5px;\n",
       "}\n",
       "\n",
       ".xr-section-summary-in:checked ~ .xr-section-details {\n",
       "  display: contents;\n",
       "}\n",
       "\n",
       ".xr-array-wrap {\n",
       "  grid-column: 1 / -1;\n",
       "  display: grid;\n",
       "  grid-template-columns: 20px auto;\n",
       "}\n",
       "\n",
       ".xr-array-wrap > label {\n",
       "  grid-column: 1;\n",
       "  vertical-align: top;\n",
       "}\n",
       "\n",
       ".xr-preview {\n",
       "  color: var(--xr-font-color3);\n",
       "}\n",
       "\n",
       ".xr-array-preview,\n",
       ".xr-array-data {\n",
       "  padding: 0 5px !important;\n",
       "  grid-column: 2;\n",
       "}\n",
       "\n",
       ".xr-array-data,\n",
       ".xr-array-in:checked ~ .xr-array-preview {\n",
       "  display: none;\n",
       "}\n",
       "\n",
       ".xr-array-in:checked ~ .xr-array-data,\n",
       ".xr-array-preview {\n",
       "  display: inline-block;\n",
       "}\n",
       "\n",
       ".xr-dim-list {\n",
       "  display: inline-block !important;\n",
       "  list-style: none;\n",
       "  padding: 0 !important;\n",
       "  margin: 0;\n",
       "}\n",
       "\n",
       ".xr-dim-list li {\n",
       "  display: inline-block;\n",
       "  padding: 0;\n",
       "  margin: 0;\n",
       "}\n",
       "\n",
       ".xr-dim-list:before {\n",
       "  content: '(';\n",
       "}\n",
       "\n",
       ".xr-dim-list:after {\n",
       "  content: ')';\n",
       "}\n",
       "\n",
       ".xr-dim-list li:not(:last-child):after {\n",
       "  content: ',';\n",
       "  padding-right: 5px;\n",
       "}\n",
       "\n",
       ".xr-has-index {\n",
       "  font-weight: bold;\n",
       "}\n",
       "\n",
       ".xr-var-list,\n",
       ".xr-var-item {\n",
       "  display: contents;\n",
       "}\n",
       "\n",
       ".xr-var-item > div,\n",
       ".xr-var-item label,\n",
       ".xr-var-item > .xr-var-name span {\n",
       "  background-color: var(--xr-background-color-row-even);\n",
       "  margin-bottom: 0;\n",
       "}\n",
       "\n",
       ".xr-var-item > .xr-var-name:hover span {\n",
       "  padding-right: 5px;\n",
       "}\n",
       "\n",
       ".xr-var-list > li:nth-child(odd) > div,\n",
       ".xr-var-list > li:nth-child(odd) > label,\n",
       ".xr-var-list > li:nth-child(odd) > .xr-var-name span {\n",
       "  background-color: var(--xr-background-color-row-odd);\n",
       "}\n",
       "\n",
       ".xr-var-name {\n",
       "  grid-column: 1;\n",
       "}\n",
       "\n",
       ".xr-var-dims {\n",
       "  grid-column: 2;\n",
       "}\n",
       "\n",
       ".xr-var-dtype {\n",
       "  grid-column: 3;\n",
       "  text-align: right;\n",
       "  color: var(--xr-font-color2);\n",
       "}\n",
       "\n",
       ".xr-var-preview {\n",
       "  grid-column: 4;\n",
       "}\n",
       "\n",
       ".xr-index-preview {\n",
       "  grid-column: 2 / 5;\n",
       "  color: var(--xr-font-color2);\n",
       "}\n",
       "\n",
       ".xr-var-name,\n",
       ".xr-var-dims,\n",
       ".xr-var-dtype,\n",
       ".xr-preview,\n",
       ".xr-attrs dt {\n",
       "  white-space: nowrap;\n",
       "  overflow: hidden;\n",
       "  text-overflow: ellipsis;\n",
       "  padding-right: 10px;\n",
       "}\n",
       "\n",
       ".xr-var-name:hover,\n",
       ".xr-var-dims:hover,\n",
       ".xr-var-dtype:hover,\n",
       ".xr-attrs dt:hover {\n",
       "  overflow: visible;\n",
       "  width: auto;\n",
       "  z-index: 1;\n",
       "}\n",
       "\n",
       ".xr-var-attrs,\n",
       ".xr-var-data,\n",
       ".xr-index-data {\n",
       "  display: none;\n",
       "  background-color: var(--xr-background-color) !important;\n",
       "  padding-bottom: 5px !important;\n",
       "}\n",
       "\n",
       ".xr-var-attrs-in:checked ~ .xr-var-attrs,\n",
       ".xr-var-data-in:checked ~ .xr-var-data,\n",
       ".xr-index-data-in:checked ~ .xr-index-data {\n",
       "  display: block;\n",
       "}\n",
       "\n",
       ".xr-var-data > table {\n",
       "  float: right;\n",
       "}\n",
       "\n",
       ".xr-var-name span,\n",
       ".xr-var-data,\n",
       ".xr-index-name div,\n",
       ".xr-index-data,\n",
       ".xr-attrs {\n",
       "  padding-left: 25px !important;\n",
       "}\n",
       "\n",
       ".xr-attrs,\n",
       ".xr-var-attrs,\n",
       ".xr-var-data,\n",
       ".xr-index-data {\n",
       "  grid-column: 1 / -1;\n",
       "}\n",
       "\n",
       "dl.xr-attrs {\n",
       "  padding: 0;\n",
       "  margin: 0;\n",
       "  display: grid;\n",
       "  grid-template-columns: 125px auto;\n",
       "}\n",
       "\n",
       ".xr-attrs dt,\n",
       ".xr-attrs dd {\n",
       "  padding: 0;\n",
       "  margin: 0;\n",
       "  float: left;\n",
       "  padding-right: 10px;\n",
       "  width: auto;\n",
       "}\n",
       "\n",
       ".xr-attrs dt {\n",
       "  font-weight: normal;\n",
       "  grid-column: 1;\n",
       "}\n",
       "\n",
       ".xr-attrs dt:hover span {\n",
       "  display: inline-block;\n",
       "  background: var(--xr-background-color);\n",
       "  padding-right: 10px;\n",
       "}\n",
       "\n",
       ".xr-attrs dd {\n",
       "  grid-column: 2;\n",
       "  white-space: pre-wrap;\n",
       "  word-break: break-all;\n",
       "}\n",
       "\n",
       ".xr-icon-database,\n",
       ".xr-icon-file-text2,\n",
       ".xr-no-icon {\n",
       "  display: inline-block;\n",
       "  vertical-align: middle;\n",
       "  width: 1em;\n",
       "  height: 1.5em !important;\n",
       "  stroke-width: 0;\n",
       "  stroke: currentColor;\n",
       "  fill: currentColor;\n",
       "}\n",
       "</style><pre class='xr-text-repr-fallback'>&lt;xarray.Dataset&gt;\n",
       "Dimensions:                                            (time: 303449)\n",
       "Coordinates:\n",
       "  * time                                               (time) datetime64[ns] ...\n",
       "Data variables: (12/35)\n",
       "    sea_water_pressure_qc_results                      (time) uint8 29 29 ... 29\n",
       "    sea_water_pressure                                 (time) float64 7.37 .....\n",
       "    sea_water_electrical_conductivity_qartod_results   (time) uint8 1 1 ... 1 1\n",
       "    sea_water_pressure_qc_executed                     (time) uint8 29 29 ... 29\n",
       "    ctd_time                                           (time) int32 438372961...\n",
       "    sea_water_practical_salinity_qc_executed           (time) uint8 29 29 ... 29\n",
       "    ...                                                 ...\n",
       "    sea_water_density                                  (time) float64 1.025e+...\n",
       "    depth                                              (time) float64 7.314 ....\n",
       "    sea_water_pressure_qartod_results                  (time) uint8 1 1 ... 1 1\n",
       "    sea_water_electrical_conductivity_qartod_executed  (time) object &#x27;1&#x27; ... &#x27;1&#x27;\n",
       "    sea_water_temperature                              (time) float64 13.39 ....\n",
       "    sea_water_practical_salinity_qartod_executed       (time) object &#x27;11&#x27; ......\n",
       "Attributes: (12/69)\n",
       "    node:                               RID27\n",
       "    comment:                            Data collected from the OOI M2M API a...\n",
       "    publisher_email:                    \n",
       "    sourceUrl:                          http://oceanobservatories.org/\n",
       "    collection_method:                  recovered_inst\n",
       "    stream:                             ctdbp_cdef_instrument_recovered\n",
       "    ...                                 ...\n",
       "    geospatial_lon_resolution:          0.1\n",
       "    geospatial_vertical_units:          meters\n",
       "    geospatial_vertical_resolution:     0.1\n",
       "    geospatial_vertical_positive:       down\n",
       "    lat:                                40.13678\n",
       "    lon:                                -70.76978</pre><div class='xr-wrap' style='display:none'><div class='xr-header'><div class='xr-obj-type'>xarray.Dataset</div></div><ul class='xr-sections'><li class='xr-section-item'><input id='section-e193e6de-f8b2-488c-a41b-a35b179a43c9' class='xr-section-summary-in' type='checkbox' disabled ><label for='section-e193e6de-f8b2-488c-a41b-a35b179a43c9' class='xr-section-summary'  title='Expand/collapse section'>Dimensions:</label><div class='xr-section-inline-details'><ul class='xr-dim-list'><li><span class='xr-has-index'>time</span>: 303449</li></ul></div><div class='xr-section-details'></div></li><li class='xr-section-item'><input id='section-2515238b-aee5-4b1a-8870-e8ff44102589' class='xr-section-summary-in' type='checkbox'  checked><label for='section-2515238b-aee5-4b1a-8870-e8ff44102589' class='xr-section-summary' >Coordinates: <span>(1)</span></label><div class='xr-section-inline-details'></div><div class='xr-section-details'><ul class='xr-var-list'><li class='xr-var-item'><div class='xr-var-name'><span class='xr-has-index'>time</span></div><div class='xr-var-dims'>(time)</div><div class='xr-var-dtype'>datetime64[ns]</div><div class='xr-var-preview xr-preview'>2013-11-21T18:16:01 ... 2014-02-...</div><input id='attrs-7a020acc-7dd7-4855-997b-5c8efe615b5e' class='xr-var-attrs-in' type='checkbox' disabled><label for='attrs-7a020acc-7dd7-4855-997b-5c8efe615b5e' title='Show/Hide attributes'><svg class='icon xr-icon-file-text2'><use xlink:href='#icon-file-text2'></use></svg></label><input id='data-2c666fe9-4cb5-463c-bf24-d7f5b2f9f0c9' class='xr-var-data-in' type='checkbox'><label for='data-2c666fe9-4cb5-463c-bf24-d7f5b2f9f0c9' title='Show/Hide data repr'><svg class='icon xr-icon-database'><use xlink:href='#icon-database'></use></svg></label><div class='xr-var-attrs'><dl class='xr-attrs'></dl></div><div class='xr-var-data'><pre>array([&#x27;2013-11-21T18:16:01.000000000&#x27;, &#x27;2013-11-21T18:16:11.000000000&#x27;,\n",
       "       &#x27;2013-11-21T18:16:21.000000000&#x27;, ..., &#x27;2014-02-17T13:26:51.000000000&#x27;,\n",
       "       &#x27;2014-02-17T13:27:01.000000000&#x27;, &#x27;2014-02-17T13:27:11.000000000&#x27;],\n",
       "      dtype=&#x27;datetime64[ns]&#x27;)</pre></div></li></ul></div></li><li class='xr-section-item'><input id='section-98262010-7e56-42d3-aece-641f83c65183' class='xr-section-summary-in' type='checkbox'  ><label for='section-98262010-7e56-42d3-aece-641f83c65183' class='xr-section-summary' >Data variables: <span>(35)</span></label><div class='xr-section-inline-details'></div><div class='xr-section-details'><ul class='xr-var-list'><li class='xr-var-item'><div class='xr-var-name'><span>sea_water_pressure_qc_results</span></div><div class='xr-var-dims'>(time)</div><div class='xr-var-dtype'>uint8</div><div class='xr-var-preview xr-preview'>29 29 29 29 29 ... 29 29 29 29 29</div><input id='attrs-eba75574-21cf-4133-a2e9-a34e1b8b2bc8' class='xr-var-attrs-in' type='checkbox' ><label for='attrs-eba75574-21cf-4133-a2e9-a34e1b8b2bc8' title='Show/Hide attributes'><svg class='icon xr-icon-file-text2'><use xlink:href='#icon-file-text2'></use></svg></label><input id='data-def86cbd-8f6c-4ba0-8e03-c8b996fec1e0' class='xr-var-data-in' type='checkbox'><label for='data-def86cbd-8f6c-4ba0-8e03-c8b996fec1e0' title='Show/Hide data repr'><svg class='icon xr-icon-database'><use xlink:href='#icon-database'></use></svg></label><div class='xr-var-attrs'><dl class='xr-attrs'><dt><span>alternate_parameter_name :</span></dt><dd>ctdbp_seawater_pressure_qc_results</dd><dt><span>coordinates :</span></dt><dd>time lat lon depth</dd></dl></div><div class='xr-var-data'><pre>array([29, 29, 29, ..., 29, 29, 29], dtype=uint8)</pre></div></li><li class='xr-var-item'><div class='xr-var-name'><span>sea_water_pressure</span></div><div class='xr-var-dims'>(time)</div><div class='xr-var-dtype'>float64</div><div class='xr-var-preview xr-preview'>7.37 7.558 7.025 ... 6.717 6.852</div><input id='attrs-3e48f7e8-5329-4f52-a8f2-4d03f6cd012d' class='xr-var-attrs-in' type='checkbox' ><label for='attrs-3e48f7e8-5329-4f52-a8f2-4d03f6cd012d' title='Show/Hide attributes'><svg class='icon xr-icon-file-text2'><use xlink:href='#icon-file-text2'></use></svg></label><input id='data-2e02f534-2fe1-4762-b1d4-8941d64e978b' class='xr-var-data-in' type='checkbox'><label for='data-2e02f534-2fe1-4762-b1d4-8941d64e978b' title='Show/Hide data repr'><svg class='icon xr-icon-database'><use xlink:href='#icon-database'></use></svg></label><div class='xr-var-attrs'><dl class='xr-attrs'><dt><span>_FillValue :</span></dt><dd>-9999999.0</dd><dt><span>comment :</span></dt><dd>Seawater Pressure refers to the pressure exerted on a sensor in situ by the weight of the column of seawater above it. It is calculated by subtracting one standard atmosphere from the absolute pressure at the sensor to remove the weight of the atmosphere on top of the water column. The pressure at a sensor in situ provides a metric of the depth of that sensor.</dd><dt><span>long_name :</span></dt><dd>Seawater Pressure</dd><dt><span>precision :</span></dt><dd>3</dd><dt><span>coordinates :</span></dt><dd>time lat lon depth</dd><dt><span>data_product_identifier :</span></dt><dd>PRESWAT_L1</dd><dt><span>standard_name :</span></dt><dd>sea_water_pressure</dd><dt><span>units :</span></dt><dd>dbar</dd><dt><span>ancillary_variables :</span></dt><dd>ctdbp_seawater_pressure_qartod_results ctdbp_seawater_pressure_qartod_executed pressure pressure_temp</dd><dt><span>alternate_parameter_name :</span></dt><dd>ctdbp_seawater_pressure</dd></dl></div><div class='xr-var-data'><pre>array([7.37022871, 7.55833656, 7.02463406, ..., 7.10531845, 6.71714916,\n",
       "       6.85162672])</pre></div></li><li class='xr-var-item'><div class='xr-var-name'><span>sea_water_electrical_conductivity_qartod_results</span></div><div class='xr-var-dims'>(time)</div><div class='xr-var-dtype'>uint8</div><div class='xr-var-preview xr-preview'>1 1 1 1 1 1 1 1 ... 1 1 1 1 1 1 1 1</div><input id='attrs-013eb3bd-3487-45b6-a8e1-798bac953773' class='xr-var-attrs-in' type='checkbox' ><label for='attrs-013eb3bd-3487-45b6-a8e1-798bac953773' title='Show/Hide attributes'><svg class='icon xr-icon-file-text2'><use xlink:href='#icon-file-text2'></use></svg></label><input id='data-48758b3b-6d18-4c0d-9fab-cde02d6c7e40' class='xr-var-data-in' type='checkbox'><label for='data-48758b3b-6d18-4c0d-9fab-cde02d6c7e40' title='Show/Hide data repr'><svg class='icon xr-icon-database'><use xlink:href='#icon-database'></use></svg></label><div class='xr-var-attrs'><dl class='xr-attrs'><dt><span>flag_values :</span></dt><dd>[1 2 3 4 9]</dd><dt><span>flag_meanings :</span></dt><dd>pass not_evaluated suspect_or_of_high_interest fail missing_data</dd><dt><span>standard_name :</span></dt><dd>sea_water_electrical_conductivity status_flag</dd><dt><span>long_name :</span></dt><dd>Seawater Conductivity QARTOD Summary Flag</dd><dt><span>references :</span></dt><dd>https://ioos.noaa.gov/project/qartod https://github.com/ioos/ioos_qc</dd><dt><span>comment :</span></dt><dd>Summary QARTOD test flags. For each datum, the flag is set to the most significant result of all QARTOD tests run for that datum.</dd><dt><span>alternate_parameter_name :</span></dt><dd>ctdbp_seawater_conductivity_qartod_results</dd><dt><span>coordinates :</span></dt><dd>time lat lon depth</dd></dl></div><div class='xr-var-data'><pre>array([1, 1, 1, ..., 1, 1, 1], dtype=uint8)</pre></div></li><li class='xr-var-item'><div class='xr-var-name'><span>sea_water_pressure_qc_executed</span></div><div class='xr-var-dims'>(time)</div><div class='xr-var-dtype'>uint8</div><div class='xr-var-preview xr-preview'>29 29 29 29 29 ... 29 29 29 29 29</div><input id='attrs-463256d1-8f32-421b-a1e1-499f2e8ba2ba' class='xr-var-attrs-in' type='checkbox' ><label for='attrs-463256d1-8f32-421b-a1e1-499f2e8ba2ba' title='Show/Hide attributes'><svg class='icon xr-icon-file-text2'><use xlink:href='#icon-file-text2'></use></svg></label><input id='data-5ce087d5-6f37-4443-bcdc-d4b14282fb86' class='xr-var-data-in' type='checkbox'><label for='data-5ce087d5-6f37-4443-bcdc-d4b14282fb86' title='Show/Hide data repr'><svg class='icon xr-icon-database'><use xlink:href='#icon-database'></use></svg></label><div class='xr-var-attrs'><dl class='xr-attrs'><dt><span>alternate_parameter_name :</span></dt><dd>ctdbp_seawater_pressure_qc_executed</dd><dt><span>coordinates :</span></dt><dd>time lat lon depth</dd></dl></div><div class='xr-var-data'><pre>array([29, 29, 29, ..., 29, 29, 29], dtype=uint8)</pre></div></li><li class='xr-var-item'><div class='xr-var-name'><span>ctd_time</span></div><div class='xr-var-dims'>(time)</div><div class='xr-var-dtype'>int32</div><div class='xr-var-preview xr-preview'>438372961 438372971 ... 445958831</div><input id='attrs-30b4ceb2-7bb6-4b09-af41-cd02eba26d24' class='xr-var-attrs-in' type='checkbox' ><label for='attrs-30b4ceb2-7bb6-4b09-af41-cd02eba26d24' title='Show/Hide attributes'><svg class='icon xr-icon-file-text2'><use xlink:href='#icon-file-text2'></use></svg></label><input id='data-416204a6-9928-45be-818f-0a194ec79693' class='xr-var-data-in' type='checkbox'><label for='data-416204a6-9928-45be-818f-0a194ec79693' title='Show/Hide data repr'><svg class='icon xr-icon-database'><use xlink:href='#icon-database'></use></svg></label><div class='xr-var-attrs'><dl class='xr-attrs'><dt><span>_FillValue :</span></dt><dd>-9999999</dd><dt><span>comment :</span></dt><dd>Time in seconds since 2000-01-01.</dd><dt><span>precision :</span></dt><dd>0</dd><dt><span>coordinates :</span></dt><dd>time lat lon depth</dd><dt><span>long_name :</span></dt><dd>Time, UTC</dd><dt><span>units :</span></dt><dd>seconds since 2000-01-01</dd></dl></div><div class='xr-var-data'><pre>array([438372961, 438372971, 438372981, ..., 445958811, 445958821,\n",
       "       445958831])</pre></div></li><li class='xr-var-item'><div class='xr-var-name'><span>sea_water_practical_salinity_qc_executed</span></div><div class='xr-var-dims'>(time)</div><div class='xr-var-dtype'>uint8</div><div class='xr-var-preview xr-preview'>29 29 29 29 29 ... 29 29 29 29 29</div><input id='attrs-30df9a13-8cb1-42a5-a53b-5bf251bfeb06' class='xr-var-attrs-in' type='checkbox' ><label for='attrs-30df9a13-8cb1-42a5-a53b-5bf251bfeb06' title='Show/Hide attributes'><svg class='icon xr-icon-file-text2'><use xlink:href='#icon-file-text2'></use></svg></label><input id='data-733fa691-1908-4452-a986-79a5bacb3f23' class='xr-var-data-in' type='checkbox'><label for='data-733fa691-1908-4452-a986-79a5bacb3f23' title='Show/Hide data repr'><svg class='icon xr-icon-database'><use xlink:href='#icon-database'></use></svg></label><div class='xr-var-attrs'><dl class='xr-attrs'><dt><span>alternate_parameter_name :</span></dt><dd>practical_salinity_qc_executed</dd><dt><span>coordinates :</span></dt><dd>time lat lon depth</dd></dl></div><div class='xr-var-data'><pre>array([29, 29, 29, ..., 29, 29, 29], dtype=uint8)</pre></div></li><li class='xr-var-item'><div class='xr-var-name'><span>conductivity</span></div><div class='xr-var-dims'>(time)</div><div class='xr-var-dtype'>int32</div><div class='xr-var-preview xr-preview'>1553237 1553144 ... 1463624 1463625</div><input id='attrs-8167f4b7-8f22-4507-a265-3eee967aadfe' class='xr-var-attrs-in' type='checkbox' ><label for='attrs-8167f4b7-8f22-4507-a265-3eee967aadfe' title='Show/Hide attributes'><svg class='icon xr-icon-file-text2'><use xlink:href='#icon-file-text2'></use></svg></label><input id='data-da84b2db-6635-4673-8cae-daa6fdadd490' class='xr-var-data-in' type='checkbox'><label for='data-da84b2db-6635-4673-8cae-daa6fdadd490' title='Show/Hide data repr'><svg class='icon xr-icon-database'><use xlink:href='#icon-database'></use></svg></label><div class='xr-var-attrs'><dl class='xr-attrs'><dt><span>_FillValue :</span></dt><dd>-9999999</dd><dt><span>comment :</span></dt><dd>Unprocessed conductivity data that are output directly from the sensor. Seawater conductivity refers to the ability of seawater to conduct electricity. The presence of ions in the seawater, such as salt, increases the electrical conducting ability of seawater. As such, conductivity can be used as a proxy for determining the quantity of salt in a sample of seawater.</dd><dt><span>long_name :</span></dt><dd>Unprocessed (L0) Seawater Conductivity</dd><dt><span>precision :</span></dt><dd>0</dd><dt><span>coordinates :</span></dt><dd>time lat lon depth</dd><dt><span>data_product_identifier :</span></dt><dd>CONDWAT_L0</dd><dt><span>units :</span></dt><dd>counts</dd></dl></div><div class='xr-var-data'><pre>array([1553237, 1553144, 1553467, ..., 1463579, 1463624, 1463625])</pre></div></li><li class='xr-var-item'><div class='xr-var-name'><span>temperature</span></div><div class='xr-var-dims'>(time)</div><div class='xr-var-dtype'>int32</div><div class='xr-var-preview xr-preview'>357955 358041 ... 449616 449612</div><input id='attrs-2e752987-c520-4931-bd3c-86247a7c4847' class='xr-var-attrs-in' type='checkbox' ><label for='attrs-2e752987-c520-4931-bd3c-86247a7c4847' title='Show/Hide attributes'><svg class='icon xr-icon-file-text2'><use xlink:href='#icon-file-text2'></use></svg></label><input id='data-c6aad36e-ad40-4ff8-9f44-86236afbf64a' class='xr-var-data-in' type='checkbox'><label for='data-c6aad36e-ad40-4ff8-9f44-86236afbf64a' title='Show/Hide data repr'><svg class='icon xr-icon-database'><use xlink:href='#icon-database'></use></svg></label><div class='xr-var-attrs'><dl class='xr-attrs'><dt><span>_FillValue :</span></dt><dd>-9999999</dd><dt><span>comment :</span></dt><dd>Unprocessed seawater temperature measurement in counts.</dd><dt><span>long_name :</span></dt><dd>Unprocessed (L0) Seawater Temperature</dd><dt><span>precision :</span></dt><dd>0</dd><dt><span>coordinates :</span></dt><dd>time lat lon depth</dd><dt><span>data_product_identifier :</span></dt><dd>TEMPWAT_L0</dd><dt><span>units :</span></dt><dd>counts</dd></dl></div><div class='xr-var-data'><pre>array([357955, 358041, 357767, ..., 449649, 449616, 449612])</pre></div></li><li class='xr-var-item'><div class='xr-var-name'><span>sea_water_temperature_qartod_results</span></div><div class='xr-var-dims'>(time)</div><div class='xr-var-dtype'>uint8</div><div class='xr-var-preview xr-preview'>1 1 1 1 1 1 1 1 ... 1 1 1 1 1 1 1 1</div><input id='attrs-c72114f2-a61e-47b3-ae31-d9c9f8f866b6' class='xr-var-attrs-in' type='checkbox' ><label for='attrs-c72114f2-a61e-47b3-ae31-d9c9f8f866b6' title='Show/Hide attributes'><svg class='icon xr-icon-file-text2'><use xlink:href='#icon-file-text2'></use></svg></label><input id='data-e523d552-fd8f-464b-b5a4-8c6e4bb608e8' class='xr-var-data-in' type='checkbox'><label for='data-e523d552-fd8f-464b-b5a4-8c6e4bb608e8' title='Show/Hide data repr'><svg class='icon xr-icon-database'><use xlink:href='#icon-database'></use></svg></label><div class='xr-var-attrs'><dl class='xr-attrs'><dt><span>flag_values :</span></dt><dd>[1 2 3 4 9]</dd><dt><span>flag_meanings :</span></dt><dd>pass not_evaluated suspect_or_of_high_interest fail missing_data</dd><dt><span>standard_name :</span></dt><dd>sea_water_temperature status_flag</dd><dt><span>long_name :</span></dt><dd>Seawater Temperature QARTOD Summary Flag</dd><dt><span>references :</span></dt><dd>https://ioos.noaa.gov/project/qartod https://github.com/ioos/ioos_qc</dd><dt><span>comment :</span></dt><dd>Summary QARTOD test flags. For each datum, the flag is set to the most significant result of all QARTOD tests run for that datum.</dd><dt><span>alternate_parameter_name :</span></dt><dd>ctdbp_seawater_temperature_qartod_results</dd><dt><span>coordinates :</span></dt><dd>time lat lon depth</dd></dl></div><div class='xr-var-data'><pre>array([1, 1, 1, ..., 1, 1, 1], dtype=uint8)</pre></div></li><li class='xr-var-item'><div class='xr-var-name'><span>conductivity_qc_results</span></div><div class='xr-var-dims'>(time)</div><div class='xr-var-dtype'>uint8</div><div class='xr-var-preview xr-preview'>28 28 28 28 28 ... 28 28 28 28 28</div><input id='attrs-b2f58a15-22bb-4b33-bcc6-81aebf2e595f' class='xr-var-attrs-in' type='checkbox' ><label for='attrs-b2f58a15-22bb-4b33-bcc6-81aebf2e595f' title='Show/Hide attributes'><svg class='icon xr-icon-file-text2'><use xlink:href='#icon-file-text2'></use></svg></label><input id='data-43d87593-8fb7-4a86-ac20-14fe6afa42a9' class='xr-var-data-in' type='checkbox'><label for='data-43d87593-8fb7-4a86-ac20-14fe6afa42a9' title='Show/Hide data repr'><svg class='icon xr-icon-database'><use xlink:href='#icon-database'></use></svg></label><div class='xr-var-attrs'><dl class='xr-attrs'><dt><span>coordinates :</span></dt><dd>time lat lon depth</dd></dl></div><div class='xr-var-data'><pre>array([28, 28, 28, ..., 28, 28, 28], dtype=uint8)</pre></div></li><li class='xr-var-item'><div class='xr-var-name'><span>pressure_temp</span></div><div class='xr-var-dims'>(time)</div><div class='xr-var-dtype'>int32</div><div class='xr-var-preview xr-preview'>18923 18920 18928 ... 17371 17361</div><input id='attrs-d202c335-6197-4045-bf3e-77c23630ca38' class='xr-var-attrs-in' type='checkbox' ><label for='attrs-d202c335-6197-4045-bf3e-77c23630ca38' title='Show/Hide attributes'><svg class='icon xr-icon-file-text2'><use xlink:href='#icon-file-text2'></use></svg></label><input id='data-fb14cd91-bf6e-4a7a-a9c6-09b608839904' class='xr-var-data-in' type='checkbox'><label for='data-fb14cd91-bf6e-4a7a-a9c6-09b608839904' title='Show/Hide data repr'><svg class='icon xr-icon-database'><use xlink:href='#icon-database'></use></svg></label><div class='xr-var-attrs'><dl class='xr-attrs'><dt><span>_FillValue :</span></dt><dd>-9999999</dd><dt><span>comment :</span></dt><dd>Unprocessed temperature from the pressure sensor (inside the housing, but isolated from housing and the electronics) used to calculate CTD output parameters.</dd><dt><span>precision :</span></dt><dd>0</dd><dt><span>coordinates :</span></dt><dd>time lat lon depth</dd><dt><span>long_name :</span></dt><dd>Internal Pressure Sensor Temperature</dd><dt><span>units :</span></dt><dd>counts</dd></dl></div><div class='xr-var-data'><pre>array([18923, 18920, 18928, ..., 17368, 17371, 17361])</pre></div></li><li class='xr-var-item'><div class='xr-var-name'><span>internal_timestamp</span></div><div class='xr-var-dims'>(time)</div><div class='xr-var-dtype'>datetime64[ns]</div><div class='xr-var-preview xr-preview'>2013-11-21T18:16:01 ... 2014-02-...</div><input id='attrs-12a731a8-0632-46a9-a176-5e9d771805be' class='xr-var-attrs-in' type='checkbox' disabled><label for='attrs-12a731a8-0632-46a9-a176-5e9d771805be' title='Show/Hide attributes'><svg class='icon xr-icon-file-text2'><use xlink:href='#icon-file-text2'></use></svg></label><input id='data-1694cb8d-a80d-4ec8-a393-7c085cfe1fb3' class='xr-var-data-in' type='checkbox'><label for='data-1694cb8d-a80d-4ec8-a393-7c085cfe1fb3' title='Show/Hide data repr'><svg class='icon xr-icon-database'><use xlink:href='#icon-database'></use></svg></label><div class='xr-var-attrs'><dl class='xr-attrs'></dl></div><div class='xr-var-data'><pre>array([&#x27;2013-11-21T18:16:01.000000000&#x27;, &#x27;2013-11-21T18:16:11.000000000&#x27;,\n",
       "       &#x27;2013-11-21T18:16:21.000000000&#x27;, ...,\n",
       "       &#x27;2014-02-17T13:26:51.000000000&#x27;, &#x27;2014-02-17T13:27:01.000000000&#x27;,\n",
       "       &#x27;2014-02-17T13:27:11.000000000&#x27;], dtype=&#x27;datetime64[ns]&#x27;)</pre></div></li><li class='xr-var-item'><div class='xr-var-name'><span>sea_water_electrical_conductivity_qc_executed</span></div><div class='xr-var-dims'>(time)</div><div class='xr-var-dtype'>uint8</div><div class='xr-var-preview xr-preview'>29 29 29 29 29 ... 29 29 29 29 29</div><input id='attrs-6437a170-143f-48eb-ac28-f073193a6852' class='xr-var-attrs-in' type='checkbox' ><label for='attrs-6437a170-143f-48eb-ac28-f073193a6852' title='Show/Hide attributes'><svg class='icon xr-icon-file-text2'><use xlink:href='#icon-file-text2'></use></svg></label><input id='data-89e6f56e-1b60-49a7-a462-44877aca8cef' class='xr-var-data-in' type='checkbox'><label for='data-89e6f56e-1b60-49a7-a462-44877aca8cef' title='Show/Hide data repr'><svg class='icon xr-icon-database'><use xlink:href='#icon-database'></use></svg></label><div class='xr-var-attrs'><dl class='xr-attrs'><dt><span>alternate_parameter_name :</span></dt><dd>ctdbp_seawater_conductivity_qc_executed</dd><dt><span>coordinates :</span></dt><dd>time lat lon depth</dd></dl></div><div class='xr-var-data'><pre>array([29, 29, 29, ..., 29, 29, 29], dtype=uint8)</pre></div></li><li class='xr-var-item'><div class='xr-var-name'><span>sea_water_density_qc_results</span></div><div class='xr-var-dims'>(time)</div><div class='xr-var-dtype'>uint8</div><div class='xr-var-preview xr-preview'>13 13 13 13 13 ... 13 13 13 13 13</div><input id='attrs-c6946f32-df91-4859-b9c4-885c1792bf3f' class='xr-var-attrs-in' type='checkbox' ><label for='attrs-c6946f32-df91-4859-b9c4-885c1792bf3f' title='Show/Hide attributes'><svg class='icon xr-icon-file-text2'><use xlink:href='#icon-file-text2'></use></svg></label><input id='data-7f71a9ce-d1a2-4af1-b228-9a065ba6617f' class='xr-var-data-in' type='checkbox'><label for='data-7f71a9ce-d1a2-4af1-b228-9a065ba6617f' title='Show/Hide data repr'><svg class='icon xr-icon-database'><use xlink:href='#icon-database'></use></svg></label><div class='xr-var-attrs'><dl class='xr-attrs'><dt><span>alternate_parameter_name :</span></dt><dd>density_qc_results</dd><dt><span>coordinates :</span></dt><dd>time lat lon depth</dd></dl></div><div class='xr-var-data'><pre>array([13, 13, 13, ..., 13, 13, 13], dtype=uint8)</pre></div></li><li class='xr-var-item'><div class='xr-var-name'><span>sea_water_temperature_qc_results</span></div><div class='xr-var-dims'>(time)</div><div class='xr-var-dtype'>uint8</div><div class='xr-var-preview xr-preview'>29 29 29 29 29 ... 29 29 29 29 29</div><input id='attrs-e5ac7b4f-eec7-4643-9e8a-f81fe8825b50' class='xr-var-attrs-in' type='checkbox' ><label for='attrs-e5ac7b4f-eec7-4643-9e8a-f81fe8825b50' title='Show/Hide attributes'><svg class='icon xr-icon-file-text2'><use xlink:href='#icon-file-text2'></use></svg></label><input id='data-cc9d42ad-81d1-4793-a9f6-8623daf99453' class='xr-var-data-in' type='checkbox'><label for='data-cc9d42ad-81d1-4793-a9f6-8623daf99453' title='Show/Hide data repr'><svg class='icon xr-icon-database'><use xlink:href='#icon-database'></use></svg></label><div class='xr-var-attrs'><dl class='xr-attrs'><dt><span>alternate_parameter_name :</span></dt><dd>ctdbp_seawater_temperature_qc_results</dd><dt><span>coordinates :</span></dt><dd>time lat lon depth</dd></dl></div><div class='xr-var-data'><pre>array([29, 29, 29, ..., 29, 29, 29], dtype=uint8)</pre></div></li><li class='xr-var-item'><div class='xr-var-name'><span>sea_water_pressure_qartod_executed</span></div><div class='xr-var-dims'>(time)</div><div class='xr-var-dtype'>object</div><div class='xr-var-preview xr-preview'>&#x27;1&#x27; &#x27;1&#x27; &#x27;1&#x27; &#x27;1&#x27; ... &#x27;1&#x27; &#x27;1&#x27; &#x27;1&#x27; &#x27;1&#x27;</div><input id='attrs-8c566cd1-ee61-4e78-9823-a8edc3197fa4' class='xr-var-attrs-in' type='checkbox' ><label for='attrs-8c566cd1-ee61-4e78-9823-a8edc3197fa4' title='Show/Hide attributes'><svg class='icon xr-icon-file-text2'><use xlink:href='#icon-file-text2'></use></svg></label><input id='data-d6c5eb23-72c3-43a7-9e8b-9afaefcf4e2a' class='xr-var-data-in' type='checkbox'><label for='data-d6c5eb23-72c3-43a7-9e8b-9afaefcf4e2a' title='Show/Hide data repr'><svg class='icon xr-icon-database'><use xlink:href='#icon-database'></use></svg></label><div class='xr-var-attrs'><dl class='xr-attrs'><dt><span>tests_executed :</span></dt><dd>gross_range_test</dd><dt><span>standard_name :</span></dt><dd>sea_water_pressure status_flag</dd><dt><span>long_name :</span></dt><dd>Seawater Pressure Individual QARTOD Flags</dd><dt><span>references :</span></dt><dd>https://ioos.noaa.gov/project/qartod https://github.com/ioos/ioos_qc</dd><dt><span>comment :</span></dt><dd>Individual QARTOD test flags. For each datum, flags are listed in a string matching the order of the tests_executed attribute. Flags should be interpreted using the standard QARTOD mapping: [1: pass, 2: not_evaluated, 3: suspect_or_of_high_interest, 4: fail, 9: missing_data].</dd><dt><span>alternate_parameter_name :</span></dt><dd>ctdbp_seawater_pressure_qartod_executed</dd><dt><span>coordinates :</span></dt><dd>time lat lon depth</dd></dl></div><div class='xr-var-data'><pre>array([&#x27;1&#x27;, &#x27;1&#x27;, &#x27;1&#x27;, ..., &#x27;1&#x27;, &#x27;1&#x27;, &#x27;1&#x27;], dtype=object)</pre></div></li><li class='xr-var-item'><div class='xr-var-name'><span>sea_water_practical_salinity</span></div><div class='xr-var-dims'>(time)</div><div class='xr-var-dtype'>float64</div><div class='xr-var-preview xr-preview'>33.46 33.46 33.46 ... 33.47 33.47</div><input id='attrs-98179225-2e9f-4aee-ae81-70db2fcf5333' class='xr-var-attrs-in' type='checkbox' ><label for='attrs-98179225-2e9f-4aee-ae81-70db2fcf5333' title='Show/Hide attributes'><svg class='icon xr-icon-file-text2'><use xlink:href='#icon-file-text2'></use></svg></label><input id='data-92cab34f-e5e5-4d01-aa39-7a3de5c82f84' class='xr-var-data-in' type='checkbox'><label for='data-92cab34f-e5e5-4d01-aa39-7a3de5c82f84' title='Show/Hide data repr'><svg class='icon xr-icon-database'><use xlink:href='#icon-database'></use></svg></label><div class='xr-var-attrs'><dl class='xr-attrs'><dt><span>_FillValue :</span></dt><dd>-9999999.0</dd><dt><span>comment :</span></dt><dd>Salinity is generally defined as the concentration of dissolved salt in a parcel of seawater. Practical Salinity is a more specific unitless quantity calculated from the conductivity of seawater and adjusted for temperature and pressure. It is approximately equivalent to Absolute Salinity (the mass fraction of dissolved salt in seawater) but they are not interchangeable.</dd><dt><span>long_name :</span></dt><dd>Practical Salinity</dd><dt><span>precision :</span></dt><dd>4</dd><dt><span>coordinates :</span></dt><dd>time lat lon depth</dd><dt><span>data_product_identifier :</span></dt><dd>PRACSAL_L2</dd><dt><span>standard_name :</span></dt><dd>sea_water_practical_salinity</dd><dt><span>units :</span></dt><dd>1</dd><dt><span>ancillary_variables :</span></dt><dd>practical_salinity_qartod_results practical_salinity_qartod_executed sea_water_pressure sea_water_electrical_conductivity sea_water_temperature</dd><dt><span>alternate_parameter_name :</span></dt><dd>practical_salinity</dd></dl></div><div class='xr-var-data'><pre>array([33.45985975, 33.4597525 , 33.46167279, ..., 33.47374949,\n",
       "       33.47494662, 33.47471179])</pre></div></li><li class='xr-var-item'><div class='xr-var-name'><span>pressure</span></div><div class='xr-var-dims'>(time)</div><div class='xr-var-dtype'>int32</div><div class='xr-var-preview xr-preview'>577429 577994 ... 575486 575890</div><input id='attrs-ba904d4d-87fe-4ed8-a5ed-a776f7a5eb81' class='xr-var-attrs-in' type='checkbox' ><label for='attrs-ba904d4d-87fe-4ed8-a5ed-a776f7a5eb81' title='Show/Hide attributes'><svg class='icon xr-icon-file-text2'><use xlink:href='#icon-file-text2'></use></svg></label><input id='data-27558095-9c12-4edb-b88e-7296ffccdba9' class='xr-var-data-in' type='checkbox'><label for='data-27558095-9c12-4edb-b88e-7296ffccdba9' title='Show/Hide data repr'><svg class='icon xr-icon-database'><use xlink:href='#icon-database'></use></svg></label><div class='xr-var-attrs'><dl class='xr-attrs'><dt><span>_FillValue :</span></dt><dd>-9999999</dd><dt><span>comment :</span></dt><dd>Unprocessed pressure data that are output directly from the sensor. Seawater Pressure refers to the pressure exerted on a sensor in situ by the weight of the column of seawater above it. It is calculated by subtracting one standard atmosphere from the absolute pressure at the sensor to remove the weight of the atmosphere on top of the water column. The pressure at a sensor in situ provides a metric of the depth of that sensor.</dd><dt><span>long_name :</span></dt><dd>Unprocessed (L0) Seawater Pressure</dd><dt><span>precision :</span></dt><dd>0</dd><dt><span>coordinates :</span></dt><dd>time lat lon depth</dd><dt><span>data_product_identifier :</span></dt><dd>PRESWAT_L0</dd><dt><span>units :</span></dt><dd>counts</dd></dl></div><div class='xr-var-data'><pre>array([577429, 577994, 576391, ..., 576652, 575486, 575890])</pre></div></li><li class='xr-var-item'><div class='xr-var-name'><span>sea_water_density_qc_executed</span></div><div class='xr-var-dims'>(time)</div><div class='xr-var-dtype'>uint8</div><div class='xr-var-preview xr-preview'>29 29 29 29 29 ... 29 29 29 29 29</div><input id='attrs-aa51f35d-4d0e-4e39-9e84-403fbbfab875' class='xr-var-attrs-in' type='checkbox' ><label for='attrs-aa51f35d-4d0e-4e39-9e84-403fbbfab875' title='Show/Hide attributes'><svg class='icon xr-icon-file-text2'><use xlink:href='#icon-file-text2'></use></svg></label><input id='data-77f03922-0949-43b6-8762-5f143219791e' class='xr-var-data-in' type='checkbox'><label for='data-77f03922-0949-43b6-8762-5f143219791e' title='Show/Hide data repr'><svg class='icon xr-icon-database'><use xlink:href='#icon-database'></use></svg></label><div class='xr-var-attrs'><dl class='xr-attrs'><dt><span>alternate_parameter_name :</span></dt><dd>density_qc_executed</dd><dt><span>coordinates :</span></dt><dd>time lat lon depth</dd></dl></div><div class='xr-var-data'><pre>array([29, 29, 29, ..., 29, 29, 29], dtype=uint8)</pre></div></li><li class='xr-var-item'><div class='xr-var-name'><span>sea_water_temperature_qartod_executed</span></div><div class='xr-var-dims'>(time)</div><div class='xr-var-dtype'>object</div><div class='xr-var-preview xr-preview'>&#x27;11&#x27; &#x27;11&#x27; &#x27;11&#x27; ... &#x27;11&#x27; &#x27;11&#x27; &#x27;11&#x27;</div><input id='attrs-ba5dcf99-ad77-44cf-88b5-dffa621e1e28' class='xr-var-attrs-in' type='checkbox' ><label for='attrs-ba5dcf99-ad77-44cf-88b5-dffa621e1e28' title='Show/Hide attributes'><svg class='icon xr-icon-file-text2'><use xlink:href='#icon-file-text2'></use></svg></label><input id='data-389138ed-28c9-4924-8596-f42c8cfbdd32' class='xr-var-data-in' type='checkbox'><label for='data-389138ed-28c9-4924-8596-f42c8cfbdd32' title='Show/Hide data repr'><svg class='icon xr-icon-database'><use xlink:href='#icon-database'></use></svg></label><div class='xr-var-attrs'><dl class='xr-attrs'><dt><span>tests_executed :</span></dt><dd>gross_range_test, climatology_test</dd><dt><span>standard_name :</span></dt><dd>sea_water_temperature status_flag</dd><dt><span>long_name :</span></dt><dd>Seawater Temperature Individual QARTOD Flags</dd><dt><span>references :</span></dt><dd>https://ioos.noaa.gov/project/qartod https://github.com/ioos/ioos_qc</dd><dt><span>comment :</span></dt><dd>Individual QARTOD test flags. For each datum, flags are listed in a string matching the order of the tests_executed attribute. Flags should be interpreted using the standard QARTOD mapping: [1: pass, 2: not_evaluated, 3: suspect_or_of_high_interest, 4: fail, 9: missing_data].</dd><dt><span>alternate_parameter_name :</span></dt><dd>ctdbp_seawater_temperature_qartod_executed</dd><dt><span>coordinates :</span></dt><dd>time lat lon depth</dd></dl></div><div class='xr-var-data'><pre>array([&#x27;11&#x27;, &#x27;11&#x27;, &#x27;11&#x27;, ..., &#x27;11&#x27;, &#x27;11&#x27;, &#x27;11&#x27;], dtype=object)</pre></div></li><li class='xr-var-item'><div class='xr-var-name'><span>deployment</span></div><div class='xr-var-dims'>(time)</div><div class='xr-var-dtype'>int32</div><div class='xr-var-preview xr-preview'>1 1 1 1 1 1 1 1 ... 1 1 1 1 1 1 1 1</div><input id='attrs-001cecc4-c86f-4c39-9083-ea9ae25950c0' class='xr-var-attrs-in' type='checkbox' ><label for='attrs-001cecc4-c86f-4c39-9083-ea9ae25950c0' title='Show/Hide attributes'><svg class='icon xr-icon-file-text2'><use xlink:href='#icon-file-text2'></use></svg></label><input id='data-4b0c038a-6bc0-48bc-8b9a-1586921fe8aa' class='xr-var-data-in' type='checkbox'><label for='data-4b0c038a-6bc0-48bc-8b9a-1586921fe8aa' title='Show/Hide data repr'><svg class='icon xr-icon-database'><use xlink:href='#icon-database'></use></svg></label><div class='xr-var-attrs'><dl class='xr-attrs'><dt><span>name :</span></dt><dd>deployment</dd></dl></div><div class='xr-var-data'><pre>array([1, 1, 1, ..., 1, 1, 1])</pre></div></li><li class='xr-var-item'><div class='xr-var-name'><span>pressure_qc_results</span></div><div class='xr-var-dims'>(time)</div><div class='xr-var-dtype'>uint8</div><div class='xr-var-preview xr-preview'>28 28 28 28 28 ... 28 28 28 28 28</div><input id='attrs-c18ab751-1df4-4b19-aab3-3e3922c49198' class='xr-var-attrs-in' type='checkbox' ><label for='attrs-c18ab751-1df4-4b19-aab3-3e3922c49198' title='Show/Hide attributes'><svg class='icon xr-icon-file-text2'><use xlink:href='#icon-file-text2'></use></svg></label><input id='data-f701cdce-61ef-4a79-af92-4cfa8ad96d1e' class='xr-var-data-in' type='checkbox'><label for='data-f701cdce-61ef-4a79-af92-4cfa8ad96d1e' title='Show/Hide data repr'><svg class='icon xr-icon-database'><use xlink:href='#icon-database'></use></svg></label><div class='xr-var-attrs'><dl class='xr-attrs'><dt><span>coordinates :</span></dt><dd>time lat lon depth</dd></dl></div><div class='xr-var-data'><pre>array([28, 28, 28, ..., 28, 28, 28], dtype=uint8)</pre></div></li><li class='xr-var-item'><div class='xr-var-name'><span>pressure_qc_executed</span></div><div class='xr-var-dims'>(time)</div><div class='xr-var-dtype'>uint8</div><div class='xr-var-preview xr-preview'>29 29 29 29 29 ... 29 29 29 29 29</div><input id='attrs-4188744a-099f-48ba-9d82-1b4eb4b64996' class='xr-var-attrs-in' type='checkbox' ><label for='attrs-4188744a-099f-48ba-9d82-1b4eb4b64996' title='Show/Hide attributes'><svg class='icon xr-icon-file-text2'><use xlink:href='#icon-file-text2'></use></svg></label><input id='data-2458ed71-67bd-47bc-a61c-4f0abab4e91f' class='xr-var-data-in' type='checkbox'><label for='data-2458ed71-67bd-47bc-a61c-4f0abab4e91f' title='Show/Hide data repr'><svg class='icon xr-icon-database'><use xlink:href='#icon-database'></use></svg></label><div class='xr-var-attrs'><dl class='xr-attrs'><dt><span>coordinates :</span></dt><dd>time lat lon depth</dd></dl></div><div class='xr-var-data'><pre>array([29, 29, 29, ..., 29, 29, 29], dtype=uint8)</pre></div></li><li class='xr-var-item'><div class='xr-var-name'><span>sea_water_practical_salinity_qc_results</span></div><div class='xr-var-dims'>(time)</div><div class='xr-var-dtype'>uint8</div><div class='xr-var-preview xr-preview'>29 29 29 29 29 ... 29 29 29 29 29</div><input id='attrs-4533e420-97e8-4ebc-b13a-cfacd8fcb3dd' class='xr-var-attrs-in' type='checkbox' ><label for='attrs-4533e420-97e8-4ebc-b13a-cfacd8fcb3dd' title='Show/Hide attributes'><svg class='icon xr-icon-file-text2'><use xlink:href='#icon-file-text2'></use></svg></label><input id='data-34fa95a8-409a-4899-aafd-dfbc88c1498c' class='xr-var-data-in' type='checkbox'><label for='data-34fa95a8-409a-4899-aafd-dfbc88c1498c' title='Show/Hide data repr'><svg class='icon xr-icon-database'><use xlink:href='#icon-database'></use></svg></label><div class='xr-var-attrs'><dl class='xr-attrs'><dt><span>alternate_parameter_name :</span></dt><dd>practical_salinity_qc_results</dd><dt><span>coordinates :</span></dt><dd>time lat lon depth</dd></dl></div><div class='xr-var-data'><pre>array([29, 29, 29, ..., 29, 29, 29], dtype=uint8)</pre></div></li><li class='xr-var-item'><div class='xr-var-name'><span>sea_water_practical_salinity_qartod_results</span></div><div class='xr-var-dims'>(time)</div><div class='xr-var-dtype'>uint8</div><div class='xr-var-preview xr-preview'>1 1 1 1 1 1 1 1 ... 1 1 1 1 1 1 1 1</div><input id='attrs-2a402ee9-f3d0-4859-900c-ceb31fe7ffac' class='xr-var-attrs-in' type='checkbox' ><label for='attrs-2a402ee9-f3d0-4859-900c-ceb31fe7ffac' title='Show/Hide attributes'><svg class='icon xr-icon-file-text2'><use xlink:href='#icon-file-text2'></use></svg></label><input id='data-ee80ca1f-5375-4e09-b159-c52cf16cd7ff' class='xr-var-data-in' type='checkbox'><label for='data-ee80ca1f-5375-4e09-b159-c52cf16cd7ff' title='Show/Hide data repr'><svg class='icon xr-icon-database'><use xlink:href='#icon-database'></use></svg></label><div class='xr-var-attrs'><dl class='xr-attrs'><dt><span>flag_values :</span></dt><dd>[1 2 3 4 9]</dd><dt><span>flag_meanings :</span></dt><dd>pass not_evaluated suspect_or_of_high_interest fail missing_data</dd><dt><span>standard_name :</span></dt><dd>sea_water_practical_salinity status_flag</dd><dt><span>long_name :</span></dt><dd>Practical Salinity QARTOD Summary Flag</dd><dt><span>references :</span></dt><dd>https://ioos.noaa.gov/project/qartod https://github.com/ioos/ioos_qc</dd><dt><span>comment :</span></dt><dd>Summary QARTOD test flags. For each datum, the flag is set to the most significant result of all QARTOD tests run for that datum.</dd><dt><span>alternate_parameter_name :</span></dt><dd>practical_salinity_qartod_results</dd><dt><span>coordinates :</span></dt><dd>time lat lon depth</dd></dl></div><div class='xr-var-data'><pre>array([1, 1, 1, ..., 1, 1, 1], dtype=uint8)</pre></div></li><li class='xr-var-item'><div class='xr-var-name'><span>sea_water_electrical_conductivity</span></div><div class='xr-var-dims'>(time)</div><div class='xr-var-dtype'>float64</div><div class='xr-var-preview xr-preview'>3.972 3.971 3.973 ... 3.414 3.414</div><input id='attrs-b70525dc-814b-4ef2-9011-8288704fb3df' class='xr-var-attrs-in' type='checkbox' ><label for='attrs-b70525dc-814b-4ef2-9011-8288704fb3df' title='Show/Hide attributes'><svg class='icon xr-icon-file-text2'><use xlink:href='#icon-file-text2'></use></svg></label><input id='data-4c6ea1ca-43f2-427c-853a-fbcb0225341e' class='xr-var-data-in' type='checkbox'><label for='data-4c6ea1ca-43f2-427c-853a-fbcb0225341e' title='Show/Hide data repr'><svg class='icon xr-icon-database'><use xlink:href='#icon-database'></use></svg></label><div class='xr-var-attrs'><dl class='xr-attrs'><dt><span>_FillValue :</span></dt><dd>-9999999.0</dd><dt><span>comment :</span></dt><dd>Seawater conductivity refers to the ability of seawater to conduct electricity. The presence of ions in the seawater, such as salt, increases the electrical conducting ability of seawater. As such, conductivity can be used as a proxy for determining the quantity of salt in a sample of seawater.</dd><dt><span>long_name :</span></dt><dd>Seawater Conductivity</dd><dt><span>precision :</span></dt><dd>6</dd><dt><span>coordinates :</span></dt><dd>time lat lon depth</dd><dt><span>data_product_identifier :</span></dt><dd>CONDWAT_L1</dd><dt><span>standard_name :</span></dt><dd>sea_water_electrical_conductivity</dd><dt><span>units :</span></dt><dd>S m-1</dd><dt><span>ancillary_variables :</span></dt><dd>ctdbp_seawater_conductivity_qartod_results ctdbp_seawater_conductivity_qartod_executed sea_water_pressure sea_water_temperature conductivity</dd><dt><span>alternate_parameter_name :</span></dt><dd>ctdbp_seawater_conductivity</dd></dl></div><div class='xr-var-data'><pre>array([3.97164328, 3.97104689, 3.97311846, ..., 3.41353464, 3.41380616,\n",
       "       3.41381224])</pre></div></li><li class='xr-var-item'><div class='xr-var-name'><span>sea_water_electrical_conductivity_qc_results</span></div><div class='xr-var-dims'>(time)</div><div class='xr-var-dtype'>uint8</div><div class='xr-var-preview xr-preview'>13 13 13 13 13 ... 13 13 13 13 13</div><input id='attrs-2c17255d-49a6-4da2-869e-adfd76c792da' class='xr-var-attrs-in' type='checkbox' ><label for='attrs-2c17255d-49a6-4da2-869e-adfd76c792da' title='Show/Hide attributes'><svg class='icon xr-icon-file-text2'><use xlink:href='#icon-file-text2'></use></svg></label><input id='data-ef2c9b7c-9aba-4e73-9398-233fd354e50f' class='xr-var-data-in' type='checkbox'><label for='data-ef2c9b7c-9aba-4e73-9398-233fd354e50f' title='Show/Hide data repr'><svg class='icon xr-icon-database'><use xlink:href='#icon-database'></use></svg></label><div class='xr-var-attrs'><dl class='xr-attrs'><dt><span>alternate_parameter_name :</span></dt><dd>ctdbp_seawater_conductivity_qc_results</dd><dt><span>coordinates :</span></dt><dd>time lat lon depth</dd></dl></div><div class='xr-var-data'><pre>array([13, 13, 13, ..., 13, 13, 13], dtype=uint8)</pre></div></li><li class='xr-var-item'><div class='xr-var-name'><span>conductivity_qc_executed</span></div><div class='xr-var-dims'>(time)</div><div class='xr-var-dtype'>uint8</div><div class='xr-var-preview xr-preview'>29 29 29 29 29 ... 29 29 29 29 29</div><input id='attrs-0361eb04-e066-4908-adf8-b00ca6106930' class='xr-var-attrs-in' type='checkbox' ><label for='attrs-0361eb04-e066-4908-adf8-b00ca6106930' title='Show/Hide attributes'><svg class='icon xr-icon-file-text2'><use xlink:href='#icon-file-text2'></use></svg></label><input id='data-09626a52-9e74-481a-a89f-c4e578f22c78' class='xr-var-data-in' type='checkbox'><label for='data-09626a52-9e74-481a-a89f-c4e578f22c78' title='Show/Hide data repr'><svg class='icon xr-icon-database'><use xlink:href='#icon-database'></use></svg></label><div class='xr-var-attrs'><dl class='xr-attrs'><dt><span>coordinates :</span></dt><dd>time lat lon depth</dd></dl></div><div class='xr-var-data'><pre>array([29, 29, 29, ..., 29, 29, 29], dtype=uint8)</pre></div></li><li class='xr-var-item'><div class='xr-var-name'><span>sea_water_temperature_qc_executed</span></div><div class='xr-var-dims'>(time)</div><div class='xr-var-dtype'>uint8</div><div class='xr-var-preview xr-preview'>29 29 29 29 29 ... 29 29 29 29 29</div><input id='attrs-7058c1d1-bfab-4c23-99ac-b51e921eec87' class='xr-var-attrs-in' type='checkbox' ><label for='attrs-7058c1d1-bfab-4c23-99ac-b51e921eec87' title='Show/Hide attributes'><svg class='icon xr-icon-file-text2'><use xlink:href='#icon-file-text2'></use></svg></label><input id='data-fa3f4771-62ea-479c-aef8-e990d83ff4bb' class='xr-var-data-in' type='checkbox'><label for='data-fa3f4771-62ea-479c-aef8-e990d83ff4bb' title='Show/Hide data repr'><svg class='icon xr-icon-database'><use xlink:href='#icon-database'></use></svg></label><div class='xr-var-attrs'><dl class='xr-attrs'><dt><span>alternate_parameter_name :</span></dt><dd>ctdbp_seawater_temperature_qc_executed</dd><dt><span>coordinates :</span></dt><dd>time lat lon depth</dd></dl></div><div class='xr-var-data'><pre>array([29, 29, 29, ..., 29, 29, 29], dtype=uint8)</pre></div></li><li class='xr-var-item'><div class='xr-var-name'><span>sea_water_density</span></div><div class='xr-var-dims'>(time)</div><div class='xr-var-dtype'>float64</div><div class='xr-var-preview xr-preview'>1.025e+03 1.025e+03 ... 1.026e+03</div><input id='attrs-ff221295-d212-46f6-81fb-bca5f5b4e7a2' class='xr-var-attrs-in' type='checkbox' ><label for='attrs-ff221295-d212-46f6-81fb-bca5f5b4e7a2' title='Show/Hide attributes'><svg class='icon xr-icon-file-text2'><use xlink:href='#icon-file-text2'></use></svg></label><input id='data-878864db-6b1f-4fb5-bbe4-4905847183d1' class='xr-var-data-in' type='checkbox'><label for='data-878864db-6b1f-4fb5-bbe4-4905847183d1' title='Show/Hide data repr'><svg class='icon xr-icon-database'><use xlink:href='#icon-database'></use></svg></label><div class='xr-var-attrs'><dl class='xr-attrs'><dt><span>_FillValue :</span></dt><dd>-9999999.0</dd><dt><span>comment :</span></dt><dd>Seawater Density is defined as mass per unit volume and is calculated from the conductivity, temperature and depth of a seawater sample using the TEOS-10 equation.</dd><dt><span>long_name :</span></dt><dd>Seawater Density</dd><dt><span>precision :</span></dt><dd>3</dd><dt><span>coordinates :</span></dt><dd>time lat lon depth</dd><dt><span>data_product_identifier :</span></dt><dd>DENSITY_L2</dd><dt><span>standard_name :</span></dt><dd>sea_water_density</dd><dt><span>units :</span></dt><dd>kg m-3</dd><dt><span>alternate_parameter_name :</span></dt><dd>density</dd><dt><span>ancillary_variables :</span></dt><dd>sea_water_pressure sea_water_practical_salinity sea_water_temperature</dd></dl></div><div class='xr-var-data'><pre>array([1025.15905506, 1025.16109208, 1025.1561141 , ..., 1026.21503326,\n",
       "       1026.21391574, 1026.21431433])</pre></div></li><li class='xr-var-item'><div class='xr-var-name'><span>depth</span></div><div class='xr-var-dims'>(time)</div><div class='xr-var-dtype'>float64</div><div class='xr-var-preview xr-preview'>7.314 7.5 6.971 ... 6.666 6.799</div><input id='attrs-0cad2459-48c2-49ea-a29a-70f230ee4126' class='xr-var-attrs-in' type='checkbox' ><label for='attrs-0cad2459-48c2-49ea-a29a-70f230ee4126' title='Show/Hide attributes'><svg class='icon xr-icon-file-text2'><use xlink:href='#icon-file-text2'></use></svg></label><input id='data-087dc200-fbec-4b58-9699-a2937809c23f' class='xr-var-data-in' type='checkbox'><label for='data-087dc200-fbec-4b58-9699-a2937809c23f' title='Show/Hide data repr'><svg class='icon xr-icon-database'><use xlink:href='#icon-database'></use></svg></label><div class='xr-var-attrs'><dl class='xr-attrs'><dt><span>_FillValue :</span></dt><dd>-9999999.0</dd><dt><span>comment :</span></dt><dd>Depth (m) calculated from pressure (dbar) and latitude.</dd><dt><span>precision :</span></dt><dd>3</dd><dt><span>long_name :</span></dt><dd>Depth calculated from pressure</dd><dt><span>units :</span></dt><dd>m</dd><dt><span>ancillary_variables :</span></dt><dd>sea_water_pressure</dd><dt><span>axis :</span></dt><dd>Z</dd></dl></div><div class='xr-var-data'><pre>array([7.31354785, 7.50020563, 6.97061685, ..., 7.05067942, 6.66550139,\n",
       "       6.79894274])</pre></div></li><li class='xr-var-item'><div class='xr-var-name'><span>sea_water_pressure_qartod_results</span></div><div class='xr-var-dims'>(time)</div><div class='xr-var-dtype'>uint8</div><div class='xr-var-preview xr-preview'>1 1 1 1 1 1 1 1 ... 1 1 1 1 1 1 1 1</div><input id='attrs-81a207be-524e-4be6-8c18-2ee5a9bb8ebb' class='xr-var-attrs-in' type='checkbox' ><label for='attrs-81a207be-524e-4be6-8c18-2ee5a9bb8ebb' title='Show/Hide attributes'><svg class='icon xr-icon-file-text2'><use xlink:href='#icon-file-text2'></use></svg></label><input id='data-b5aaab07-9fa1-4aed-a440-98e49b3b9552' class='xr-var-data-in' type='checkbox'><label for='data-b5aaab07-9fa1-4aed-a440-98e49b3b9552' title='Show/Hide data repr'><svg class='icon xr-icon-database'><use xlink:href='#icon-database'></use></svg></label><div class='xr-var-attrs'><dl class='xr-attrs'><dt><span>flag_values :</span></dt><dd>[1 2 3 4 9]</dd><dt><span>flag_meanings :</span></dt><dd>pass not_evaluated suspect_or_of_high_interest fail missing_data</dd><dt><span>standard_name :</span></dt><dd>sea_water_pressure status_flag</dd><dt><span>long_name :</span></dt><dd>Seawater Pressure QARTOD Summary Flag</dd><dt><span>references :</span></dt><dd>https://ioos.noaa.gov/project/qartod https://github.com/ioos/ioos_qc</dd><dt><span>comment :</span></dt><dd>Summary QARTOD test flags. For each datum, the flag is set to the most significant result of all QARTOD tests run for that datum.</dd><dt><span>alternate_parameter_name :</span></dt><dd>ctdbp_seawater_pressure_qartod_results</dd><dt><span>coordinates :</span></dt><dd>time lat lon depth</dd></dl></div><div class='xr-var-data'><pre>array([1, 1, 1, ..., 1, 1, 1], dtype=uint8)</pre></div></li><li class='xr-var-item'><div class='xr-var-name'><span>sea_water_electrical_conductivity_qartod_executed</span></div><div class='xr-var-dims'>(time)</div><div class='xr-var-dtype'>object</div><div class='xr-var-preview xr-preview'>&#x27;1&#x27; &#x27;1&#x27; &#x27;1&#x27; &#x27;1&#x27; ... &#x27;1&#x27; &#x27;1&#x27; &#x27;1&#x27; &#x27;1&#x27;</div><input id='attrs-bb40436a-1601-4809-a768-13716e59434f' class='xr-var-attrs-in' type='checkbox' ><label for='attrs-bb40436a-1601-4809-a768-13716e59434f' title='Show/Hide attributes'><svg class='icon xr-icon-file-text2'><use xlink:href='#icon-file-text2'></use></svg></label><input id='data-800ca646-12b3-4d50-9def-208319ecfe85' class='xr-var-data-in' type='checkbox'><label for='data-800ca646-12b3-4d50-9def-208319ecfe85' title='Show/Hide data repr'><svg class='icon xr-icon-database'><use xlink:href='#icon-database'></use></svg></label><div class='xr-var-attrs'><dl class='xr-attrs'><dt><span>tests_executed :</span></dt><dd>gross_range_test</dd><dt><span>standard_name :</span></dt><dd>sea_water_electrical_conductivity status_flag</dd><dt><span>long_name :</span></dt><dd>Seawater Conductivity Individual QARTOD Flags</dd><dt><span>references :</span></dt><dd>https://ioos.noaa.gov/project/qartod https://github.com/ioos/ioos_qc</dd><dt><span>comment :</span></dt><dd>Individual QARTOD test flags. For each datum, flags are listed in a string matching the order of the tests_executed attribute. Flags should be interpreted using the standard QARTOD mapping: [1: pass, 2: not_evaluated, 3: suspect_or_of_high_interest, 4: fail, 9: missing_data].</dd><dt><span>alternate_parameter_name :</span></dt><dd>ctdbp_seawater_conductivity_qartod_executed</dd><dt><span>coordinates :</span></dt><dd>time lat lon depth</dd></dl></div><div class='xr-var-data'><pre>array([&#x27;1&#x27;, &#x27;1&#x27;, &#x27;1&#x27;, ..., &#x27;1&#x27;, &#x27;1&#x27;, &#x27;1&#x27;], dtype=object)</pre></div></li><li class='xr-var-item'><div class='xr-var-name'><span>sea_water_temperature</span></div><div class='xr-var-dims'>(time)</div><div class='xr-var-dtype'>float64</div><div class='xr-var-preview xr-preview'>13.39 13.39 13.41 ... 7.267 7.267</div><input id='attrs-45b3b6df-bcd4-4f19-b4ff-486418690549' class='xr-var-attrs-in' type='checkbox' ><label for='attrs-45b3b6df-bcd4-4f19-b4ff-486418690549' title='Show/Hide attributes'><svg class='icon xr-icon-file-text2'><use xlink:href='#icon-file-text2'></use></svg></label><input id='data-6535397f-0984-4718-8dd6-cce4eb8ca366' class='xr-var-data-in' type='checkbox'><label for='data-6535397f-0984-4718-8dd6-cce4eb8ca366' title='Show/Hide data repr'><svg class='icon xr-icon-database'><use xlink:href='#icon-database'></use></svg></label><div class='xr-var-attrs'><dl class='xr-attrs'><dt><span>_FillValue :</span></dt><dd>-9999999.0</dd><dt><span>comment :</span></dt><dd>Seawater temperature near the sensor.</dd><dt><span>long_name :</span></dt><dd>Seawater Temperature</dd><dt><span>precision :</span></dt><dd>4</dd><dt><span>coordinates :</span></dt><dd>time lat lon depth</dd><dt><span>data_product_identifier :</span></dt><dd>TEMPWAT_L1</dd><dt><span>standard_name :</span></dt><dd>sea_water_temperature</dd><dt><span>units :</span></dt><dd>degrees_Celsius</dd><dt><span>ancillary_variables :</span></dt><dd>ctdbp_seawater_temperature_qartod_results ctdbp_seawater_temperature_qartod_executed temperature</dd><dt><span>alternate_parameter_name :</span></dt><dd>ctdbp_seawater_temperature</dd></dl></div><div class='xr-var-data'><pre>array([13.39356644, 13.3872216 , 13.40744111, ...,  7.26504252,\n",
       "        7.26705177,  7.26729532])</pre></div></li><li class='xr-var-item'><div class='xr-var-name'><span>sea_water_practical_salinity_qartod_executed</span></div><div class='xr-var-dims'>(time)</div><div class='xr-var-dtype'>object</div><div class='xr-var-preview xr-preview'>&#x27;11&#x27; &#x27;11&#x27; &#x27;11&#x27; ... &#x27;11&#x27; &#x27;11&#x27; &#x27;11&#x27;</div><input id='attrs-3057f556-1fdd-4f0b-a03b-af41be29ba53' class='xr-var-attrs-in' type='checkbox' ><label for='attrs-3057f556-1fdd-4f0b-a03b-af41be29ba53' title='Show/Hide attributes'><svg class='icon xr-icon-file-text2'><use xlink:href='#icon-file-text2'></use></svg></label><input id='data-0992866e-0090-42fb-8ad5-f5f78988b9bf' class='xr-var-data-in' type='checkbox'><label for='data-0992866e-0090-42fb-8ad5-f5f78988b9bf' title='Show/Hide data repr'><svg class='icon xr-icon-database'><use xlink:href='#icon-database'></use></svg></label><div class='xr-var-attrs'><dl class='xr-attrs'><dt><span>tests_executed :</span></dt><dd>gross_range_test, climatology_test</dd><dt><span>standard_name :</span></dt><dd>sea_water_practical_salinity status_flag</dd><dt><span>long_name :</span></dt><dd>Practical Salinity Individual QARTOD Flags</dd><dt><span>references :</span></dt><dd>https://ioos.noaa.gov/project/qartod https://github.com/ioos/ioos_qc</dd><dt><span>comment :</span></dt><dd>Individual QARTOD test flags. For each datum, flags are listed in a string matching the order of the tests_executed attribute. Flags should be interpreted using the standard QARTOD mapping: [1: pass, 2: not_evaluated, 3: suspect_or_of_high_interest, 4: fail, 9: missing_data].</dd><dt><span>alternate_parameter_name :</span></dt><dd>practical_salinity_qartod_executed</dd><dt><span>coordinates :</span></dt><dd>time lat lon depth</dd></dl></div><div class='xr-var-data'><pre>array([&#x27;11&#x27;, &#x27;11&#x27;, &#x27;11&#x27;, ..., &#x27;11&#x27;, &#x27;11&#x27;, &#x27;11&#x27;], dtype=object)</pre></div></li></ul></div></li><li class='xr-section-item'><input id='section-8c3a792a-3442-4407-9de3-fc5811baa879' class='xr-section-summary-in' type='checkbox'  ><label for='section-8c3a792a-3442-4407-9de3-fc5811baa879' class='xr-section-summary' >Indexes: <span>(1)</span></label><div class='xr-section-inline-details'></div><div class='xr-section-details'><ul class='xr-var-list'><li class='xr-var-item'><div class='xr-index-name'><div>time</div></div><div class='xr-index-preview'>PandasIndex</div><div></div><input id='index-ded3ed00-77cd-4fae-89dc-0de463a7b90f' class='xr-index-data-in' type='checkbox'/><label for='index-ded3ed00-77cd-4fae-89dc-0de463a7b90f' title='Show/Hide index repr'><svg class='icon xr-icon-database'><use xlink:href='#icon-database'></use></svg></label><div class='xr-index-data'><pre>PandasIndex(DatetimeIndex([&#x27;2013-11-21 18:16:01&#x27;, &#x27;2013-11-21 18:16:11&#x27;,\n",
       "               &#x27;2013-11-21 18:16:21&#x27;, &#x27;2013-11-21 18:16:31&#x27;,\n",
       "               &#x27;2013-11-21 18:16:41&#x27;, &#x27;2013-11-21 18:16:51&#x27;,\n",
       "               &#x27;2013-11-21 18:17:01&#x27;, &#x27;2013-11-21 18:17:11&#x27;,\n",
       "               &#x27;2013-11-21 18:20:22&#x27;, &#x27;2013-11-21 18:20:32&#x27;,\n",
       "               ...\n",
       "               &#x27;2014-02-17 13:25:41&#x27;, &#x27;2014-02-17 13:25:51&#x27;,\n",
       "               &#x27;2014-02-17 13:26:01&#x27;, &#x27;2014-02-17 13:26:11&#x27;,\n",
       "               &#x27;2014-02-17 13:26:21&#x27;, &#x27;2014-02-17 13:26:31&#x27;,\n",
       "               &#x27;2014-02-17 13:26:41&#x27;, &#x27;2014-02-17 13:26:51&#x27;,\n",
       "               &#x27;2014-02-17 13:27:01&#x27;, &#x27;2014-02-17 13:27:11&#x27;],\n",
       "              dtype=&#x27;datetime64[ns]&#x27;, name=&#x27;time&#x27;, length=303449, freq=None))</pre></div></li></ul></div></li><li class='xr-section-item'><input id='section-9ecfa25d-bb7b-47a3-ad4a-0fcadc4d25f6' class='xr-section-summary-in' type='checkbox'  ><label for='section-9ecfa25d-bb7b-47a3-ad4a-0fcadc4d25f6' class='xr-section-summary' >Attributes: <span>(69)</span></label><div class='xr-section-inline-details'></div><div class='xr-section-details'><dl class='xr-attrs'><dt><span>node :</span></dt><dd>RID27</dd><dt><span>comment :</span></dt><dd>Data collected from the OOI M2M API and reworked for use in locally stored NetCDF files.</dd><dt><span>publisher_email :</span></dt><dd></dd><dt><span>sourceUrl :</span></dt><dd>http://oceanobservatories.org/</dd><dt><span>collection_method :</span></dt><dd>recovered_inst</dd><dt><span>stream :</span></dt><dd>ctdbp_cdef_instrument_recovered</dd><dt><span>featureType :</span></dt><dd>timeSeries</dd><dt><span>creator_email :</span></dt><dd></dd><dt><span>publisher_name :</span></dt><dd>Ocean Observatories Initiative</dd><dt><span>date_modified :</span></dt><dd>2022-09-15T04:03:48.267204</dd><dt><span>keywords :</span></dt><dd></dd><dt><span>cdm_data_type :</span></dt><dd>Station</dd><dt><span>references :</span></dt><dd>More information can be found at http://oceanobservatories.org/</dd><dt><span>Metadata_Conventions :</span></dt><dd>Unidata Dataset Discovery v1.0</dd><dt><span>date_created :</span></dt><dd>2022-09-15T04:03:48.267202</dd><dt><span>id :</span></dt><dd>CP01CNSM-RID27-03-CTDBPC000-recovered_inst-ctdbp_cdef_instrument_recovered</dd><dt><span>requestUUID :</span></dt><dd>4e899523-4167-4645-8828-7dd2a8e4b69e</dd><dt><span>contributor_role :</span></dt><dd></dd><dt><span>summary :</span></dt><dd>Dataset Generated by Stream Engine from Ocean Observatories Initiative</dd><dt><span>keywords_vocabulary :</span></dt><dd></dd><dt><span>institution :</span></dt><dd>Ocean Observatories Initiative</dd><dt><span>naming_authority :</span></dt><dd>org.oceanobservatories</dd><dt><span>infoUrl :</span></dt><dd>http://oceanobservatories.org/</dd><dt><span>license :</span></dt><dd></dd><dt><span>contributor_name :</span></dt><dd></dd><dt><span>uuid :</span></dt><dd>4e899523-4167-4645-8828-7dd2a8e4b69e</dd><dt><span>creator_name :</span></dt><dd>Ocean Observatories Initiative</dd><dt><span>title :</span></dt><dd>Data produced by Stream Engine version 1.20.2 for CP01CNSM-RID27-03-CTDBPC000-recovered_inst-ctdbp_cdef_instrument_recovered</dd><dt><span>sensor :</span></dt><dd>03-CTDBPC000</dd><dt><span>standard_name_vocabulary :</span></dt><dd>NetCDF Climate and Forecast (CF) Metadata Convention Standard Name Table 29</dd><dt><span>acknowledgement :</span></dt><dd>National Science Foundation</dd><dt><span>Conventions :</span></dt><dd>CF-1.6</dd><dt><span>project :</span></dt><dd>Ocean Observatories Initiative</dd><dt><span>source :</span></dt><dd>CP01CNSM-RID27-03-CTDBPC000-recovered_inst-ctdbp_cdef_instrument_recovered</dd><dt><span>publisher_url :</span></dt><dd>http://oceanobservatories.org/</dd><dt><span>creator_url :</span></dt><dd>http://oceanobservatories.org/</dd><dt><span>nodc_template_version :</span></dt><dd>NODC_NetCDF_TimeSeries_Orthogonal_Template_v1.1</dd><dt><span>subsite :</span></dt><dd>CP01CNSM</dd><dt><span>processing_level :</span></dt><dd>L2</dd><dt><span>history :</span></dt><dd>2022-09-15T04:03:48.267151 generated from Stream Engine</dd><dt><span>Manufacturer :</span></dt><dd>Sea-Bird Electronics</dd><dt><span>ModelNumber :</span></dt><dd>SBE 16plus V2</dd><dt><span>SerialNumber :</span></dt><dd>16P71174-7208</dd><dt><span>Description :</span></dt><dd>CTD Pumped: CTDBP Series C</dd><dt><span>FirmwareVersion :</span></dt><dd>2.5</dd><dt><span>SoftwareVersion :</span></dt><dd>Not specified.</dd><dt><span>AssetUniqueID :</span></dt><dd>CGINS-CTDBPC-07208</dd><dt><span>Notes :</span></dt><dd>Not specified.</dd><dt><span>Owner :</span></dt><dd>Not specified.</dd><dt><span>RemoteResources :</span></dt><dd>[]</dd><dt><span>ShelfLifeExpirationDate :</span></dt><dd>Not specified.</dd><dt><span>Mobile :</span></dt><dd>False</dd><dt><span>AssetManagementRecordLastModified :</span></dt><dd>2022-09-02T13:10:19.801000</dd><dt><span>time_coverage_start :</span></dt><dd>2013-11-21T18:16:01</dd><dt><span>time_coverage_end :</span></dt><dd>2014-02-17T13:27:11</dd><dt><span>time_coverage_resolution :</span></dt><dd>P25.00S</dd><dt><span>geospatial_lat_min :</span></dt><dd>40.13678</dd><dt><span>geospatial_lat_max :</span></dt><dd>40.13678</dd><dt><span>geospatial_lat_units :</span></dt><dd>degrees_north</dd><dt><span>geospatial_lat_resolution :</span></dt><dd>0.1</dd><dt><span>geospatial_lon_min :</span></dt><dd>-70.76978</dd><dt><span>geospatial_lon_max :</span></dt><dd>-70.76978</dd><dt><span>geospatial_lon_units :</span></dt><dd>degrees_east</dd><dt><span>geospatial_lon_resolution :</span></dt><dd>0.1</dd><dt><span>geospatial_vertical_units :</span></dt><dd>meters</dd><dt><span>geospatial_vertical_resolution :</span></dt><dd>0.1</dd><dt><span>geospatial_vertical_positive :</span></dt><dd>down</dd><dt><span>lat :</span></dt><dd>40.13678</dd><dt><span>lon :</span></dt><dd>-70.76978</dd></dl></div></li></ul></div></div>"
      ],
      "text/plain": [
       "<xarray.Dataset>\n",
       "Dimensions:                                            (time: 303449)\n",
       "Coordinates:\n",
       "  * time                                               (time) datetime64[ns] ...\n",
       "Data variables: (12/35)\n",
       "    sea_water_pressure_qc_results                      (time) uint8 29 29 ... 29\n",
       "    sea_water_pressure                                 (time) float64 7.37 .....\n",
       "    sea_water_electrical_conductivity_qartod_results   (time) uint8 1 1 ... 1 1\n",
       "    sea_water_pressure_qc_executed                     (time) uint8 29 29 ... 29\n",
       "    ctd_time                                           (time) int32 438372961...\n",
       "    sea_water_practical_salinity_qc_executed           (time) uint8 29 29 ... 29\n",
       "    ...                                                 ...\n",
       "    sea_water_density                                  (time) float64 1.025e+...\n",
       "    depth                                              (time) float64 7.314 ....\n",
       "    sea_water_pressure_qartod_results                  (time) uint8 1 1 ... 1 1\n",
       "    sea_water_electrical_conductivity_qartod_executed  (time) object '1' ... '1'\n",
       "    sea_water_temperature                              (time) float64 13.39 ....\n",
       "    sea_water_practical_salinity_qartod_executed       (time) object '11' ......\n",
       "Attributes: (12/69)\n",
       "    node:                               RID27\n",
       "    comment:                            Data collected from the OOI M2M API a...\n",
       "    publisher_email:                    \n",
       "    sourceUrl:                          http://oceanobservatories.org/\n",
       "    collection_method:                  recovered_inst\n",
       "    stream:                             ctdbp_cdef_instrument_recovered\n",
       "    ...                                 ...\n",
       "    geospatial_lon_resolution:          0.1\n",
       "    geospatial_vertical_units:          meters\n",
       "    geospatial_vertical_resolution:     0.1\n",
       "    geospatial_vertical_positive:       down\n",
       "    lat:                                40.13678\n",
       "    lon:                                -70.76978"
      ]
     },
     "execution_count": 6,
     "metadata": {},
     "output_type": "execute_result"
    }
   ],
   "source": [
    "ds = process_file(file, gc=True)\n",
    "ds"
   ]
  },
  {
   "cell_type": "code",
   "execution_count": 5,
   "id": "399a4282",
   "metadata": {},
   "outputs": [],
   "source": [
    "# Now build the url to access the data\n",
    "sensor_files = [re.sub(\"catalog.html\\?dataset=\", M2M.URLS[\"goldCopy_dodsC\"], file) for file in sensor_files]\n",
    "sensor_files = [re.sub(\"https\", \"http\", file) for file in sensor_files]\n",
    "\n",
    "# build path to folder where data will be saved\n",
    "folder_path = os.path.join(os.path.relpath('../data'), 'external', method, stream, refdes)\n",
    "# make folder if it does not already exist\n",
    "if not os.path.exists(folder_path):\n",
    "    os.makedirs(folder_path)"
   ]
  },
  {
   "cell_type": "code",
   "execution_count": 6,
   "id": "30e697b2",
   "metadata": {},
   "outputs": [
    {
     "data": {
      "text/plain": [
       "['http://thredds.dataexplorer.oceanobservatories.org/thredds/dodsC/ooigoldcopy/public/CP01CNSM-RID27-03-CTDBPC000-recovered_inst-ctdbp_cdef_instrument_recovered/deployment0001_CP01CNSM-RID27-03-CTDBPC000-recovered_inst-ctdbp_cdef_instrument_recovered_20131121T181601-20140217T132711.nc',\n",
       " 'http://thredds.dataexplorer.oceanobservatories.org/thredds/dodsC/ooigoldcopy/public/CP01CNSM-RID27-03-CTDBPC000-recovered_inst-ctdbp_cdef_instrument_recovered/deployment0004_CP01CNSM-RID27-03-CTDBPC000-recovered_inst-ctdbp_cdef_instrument_recovered_20151023T191528-20160402T034848.nc',\n",
       " 'http://thredds.dataexplorer.oceanobservatories.org/thredds/dodsC/ooigoldcopy/public/CP01CNSM-RID27-03-CTDBPC000-recovered_inst-ctdbp_cdef_instrument_recovered/deployment0005_CP01CNSM-RID27-03-CTDBPC000-recovered_inst-ctdbp_cdef_instrument_recovered_20160513T135001-20161013T193001.nc',\n",
       " 'http://thredds.dataexplorer.oceanobservatories.org/thredds/dodsC/ooigoldcopy/public/CP01CNSM-RID27-03-CTDBPC000-recovered_inst-ctdbp_cdef_instrument_recovered/deployment0006_CP01CNSM-RID27-03-CTDBPC000-recovered_inst-ctdbp_cdef_instrument_recovered_20161013T183731-20161122T190001.nc',\n",
       " 'http://thredds.dataexplorer.oceanobservatories.org/thredds/dodsC/ooigoldcopy/public/CP01CNSM-RID27-03-CTDBPC000-recovered_inst-ctdbp_cdef_instrument_recovered/deployment0007_CP01CNSM-RID27-03-CTDBPC000-recovered_inst-ctdbp_cdef_instrument_recovered_20170609T142931-20171101T202931.nc',\n",
       " 'http://thredds.dataexplorer.oceanobservatories.org/thredds/dodsC/ooigoldcopy/public/CP01CNSM-RID27-03-CTDBPC000-recovered_inst-ctdbp_cdef_instrument_recovered/deployment0008_CP01CNSM-RID27-03-CTDBPC000-recovered_inst-ctdbp_cdef_instrument_recovered_20171029T141519-20180329T190320.nc',\n",
       " 'http://thredds.dataexplorer.oceanobservatories.org/thredds/dodsC/ooigoldcopy/public/CP01CNSM-RID27-03-CTDBPC000-recovered_inst-ctdbp_cdef_instrument_recovered/deployment0009_CP01CNSM-RID27-03-CTDBPC000-recovered_inst-ctdbp_cdef_instrument_recovered_20180324T213207-20180502T203844.nc',\n",
       " 'http://thredds.dataexplorer.oceanobservatories.org/thredds/dodsC/ooigoldcopy/public/CP01CNSM-RID27-03-CTDBPC000-recovered_inst-ctdbp_cdef_instrument_recovered/deployment0010_CP01CNSM-RID27-03-CTDBPC000-recovered_inst-ctdbp_cdef_instrument_recovered_20181030T014808-20190407T131809.nc',\n",
       " 'http://thredds.dataexplorer.oceanobservatories.org/thredds/dodsC/ooigoldcopy/public/CP01CNSM-RID27-03-CTDBPC000-recovered_inst-ctdbp_cdef_instrument_recovered/deployment0011_CP01CNSM-RID27-03-CTDBPC000-recovered_inst-ctdbp_cdef_instrument_recovered_20190406T144517-20190926T161808.nc',\n",
       " 'http://thredds.dataexplorer.oceanobservatories.org/thredds/dodsC/ooigoldcopy/public/CP01CNSM-RID27-03-CTDBPC000-recovered_inst-ctdbp_cdef_instrument_recovered/deployment0012_CP01CNSM-RID27-03-CTDBPC000-recovered_inst-ctdbp_cdef_instrument_recovered_20190927T183018-20201106T114826.nc',\n",
       " 'http://thredds.dataexplorer.oceanobservatories.org/thredds/dodsC/ooigoldcopy/public/CP01CNSM-RID27-03-CTDBPC000-recovered_inst-ctdbp_cdef_instrument_recovered/deployment0013_CP01CNSM-RID27-03-CTDBPC000-recovered_inst-ctdbp_cdef_instrument_recovered_20201029T150015-20210403T110053.nc',\n",
       " 'http://thredds.dataexplorer.oceanobservatories.org/thredds/dodsC/ooigoldcopy/public/CP01CNSM-RID27-03-CTDBPC000-recovered_inst-ctdbp_cdef_instrument_recovered/deployment0014_CP01CNSM-RID27-03-CTDBPC000-recovered_inst-ctdbp_cdef_instrument_recovered_20210331T154518-20211103T160251.nc',\n",
       " 'http://thredds.dataexplorer.oceanobservatories.org/thredds/dodsC/ooigoldcopy/public/CP01CNSM-RID27-03-CTDBPC000-recovered_inst-ctdbp_cdef_instrument_recovered/deployment0015_CP01CNSM-RID27-03-CTDBPC000-recovered_inst-ctdbp_cdef_instrument_recovered_20211103T144517-20220413T111757.nc',\n",
       " 'http://thredds.dataexplorer.oceanobservatories.org/thredds/dodsC/ooigoldcopy/public/CP01CNSM-RID27-03-CTDBPC000-recovered_inst-ctdbp_cdef_instrument_recovered/deployment0016_CP01CNSM-RID27-03-CTDBPC000-recovered_inst-ctdbp_cdef_instrument_recovered_20220413T111757-20221111T131501.nc']"
      ]
     },
     "execution_count": 6,
     "metadata": {},
     "output_type": "execute_result"
    }
   ],
   "source": [
    "sensor_files"
   ]
  },
  {
   "cell_type": "code",
   "execution_count": 8,
   "id": "2b898308",
   "metadata": {},
   "outputs": [
    {
     "data": {
      "text/html": [
       "<div>\n",
       "<style scoped>\n",
       "    .dataframe tbody tr th:only-of-type {\n",
       "        vertical-align: middle;\n",
       "    }\n",
       "\n",
       "    .dataframe tbody tr th {\n",
       "        vertical-align: top;\n",
       "    }\n",
       "\n",
       "    .dataframe thead th {\n",
       "        text-align: right;\n",
       "    }\n",
       "</style>\n",
       "<table border=\"1\" class=\"dataframe\">\n",
       "  <thead>\n",
       "    <tr style=\"text-align: right;\">\n",
       "      <th></th>\n",
       "      <th>refdes</th>\n",
       "      <th>method</th>\n",
       "      <th>stream</th>\n",
       "    </tr>\n",
       "  </thead>\n",
       "  <tbody>\n",
       "    <tr>\n",
       "      <th>0</th>\n",
       "      <td>CP01CNSM-RID27-03-CTDBPC000</td>\n",
       "      <td>recovered_host</td>\n",
       "      <td>ctdbp_cdef_dcl_instrument_recovered</td>\n",
       "    </tr>\n",
       "    <tr>\n",
       "      <th>1</th>\n",
       "      <td>CP01CNSM-RID27-03-CTDBPC000</td>\n",
       "      <td>recovered_inst</td>\n",
       "      <td>ctdbp_cdef_instrument_recovered</td>\n",
       "    </tr>\n",
       "    <tr>\n",
       "      <th>2</th>\n",
       "      <td>CP01CNSM-RID27-03-CTDBPC000</td>\n",
       "      <td>telemetered</td>\n",
       "      <td>ctdbp_cdef_dcl_instrument</td>\n",
       "    </tr>\n",
       "  </tbody>\n",
       "</table>\n",
       "</div>"
      ],
      "text/plain": [
       "                        refdes          method  \\\n",
       "0  CP01CNSM-RID27-03-CTDBPC000  recovered_host   \n",
       "1  CP01CNSM-RID27-03-CTDBPC000  recovered_inst   \n",
       "2  CP01CNSM-RID27-03-CTDBPC000     telemetered   \n",
       "\n",
       "                                stream  \n",
       "0  ctdbp_cdef_dcl_instrument_recovered  \n",
       "1      ctdbp_cdef_instrument_recovered  \n",
       "2            ctdbp_cdef_dcl_instrument  "
      ]
     },
     "execution_count": 8,
     "metadata": {},
     "output_type": "execute_result"
    }
   ],
   "source": [
    "streams = M2M.get_datastreams(refdes)\n",
    "streams"
   ]
  },
  {
   "cell_type": "code",
   "execution_count": 9,
   "id": "820fa0c6",
   "metadata": {},
   "outputs": [
    {
     "data": {
      "text/plain": [
       "False"
      ]
     },
     "execution_count": 9,
     "metadata": {},
     "output_type": "execute_result"
    }
   ],
   "source": [
    "# Try data download with just one file\n",
    "file = sensor_files[0]\n",
    "\n",
    "file_name = re.findall(\"deployment.*\\.nc$\", file)\n",
    "r = SESSION.get(file, timeout=(3.05, 120), auth=(login, password))\n",
    "r.ok"
   ]
  },
  {
   "cell_type": "code",
   "execution_count": 10,
   "id": "d9480603",
   "metadata": {},
   "outputs": [
    {
     "data": {
      "text/plain": [
       "b'Error {\\n    code = 400;\\n    message = \"Unrecognized request\";\\n};\\n'"
      ]
     },
     "execution_count": 10,
     "metadata": {},
     "output_type": "execute_result"
    }
   ],
   "source": [
    "# Figure out why r.ok is false\n",
    "r.content"
   ]
  },
  {
   "cell_type": "code",
   "execution_count": 28,
   "id": "58cee5e6",
   "metadata": {},
   "outputs": [
    {
     "ename": "JSONDecodeError",
     "evalue": "Expecting value: line 1 column 1 (char 0)",
     "output_type": "error",
     "traceback": [
      "\u001b[1;31m---------------------------------------------------------------------------\u001b[0m",
      "\u001b[1;31mJSONDecodeError\u001b[0m                           Traceback (most recent call last)",
      "File \u001b[1;32mc:\\Users\\kylene.cooley\\AppData\\Local\\anaconda3\\envs\\qartod_test\\Lib\\site-packages\\requests\\models.py:971\u001b[0m, in \u001b[0;36mResponse.json\u001b[1;34m(self, **kwargs)\u001b[0m\n\u001b[0;32m    970\u001b[0m \u001b[39mtry\u001b[39;00m:\n\u001b[1;32m--> 971\u001b[0m     \u001b[39mreturn\u001b[39;00m complexjson\u001b[39m.\u001b[39mloads(\u001b[39mself\u001b[39m\u001b[39m.\u001b[39mtext, \u001b[39m*\u001b[39m\u001b[39m*\u001b[39mkwargs)\n\u001b[0;32m    972\u001b[0m \u001b[39mexcept\u001b[39;00m JSONDecodeError \u001b[39mas\u001b[39;00m e:\n\u001b[0;32m    973\u001b[0m     \u001b[39m# Catch JSON-related errors and raise as requests.JSONDecodeError\u001b[39;00m\n\u001b[0;32m    974\u001b[0m     \u001b[39m# This aliases json.JSONDecodeError and simplejson.JSONDecodeError\u001b[39;00m\n",
      "File \u001b[1;32mc:\\Users\\kylene.cooley\\AppData\\Local\\anaconda3\\envs\\qartod_test\\Lib\\json\\__init__.py:346\u001b[0m, in \u001b[0;36mloads\u001b[1;34m(s, cls, object_hook, parse_float, parse_int, parse_constant, object_pairs_hook, **kw)\u001b[0m\n\u001b[0;32m    343\u001b[0m \u001b[39mif\u001b[39;00m (\u001b[39mcls\u001b[39m \u001b[39mis\u001b[39;00m \u001b[39mNone\u001b[39;00m \u001b[39mand\u001b[39;00m object_hook \u001b[39mis\u001b[39;00m \u001b[39mNone\u001b[39;00m \u001b[39mand\u001b[39;00m\n\u001b[0;32m    344\u001b[0m         parse_int \u001b[39mis\u001b[39;00m \u001b[39mNone\u001b[39;00m \u001b[39mand\u001b[39;00m parse_float \u001b[39mis\u001b[39;00m \u001b[39mNone\u001b[39;00m \u001b[39mand\u001b[39;00m\n\u001b[0;32m    345\u001b[0m         parse_constant \u001b[39mis\u001b[39;00m \u001b[39mNone\u001b[39;00m \u001b[39mand\u001b[39;00m object_pairs_hook \u001b[39mis\u001b[39;00m \u001b[39mNone\u001b[39;00m \u001b[39mand\u001b[39;00m \u001b[39mnot\u001b[39;00m kw):\n\u001b[1;32m--> 346\u001b[0m     \u001b[39mreturn\u001b[39;00m _default_decoder\u001b[39m.\u001b[39mdecode(s)\n\u001b[0;32m    347\u001b[0m \u001b[39mif\u001b[39;00m \u001b[39mcls\u001b[39m \u001b[39mis\u001b[39;00m \u001b[39mNone\u001b[39;00m:\n",
      "File \u001b[1;32mc:\\Users\\kylene.cooley\\AppData\\Local\\anaconda3\\envs\\qartod_test\\Lib\\json\\decoder.py:337\u001b[0m, in \u001b[0;36mJSONDecoder.decode\u001b[1;34m(self, s, _w)\u001b[0m\n\u001b[0;32m    333\u001b[0m \u001b[39m\u001b[39m\u001b[39m\"\"\"Return the Python representation of ``s`` (a ``str`` instance\u001b[39;00m\n\u001b[0;32m    334\u001b[0m \u001b[39mcontaining a JSON document).\u001b[39;00m\n\u001b[0;32m    335\u001b[0m \n\u001b[0;32m    336\u001b[0m \u001b[39m\"\"\"\u001b[39;00m\n\u001b[1;32m--> 337\u001b[0m obj, end \u001b[39m=\u001b[39m \u001b[39mself\u001b[39m\u001b[39m.\u001b[39mraw_decode(s, idx\u001b[39m=\u001b[39m_w(s, \u001b[39m0\u001b[39m)\u001b[39m.\u001b[39mend())\n\u001b[0;32m    338\u001b[0m end \u001b[39m=\u001b[39m _w(s, end)\u001b[39m.\u001b[39mend()\n",
      "File \u001b[1;32mc:\\Users\\kylene.cooley\\AppData\\Local\\anaconda3\\envs\\qartod_test\\Lib\\json\\decoder.py:355\u001b[0m, in \u001b[0;36mJSONDecoder.raw_decode\u001b[1;34m(self, s, idx)\u001b[0m\n\u001b[0;32m    354\u001b[0m \u001b[39mexcept\u001b[39;00m \u001b[39mStopIteration\u001b[39;00m \u001b[39mas\u001b[39;00m err:\n\u001b[1;32m--> 355\u001b[0m     \u001b[39mraise\u001b[39;00m JSONDecodeError(\u001b[39m\"\u001b[39m\u001b[39mExpecting value\u001b[39m\u001b[39m\"\u001b[39m, s, err\u001b[39m.\u001b[39mvalue) \u001b[39mfrom\u001b[39;00m \u001b[39mNone\u001b[39;00m\n\u001b[0;32m    356\u001b[0m \u001b[39mreturn\u001b[39;00m obj, end\n",
      "\u001b[1;31mJSONDecodeError\u001b[0m: Expecting value: line 1 column 1 (char 0)",
      "\nDuring handling of the above exception, another exception occurred:\n",
      "\u001b[1;31mJSONDecodeError\u001b[0m                           Traceback (most recent call last)",
      "Cell \u001b[1;32mIn[28], line 1\u001b[0m\n\u001b[1;32m----> 1\u001b[0m r\u001b[39m.\u001b[39mjson()\n",
      "File \u001b[1;32mc:\\Users\\kylene.cooley\\AppData\\Local\\anaconda3\\envs\\qartod_test\\Lib\\site-packages\\requests\\models.py:975\u001b[0m, in \u001b[0;36mResponse.json\u001b[1;34m(self, **kwargs)\u001b[0m\n\u001b[0;32m    971\u001b[0m     \u001b[39mreturn\u001b[39;00m complexjson\u001b[39m.\u001b[39mloads(\u001b[39mself\u001b[39m\u001b[39m.\u001b[39mtext, \u001b[39m*\u001b[39m\u001b[39m*\u001b[39mkwargs)\n\u001b[0;32m    972\u001b[0m \u001b[39mexcept\u001b[39;00m JSONDecodeError \u001b[39mas\u001b[39;00m e:\n\u001b[0;32m    973\u001b[0m     \u001b[39m# Catch JSON-related errors and raise as requests.JSONDecodeError\u001b[39;00m\n\u001b[0;32m    974\u001b[0m     \u001b[39m# This aliases json.JSONDecodeError and simplejson.JSONDecodeError\u001b[39;00m\n\u001b[1;32m--> 975\u001b[0m     \u001b[39mraise\u001b[39;00m RequestsJSONDecodeError(e\u001b[39m.\u001b[39mmsg, e\u001b[39m.\u001b[39mdoc, e\u001b[39m.\u001b[39mpos)\n",
      "\u001b[1;31mJSONDecodeError\u001b[0m: Expecting value: line 1 column 1 (char 0)"
     ]
    }
   ],
   "source": [
    "r.json()"
   ]
  },
  {
   "cell_type": "code",
   "execution_count": 50,
   "id": "3dbd8828",
   "metadata": {},
   "outputs": [
    {
     "data": {
      "text/plain": [
       "'http://thredds.dataexplorer.oceanobservatories.org/thredds/dodsC/ooigoldcopy/public/CP01CNSM-RID27-03-CTDBPC000-recovered_inst-ctdbp_cdef_instrument_recovered/deployment0001_CP01CNSM-RID27-03-CTDBPC000-recovered_inst-ctdbp_cdef_instrument_recovered_20131121T181601-20140217T132711.nc'"
      ]
     },
     "execution_count": 50,
     "metadata": {},
     "output_type": "execute_result"
    }
   ],
   "source": [
    "# What is in file?\n",
    "file"
   ]
  },
  {
   "cell_type": "code",
   "execution_count": null,
   "id": "a7ec5a1f",
   "metadata": {},
   "outputs": [],
   "source": [
    "if r.ok:\n",
    "    # load the data file\n",
    "    if use_dask:\n",
    "        ds = xr.open_dataset(io.BytesIO(r.content), decode_cf=False, chunks=10000)\n",
    "    else:\n",
    "        ds = xr.load_dataset(io.BytesIO(r.content), decode_cf=False)\n",
    "\n",
    "        # ds = M2M.get_api(ds)\n",
    "        # r = SESSION.get(ds, timeout=(3.05, 120))\n",
    "        # ds = xr.open_dataset(ds, chunks={})\n",
    "        ds = process_file(ds)\n",
    "        file_path = os.path.join(folder_path, file_name)\n",
    "        ds.to_netcdf(file_path)\n",
    "else:\n",
    "    print(\"bad request\")"
   ]
  },
  {
   "attachments": {},
   "cell_type": "markdown",
   "id": "f0d49e9e",
   "metadata": {},
   "source": [
    "##### Using ooi_data_explorations modules"
   ]
  },
  {
   "cell_type": "code",
   "execution_count": 9,
   "id": "1a56034e",
   "metadata": {},
   "outputs": [
    {
     "name": "stdout",
     "output_type": "stream",
     "text": [
      "Downloading 15 data file(s) from the OOI Gold Copy THREDSS catalog\n",
      "Downloading and Processing Data Files: 100%|██████████| 15/15 [03:29<00:00, 13.94s/it]\n"
     ]
    }
   ],
   "source": [
    "# Load data with common module\n",
    "\n",
    "data = common.load_gc_thredds(site,node,sensor,method,stream,use_dask=True)    # Request the gold copy data through THREDDs catalog\n",
    "\n",
    "# It looks like the OOINet module method attempts to avoid collecting ancillary files in addition to the requested sensor files which could add time to the download and open dataset step.\n",
    "# load_gc_thredds() also calls process_file() within gc_collect() so we achieve the same preprocessing as in the preprocess() defined above."
   ]
  },
  {
   "cell_type": "code",
   "execution_count": null,
   "id": "cfb1da0e",
   "metadata": {},
   "outputs": [],
   "source": [
    "# Make a copy of the data with a unique name\n",
    "\n",
    "ds_prod = data.copy()\n",
    "ds_prod"
   ]
  },
  {
   "attachments": {},
   "cell_type": "markdown",
   "id": "579c9255",
   "metadata": {},
   "source": [
    "##### Save datasets for test in production to interim data folder for further processing"
   ]
  },
  {
   "cell_type": "code",
   "execution_count": null,
   "id": "a8d540ca",
   "metadata": {},
   "outputs": [],
   "source": [
    "prod_path = dp.build_data_path(refdes, method, stream, 'prod', folder='external') # added this folder='external' as I was updating the notebook. not sure if I want to put requested data in interim or external going forward\n",
    "\n",
    "ds_prod.to_netcdf(path=prod_path)                           # repeat for ds_prod"
   ]
  },
  {
   "attachments": {},
   "cell_type": "markdown",
   "id": "81992ff3",
   "metadata": {},
   "source": [
    "### QARTOD in Development: Request data from dev1 server\n",
    "\n",
    "We may also want to examine new QARTOD tests which are on staging in the Dev-1 environment before they are moved to production. The Development environemt at ooinet-dev1-west.intra.oceanobservatories.org. In order to access data on Dev-1, you need to be granted access and be connected to the CI-West VPN (vpn-west.oceanobservatories.org) at Oregon State."
   ]
  },
  {
   "cell_type": "code",
   "execution_count": null,
   "id": "53b4dba9",
   "metadata": {},
   "outputs": [],
   "source": [
    "# Setup parameters needed to request data \n",
    "# Check that instrument parameters match an available OOI datasets on dev1 server\n",
    "# Maybe change this section to look for data sets programatically with ooi-data-explorations functions (list platforms/sites, list methods, list streams,...)\n",
    "\n",
    "refdes = \"CP03ISSM-RID27-03-CTDBPC000\"              # Coastal Pioneer Array (NES) - Inshore Surface Mooring Near Surface Instrument Frame - Bottom-pumped CTD\n",
    "method = \"recovered_inst\"                           # non-decimated data from recovered instrument\n",
    "stream = \"ctdbp_cdef_instrument_recovered\"          # name of data stream\n",
    "\n",
    "# Site, node, and sensor info from deconstructed reference designator\n",
    "[site, node, sensor] = refdes.split('-', 2)\n",
    "\n",
    "# Set optional parameters \n",
    "# We specify a date range to control the size of the dataset requested \n",
    "params = {\n",
    "  'beginDT':'2019-09-26T13:50:00.000Z',\n",
    "  'endDT':'2020-11-01T13:16:00.000Z',\n",
    "  'format':'application/netcdf',\n",
    "  'include_provenance':'true',\n",
    "  'include_annotations':'true'\n",
    "}"
   ]
  },
  {
   "attachments": {},
   "cell_type": "markdown",
   "id": "9570f07c",
   "metadata": {},
   "source": [
    "The Dev-1 environment has no \"goldcopy\" equivalent THREDDs catalog. Instead we'll have to do the normal request and wait for the datasets to be assembled and made available for download."
   ]
  },
  {
   "attachments": {},
   "cell_type": "markdown",
   "id": "0622102c",
   "metadata": {},
   "source": [
    "We are using a different process for downloading data than in the OOINet section since the default URLs that are set within the other functions connect to OOINet. \n",
    "The development environment also doesn't have a gold copy, although different functions to request non-gold copy datasets from OOINet exist in the OOINet and ooi-data-explorations modules.\n"
   ]
  },
  {
   "attachments": {},
   "cell_type": "markdown",
   "id": "38bde888",
   "metadata": {},
   "source": [
    "Our choice of URL is similar to the URL used in the M2M example notebook here: https://github.com/ooi-data-review/2018-data-workshops/blob/master/chemistry/examples/quickstart_python.ipynb \n",
    "The rest of the data request process through this section is modeled after the linked tutorial above. "
   ]
  },
  {
   "cell_type": "code",
   "execution_count": null,
   "id": "ef6c2440",
   "metadata": {},
   "outputs": [],
   "source": [
    "# Connect to ci-west vpn before running this cell\n",
    "data = dp.dev1_request(site, node, sensor, method, stream, params)"
   ]
  },
  {
   "cell_type": "code",
   "execution_count": null,
   "id": "13ae7494",
   "metadata": {},
   "outputs": [],
   "source": [
    "# Make a copy of the data with a unique name\n",
    "\n",
    "ds_dev = data.copy()\n",
    "ds_dev"
   ]
  },
  {
   "attachments": {},
   "cell_type": "markdown",
   "id": "bcf34610",
   "metadata": {},
   "source": [
    "##### Save datasets for test in development to interim data folder for further processing"
   ]
  },
  {
   "cell_type": "code",
   "execution_count": null,
   "id": "1280270f",
   "metadata": {},
   "outputs": [],
   "source": [
    "interim_data = os.path.relpath('../data/interim')           # path to interim data folder from notebook folder\n",
    "\n",
    "dev_filename = '-'.join(('dev',ds_dev.id,))+'.nc'           # build ds_dev filename from dataset attributes\n",
    "\n",
    "dev_path=os.path.join(interim_data, dev_filename)           # build full relative path with ds_dev filename\n",
    "\n",
    "ds_dev.to_netcdf(path=dev_path)                             # provide both relative path and filename for ds_dev in path parameter"
   ]
  },
  {
   "cell_type": "code",
   "execution_count": null,
   "id": "96f6bd5c",
   "metadata": {},
   "outputs": [],
   "source": []
  }
 ],
 "metadata": {
  "kernelspec": {
   "display_name": "Python 3 (ipykernel)",
   "language": "python",
   "name": "python3"
  },
  "language_info": {
   "codemirror_mode": {
    "name": "ipython",
    "version": 3
   },
   "file_extension": ".py",
   "mimetype": "text/x-python",
   "name": "python",
   "nbconvert_exporter": "python",
   "pygments_lexer": "ipython3",
   "version": "3.11.4"
  }
 },
 "nbformat": 4,
 "nbformat_minor": 5
}
