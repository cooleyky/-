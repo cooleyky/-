{
 "cells": [
  {
   "cell_type": "markdown",
   "id": "7a71c6f9",
   "metadata": {},
   "source": [
    "### Import modules used in this notebook"
   ]
  },
  {
   "cell_type": "code",
   "execution_count": 1,
   "id": "7cffb06e",
   "metadata": {},
   "outputs": [],
   "source": [
    "# Import libraries\n",
    "import os\n",
    "import re\n",
    "import gc\n",
    "import io\n",
    "import ast\n",
    "import pandas as pd\n",
    "import numpy as np\n",
    "import xarray as xr\n",
    "import warnings\n",
    "warnings.filterwarnings(\"ignore\")\n",
    "import sys"
   ]
  },
  {
   "cell_type": "code",
   "execution_count": null,
   "id": "795e40b3",
   "metadata": {},
   "outputs": [],
   "source": [
    "# Import OOINet library\n",
    "sys.path.append(\"c:\\\\Users\\\\cooleyky\\\\Documents\\\\GitHub\\\\OOINet\") # this is what was missing from the steps I followed to install ooinet and ooi-data-explorations as local dev repo\n",
    "from ooinet import M2M\n",
    "from ooinet.Instrument.common import process_file"
   ]
  },
  {
   "cell_type": "code",
   "execution_count": null,
   "id": "b82ea7fe",
   "metadata": {},
   "outputs": [],
   "source": [
    "# Import functions from ooi-data-explorations library\n",
    "sys.path.append(\"c:\\\\Users\\\\cooleyky\\\\Documents\\\\GitHub\\\\ooi-data-explorations\\\\python\") # why did the initial install not include this?\n",
    "from ooi_data_explorations.uncabled.process_dosta import dosta_datalogger\n",
    "from ooi_data_explorations.combine_data import combine_datasets"
   ]
  },
  {
   "cell_type": "code",
   "execution_count": null,
   "id": "086ce22b",
   "metadata": {},
   "outputs": [],
   "source": [
    "# Import dask tools and ProgressBar\n",
    "import dask\n",
    "from dask.diagnostics import ProgressBar"
   ]
  }
 ],
 "metadata": {
  "kernelspec": {
   "display_name": "Python 3 (ipykernel)",
   "language": "python",
   "name": "python3"
  },
  "language_info": {
   "codemirror_mode": {
    "name": "ipython",
    "version": 3
   },
   "file_extension": ".py",
   "mimetype": "text/x-python",
   "name": "python",
   "nbconvert_exporter": "python",
   "pygments_lexer": "ipython3",
   "version": "3.9.16"
  }
 },
 "nbformat": 4,
 "nbformat_minor": 5
}
