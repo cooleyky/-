{
 "cells": [
  {
   "attachments": {},
   "cell_type": "markdown",
   "id": "0eff3fa8",
   "metadata": {},
   "source": [
    "# Request and Download OOI Data\n",
    "\n",
    "**Purpose:** This notebook creates requests for data and QARTOD QC test results that are available from OOINet and from the OOI dev1 server. QC tests associated with datasets from OOINet have already been implemented in production by the Data Team. The dev1 server is where datasets with results of QARTOD tests in development are hosted. Access to dev1 is restricted to OOI personnel on the internal network.\n",
    "\n",
    "The requests built below include the retrieval method, data stream, and either the reference designator or site, node, and sensor combination for a specific instrument to request data through the OOI M2M API. The requested datasets can also be limited to a time period defined by start datetime and end datetime parameters.\n",
    "\n",
    "After downloading the datasets and performing preprocessing to prepare the data for analysis, the datasets are saved locally to an interim data folder for the next step in testing and analyzing QARTOD test results."
   ]
  },
  {
   "attachments": {},
   "cell_type": "markdown",
   "id": "75d71717",
   "metadata": {},
   "source": [
    "### Import modules used in this notebook"
   ]
  },
  {
   "cell_type": "code",
   "execution_count": 1,
   "id": "231381dd",
   "metadata": {},
   "outputs": [],
   "source": [
    "# Import libraries available from main conda channels or conda-forge\n",
    "import xarray as xr\n",
    "import io\n",
    "import os\n",
    "import warnings\n",
    "import re\n",
    "warnings.filterwarnings(\"ignore\")\n",
    "from tqdm import tqdm\n",
    "import requests\n",
    "\n",
    "# Import functions from ooi-data-explorations library\n",
    "from ooi_data_explorations import common \n",
    "from ooi_data_explorations.common import SESSION\n",
    "\n",
    "# Import OOINet library\n",
    "from ooinet import M2M\n",
    "from ooinet.M2M import AUTH, SESSION \n",
    "from ooinet.Instrument.common import process_file\n",
    "\n",
    "# Import qartod_testing project modules\n",
    "import qartod_testing.data_processing as dp"
   ]
  },
  {
   "attachments": {},
   "cell_type": "markdown",
   "id": "119c89b2",
   "metadata": {},
   "source": [
    "### QARTOD in Production: Request data from the OOINet THREDDS catalog\n",
    "\n",
    "The next 4 subsections are different attempts a requesting data from OOINet. \n",
    "Downloading data with `M2M.download_netCDF_files()` was successful for a couple of PHSEN instruments, although it does not do any preprocessing before saving these datasets. For other datasets I usually run into a file or directory not found error at the local directory where I am trying to write data."
   ]
  },
  {
   "attachments": {},
   "cell_type": "markdown",
   "id": "bedc13fb",
   "metadata": {},
   "source": [
    "##### Define data parameters"
   ]
  },
  {
   "cell_type": "code",
   "execution_count": 2,
   "id": "548967d3",
   "metadata": {},
   "outputs": [],
   "source": [
    "# Setup parameters needed to request data\n",
    "refdes = \"GA01SUMO-RII11-02-CTDBPP032\"              # Coastal Pioneer Array (NES) - Central Surface Mooring CTD Bottom-pumped, is this the same as site, node, sensor?\n",
    "method = \"recovered_inst\"                           # non-decimated data from recovered instrument\n",
    "stream = \"ctdbp_cdef_instrument_recovered\"          # name of data stream\n",
    "\n",
    "# Site, node, and sensor info from deconstructed reference designator\n",
    "[site, node, sensor] = refdes.split('-', 2)\n",
    "\n",
    "login, password = AUTH[0], AUTH[2]"
   ]
  },
  {
   "attachments": {},
   "cell_type": "markdown",
   "id": "f2ab43be",
   "metadata": {},
   "source": [
    "##### Using OOINet module"
   ]
  },
  {
   "cell_type": "code",
   "execution_count": 10,
   "id": "36cd3b6e",
   "metadata": {},
   "outputs": [],
   "source": [
    "# Use the gold copy THREDDs datasets\n",
    "thredds_url = M2M.get_thredds_url(refdes, method, stream, goldCopy=True)\n",
    "\n",
    "# Get the THREDDs catalog\n",
    "thredds_catalog = M2M.get_thredds_catalog(thredds_url)\n",
    "deployments = M2M.get_deployments(refdes)"
   ]
  },
  {
   "cell_type": "code",
   "execution_count": 11,
   "id": "d9b24f05",
   "metadata": {},
   "outputs": [],
   "source": [
    "# Clean the THREDDs catalog\n",
    "# This step separates entries from thredds_catalog if they do not match the stream. These ancillary files are usually provided \n",
    "# because they are used in calculating a derived variable from the measured variable stream.\n",
    "sensor_files = M2M.clean_catalog(thredds_catalog, stream, deployments) \n",
    "\n",
    "# Now build the url to access the data\n",
    "# sensor_files = [re.sub(\"catalog.html\\?dataset=\", M2M.URLS[\"goldCopy_fileServer\"], file) for file in sensor_files]"
   ]
  },
  {
   "cell_type": "code",
   "execution_count": 10,
   "id": "35efc88d",
   "metadata": {},
   "outputs": [
    {
     "data": {
      "text/plain": [
       "['catalog.html?dataset=ooigoldcopy/public/CP01CNSM-RID27-04-DOSTAD000-recovered_host-dosta_abcdjm_dcl_instrument_recovered/deployment0001_CP01CNSM-RID27-04-DOSTAD000-recovered_host-dosta_abcdjm_dcl_instrument_recovered_20131121T182017.889000-20140217T132558.909000.nc',\n",
       " 'catalog.html?dataset=ooigoldcopy/public/CP01CNSM-RID27-04-DOSTAD000-recovered_host-dosta_abcdjm_dcl_instrument_recovered/deployment0003_CP01CNSM-RID27-04-DOSTAD000-recovered_host-dosta_abcdjm_dcl_instrument_recovered_20150507T174515.211000-20151023T193331.593000.nc',\n",
       " 'catalog.html?dataset=ooigoldcopy/public/CP01CNSM-RID27-04-DOSTAD000-recovered_host-dosta_abcdjm_dcl_instrument_recovered/deployment0004_CP01CNSM-RID27-04-DOSTAD000-recovered_host-dosta_abcdjm_dcl_instrument_recovered_20151023T190008.653000-20160402T041511.024000.nc',\n",
       " 'catalog.html?dataset=ooigoldcopy/public/CP01CNSM-RID27-04-DOSTAD000-recovered_host-dosta_abcdjm_dcl_instrument_recovered/deployment0005_CP01CNSM-RID27-04-DOSTAD000-recovered_host-dosta_abcdjm_dcl_instrument_recovered_20160513T140009.594000-20160906T001817.464000.nc',\n",
       " 'catalog.html?dataset=ooigoldcopy/public/CP01CNSM-RID27-04-DOSTAD000-recovered_host-dosta_abcdjm_dcl_instrument_recovered/deployment0006_CP01CNSM-RID27-04-DOSTAD000-recovered_host-dosta_abcdjm_dcl_instrument_recovered_20161013T184515.219000-20170609T094833.123000.nc',\n",
       " 'catalog.html?dataset=ooigoldcopy/public/CP01CNSM-RID27-04-DOSTAD000-recovered_host-dosta_abcdjm_dcl_instrument_recovered/deployment0007_CP01CNSM-RID27-04-DOSTAD000-recovered_host-dosta_abcdjm_dcl_instrument_recovered_20170609T143013.027000-20171031T120316.744000.nc',\n",
       " 'catalog.html?dataset=ooigoldcopy/public/CP01CNSM-RID27-04-DOSTAD000-recovered_host-dosta_abcdjm_dcl_instrument_recovered/deployment0008_CP01CNSM-RID27-04-DOSTAD000-recovered_host-dosta_abcdjm_dcl_instrument_recovered_20171029T141511.635000-20180329T190318.158000.nc',\n",
       " 'catalog.html?dataset=ooigoldcopy/public/CP01CNSM-RID27-04-DOSTAD000-recovered_host-dosta_abcdjm_dcl_instrument_recovered/deployment0009_CP01CNSM-RID27-04-DOSTAD000-recovered_host-dosta_abcdjm_dcl_instrument_recovered_20180324T213200.955000-20180423T191817.520000.nc',\n",
       " 'catalog.html?dataset=ooigoldcopy/public/CP01CNSM-RID27-04-DOSTAD000-recovered_host-dosta_abcdjm_dcl_instrument_recovered/deployment0010_CP01CNSM-RID27-04-DOSTAD000-recovered_host-dosta_abcdjm_dcl_instrument_recovered_20181030T014800.135000-20190407T131817.022000.nc',\n",
       " 'catalog.html?dataset=ooigoldcopy/public/CP01CNSM-RID27-04-DOSTAD000-recovered_host-dosta_abcdjm_dcl_instrument_recovered/deployment0011_CP01CNSM-RID27-04-DOSTAD000-recovered_host-dosta_abcdjm_dcl_instrument_recovered_20190406T144511.980000-20190926T154818.010000.nc',\n",
       " 'catalog.html?dataset=ooigoldcopy/public/CP01CNSM-RID27-04-DOSTAD000-recovered_host-dosta_abcdjm_dcl_instrument_recovered/deployment0012_CP01CNSM-RID27-04-DOSTAD000-recovered_host-dosta_abcdjm_dcl_instrument_recovered_20190927T183014.084000-20201106T114816.837000.nc',\n",
       " 'catalog.html?dataset=ooigoldcopy/public/CP01CNSM-RID27-04-DOSTAD000-recovered_host-dosta_abcdjm_dcl_instrument_recovered/deployment0013_CP01CNSM-RID27-04-DOSTAD000-recovered_host-dosta_abcdjm_dcl_instrument_recovered_20201029T150008.619000-20210403T110302.533000.nc',\n",
       " 'catalog.html?dataset=ooigoldcopy/public/CP01CNSM-RID27-04-DOSTAD000-recovered_host-dosta_abcdjm_dcl_instrument_recovered/deployment0014_CP01CNSM-RID27-04-DOSTAD000-recovered_host-dosta_abcdjm_dcl_instrument_recovered_20210331T154511.909000-20211103T160303.003000.nc',\n",
       " 'catalog.html?dataset=ooigoldcopy/public/CP01CNSM-RID27-04-DOSTAD000-recovered_host-dosta_abcdjm_dcl_instrument_recovered/deployment0015_CP01CNSM-RID27-04-DOSTAD000-recovered_host-dosta_abcdjm_dcl_instrument_recovered_20211103T144509.941000-20220413T111801.322000.nc',\n",
       " 'catalog.html?dataset=ooigoldcopy/public/CP01CNSM-RID27-04-DOSTAD000-recovered_host-dosta_abcdjm_dcl_instrument_recovered/deployment0016_CP01CNSM-RID27-04-DOSTAD000-recovered_host-dosta_abcdjm_dcl_instrument_recovered_20220413T111801.575000-20221111T111600.899000.nc']"
      ]
     },
     "execution_count": 10,
     "metadata": {},
     "output_type": "execute_result"
    }
   ],
   "source": [
    "sensor_files"
   ]
  },
  {
   "cell_type": "code",
   "execution_count": 4,
   "id": "29b5ea37",
   "metadata": {},
   "outputs": [],
   "source": [
    "# build path to folder where data will be saved\n",
    "folder_path = os.path.join(os.path.abspath('../data'), 'external', method, stream, refdes)\n",
    "# make folder if it does not already exist\n",
    "# if not os.path.exists(folder_path):\n",
    "#     os.makedirs(folder_path)"
   ]
  },
  {
   "cell_type": "code",
   "execution_count": 13,
   "id": "de9d9266",
   "metadata": {},
   "outputs": [
    {
     "name": "stdout",
     "output_type": "stream",
     "text": [
      "----- Downloading files -----\n"
     ]
    },
    {
     "name": "stdout",
     "output_type": "stream",
     "text": [
      "Downloading https://thredds.dataexplorer.oceanobservatories.org/thredds/fileServer/ooigoldcopy/public/CP01CNSM-RID27-03-CTDBPC000-recovered_inst-ctdbp_cdef_instrument_recovered/deployment0001_CP01CNSM-RID27-03-CTDBPC000-recovered_inst-ctdbp_cdef_instrument_recovered_20131121T181601-20140217T132711.nc to c:\\Users\\kylene.cooley\\Documents\\GitHub\\qartod_testing\\data\\external\\recovered_inst\\ctdbp_cdef_instrument_recovered\\CP01CNSM-RID27-03-CTDBPC000\\deployment0001_CP01CNSM-RID27-03-CTDBPC000-recovered_inst-ctdbp_cdef_instrument_recovered_20131121T181601-20140217T132711.nc \n",
      "Downloading https://thredds.dataexplorer.oceanobservatories.org/thredds/fileServer/ooigoldcopy/public/CP01CNSM-RID27-03-CTDBPC000-recovered_inst-ctdbp_cdef_instrument_recovered/deployment0004_CP01CNSM-RID27-03-CTDBPC000-recovered_inst-ctdbp_cdef_instrument_recovered_20151023T191528-20160402T034848.nc to c:\\Users\\kylene.cooley\\Documents\\GitHub\\qartod_testing\\data\\external\\recovered_inst\\ctdbp_cdef_instrument_recovered\\CP01CNSM-RID27-03-CTDBPC000\\deployment0004_CP01CNSM-RID27-03-CTDBPC000-recovered_inst-ctdbp_cdef_instrument_recovered_20151023T191528-20160402T034848.nc \n",
      "Downloading https://thredds.dataexplorer.oceanobservatories.org/thredds/fileServer/ooigoldcopy/public/CP01CNSM-RID27-03-CTDBPC000-recovered_inst-ctdbp_cdef_instrument_recovered/deployment0007_CP01CNSM-RID27-03-CTDBPC000-recovered_inst-ctdbp_cdef_instrument_recovered_20170609T142931-20171101T202931.nc to c:\\Users\\kylene.cooley\\Documents\\GitHub\\qartod_testing\\data\\external\\recovered_inst\\ctdbp_cdef_instrument_recovered\\CP01CNSM-RID27-03-CTDBPC000\\deployment0007_CP01CNSM-RID27-03-CTDBPC000-recovered_inst-ctdbp_cdef_instrument_recovered_20170609T142931-20171101T202931.nc \n",
      "Downloading https://thredds.dataexplorer.oceanobservatories.org/thredds/fileServer/ooigoldcopy/public/CP01CNSM-RID27-03-CTDBPC000-recovered_inst-ctdbp_cdef_instrument_recovered/deployment0010_CP01CNSM-RID27-03-CTDBPC000-recovered_inst-ctdbp_cdef_instrument_recovered_20181030T014808-20190407T131809.nc to c:\\Users\\kylene.cooley\\Documents\\GitHub\\qartod_testing\\data\\external\\recovered_inst\\ctdbp_cdef_instrument_recovered\\CP01CNSM-RID27-03-CTDBPC000\\deployment0010_CP01CNSM-RID27-03-CTDBPC000-recovered_inst-ctdbp_cdef_instrument_recovered_20181030T014808-20190407T131809.nc \n",
      "Downloading https://thredds.dataexplorer.oceanobservatories.org/thredds/fileServer/ooigoldcopy/public/CP01CNSM-RID27-03-CTDBPC000-recovered_inst-ctdbp_cdef_instrument_recovered/deployment0012_CP01CNSM-RID27-03-CTDBPC000-recovered_inst-ctdbp_cdef_instrument_recovered_20190927T183018-20201106T114826.nc to c:\\Users\\kylene.cooley\\Documents\\GitHub\\qartod_testing\\data\\external\\recovered_inst\\ctdbp_cdef_instrument_recovered\\CP01CNSM-RID27-03-CTDBPC000\\deployment0012_CP01CNSM-RID27-03-CTDBPC000-recovered_inst-ctdbp_cdef_instrument_recovered_20190927T183018-20201106T114826.nc \n",
      "Downloading https://thredds.dataexplorer.oceanobservatories.org/thredds/fileServer/ooigoldcopy/public/CP01CNSM-RID27-03-CTDBPC000-recovered_inst-ctdbp_cdef_instrument_recovered/deployment0005_CP01CNSM-RID27-03-CTDBPC000-recovered_inst-ctdbp_cdef_instrument_recovered_20160513T135001-20161013T193001.nc to c:\\Users\\kylene.cooley\\Documents\\GitHub\\qartod_testing\\data\\external\\recovered_inst\\ctdbp_cdef_instrument_recovered\\CP01CNSM-RID27-03-CTDBPC000\\deployment0005_CP01CNSM-RID27-03-CTDBPC000-recovered_inst-ctdbp_cdef_instrument_recovered_20160513T135001-20161013T193001.nc \n",
      "Downloading https://thredds.dataexplorer.oceanobservatories.org/thredds/fileServer/ooigoldcopy/public/CP01CNSM-RID27-03-CTDBPC000-recovered_inst-ctdbp_cdef_instrument_recovered/deployment0009_CP01CNSM-RID27-03-CTDBPC000-recovered_inst-ctdbp_cdef_instrument_recovered_20180324T213207-20180502T203844.nc to c:\\Users\\kylene.cooley\\Documents\\GitHub\\qartod_testing\\data\\external\\recovered_inst\\ctdbp_cdef_instrument_recovered\\CP01CNSM-RID27-03-CTDBPC000\\deployment0009_CP01CNSM-RID27-03-CTDBPC000-recovered_inst-ctdbp_cdef_instrument_recovered_20180324T213207-20180502T203844.nc \n",
      "Downloading https://thredds.dataexplorer.oceanobservatories.org/thredds/fileServer/ooigoldcopy/public/CP01CNSM-RID27-03-CTDBPC000-recovered_inst-ctdbp_cdef_instrument_recovered/deployment0006_CP01CNSM-RID27-03-CTDBPC000-recovered_inst-ctdbp_cdef_instrument_recovered_20161013T183731-20161122T190001.nc to c:\\Users\\kylene.cooley\\Documents\\GitHub\\qartod_testing\\data\\external\\recovered_inst\\ctdbp_cdef_instrument_recovered\\CP01CNSM-RID27-03-CTDBPC000\\deployment0006_CP01CNSM-RID27-03-CTDBPC000-recovered_inst-ctdbp_cdef_instrument_recovered_20161013T183731-20161122T190001.nc \n",
      "Downloading https://thredds.dataexplorer.oceanobservatories.org/thredds/fileServer/ooigoldcopy/public/CP01CNSM-RID27-03-CTDBPC000-recovered_inst-ctdbp_cdef_instrument_recovered/deployment0011_CP01CNSM-RID27-03-CTDBPC000-recovered_inst-ctdbp_cdef_instrument_recovered_20190406T144517-20190926T161808.nc to c:\\Users\\kylene.cooley\\Documents\\GitHub\\qartod_testing\\data\\external\\recovered_inst\\ctdbp_cdef_instrument_recovered\\CP01CNSM-RID27-03-CTDBPC000\\deployment0011_CP01CNSM-RID27-03-CTDBPC000-recovered_inst-ctdbp_cdef_instrument_recovered_20190406T144517-20190926T161808.nc \n",
      "Downloading https://thredds.dataexplorer.oceanobservatories.org/thredds/fileServer/ooigoldcopy/public/CP01CNSM-RID27-03-CTDBPC000-recovered_inst-ctdbp_cdef_instrument_recovered/deployment0008_CP01CNSM-RID27-03-CTDBPC000-recovered_inst-ctdbp_cdef_instrument_recovered_20171029T141519-20180329T190320.nc to c:\\Users\\kylene.cooley\\Documents\\GitHub\\qartod_testing\\data\\external\\recovered_inst\\ctdbp_cdef_instrument_recovered\\CP01CNSM-RID27-03-CTDBPC000\\deployment0008_CP01CNSM-RID27-03-CTDBPC000-recovered_inst-ctdbp_cdef_instrument_recovered_20171029T141519-20180329T190320.nc \n",
      "\n",
      "\n",
      "\n",
      "\n",
      "\n",
      "\n",
      "\n",
      "\n",
      "\n",
      "\n"
     ]
    },
    {
     "name": "stderr",
     "output_type": "stream",
     "text": [
      "Exception in thread Thread-26:\n",
      "Traceback (most recent call last):\n",
      "  File \"c:\\Users\\kylene.cooley\\AppData\\Local\\anaconda3\\envs\\qartod_test\\Lib\\threading.py\", line 1038, in _bootstrap_inner\n",
      "    self.run()\n",
      "  File \"C:\\Users\\kylene.cooley\\Documents\\GitHub\\OOINet\\ooinet\\Download.py\", line 60, in run\n",
      "    download_file(directory, link)\n",
      "  File \"C:\\Users\\kylene.cooley\\Documents\\GitHub\\OOINet\\ooinet\\Download.py\", line 30, in download_file\n",
      "    urlretrieve(link, download_path)\n",
      "  File \"c:\\Users\\kylene.cooley\\AppData\\Local\\anaconda3\\envs\\qartod_test\\Lib\\urllib\\request.py\", line 251, in urlretrieve\n",
      "    tfp = open(filename, 'wb')\n",
      "          ^^^^^^^^^^^^^^^^^^^^\n",
      "FileNotFoundError: [Errno 2] No such file or directory: 'c:\\\\Users\\\\kylene.cooley\\\\Documents\\\\GitHub\\\\qartod_testing\\\\data\\\\external\\\\recovered_inst\\\\ctdbp_cdef_instrument_recovered\\\\CP01CNSM-RID27-03-CTDBPC000\\\\deployment0005_CP01CNSM-RID27-03-CTDBPC000-recovered_inst-ctdbp_cdef_instrument_recovered_20160513T135001-20161013T193001.nc'\n",
      "Exception in thread Thread-22:\n",
      "Traceback (most recent call last):\n",
      "  File \"c:\\Users\\kylene.cooley\\AppData\\Local\\anaconda3\\envs\\qartod_test\\Lib\\threading.py\", line 1038, in _bootstrap_inner\n",
      "    self.run()\n",
      "  File \"C:\\Users\\kylene.cooley\\Documents\\GitHub\\OOINet\\ooinet\\Download.py\", line 60, in run\n",
      "    download_file(directory, link)\n",
      "  File \"C:\\Users\\kylene.cooley\\Documents\\GitHub\\OOINet\\ooinet\\Download.py\", line 30, in download_file\n",
      "    urlretrieve(link, download_path)\n",
      "  File \"c:\\Users\\kylene.cooley\\AppData\\Local\\anaconda3\\envs\\qartod_test\\Lib\\urllib\\request.py\", line 251, in urlretrieve\n",
      "    tfp = open(filename, 'wb')\n",
      "          ^^^^^^^^^^^^^^^^^^^^\n",
      "FileNotFoundError: [Errno 2] No such file or directory: 'c:\\\\Users\\\\kylene.cooley\\\\Documents\\\\GitHub\\\\qartod_testing\\\\data\\\\external\\\\recovered_inst\\\\ctdbp_cdef_instrument_recovered\\\\CP01CNSM-RID27-03-CTDBPC000\\\\deployment0012_CP01CNSM-RID27-03-CTDBPC000-recovered_inst-ctdbp_cdef_instrument_recovered_20190927T183018-20201106T114826.nc'\n",
      "Exception in thread Thread-23:\n",
      "Exception in thread Traceback (most recent call last):\n",
      "Thread-27  File \"c:\\Users\\kylene.cooley\\AppData\\Local\\anaconda3\\envs\\qartod_test\\Lib\\threading.py\", line 1038, in _bootstrap_inner\n",
      ":\n",
      "Traceback (most recent call last):\n",
      "  File \"c:\\Users\\kylene.cooley\\AppData\\Local\\anaconda3\\envs\\qartod_test\\Lib\\threading.py\", line 1038, in _bootstrap_inner\n",
      "    self.run()    \n",
      "self.run()\n",
      "  File \"C:\\Users\\kylene.cooley\\Documents\\GitHub\\OOINet\\ooinet\\Download.py\", line 60, in run\n",
      "  File \"C:\\Users\\kylene.cooley\\Documents\\GitHub\\OOINet\\ooinet\\Download.py\", line 60, in run\n",
      "        download_file(directory, link)download_file(directory, link)\n",
      "\n",
      "  File \"C:\\Users\\kylene.cooley\\Documents\\GitHub\\OOINet\\ooinet\\Download.py\", line 30, in download_file\n",
      "  File \"C:\\Users\\kylene.cooley\\Documents\\GitHub\\OOINet\\ooinet\\Download.py\", line 30, in download_file\n",
      "    urlretrieve(link, download_path)    \n",
      "urlretrieve(link, download_path)\n",
      "  File \"c:\\Users\\kylene.cooley\\AppData\\Local\\anaconda3\\envs\\qartod_test\\Lib\\urllib\\request.py\", line 251, in urlretrieve\n",
      "  File \"c:\\Users\\kylene.cooley\\AppData\\Local\\anaconda3\\envs\\qartod_test\\Lib\\urllib\\request.py\", line 251, in urlretrieve\n",
      "        tfp = open(filename, 'wb')tfp = open(filename, 'wb')\n",
      "\n",
      "                   ^ ^^^^^^^^^^^^^^^^^^^^^^^^^^^^^^^^^^^^^^^\n",
      "\n",
      "FileNotFoundError: FileNotFoundError[Errno 2] No such file or directory: 'c:\\\\Users\\\\kylene.cooley\\\\Documents\\\\GitHub\\\\qartod_testing\\\\data\\\\external\\\\recovered_inst\\\\ctdbp_cdef_instrument_recovered\\\\CP01CNSM-RID27-03-CTDBPC000\\\\deployment0004_CP01CNSM-RID27-03-CTDBPC000-recovered_inst-ctdbp_cdef_instrument_recovered_20151023T191528-20160402T034848.nc'\n",
      ": [Errno 2] No such file or directory: 'c:\\\\Users\\\\kylene.cooley\\\\Documents\\\\GitHub\\\\qartod_testing\\\\data\\\\external\\\\recovered_inst\\\\ctdbp_cdef_instrument_recovered\\\\CP01CNSM-RID27-03-CTDBPC000\\\\deployment0006_CP01CNSM-RID27-03-CTDBPC000-recovered_inst-ctdbp_cdef_instrument_recovered_20161013T183731-20161122T190001.nc'\n",
      "Exception in thread Thread-28:\n",
      "Traceback (most recent call last):\n",
      "  File \"c:\\Users\\kylene.cooley\\AppData\\Local\\anaconda3\\envs\\qartod_test\\Lib\\threading.py\", line 1038, in _bootstrap_inner\n",
      "    self.run()\n",
      "  File \"C:\\Users\\kylene.cooley\\Documents\\GitHub\\OOINet\\ooinet\\Download.py\", line 60, in run\n",
      "    download_file(directory, link)\n",
      "  File \"C:\\Users\\kylene.cooley\\Documents\\GitHub\\OOINet\\ooinet\\Download.py\", line 30, in download_file\n",
      "    urlretrieve(link, download_path)\n",
      "  File \"c:\\Users\\kylene.cooley\\AppData\\Local\\anaconda3\\envs\\qartod_test\\Lib\\urllib\\request.py\", line 251, in urlretrieve\n",
      "    tfp = open(filename, 'wb')\n",
      "          ^^^^^^^^^^^^^^^^^^^^\n",
      "FileNotFoundError: [Errno 2] No such file or directory: 'c:\\\\Users\\\\kylene.cooley\\\\Documents\\\\GitHub\\\\qartod_testing\\\\data\\\\external\\\\recovered_inst\\\\ctdbp_cdef_instrument_recovered\\\\CP01CNSM-RID27-03-CTDBPC000\\\\deployment0007_CP01CNSM-RID27-03-CTDBPC000-recovered_inst-ctdbp_cdef_instrument_recovered_20170609T142931-20171101T202931.nc'\n",
      "Exception in thread Thread-25:\n",
      "Traceback (most recent call last):\n",
      "Exception in thread   File \"c:\\Users\\kylene.cooley\\AppData\\Local\\anaconda3\\envs\\qartod_test\\Lib\\threading.py\", line 1038, in _bootstrap_inner\n",
      "Thread-24Exception in thread :\n",
      "Exception in thread     self.run()Thread-20Traceback (most recent call last):\n",
      "\n",
      ":\n",
      "  File \"c:\\Users\\kylene.cooley\\AppData\\Local\\anaconda3\\envs\\qartod_test\\Lib\\threading.py\", line 1038, in _bootstrap_inner\n",
      "Thread-21Traceback (most recent call last):\n",
      "  File \"C:\\Users\\kylene.cooley\\Documents\\GitHub\\OOINet\\ooinet\\Download.py\", line 60, in run\n",
      ":\n",
      "  File \"c:\\Users\\kylene.cooley\\AppData\\Local\\anaconda3\\envs\\qartod_test\\Lib\\threading.py\", line 1038, in _bootstrap_inner\n",
      "Traceback (most recent call last):\n",
      "          File \"c:\\Users\\kylene.cooley\\AppData\\Local\\anaconda3\\envs\\qartod_test\\Lib\\threading.py\", line 1038, in _bootstrap_inner\n",
      "    download_file(directory, link)self.run()\n",
      "\n",
      "self.run()  File \"C:\\Users\\kylene.cooley\\Documents\\GitHub\\OOINet\\ooinet\\Download.py\", line 30, in download_file\n",
      "\n",
      "  File \"C:\\Users\\kylene.cooley\\Documents\\GitHub\\OOINet\\ooinet\\Download.py\", line 60, in run\n",
      "      File \"C:\\Users\\kylene.cooley\\Documents\\GitHub\\OOINet\\ooinet\\Download.py\", line 60, in run\n",
      "self.run()        \n",
      "  File \"C:\\Users\\kylene.cooley\\Documents\\GitHub\\OOINet\\ooinet\\Download.py\", line 60, in run\n",
      "urlretrieve(link, download_path)download_file(directory, link)\n",
      "    \n",
      "      File \"C:\\Users\\kylene.cooley\\Documents\\GitHub\\OOINet\\ooinet\\Download.py\", line 30, in download_file\n",
      "download_file(directory, link)  File \"c:\\Users\\kylene.cooley\\AppData\\Local\\anaconda3\\envs\\qartod_test\\Lib\\urllib\\request.py\", line 251, in urlretrieve\n",
      "download_file(directory, link)\n",
      "\n",
      "      File \"C:\\Users\\kylene.cooley\\Documents\\GitHub\\OOINet\\ooinet\\Download.py\", line 30, in download_file\n",
      "      File \"C:\\Users\\kylene.cooley\\Documents\\GitHub\\OOINet\\ooinet\\Download.py\", line 30, in download_file\n",
      "urlretrieve(link, download_path)tfp = open(filename, 'wb')\n",
      "      File \"c:\\Users\\kylene.cooley\\AppData\\Local\\anaconda3\\envs\\qartod_test\\Lib\\urllib\\request.py\", line 251, in urlretrieve\n",
      "\n",
      "     urlretrieve(link, download_path)urlretrieve(link, download_path) \n",
      "\n",
      "      File \"c:\\Users\\kylene.cooley\\AppData\\Local\\anaconda3\\envs\\qartod_test\\Lib\\urllib\\request.py\", line 251, in urlretrieve\n",
      "tfp = open(filename, 'wb')  File \"c:\\Users\\kylene.cooley\\AppData\\Local\\anaconda3\\envs\\qartod_test\\Lib\\urllib\\request.py\", line 251, in urlretrieve\n",
      " \n",
      "           tfp = open(filename, 'wb')  tfp = open(filename, 'wb')\n",
      " \n",
      "             ^  ^     ^  ^  ^^  ^ ^ ^ ^ ^ ^^^^^^^^^^^^^^^^^^^^^^^^^^^^^^^^^^^^^^^^^^^^^^\n",
      "^^^^FileNotFoundError^^: ^^^^[Errno 2] No such file or directory: 'c:\\\\Users\\\\kylene.cooley\\\\Documents\\\\GitHub\\\\qartod_testing\\\\data\\\\external\\\\recovered_inst\\\\ctdbp_cdef_instrument_recovered\\\\CP01CNSM-RID27-03-CTDBPC000\\\\deployment0010_CP01CNSM-RID27-03-CTDBPC000-recovered_inst-ctdbp_cdef_instrument_recovered_20181030T014808-20190407T131809.nc'^^^\n",
      "^\n",
      "^^FileNotFoundError^: ^[Errno 2] No such file or directory: 'c:\\\\Users\\\\kylene.cooley\\\\Documents\\\\GitHub\\\\qartod_testing\\\\data\\\\external\\\\recovered_inst\\\\ctdbp_cdef_instrument_recovered\\\\CP01CNSM-RID27-03-CTDBPC000\\\\deployment0008_CP01CNSM-RID27-03-CTDBPC000-recovered_inst-ctdbp_cdef_instrument_recovered_20171029T141519-20180329T190320.nc'^^\n",
      "^^FileNotFoundError\n",
      "^: \n",
      "[Errno 2] No such file or directory: 'c:\\\\Users\\\\kylene.cooley\\\\Documents\\\\GitHub\\\\qartod_testing\\\\data\\\\external\\\\recovered_inst\\\\ctdbp_cdef_instrument_recovered\\\\CP01CNSM-RID27-03-CTDBPC000\\\\deployment0011_CP01CNSM-RID27-03-CTDBPC000-recovered_inst-ctdbp_cdef_instrument_recovered_20190406T144517-20190926T161808.nc'FileNotFoundError\n",
      ": [Errno 2] No such file or directory: 'c:\\\\Users\\\\kylene.cooley\\\\Documents\\\\GitHub\\\\qartod_testing\\\\data\\\\external\\\\recovered_inst\\\\ctdbp_cdef_instrument_recovered\\\\CP01CNSM-RID27-03-CTDBPC000\\\\deployment0001_CP01CNSM-RID27-03-CTDBPC000-recovered_inst-ctdbp_cdef_instrument_recovered_20131121T181601-20140217T132711.nc'\n",
      "Exception in thread Thread-29:\n",
      "Traceback (most recent call last):\n",
      "  File \"c:\\Users\\kylene.cooley\\AppData\\Local\\anaconda3\\envs\\qartod_test\\Lib\\threading.py\", line 1038, in _bootstrap_inner\n",
      "    self.run()\n",
      "  File \"C:\\Users\\kylene.cooley\\Documents\\GitHub\\OOINet\\ooinet\\Download.py\", line 60, in run\n",
      "    download_file(directory, link)\n",
      "  File \"C:\\Users\\kylene.cooley\\Documents\\GitHub\\OOINet\\ooinet\\Download.py\", line 30, in download_file\n",
      "    urlretrieve(link, download_path)\n",
      "  File \"c:\\Users\\kylene.cooley\\AppData\\Local\\anaconda3\\envs\\qartod_test\\Lib\\urllib\\request.py\", line 251, in urlretrieve\n",
      "    tfp = open(filename, 'wb')\n",
      "          ^^^^^^^^^^^^^^^^^^^^\n",
      "FileNotFoundError: [Errno 2] No such file or directory: 'c:\\\\Users\\\\kylene.cooley\\\\Documents\\\\GitHub\\\\qartod_testing\\\\data\\\\external\\\\recovered_inst\\\\ctdbp_cdef_instrument_recovered\\\\CP01CNSM-RID27-03-CTDBPC000\\\\deployment0009_CP01CNSM-RID27-03-CTDBPC000-recovered_inst-ctdbp_cdef_instrument_recovered_20180324T213207-20180502T203844.nc'\n"
     ]
    }
   ],
   "source": [
    "M2M.download_netCDF_files(sensor_files, goldCopy=True, saveDir=folder_path)"
   ]
  },
  {
   "attachments": {},
   "cell_type": "markdown",
   "id": "707c9956",
   "metadata": {},
   "source": [
    "#### Try same process as dev1 data download"
   ]
  },
  {
   "cell_type": "code",
   "execution_count": 3,
   "id": "45d88a94",
   "metadata": {},
   "outputs": [
    {
     "ename": "JSONDecodeError",
     "evalue": "Expecting value: line 1 column 1 (char 0)",
     "output_type": "error",
     "traceback": [
      "\u001b[1;31m---------------------------------------------------------------------------\u001b[0m",
      "\u001b[1;31mJSONDecodeError\u001b[0m                           Traceback (most recent call last)",
      "File \u001b[1;32mc:\\Users\\kylene.cooley\\AppData\\Local\\anaconda3\\envs\\qartod_test\\Lib\\site-packages\\requests\\models.py:971\u001b[0m, in \u001b[0;36mResponse.json\u001b[1;34m(self, **kwargs)\u001b[0m\n\u001b[0;32m    970\u001b[0m \u001b[39mtry\u001b[39;00m:\n\u001b[1;32m--> 971\u001b[0m     \u001b[39mreturn\u001b[39;00m complexjson\u001b[39m.\u001b[39mloads(\u001b[39mself\u001b[39m\u001b[39m.\u001b[39mtext, \u001b[39m*\u001b[39m\u001b[39m*\u001b[39mkwargs)\n\u001b[0;32m    972\u001b[0m \u001b[39mexcept\u001b[39;00m JSONDecodeError \u001b[39mas\u001b[39;00m e:\n\u001b[0;32m    973\u001b[0m     \u001b[39m# Catch JSON-related errors and raise as requests.JSONDecodeError\u001b[39;00m\n\u001b[0;32m    974\u001b[0m     \u001b[39m# This aliases json.JSONDecodeError and simplejson.JSONDecodeError\u001b[39;00m\n",
      "File \u001b[1;32mc:\\Users\\kylene.cooley\\AppData\\Local\\anaconda3\\envs\\qartod_test\\Lib\\json\\__init__.py:346\u001b[0m, in \u001b[0;36mloads\u001b[1;34m(s, cls, object_hook, parse_float, parse_int, parse_constant, object_pairs_hook, **kw)\u001b[0m\n\u001b[0;32m    343\u001b[0m \u001b[39mif\u001b[39;00m (\u001b[39mcls\u001b[39m \u001b[39mis\u001b[39;00m \u001b[39mNone\u001b[39;00m \u001b[39mand\u001b[39;00m object_hook \u001b[39mis\u001b[39;00m \u001b[39mNone\u001b[39;00m \u001b[39mand\u001b[39;00m\n\u001b[0;32m    344\u001b[0m         parse_int \u001b[39mis\u001b[39;00m \u001b[39mNone\u001b[39;00m \u001b[39mand\u001b[39;00m parse_float \u001b[39mis\u001b[39;00m \u001b[39mNone\u001b[39;00m \u001b[39mand\u001b[39;00m\n\u001b[0;32m    345\u001b[0m         parse_constant \u001b[39mis\u001b[39;00m \u001b[39mNone\u001b[39;00m \u001b[39mand\u001b[39;00m object_pairs_hook \u001b[39mis\u001b[39;00m \u001b[39mNone\u001b[39;00m \u001b[39mand\u001b[39;00m \u001b[39mnot\u001b[39;00m kw):\n\u001b[1;32m--> 346\u001b[0m     \u001b[39mreturn\u001b[39;00m _default_decoder\u001b[39m.\u001b[39mdecode(s)\n\u001b[0;32m    347\u001b[0m \u001b[39mif\u001b[39;00m \u001b[39mcls\u001b[39m \u001b[39mis\u001b[39;00m \u001b[39mNone\u001b[39;00m:\n",
      "File \u001b[1;32mc:\\Users\\kylene.cooley\\AppData\\Local\\anaconda3\\envs\\qartod_test\\Lib\\json\\decoder.py:337\u001b[0m, in \u001b[0;36mJSONDecoder.decode\u001b[1;34m(self, s, _w)\u001b[0m\n\u001b[0;32m    333\u001b[0m \u001b[39m\u001b[39m\u001b[39m\"\"\"Return the Python representation of ``s`` (a ``str`` instance\u001b[39;00m\n\u001b[0;32m    334\u001b[0m \u001b[39mcontaining a JSON document).\u001b[39;00m\n\u001b[0;32m    335\u001b[0m \n\u001b[0;32m    336\u001b[0m \u001b[39m\"\"\"\u001b[39;00m\n\u001b[1;32m--> 337\u001b[0m obj, end \u001b[39m=\u001b[39m \u001b[39mself\u001b[39m\u001b[39m.\u001b[39mraw_decode(s, idx\u001b[39m=\u001b[39m_w(s, \u001b[39m0\u001b[39m)\u001b[39m.\u001b[39mend())\n\u001b[0;32m    338\u001b[0m end \u001b[39m=\u001b[39m _w(s, end)\u001b[39m.\u001b[39mend()\n",
      "File \u001b[1;32mc:\\Users\\kylene.cooley\\AppData\\Local\\anaconda3\\envs\\qartod_test\\Lib\\json\\decoder.py:355\u001b[0m, in \u001b[0;36mJSONDecoder.raw_decode\u001b[1;34m(self, s, idx)\u001b[0m\n\u001b[0;32m    354\u001b[0m \u001b[39mexcept\u001b[39;00m \u001b[39mStopIteration\u001b[39;00m \u001b[39mas\u001b[39;00m err:\n\u001b[1;32m--> 355\u001b[0m     \u001b[39mraise\u001b[39;00m JSONDecodeError(\u001b[39m\"\u001b[39m\u001b[39mExpecting value\u001b[39m\u001b[39m\"\u001b[39m, s, err\u001b[39m.\u001b[39mvalue) \u001b[39mfrom\u001b[39;00m \u001b[39mNone\u001b[39;00m\n\u001b[0;32m    356\u001b[0m \u001b[39mreturn\u001b[39;00m obj, end\n",
      "\u001b[1;31mJSONDecodeError\u001b[0m: Expecting value: line 1 column 1 (char 0)",
      "\nDuring handling of the above exception, another exception occurred:\n",
      "\u001b[1;31mJSONDecodeError\u001b[0m                           Traceback (most recent call last)",
      "Cell \u001b[1;32mIn[3], line 14\u001b[0m\n\u001b[0;32m     12\u001b[0m \u001b[39m# Build and send the data request\u001b[39;00m\n\u001b[0;32m     13\u001b[0m r \u001b[39m=\u001b[39m requests\u001b[39m.\u001b[39mget(data_request_url, auth\u001b[39m=\u001b[39m(login, password))\n\u001b[1;32m---> 14\u001b[0m data_request \u001b[39m=\u001b[39m r\u001b[39m.\u001b[39mjson()\n",
      "File \u001b[1;32mc:\\Users\\kylene.cooley\\AppData\\Local\\anaconda3\\envs\\qartod_test\\Lib\\site-packages\\requests\\models.py:975\u001b[0m, in \u001b[0;36mResponse.json\u001b[1;34m(self, **kwargs)\u001b[0m\n\u001b[0;32m    971\u001b[0m     \u001b[39mreturn\u001b[39;00m complexjson\u001b[39m.\u001b[39mloads(\u001b[39mself\u001b[39m\u001b[39m.\u001b[39mtext, \u001b[39m*\u001b[39m\u001b[39m*\u001b[39mkwargs)\n\u001b[0;32m    972\u001b[0m \u001b[39mexcept\u001b[39;00m JSONDecodeError \u001b[39mas\u001b[39;00m e:\n\u001b[0;32m    973\u001b[0m     \u001b[39m# Catch JSON-related errors and raise as requests.JSONDecodeError\u001b[39;00m\n\u001b[0;32m    974\u001b[0m     \u001b[39m# This aliases json.JSONDecodeError and simplejson.JSONDecodeError\u001b[39;00m\n\u001b[1;32m--> 975\u001b[0m     \u001b[39mraise\u001b[39;00m RequestsJSONDecodeError(e\u001b[39m.\u001b[39mmsg, e\u001b[39m.\u001b[39mdoc, e\u001b[39m.\u001b[39mpos)\n",
      "\u001b[1;31mJSONDecodeError\u001b[0m: Expecting value: line 1 column 1 (char 0)"
     ]
    }
   ],
   "source": [
    "# Use the Dev1 data catalog URL for the request\n",
    "api_base_url = M2M.URLS['goldCopy_dodsC']\n",
    "api_base_url = re.sub(\"https\", \"http\", api_base_url) \n",
    "\n",
    "# Use the fileServer URL for downloading data files from the thredds server\n",
    "tds_url = M2M.URLS['goldCopy_fileServer']\n",
    "tds_url = re.sub(\"https\", \"http\", tds_url) \n",
    "\n",
    "# Create the request URL\n",
    "data_request_url =''.join((api_base_url,'-'.join((site,node,sensor,method,stream))))\n",
    "\n",
    "# Build and send the data request\n",
    "r = requests.get(data_request_url, auth=(login, password))\n",
    "data_request = r.json()"
   ]
  },
  {
   "cell_type": "code",
   "execution_count": 47,
   "id": "399a595f",
   "metadata": {},
   "outputs": [
    {
     "data": {
      "text/plain": [
       "'http://thredds.dataexplorer.oceanobservatories.org/thredds/dodsC/'"
      ]
     },
     "execution_count": 47,
     "metadata": {},
     "output_type": "execute_result"
    }
   ],
   "source": [
    "api_base_url"
   ]
  },
  {
   "cell_type": "code",
   "execution_count": 48,
   "id": "404902d0",
   "metadata": {},
   "outputs": [
    {
     "data": {
      "text/plain": [
       "'http://thredds.dataexplorer.oceanobservatories.org/thredds/dodsC/CP01CNSM-RID27-03-CTDBPC000-recovered_inst-ctdbp_cdef_instrument_recovered'"
      ]
     },
     "execution_count": 48,
     "metadata": {},
     "output_type": "execute_result"
    }
   ],
   "source": [
    "data_request_url"
   ]
  },
  {
   "cell_type": "code",
   "execution_count": 37,
   "id": "7c069d28",
   "metadata": {},
   "outputs": [
    {
     "data": {
      "text/plain": [
       "b'Error {\\n    code = 400;\\n    message = \"Unrecognized request\";\\n};\\n'"
      ]
     },
     "execution_count": 37,
     "metadata": {},
     "output_type": "execute_result"
    }
   ],
   "source": [
    "# Checking contents of request \n",
    "r.content"
   ]
  },
  {
   "attachments": {},
   "cell_type": "markdown",
   "id": "bd5e9a10",
   "metadata": {},
   "source": [
    "#### Using some M2M module and some xarray \n",
    "\n",
    "Xarray would be used at the step where we download the data once the request is successful, but so far my attempts have failed before I can try downloading any data."
   ]
  },
  {
   "cell_type": "code",
   "execution_count": 3,
   "id": "38249131",
   "metadata": {},
   "outputs": [
    {
     "name": "stderr",
     "output_type": "stream",
     "text": [
      "Downloading and Processing Data Files:   0%|          | 0/2 [00:02<?, ?it/s]\n"
     ]
    },
    {
     "ename": "PermissionError",
     "evalue": "[Errno 13] Permission denied: b'c:\\\\Users\\\\kylene.cooley\\\\Documents\\\\GitHub\\\\qartod_testing\\\\data\\\\external\\\\recovered_inst\\\\ctdbp_cdef_instrument_recovered\\\\GA01SUMO-RII11-02-CTDBPP032\\\\deployment0002_GA01SUMO-RII11-02-CTDBPP032-recovered_inst-ctdbp_cdef_instrument_recovered_20151114T220003-20160606T220003.nc'",
     "output_type": "error",
     "traceback": [
      "\u001b[1;31m---------------------------------------------------------------------------\u001b[0m",
      "\u001b[1;31mKeyError\u001b[0m                                  Traceback (most recent call last)",
      "File \u001b[1;32mc:\\Users\\kylene.cooley\\AppData\\Local\\anaconda3\\envs\\qartod_test\\Lib\\site-packages\\xarray\\backends\\file_manager.py:209\u001b[0m, in \u001b[0;36mCachingFileManager._acquire_with_cache_info\u001b[1;34m(self, needs_lock)\u001b[0m\n\u001b[0;32m    208\u001b[0m \u001b[39mtry\u001b[39;00m:\n\u001b[1;32m--> 209\u001b[0m     file \u001b[39m=\u001b[39m \u001b[39mself\u001b[39m\u001b[39m.\u001b[39m_cache[\u001b[39mself\u001b[39m\u001b[39m.\u001b[39m_key]\n\u001b[0;32m    210\u001b[0m \u001b[39mexcept\u001b[39;00m \u001b[39mKeyError\u001b[39;00m:\n",
      "File \u001b[1;32mc:\\Users\\kylene.cooley\\AppData\\Local\\anaconda3\\envs\\qartod_test\\Lib\\site-packages\\xarray\\backends\\lru_cache.py:55\u001b[0m, in \u001b[0;36mLRUCache.__getitem__\u001b[1;34m(self, key)\u001b[0m\n\u001b[0;32m     54\u001b[0m \u001b[39mwith\u001b[39;00m \u001b[39mself\u001b[39m\u001b[39m.\u001b[39m_lock:\n\u001b[1;32m---> 55\u001b[0m     value \u001b[39m=\u001b[39m \u001b[39mself\u001b[39m\u001b[39m.\u001b[39m_cache[key]\n\u001b[0;32m     56\u001b[0m     \u001b[39mself\u001b[39m\u001b[39m.\u001b[39m_cache\u001b[39m.\u001b[39mmove_to_end(key)\n",
      "\u001b[1;31mKeyError\u001b[0m: [<class 'netCDF4._netCDF4.Dataset'>, ('c:\\\\Users\\\\kylene.cooley\\\\Documents\\\\GitHub\\\\qartod_testing\\\\data\\\\external\\\\recovered_inst\\\\ctdbp_cdef_instrument_recovered\\\\GA01SUMO-RII11-02-CTDBPP032\\\\deployment0002_GA01SUMO-RII11-02-CTDBPP032-recovered_inst-ctdbp_cdef_instrument_recovered_20151114T220003-20160606T220003.nc',), 'a', (('clobber', True), ('diskless', False), ('format', 'NETCDF4'), ('persist', False)), 'ba59f145-93e4-498f-84db-b8039e56e974']",
      "\nDuring handling of the above exception, another exception occurred:\n",
      "\u001b[1;31mPermissionError\u001b[0m                           Traceback (most recent call last)",
      "Cell \u001b[1;32mIn[3], line 3\u001b[0m\n\u001b[0;32m      1\u001b[0m \u001b[39m# Routine in data_processing module from this project to download the gold copy THREDDs datasets\u001b[39;00m\n\u001b[1;32m----> 3\u001b[0m files \u001b[39m=\u001b[39m dp\u001b[39m.\u001b[39mooinet_gold_copy_request(refdes, method, stream)\n",
      "File \u001b[1;32m~\\Documents\\GitHub\\qartod_testing\\qartod_testing\\data_processing.py:96\u001b[0m, in \u001b[0;36mooinet_gold_copy_request\u001b[1;34m(refdes, method, stream, use_dask)\u001b[0m\n\u001b[0;32m     94\u001b[0m     ds \u001b[39m=\u001b[39m process_file(ds)\n\u001b[0;32m     95\u001b[0m     file_path \u001b[39m=\u001b[39m os\u001b[39m.\u001b[39mpath\u001b[39m.\u001b[39mjoin(folder_path, file_name)\n\u001b[1;32m---> 96\u001b[0m     ds\u001b[39m.\u001b[39mto_netcdf(file_path)\n\u001b[0;32m     97\u001b[0m \u001b[39melse\u001b[39;00m:\n\u001b[0;32m     98\u001b[0m     \u001b[39mprint\u001b[39m(\u001b[39m\"\u001b[39m\u001b[39mBad request: unable to download file \u001b[39m\u001b[39m%s\u001b[39;00m\u001b[39m\"\u001b[39m \u001b[39m%\u001b[39m file_name)\n",
      "File \u001b[1;32mc:\\Users\\kylene.cooley\\AppData\\Local\\anaconda3\\envs\\qartod_test\\Lib\\site-packages\\xarray\\core\\dataset.py:1903\u001b[0m, in \u001b[0;36mDataset.to_netcdf\u001b[1;34m(self, path, mode, format, group, engine, encoding, unlimited_dims, compute, invalid_netcdf)\u001b[0m\n\u001b[0;32m   1900\u001b[0m     encoding \u001b[39m=\u001b[39m {}\n\u001b[0;32m   1901\u001b[0m \u001b[39mfrom\u001b[39;00m \u001b[39m.\u001b[39;00m\u001b[39m.\u001b[39;00m\u001b[39mbackends\u001b[39;00m\u001b[39m.\u001b[39;00m\u001b[39mapi\u001b[39;00m \u001b[39mimport\u001b[39;00m to_netcdf\n\u001b[1;32m-> 1903\u001b[0m \u001b[39mreturn\u001b[39;00m to_netcdf(  \u001b[39m# type: ignore  # mypy cannot resolve the overloads:(\u001b[39;00m\n\u001b[0;32m   1904\u001b[0m     \u001b[39mself\u001b[39m,\n\u001b[0;32m   1905\u001b[0m     path,\n\u001b[0;32m   1906\u001b[0m     mode\u001b[39m=\u001b[39mmode,\n\u001b[0;32m   1907\u001b[0m     \u001b[39mformat\u001b[39m\u001b[39m=\u001b[39m\u001b[39mformat\u001b[39m,\n\u001b[0;32m   1908\u001b[0m     group\u001b[39m=\u001b[39mgroup,\n\u001b[0;32m   1909\u001b[0m     engine\u001b[39m=\u001b[39mengine,\n\u001b[0;32m   1910\u001b[0m     encoding\u001b[39m=\u001b[39mencoding,\n\u001b[0;32m   1911\u001b[0m     unlimited_dims\u001b[39m=\u001b[39munlimited_dims,\n\u001b[0;32m   1912\u001b[0m     compute\u001b[39m=\u001b[39mcompute,\n\u001b[0;32m   1913\u001b[0m     multifile\u001b[39m=\u001b[39m\u001b[39mFalse\u001b[39;00m,\n\u001b[0;32m   1914\u001b[0m     invalid_netcdf\u001b[39m=\u001b[39minvalid_netcdf,\n\u001b[0;32m   1915\u001b[0m )\n",
      "File \u001b[1;32mc:\\Users\\kylene.cooley\\AppData\\Local\\anaconda3\\envs\\qartod_test\\Lib\\site-packages\\xarray\\backends\\api.py:1213\u001b[0m, in \u001b[0;36mto_netcdf\u001b[1;34m(dataset, path_or_file, mode, format, group, engine, encoding, unlimited_dims, compute, multifile, invalid_netcdf)\u001b[0m\n\u001b[0;32m   1209\u001b[0m     \u001b[39melse\u001b[39;00m:\n\u001b[0;32m   1210\u001b[0m         \u001b[39mraise\u001b[39;00m \u001b[39mValueError\u001b[39;00m(\n\u001b[0;32m   1211\u001b[0m             \u001b[39mf\u001b[39m\u001b[39m\"\u001b[39m\u001b[39munrecognized option \u001b[39m\u001b[39m'\u001b[39m\u001b[39minvalid_netcdf\u001b[39m\u001b[39m'\u001b[39m\u001b[39m for engine \u001b[39m\u001b[39m{\u001b[39;00mengine\u001b[39m}\u001b[39;00m\u001b[39m\"\u001b[39m\n\u001b[0;32m   1212\u001b[0m         )\n\u001b[1;32m-> 1213\u001b[0m store \u001b[39m=\u001b[39m store_open(target, mode, \u001b[39mformat\u001b[39m, group, \u001b[39m*\u001b[39m\u001b[39m*\u001b[39mkwargs)\n\u001b[0;32m   1215\u001b[0m \u001b[39mif\u001b[39;00m unlimited_dims \u001b[39mis\u001b[39;00m \u001b[39mNone\u001b[39;00m:\n\u001b[0;32m   1216\u001b[0m     unlimited_dims \u001b[39m=\u001b[39m dataset\u001b[39m.\u001b[39mencoding\u001b[39m.\u001b[39mget(\u001b[39m\"\u001b[39m\u001b[39munlimited_dims\u001b[39m\u001b[39m\"\u001b[39m, \u001b[39mNone\u001b[39;00m)\n",
      "File \u001b[1;32mc:\\Users\\kylene.cooley\\AppData\\Local\\anaconda3\\envs\\qartod_test\\Lib\\site-packages\\xarray\\backends\\netCDF4_.py:376\u001b[0m, in \u001b[0;36mNetCDF4DataStore.open\u001b[1;34m(cls, filename, mode, format, group, clobber, diskless, persist, lock, lock_maker, autoclose)\u001b[0m\n\u001b[0;32m    370\u001b[0m kwargs \u001b[39m=\u001b[39m \u001b[39mdict\u001b[39m(\n\u001b[0;32m    371\u001b[0m     clobber\u001b[39m=\u001b[39mclobber, diskless\u001b[39m=\u001b[39mdiskless, persist\u001b[39m=\u001b[39mpersist, \u001b[39mformat\u001b[39m\u001b[39m=\u001b[39m\u001b[39mformat\u001b[39m\n\u001b[0;32m    372\u001b[0m )\n\u001b[0;32m    373\u001b[0m manager \u001b[39m=\u001b[39m CachingFileManager(\n\u001b[0;32m    374\u001b[0m     netCDF4\u001b[39m.\u001b[39mDataset, filename, mode\u001b[39m=\u001b[39mmode, kwargs\u001b[39m=\u001b[39mkwargs\n\u001b[0;32m    375\u001b[0m )\n\u001b[1;32m--> 376\u001b[0m \u001b[39mreturn\u001b[39;00m \u001b[39mcls\u001b[39m(manager, group\u001b[39m=\u001b[39mgroup, mode\u001b[39m=\u001b[39mmode, lock\u001b[39m=\u001b[39mlock, autoclose\u001b[39m=\u001b[39mautoclose)\n",
      "File \u001b[1;32mc:\\Users\\kylene.cooley\\AppData\\Local\\anaconda3\\envs\\qartod_test\\Lib\\site-packages\\xarray\\backends\\netCDF4_.py:323\u001b[0m, in \u001b[0;36mNetCDF4DataStore.__init__\u001b[1;34m(self, manager, group, mode, lock, autoclose)\u001b[0m\n\u001b[0;32m    321\u001b[0m \u001b[39mself\u001b[39m\u001b[39m.\u001b[39m_group \u001b[39m=\u001b[39m group\n\u001b[0;32m    322\u001b[0m \u001b[39mself\u001b[39m\u001b[39m.\u001b[39m_mode \u001b[39m=\u001b[39m mode\n\u001b[1;32m--> 323\u001b[0m \u001b[39mself\u001b[39m\u001b[39m.\u001b[39mformat \u001b[39m=\u001b[39m \u001b[39mself\u001b[39m\u001b[39m.\u001b[39mds\u001b[39m.\u001b[39mdata_model\n\u001b[0;32m    324\u001b[0m \u001b[39mself\u001b[39m\u001b[39m.\u001b[39m_filename \u001b[39m=\u001b[39m \u001b[39mself\u001b[39m\u001b[39m.\u001b[39mds\u001b[39m.\u001b[39mfilepath()\n\u001b[0;32m    325\u001b[0m \u001b[39mself\u001b[39m\u001b[39m.\u001b[39mis_remote \u001b[39m=\u001b[39m is_remote_uri(\u001b[39mself\u001b[39m\u001b[39m.\u001b[39m_filename)\n",
      "File \u001b[1;32mc:\\Users\\kylene.cooley\\AppData\\Local\\anaconda3\\envs\\qartod_test\\Lib\\site-packages\\xarray\\backends\\netCDF4_.py:385\u001b[0m, in \u001b[0;36mNetCDF4DataStore.ds\u001b[1;34m(self)\u001b[0m\n\u001b[0;32m    383\u001b[0m \u001b[39m@property\u001b[39m\n\u001b[0;32m    384\u001b[0m \u001b[39mdef\u001b[39;00m \u001b[39mds\u001b[39m(\u001b[39mself\u001b[39m):\n\u001b[1;32m--> 385\u001b[0m     \u001b[39mreturn\u001b[39;00m \u001b[39mself\u001b[39m\u001b[39m.\u001b[39m_acquire()\n",
      "File \u001b[1;32mc:\\Users\\kylene.cooley\\AppData\\Local\\anaconda3\\envs\\qartod_test\\Lib\\site-packages\\xarray\\backends\\netCDF4_.py:379\u001b[0m, in \u001b[0;36mNetCDF4DataStore._acquire\u001b[1;34m(self, needs_lock)\u001b[0m\n\u001b[0;32m    378\u001b[0m \u001b[39mdef\u001b[39;00m \u001b[39m_acquire\u001b[39m(\u001b[39mself\u001b[39m, needs_lock\u001b[39m=\u001b[39m\u001b[39mTrue\u001b[39;00m):\n\u001b[1;32m--> 379\u001b[0m     \u001b[39mwith\u001b[39;00m \u001b[39mself\u001b[39m\u001b[39m.\u001b[39m_manager\u001b[39m.\u001b[39macquire_context(needs_lock) \u001b[39mas\u001b[39;00m root:\n\u001b[0;32m    380\u001b[0m         ds \u001b[39m=\u001b[39m _nc4_require_group(root, \u001b[39mself\u001b[39m\u001b[39m.\u001b[39m_group, \u001b[39mself\u001b[39m\u001b[39m.\u001b[39m_mode)\n\u001b[0;32m    381\u001b[0m     \u001b[39mreturn\u001b[39;00m ds\n",
      "File \u001b[1;32mc:\\Users\\kylene.cooley\\AppData\\Local\\anaconda3\\envs\\qartod_test\\Lib\\contextlib.py:137\u001b[0m, in \u001b[0;36m_GeneratorContextManager.__enter__\u001b[1;34m(self)\u001b[0m\n\u001b[0;32m    135\u001b[0m \u001b[39mdel\u001b[39;00m \u001b[39mself\u001b[39m\u001b[39m.\u001b[39margs, \u001b[39mself\u001b[39m\u001b[39m.\u001b[39mkwds, \u001b[39mself\u001b[39m\u001b[39m.\u001b[39mfunc\n\u001b[0;32m    136\u001b[0m \u001b[39mtry\u001b[39;00m:\n\u001b[1;32m--> 137\u001b[0m     \u001b[39mreturn\u001b[39;00m \u001b[39mnext\u001b[39m(\u001b[39mself\u001b[39m\u001b[39m.\u001b[39mgen)\n\u001b[0;32m    138\u001b[0m \u001b[39mexcept\u001b[39;00m \u001b[39mStopIteration\u001b[39;00m:\n\u001b[0;32m    139\u001b[0m     \u001b[39mraise\u001b[39;00m \u001b[39mRuntimeError\u001b[39;00m(\u001b[39m\"\u001b[39m\u001b[39mgenerator didn\u001b[39m\u001b[39m'\u001b[39m\u001b[39mt yield\u001b[39m\u001b[39m\"\u001b[39m) \u001b[39mfrom\u001b[39;00m \u001b[39mNone\u001b[39;00m\n",
      "File \u001b[1;32mc:\\Users\\kylene.cooley\\AppData\\Local\\anaconda3\\envs\\qartod_test\\Lib\\site-packages\\xarray\\backends\\file_manager.py:197\u001b[0m, in \u001b[0;36mCachingFileManager.acquire_context\u001b[1;34m(self, needs_lock)\u001b[0m\n\u001b[0;32m    194\u001b[0m \u001b[39m@contextlib\u001b[39m\u001b[39m.\u001b[39mcontextmanager\n\u001b[0;32m    195\u001b[0m \u001b[39mdef\u001b[39;00m \u001b[39macquire_context\u001b[39m(\u001b[39mself\u001b[39m, needs_lock\u001b[39m=\u001b[39m\u001b[39mTrue\u001b[39;00m):\n\u001b[0;32m    196\u001b[0m \u001b[39m    \u001b[39m\u001b[39m\"\"\"Context manager for acquiring a file.\"\"\"\u001b[39;00m\n\u001b[1;32m--> 197\u001b[0m     file, cached \u001b[39m=\u001b[39m \u001b[39mself\u001b[39m\u001b[39m.\u001b[39m_acquire_with_cache_info(needs_lock)\n\u001b[0;32m    198\u001b[0m     \u001b[39mtry\u001b[39;00m:\n\u001b[0;32m    199\u001b[0m         \u001b[39myield\u001b[39;00m file\n",
      "File \u001b[1;32mc:\\Users\\kylene.cooley\\AppData\\Local\\anaconda3\\envs\\qartod_test\\Lib\\site-packages\\xarray\\backends\\file_manager.py:215\u001b[0m, in \u001b[0;36mCachingFileManager._acquire_with_cache_info\u001b[1;34m(self, needs_lock)\u001b[0m\n\u001b[0;32m    213\u001b[0m     kwargs \u001b[39m=\u001b[39m kwargs\u001b[39m.\u001b[39mcopy()\n\u001b[0;32m    214\u001b[0m     kwargs[\u001b[39m\"\u001b[39m\u001b[39mmode\u001b[39m\u001b[39m\"\u001b[39m] \u001b[39m=\u001b[39m \u001b[39mself\u001b[39m\u001b[39m.\u001b[39m_mode\n\u001b[1;32m--> 215\u001b[0m file \u001b[39m=\u001b[39m \u001b[39mself\u001b[39m\u001b[39m.\u001b[39m_opener(\u001b[39m*\u001b[39m\u001b[39mself\u001b[39m\u001b[39m.\u001b[39m_args, \u001b[39m*\u001b[39m\u001b[39m*\u001b[39mkwargs)\n\u001b[0;32m    216\u001b[0m \u001b[39mif\u001b[39;00m \u001b[39mself\u001b[39m\u001b[39m.\u001b[39m_mode \u001b[39m==\u001b[39m \u001b[39m\"\u001b[39m\u001b[39mw\u001b[39m\u001b[39m\"\u001b[39m:\n\u001b[0;32m    217\u001b[0m     \u001b[39m# ensure file doesn't get overridden when opened again\u001b[39;00m\n\u001b[0;32m    218\u001b[0m     \u001b[39mself\u001b[39m\u001b[39m.\u001b[39m_mode \u001b[39m=\u001b[39m \u001b[39m\"\u001b[39m\u001b[39ma\u001b[39m\u001b[39m\"\u001b[39m\n",
      "File \u001b[1;32msrc\\netCDF4\\_netCDF4.pyx:2463\u001b[0m, in \u001b[0;36mnetCDF4._netCDF4.Dataset.__init__\u001b[1;34m()\u001b[0m\n",
      "File \u001b[1;32msrc\\netCDF4\\_netCDF4.pyx:2026\u001b[0m, in \u001b[0;36mnetCDF4._netCDF4._ensure_nc_success\u001b[1;34m()\u001b[0m\n",
      "\u001b[1;31mPermissionError\u001b[0m: [Errno 13] Permission denied: b'c:\\\\Users\\\\kylene.cooley\\\\Documents\\\\GitHub\\\\qartod_testing\\\\data\\\\external\\\\recovered_inst\\\\ctdbp_cdef_instrument_recovered\\\\GA01SUMO-RII11-02-CTDBPP032\\\\deployment0002_GA01SUMO-RII11-02-CTDBPP032-recovered_inst-ctdbp_cdef_instrument_recovered_20151114T220003-20160606T220003.nc'"
     ]
    }
   ],
   "source": [
    "# Routine in data_processing module from this project to download the gold copy THREDDs datasets\n",
    "\n",
    "files = dp.ooinet_gold_copy_request(refdes, method, stream)"
   ]
  },
  {
   "cell_type": "code",
   "execution_count": 5,
   "id": "33fef1ce",
   "metadata": {},
   "outputs": [
    {
     "name": "stdout",
     "output_type": "stream",
     "text": [
      "c:\\Users\\kylene.cooley\n"
     ]
    }
   ],
   "source": [
    "txt = \"c:\\\\Users\\\\kylene.cooley\"\n",
    "txt = r'%s' % txt\n",
    "print(txt)"
   ]
  },
  {
   "cell_type": "code",
   "execution_count": 3,
   "id": "9fda1055",
   "metadata": {},
   "outputs": [],
   "source": [
    "# Same as routine in project but step by step (this cell is the same as all-M2M request)\n",
    "# Use the gold copy THREDDs datasets\n",
    "thredds_url = M2M.get_thredds_url(refdes, method, stream, goldCopy=True)\n",
    "\n",
    "# Get the THREDDs catalog\n",
    "thredds_catalog = M2M.get_thredds_catalog(thredds_url)\n",
    "deployments = M2M.get_deployments(refdes)\n",
    "\n",
    "# Clean the THREDDs catalog\n",
    "# This step separates entries from thredds_catalog if they do not match the stream. These ancillary files are usually provided \n",
    "# because they are used in calculating a derived variable from the measured variable stream.\n",
    "sensor_files = M2M.clean_catalog(thredds_catalog, stream, deployments) "
   ]
  },
  {
   "cell_type": "code",
   "execution_count": 4,
   "id": "9a20e0d7",
   "metadata": {},
   "outputs": [],
   "source": [
    "file = sensor_files[0]\n",
    "from ooi_data_explorations.common import process_file"
   ]
  },
  {
   "cell_type": "code",
   "execution_count": 5,
   "id": "79723df9",
   "metadata": {},
   "outputs": [
    {
     "data": {
      "text/plain": [
       "'catalog.html?dataset=ooigoldcopy/public/GA01SUMO-RII11-02-CTDBPP032-recovered_inst-ctdbp_cdef_instrument_recovered/deployment0002_GA01SUMO-RII11-02-CTDBPP032-recovered_inst-ctdbp_cdef_instrument_recovered_20151114T220003-20160606T220003.nc'"
      ]
     },
     "execution_count": 5,
     "metadata": {},
     "output_type": "execute_result"
    }
   ],
   "source": [
    "file"
   ]
  },
  {
   "cell_type": "code",
   "execution_count": 6,
   "id": "5af9ab6b",
   "metadata": {},
   "outputs": [
    {
     "data": {
      "text/html": [
       "<div><svg style=\"position: absolute; width: 0; height: 0; overflow: hidden\">\n",
       "<defs>\n",
       "<symbol id=\"icon-database\" viewBox=\"0 0 32 32\">\n",
       "<path d=\"M16 0c-8.837 0-16 2.239-16 5v4c0 2.761 7.163 5 16 5s16-2.239 16-5v-4c0-2.761-7.163-5-16-5z\"></path>\n",
       "<path d=\"M16 17c-8.837 0-16-2.239-16-5v6c0 2.761 7.163 5 16 5s16-2.239 16-5v-6c0 2.761-7.163 5-16 5z\"></path>\n",
       "<path d=\"M16 26c-8.837 0-16-2.239-16-5v6c0 2.761 7.163 5 16 5s16-2.239 16-5v-6c0 2.761-7.163 5-16 5z\"></path>\n",
       "</symbol>\n",
       "<symbol id=\"icon-file-text2\" viewBox=\"0 0 32 32\">\n",
       "<path d=\"M28.681 7.159c-0.694-0.947-1.662-2.053-2.724-3.116s-2.169-2.030-3.116-2.724c-1.612-1.182-2.393-1.319-2.841-1.319h-15.5c-1.378 0-2.5 1.121-2.5 2.5v27c0 1.378 1.122 2.5 2.5 2.5h23c1.378 0 2.5-1.122 2.5-2.5v-19.5c0-0.448-0.137-1.23-1.319-2.841zM24.543 5.457c0.959 0.959 1.712 1.825 2.268 2.543h-4.811v-4.811c0.718 0.556 1.584 1.309 2.543 2.268zM28 29.5c0 0.271-0.229 0.5-0.5 0.5h-23c-0.271 0-0.5-0.229-0.5-0.5v-27c0-0.271 0.229-0.5 0.5-0.5 0 0 15.499-0 15.5 0v7c0 0.552 0.448 1 1 1h7v19.5z\"></path>\n",
       "<path d=\"M23 26h-14c-0.552 0-1-0.448-1-1s0.448-1 1-1h14c0.552 0 1 0.448 1 1s-0.448 1-1 1z\"></path>\n",
       "<path d=\"M23 22h-14c-0.552 0-1-0.448-1-1s0.448-1 1-1h14c0.552 0 1 0.448 1 1s-0.448 1-1 1z\"></path>\n",
       "<path d=\"M23 18h-14c-0.552 0-1-0.448-1-1s0.448-1 1-1h14c0.552 0 1 0.448 1 1s-0.448 1-1 1z\"></path>\n",
       "</symbol>\n",
       "</defs>\n",
       "</svg>\n",
       "<style>/* CSS stylesheet for displaying xarray objects in jupyterlab.\n",
       " *\n",
       " */\n",
       "\n",
       ":root {\n",
       "  --xr-font-color0: var(--jp-content-font-color0, rgba(0, 0, 0, 1));\n",
       "  --xr-font-color2: var(--jp-content-font-color2, rgba(0, 0, 0, 0.54));\n",
       "  --xr-font-color3: var(--jp-content-font-color3, rgba(0, 0, 0, 0.38));\n",
       "  --xr-border-color: var(--jp-border-color2, #e0e0e0);\n",
       "  --xr-disabled-color: var(--jp-layout-color3, #bdbdbd);\n",
       "  --xr-background-color: var(--jp-layout-color0, white);\n",
       "  --xr-background-color-row-even: var(--jp-layout-color1, white);\n",
       "  --xr-background-color-row-odd: var(--jp-layout-color2, #eeeeee);\n",
       "}\n",
       "\n",
       "html[theme=dark],\n",
       "body[data-theme=dark],\n",
       "body.vscode-dark {\n",
       "  --xr-font-color0: rgba(255, 255, 255, 1);\n",
       "  --xr-font-color2: rgba(255, 255, 255, 0.54);\n",
       "  --xr-font-color3: rgba(255, 255, 255, 0.38);\n",
       "  --xr-border-color: #1F1F1F;\n",
       "  --xr-disabled-color: #515151;\n",
       "  --xr-background-color: #111111;\n",
       "  --xr-background-color-row-even: #111111;\n",
       "  --xr-background-color-row-odd: #313131;\n",
       "}\n",
       "\n",
       ".xr-wrap {\n",
       "  display: block !important;\n",
       "  min-width: 300px;\n",
       "  max-width: 700px;\n",
       "}\n",
       "\n",
       ".xr-text-repr-fallback {\n",
       "  /* fallback to plain text repr when CSS is not injected (untrusted notebook) */\n",
       "  display: none;\n",
       "}\n",
       "\n",
       ".xr-header {\n",
       "  padding-top: 6px;\n",
       "  padding-bottom: 6px;\n",
       "  margin-bottom: 4px;\n",
       "  border-bottom: solid 1px var(--xr-border-color);\n",
       "}\n",
       "\n",
       ".xr-header > div,\n",
       ".xr-header > ul {\n",
       "  display: inline;\n",
       "  margin-top: 0;\n",
       "  margin-bottom: 0;\n",
       "}\n",
       "\n",
       ".xr-obj-type,\n",
       ".xr-array-name {\n",
       "  margin-left: 2px;\n",
       "  margin-right: 10px;\n",
       "}\n",
       "\n",
       ".xr-obj-type {\n",
       "  color: var(--xr-font-color2);\n",
       "}\n",
       "\n",
       ".xr-sections {\n",
       "  padding-left: 0 !important;\n",
       "  display: grid;\n",
       "  grid-template-columns: 150px auto auto 1fr 20px 20px;\n",
       "}\n",
       "\n",
       ".xr-section-item {\n",
       "  display: contents;\n",
       "}\n",
       "\n",
       ".xr-section-item input {\n",
       "  display: none;\n",
       "}\n",
       "\n",
       ".xr-section-item input + label {\n",
       "  color: var(--xr-disabled-color);\n",
       "}\n",
       "\n",
       ".xr-section-item input:enabled + label {\n",
       "  cursor: pointer;\n",
       "  color: var(--xr-font-color2);\n",
       "}\n",
       "\n",
       ".xr-section-item input:enabled + label:hover {\n",
       "  color: var(--xr-font-color0);\n",
       "}\n",
       "\n",
       ".xr-section-summary {\n",
       "  grid-column: 1;\n",
       "  color: var(--xr-font-color2);\n",
       "  font-weight: 500;\n",
       "}\n",
       "\n",
       ".xr-section-summary > span {\n",
       "  display: inline-block;\n",
       "  padding-left: 0.5em;\n",
       "}\n",
       "\n",
       ".xr-section-summary-in:disabled + label {\n",
       "  color: var(--xr-font-color2);\n",
       "}\n",
       "\n",
       ".xr-section-summary-in + label:before {\n",
       "  display: inline-block;\n",
       "  content: '►';\n",
       "  font-size: 11px;\n",
       "  width: 15px;\n",
       "  text-align: center;\n",
       "}\n",
       "\n",
       ".xr-section-summary-in:disabled + label:before {\n",
       "  color: var(--xr-disabled-color);\n",
       "}\n",
       "\n",
       ".xr-section-summary-in:checked + label:before {\n",
       "  content: '▼';\n",
       "}\n",
       "\n",
       ".xr-section-summary-in:checked + label > span {\n",
       "  display: none;\n",
       "}\n",
       "\n",
       ".xr-section-summary,\n",
       ".xr-section-inline-details {\n",
       "  padding-top: 4px;\n",
       "  padding-bottom: 4px;\n",
       "}\n",
       "\n",
       ".xr-section-inline-details {\n",
       "  grid-column: 2 / -1;\n",
       "}\n",
       "\n",
       ".xr-section-details {\n",
       "  display: none;\n",
       "  grid-column: 1 / -1;\n",
       "  margin-bottom: 5px;\n",
       "}\n",
       "\n",
       ".xr-section-summary-in:checked ~ .xr-section-details {\n",
       "  display: contents;\n",
       "}\n",
       "\n",
       ".xr-array-wrap {\n",
       "  grid-column: 1 / -1;\n",
       "  display: grid;\n",
       "  grid-template-columns: 20px auto;\n",
       "}\n",
       "\n",
       ".xr-array-wrap > label {\n",
       "  grid-column: 1;\n",
       "  vertical-align: top;\n",
       "}\n",
       "\n",
       ".xr-preview {\n",
       "  color: var(--xr-font-color3);\n",
       "}\n",
       "\n",
       ".xr-array-preview,\n",
       ".xr-array-data {\n",
       "  padding: 0 5px !important;\n",
       "  grid-column: 2;\n",
       "}\n",
       "\n",
       ".xr-array-data,\n",
       ".xr-array-in:checked ~ .xr-array-preview {\n",
       "  display: none;\n",
       "}\n",
       "\n",
       ".xr-array-in:checked ~ .xr-array-data,\n",
       ".xr-array-preview {\n",
       "  display: inline-block;\n",
       "}\n",
       "\n",
       ".xr-dim-list {\n",
       "  display: inline-block !important;\n",
       "  list-style: none;\n",
       "  padding: 0 !important;\n",
       "  margin: 0;\n",
       "}\n",
       "\n",
       ".xr-dim-list li {\n",
       "  display: inline-block;\n",
       "  padding: 0;\n",
       "  margin: 0;\n",
       "}\n",
       "\n",
       ".xr-dim-list:before {\n",
       "  content: '(';\n",
       "}\n",
       "\n",
       ".xr-dim-list:after {\n",
       "  content: ')';\n",
       "}\n",
       "\n",
       ".xr-dim-list li:not(:last-child):after {\n",
       "  content: ',';\n",
       "  padding-right: 5px;\n",
       "}\n",
       "\n",
       ".xr-has-index {\n",
       "  font-weight: bold;\n",
       "}\n",
       "\n",
       ".xr-var-list,\n",
       ".xr-var-item {\n",
       "  display: contents;\n",
       "}\n",
       "\n",
       ".xr-var-item > div,\n",
       ".xr-var-item label,\n",
       ".xr-var-item > .xr-var-name span {\n",
       "  background-color: var(--xr-background-color-row-even);\n",
       "  margin-bottom: 0;\n",
       "}\n",
       "\n",
       ".xr-var-item > .xr-var-name:hover span {\n",
       "  padding-right: 5px;\n",
       "}\n",
       "\n",
       ".xr-var-list > li:nth-child(odd) > div,\n",
       ".xr-var-list > li:nth-child(odd) > label,\n",
       ".xr-var-list > li:nth-child(odd) > .xr-var-name span {\n",
       "  background-color: var(--xr-background-color-row-odd);\n",
       "}\n",
       "\n",
       ".xr-var-name {\n",
       "  grid-column: 1;\n",
       "}\n",
       "\n",
       ".xr-var-dims {\n",
       "  grid-column: 2;\n",
       "}\n",
       "\n",
       ".xr-var-dtype {\n",
       "  grid-column: 3;\n",
       "  text-align: right;\n",
       "  color: var(--xr-font-color2);\n",
       "}\n",
       "\n",
       ".xr-var-preview {\n",
       "  grid-column: 4;\n",
       "}\n",
       "\n",
       ".xr-index-preview {\n",
       "  grid-column: 2 / 5;\n",
       "  color: var(--xr-font-color2);\n",
       "}\n",
       "\n",
       ".xr-var-name,\n",
       ".xr-var-dims,\n",
       ".xr-var-dtype,\n",
       ".xr-preview,\n",
       ".xr-attrs dt {\n",
       "  white-space: nowrap;\n",
       "  overflow: hidden;\n",
       "  text-overflow: ellipsis;\n",
       "  padding-right: 10px;\n",
       "}\n",
       "\n",
       ".xr-var-name:hover,\n",
       ".xr-var-dims:hover,\n",
       ".xr-var-dtype:hover,\n",
       ".xr-attrs dt:hover {\n",
       "  overflow: visible;\n",
       "  width: auto;\n",
       "  z-index: 1;\n",
       "}\n",
       "\n",
       ".xr-var-attrs,\n",
       ".xr-var-data,\n",
       ".xr-index-data {\n",
       "  display: none;\n",
       "  background-color: var(--xr-background-color) !important;\n",
       "  padding-bottom: 5px !important;\n",
       "}\n",
       "\n",
       ".xr-var-attrs-in:checked ~ .xr-var-attrs,\n",
       ".xr-var-data-in:checked ~ .xr-var-data,\n",
       ".xr-index-data-in:checked ~ .xr-index-data {\n",
       "  display: block;\n",
       "}\n",
       "\n",
       ".xr-var-data > table {\n",
       "  float: right;\n",
       "}\n",
       "\n",
       ".xr-var-name span,\n",
       ".xr-var-data,\n",
       ".xr-index-name div,\n",
       ".xr-index-data,\n",
       ".xr-attrs {\n",
       "  padding-left: 25px !important;\n",
       "}\n",
       "\n",
       ".xr-attrs,\n",
       ".xr-var-attrs,\n",
       ".xr-var-data,\n",
       ".xr-index-data {\n",
       "  grid-column: 1 / -1;\n",
       "}\n",
       "\n",
       "dl.xr-attrs {\n",
       "  padding: 0;\n",
       "  margin: 0;\n",
       "  display: grid;\n",
       "  grid-template-columns: 125px auto;\n",
       "}\n",
       "\n",
       ".xr-attrs dt,\n",
       ".xr-attrs dd {\n",
       "  padding: 0;\n",
       "  margin: 0;\n",
       "  float: left;\n",
       "  padding-right: 10px;\n",
       "  width: auto;\n",
       "}\n",
       "\n",
       ".xr-attrs dt {\n",
       "  font-weight: normal;\n",
       "  grid-column: 1;\n",
       "}\n",
       "\n",
       ".xr-attrs dt:hover span {\n",
       "  display: inline-block;\n",
       "  background: var(--xr-background-color);\n",
       "  padding-right: 10px;\n",
       "}\n",
       "\n",
       ".xr-attrs dd {\n",
       "  grid-column: 2;\n",
       "  white-space: pre-wrap;\n",
       "  word-break: break-all;\n",
       "}\n",
       "\n",
       ".xr-icon-database,\n",
       ".xr-icon-file-text2,\n",
       ".xr-no-icon {\n",
       "  display: inline-block;\n",
       "  vertical-align: middle;\n",
       "  width: 1em;\n",
       "  height: 1.5em !important;\n",
       "  stroke-width: 0;\n",
       "  stroke: currentColor;\n",
       "  fill: currentColor;\n",
       "}\n",
       "</style><pre class='xr-text-repr-fallback'>&lt;xarray.Dataset&gt;\n",
       "Dimensions:                                            (time: 4909)\n",
       "Coordinates:\n",
       "  * time                                               (time) datetime64[ns] ...\n",
       "Data variables: (12/29)\n",
       "    sea_water_pressure                                 (time) float64 80.38 ....\n",
       "    sea_water_electrical_conductivity_qartod_results   (time) uint8 1 1 ... 3 3\n",
       "    ctd_time                                           (time) int32 500853603...\n",
       "    sea_water_practical_salinity_qc_executed           (time) uint8 29 29 ... 29\n",
       "    conductivity                                       (time) int32 1422301 ....\n",
       "    temperature                                        (time) int32 401365 .....\n",
       "    ...                                                 ...\n",
       "    sea_water_density                                  (time) float64 1.027e+...\n",
       "    depth                                              (time) float64 79.73 ....\n",
       "    sea_water_pressure_qartod_results                  (time) uint8 1 1 ... 1 1\n",
       "    sea_water_electrical_conductivity_qartod_executed  (time) object &#x27;1&#x27; ... &#x27;3&#x27;\n",
       "    sea_water_temperature                              (time) float64 10.16 ....\n",
       "    sea_water_practical_salinity_qartod_executed       (time) object &#x27;11&#x27; ......\n",
       "Attributes: (12/69)\n",
       "    node:                               RII11\n",
       "    comment:                            Data collected from the OOI M2M API a...\n",
       "    publisher_email:                    \n",
       "    sourceUrl:                          http://oceanobservatories.org/\n",
       "    collection_method:                  recovered_inst\n",
       "    stream:                             ctdbp_cdef_instrument_recovered\n",
       "    ...                                 ...\n",
       "    geospatial_lon_resolution:          0.1\n",
       "    geospatial_vertical_units:          meters\n",
       "    geospatial_vertical_resolution:     0.1\n",
       "    geospatial_vertical_positive:       down\n",
       "    lat:                                -42.9246\n",
       "    lon:                                -42.58668</pre><div class='xr-wrap' style='display:none'><div class='xr-header'><div class='xr-obj-type'>xarray.Dataset</div></div><ul class='xr-sections'><li class='xr-section-item'><input id='section-404f7554-e126-49e9-9b60-921c8ade0746' class='xr-section-summary-in' type='checkbox' disabled ><label for='section-404f7554-e126-49e9-9b60-921c8ade0746' class='xr-section-summary'  title='Expand/collapse section'>Dimensions:</label><div class='xr-section-inline-details'><ul class='xr-dim-list'><li><span class='xr-has-index'>time</span>: 4909</li></ul></div><div class='xr-section-details'></div></li><li class='xr-section-item'><input id='section-b1eb773e-e6d6-4c10-b0b4-b853fd1a4f5f' class='xr-section-summary-in' type='checkbox'  checked><label for='section-b1eb773e-e6d6-4c10-b0b4-b853fd1a4f5f' class='xr-section-summary' >Coordinates: <span>(1)</span></label><div class='xr-section-inline-details'></div><div class='xr-section-details'><ul class='xr-var-list'><li class='xr-var-item'><div class='xr-var-name'><span class='xr-has-index'>time</span></div><div class='xr-var-dims'>(time)</div><div class='xr-var-dtype'>datetime64[ns]</div><div class='xr-var-preview xr-preview'>2015-11-14T22:00:03 ... 2016-06-...</div><input id='attrs-1aaad297-a261-4ce8-874d-d03113e257de' class='xr-var-attrs-in' type='checkbox' disabled><label for='attrs-1aaad297-a261-4ce8-874d-d03113e257de' title='Show/Hide attributes'><svg class='icon xr-icon-file-text2'><use xlink:href='#icon-file-text2'></use></svg></label><input id='data-8ee36b1d-efc6-412d-9ced-76fea7ba52ac' class='xr-var-data-in' type='checkbox'><label for='data-8ee36b1d-efc6-412d-9ced-76fea7ba52ac' title='Show/Hide data repr'><svg class='icon xr-icon-database'><use xlink:href='#icon-database'></use></svg></label><div class='xr-var-attrs'><dl class='xr-attrs'></dl></div><div class='xr-var-data'><pre>array([&#x27;2015-11-14T22:00:03.000000000&#x27;, &#x27;2015-11-14T23:00:03.000000000&#x27;,\n",
       "       &#x27;2015-11-15T00:00:03.000000000&#x27;, ..., &#x27;2016-06-06T14:00:03.000000000&#x27;,\n",
       "       &#x27;2016-06-06T15:00:03.000000000&#x27;, &#x27;2016-06-06T22:00:03.000000000&#x27;],\n",
       "      dtype=&#x27;datetime64[ns]&#x27;)</pre></div></li></ul></div></li><li class='xr-section-item'><input id='section-c143119d-f7ea-4f74-93e6-835644fb2823' class='xr-section-summary-in' type='checkbox'  ><label for='section-c143119d-f7ea-4f74-93e6-835644fb2823' class='xr-section-summary' >Data variables: <span>(29)</span></label><div class='xr-section-inline-details'></div><div class='xr-section-details'><ul class='xr-var-list'><li class='xr-var-item'><div class='xr-var-name'><span>sea_water_pressure</span></div><div class='xr-var-dims'>(time)</div><div class='xr-var-dtype'>float64</div><div class='xr-var-preview xr-preview'>80.38 80.46 80.35 ... 81.06 81.56</div><input id='attrs-0e1e7a53-2611-4362-b35f-4e958e74e62a' class='xr-var-attrs-in' type='checkbox' ><label for='attrs-0e1e7a53-2611-4362-b35f-4e958e74e62a' title='Show/Hide attributes'><svg class='icon xr-icon-file-text2'><use xlink:href='#icon-file-text2'></use></svg></label><input id='data-88c3ebd6-b73d-444c-8c10-f4dd6bfacaf9' class='xr-var-data-in' type='checkbox'><label for='data-88c3ebd6-b73d-444c-8c10-f4dd6bfacaf9' title='Show/Hide data repr'><svg class='icon xr-icon-database'><use xlink:href='#icon-database'></use></svg></label><div class='xr-var-attrs'><dl class='xr-attrs'><dt><span>_FillValue :</span></dt><dd>-9999999.0</dd><dt><span>comment :</span></dt><dd>Seawater Pressure refers to the pressure exerted on a sensor in situ by the weight of the column of seawater above it. It is calculated by subtracting one standard atmosphere from the absolute pressure at the sensor to remove the weight of the atmosphere on top of the water column. The pressure at a sensor in situ provides a metric of the depth of that sensor.</dd><dt><span>long_name :</span></dt><dd>Seawater Pressure</dd><dt><span>precision :</span></dt><dd>3</dd><dt><span>coordinates :</span></dt><dd>time lat lon depth</dd><dt><span>data_product_identifier :</span></dt><dd>PRESWAT_L1</dd><dt><span>standard_name :</span></dt><dd>sea_water_pressure</dd><dt><span>units :</span></dt><dd>dbar</dd><dt><span>ancillary_variables :</span></dt><dd>ctdbp_seawater_pressure_qartod_results ctdbp_seawater_pressure_qartod_executed pressure pressure_temp</dd><dt><span>alternate_parameter_name :</span></dt><dd>ctdbp_seawater_pressure</dd></dl></div><div class='xr-var-data'><pre>array([80.37792779, 80.46216588, 80.34648646, ..., 80.96008212,\n",
       "       81.0639737 , 81.55593368])</pre></div></li><li class='xr-var-item'><div class='xr-var-name'><span>sea_water_electrical_conductivity_qartod_results</span></div><div class='xr-var-dims'>(time)</div><div class='xr-var-dtype'>uint8</div><div class='xr-var-preview xr-preview'>1 1 1 1 1 1 1 1 ... 3 3 3 3 3 3 3 3</div><input id='attrs-50b2d3ba-1013-4eaa-a1b2-c6426850cf39' class='xr-var-attrs-in' type='checkbox' ><label for='attrs-50b2d3ba-1013-4eaa-a1b2-c6426850cf39' title='Show/Hide attributes'><svg class='icon xr-icon-file-text2'><use xlink:href='#icon-file-text2'></use></svg></label><input id='data-31c6a49e-a80e-40ce-9788-6f4e77003908' class='xr-var-data-in' type='checkbox'><label for='data-31c6a49e-a80e-40ce-9788-6f4e77003908' title='Show/Hide data repr'><svg class='icon xr-icon-database'><use xlink:href='#icon-database'></use></svg></label><div class='xr-var-attrs'><dl class='xr-attrs'><dt><span>flag_values :</span></dt><dd>[1 2 3 4 9]</dd><dt><span>flag_meanings :</span></dt><dd>pass not_evaluated suspect_or_of_high_interest fail missing_data</dd><dt><span>standard_name :</span></dt><dd>sea_water_electrical_conductivity status_flag</dd><dt><span>long_name :</span></dt><dd>Seawater Conductivity QARTOD Summary Flag</dd><dt><span>references :</span></dt><dd>https://ioos.noaa.gov/project/qartod https://github.com/ioos/ioos_qc</dd><dt><span>comment :</span></dt><dd>Summary QARTOD test flags. For each datum, the flag is set to the most significant result of all QARTOD tests run for that datum.</dd><dt><span>alternate_parameter_name :</span></dt><dd>ctdbp_seawater_conductivity_qartod_results</dd><dt><span>coordinates :</span></dt><dd>time lat lon depth</dd></dl></div><div class='xr-var-data'><pre>array([1, 1, 1, ..., 3, 3, 3], dtype=uint8)</pre></div></li><li class='xr-var-item'><div class='xr-var-name'><span>ctd_time</span></div><div class='xr-var-dims'>(time)</div><div class='xr-var-dtype'>int32</div><div class='xr-var-preview xr-preview'>500853603 500857203 ... 518565603</div><input id='attrs-f30161b4-e294-438e-928e-186a70ab08e6' class='xr-var-attrs-in' type='checkbox' ><label for='attrs-f30161b4-e294-438e-928e-186a70ab08e6' title='Show/Hide attributes'><svg class='icon xr-icon-file-text2'><use xlink:href='#icon-file-text2'></use></svg></label><input id='data-f2a0b65d-8de6-4bb8-aff7-964d816283e3' class='xr-var-data-in' type='checkbox'><label for='data-f2a0b65d-8de6-4bb8-aff7-964d816283e3' title='Show/Hide data repr'><svg class='icon xr-icon-database'><use xlink:href='#icon-database'></use></svg></label><div class='xr-var-attrs'><dl class='xr-attrs'><dt><span>_FillValue :</span></dt><dd>-9999999</dd><dt><span>comment :</span></dt><dd>Time in seconds since 2000-01-01.</dd><dt><span>precision :</span></dt><dd>0</dd><dt><span>coordinates :</span></dt><dd>time lat lon depth</dd><dt><span>long_name :</span></dt><dd>Time, UTC</dd><dt><span>units :</span></dt><dd>seconds since 2000-01-01</dd><dt><span>calendar :</span></dt><dd>proleptic_gregorian</dd></dl></div><div class='xr-var-data'><pre>array([500853603, 500857203, 500860803, ..., 518536803, 518540403,\n",
       "       518565603])</pre></div></li><li class='xr-var-item'><div class='xr-var-name'><span>sea_water_practical_salinity_qc_executed</span></div><div class='xr-var-dims'>(time)</div><div class='xr-var-dtype'>uint8</div><div class='xr-var-preview xr-preview'>29 29 29 29 29 ... 29 29 29 29 29</div><input id='attrs-29abfccc-9be9-44e4-a1c1-53d67b9a12fe' class='xr-var-attrs-in' type='checkbox' ><label for='attrs-29abfccc-9be9-44e4-a1c1-53d67b9a12fe' title='Show/Hide attributes'><svg class='icon xr-icon-file-text2'><use xlink:href='#icon-file-text2'></use></svg></label><input id='data-2f2551a2-25de-4dfb-b237-96e42c3909ce' class='xr-var-data-in' type='checkbox'><label for='data-2f2551a2-25de-4dfb-b237-96e42c3909ce' title='Show/Hide data repr'><svg class='icon xr-icon-database'><use xlink:href='#icon-database'></use></svg></label><div class='xr-var-attrs'><dl class='xr-attrs'><dt><span>alternate_parameter_name :</span></dt><dd>practical_salinity_qc_executed</dd><dt><span>coordinates :</span></dt><dd>time lat lon depth</dd></dl></div><div class='xr-var-data'><pre>array([29, 29, 29, ..., 29, 29, 29], dtype=uint8)</pre></div></li><li class='xr-var-item'><div class='xr-var-name'><span>conductivity</span></div><div class='xr-var-dims'>(time)</div><div class='xr-var-dtype'>int32</div><div class='xr-var-preview xr-preview'>1422301 1426975 ... 1483536 1484288</div><input id='attrs-a11152e7-b354-4a52-9726-49cdddf000b3' class='xr-var-attrs-in' type='checkbox' ><label for='attrs-a11152e7-b354-4a52-9726-49cdddf000b3' title='Show/Hide attributes'><svg class='icon xr-icon-file-text2'><use xlink:href='#icon-file-text2'></use></svg></label><input id='data-024c75ae-4b2e-4f27-93ff-6414fa80fa42' class='xr-var-data-in' type='checkbox'><label for='data-024c75ae-4b2e-4f27-93ff-6414fa80fa42' title='Show/Hide data repr'><svg class='icon xr-icon-database'><use xlink:href='#icon-database'></use></svg></label><div class='xr-var-attrs'><dl class='xr-attrs'><dt><span>_FillValue :</span></dt><dd>-9999999</dd><dt><span>comment :</span></dt><dd>Unprocessed conductivity data that are output directly from the sensor. Seawater conductivity refers to the ability of seawater to conduct electricity. The presence of ions in the seawater, such as salt, increases the electrical conducting ability of seawater. As such, conductivity can be used as a proxy for determining the quantity of salt in a sample of seawater.</dd><dt><span>long_name :</span></dt><dd>Unprocessed (L0) Seawater Conductivity</dd><dt><span>precision :</span></dt><dd>0</dd><dt><span>coordinates :</span></dt><dd>time lat lon depth</dd><dt><span>data_product_identifier :</span></dt><dd>CONDWAT_L0</dd><dt><span>units :</span></dt><dd>counts</dd></dl></div><div class='xr-var-data'><pre>array([1422301, 1426975, 1425783, ..., 1484347, 1483536, 1484288])</pre></div></li><li class='xr-var-item'><div class='xr-var-name'><span>temperature</span></div><div class='xr-var-dims'>(time)</div><div class='xr-var-dtype'>int32</div><div class='xr-var-preview xr-preview'>401365 396342 ... 349956 349342</div><input id='attrs-3c59ca85-b520-4caa-a358-e75a3766cf37' class='xr-var-attrs-in' type='checkbox' ><label for='attrs-3c59ca85-b520-4caa-a358-e75a3766cf37' title='Show/Hide attributes'><svg class='icon xr-icon-file-text2'><use xlink:href='#icon-file-text2'></use></svg></label><input id='data-05933528-ad97-4ae6-a700-2df8a2ace238' class='xr-var-data-in' type='checkbox'><label for='data-05933528-ad97-4ae6-a700-2df8a2ace238' title='Show/Hide data repr'><svg class='icon xr-icon-database'><use xlink:href='#icon-database'></use></svg></label><div class='xr-var-attrs'><dl class='xr-attrs'><dt><span>_FillValue :</span></dt><dd>-9999999</dd><dt><span>comment :</span></dt><dd>Unprocessed seawater temperature measurement in counts.</dd><dt><span>long_name :</span></dt><dd>Unprocessed (L0) Seawater Temperature</dd><dt><span>precision :</span></dt><dd>0</dd><dt><span>coordinates :</span></dt><dd>time lat lon depth</dd><dt><span>data_product_identifier :</span></dt><dd>TEMPWAT_L0</dd><dt><span>units :</span></dt><dd>counts</dd></dl></div><div class='xr-var-data'><pre>array([401365, 396342, 398009, ..., 349313, 349956, 349342])</pre></div></li><li class='xr-var-item'><div class='xr-var-name'><span>sea_water_temperature_qartod_results</span></div><div class='xr-var-dims'>(time)</div><div class='xr-var-dtype'>uint8</div><div class='xr-var-preview xr-preview'>1 1 1 1 1 1 1 1 ... 1 1 1 1 1 1 1 1</div><input id='attrs-88808a0f-e9aa-4649-8536-b036edb43ec4' class='xr-var-attrs-in' type='checkbox' ><label for='attrs-88808a0f-e9aa-4649-8536-b036edb43ec4' title='Show/Hide attributes'><svg class='icon xr-icon-file-text2'><use xlink:href='#icon-file-text2'></use></svg></label><input id='data-5dbb1167-32c3-466d-a40e-d7be994883f6' class='xr-var-data-in' type='checkbox'><label for='data-5dbb1167-32c3-466d-a40e-d7be994883f6' title='Show/Hide data repr'><svg class='icon xr-icon-database'><use xlink:href='#icon-database'></use></svg></label><div class='xr-var-attrs'><dl class='xr-attrs'><dt><span>flag_values :</span></dt><dd>[1 2 3 4 9]</dd><dt><span>flag_meanings :</span></dt><dd>pass not_evaluated suspect_or_of_high_interest fail missing_data</dd><dt><span>standard_name :</span></dt><dd>sea_water_temperature status_flag</dd><dt><span>long_name :</span></dt><dd>Seawater Temperature QARTOD Summary Flag</dd><dt><span>references :</span></dt><dd>https://ioos.noaa.gov/project/qartod https://github.com/ioos/ioos_qc</dd><dt><span>comment :</span></dt><dd>Summary QARTOD test flags. For each datum, the flag is set to the most significant result of all QARTOD tests run for that datum.</dd><dt><span>alternate_parameter_name :</span></dt><dd>ctdbp_seawater_temperature_qartod_results</dd><dt><span>coordinates :</span></dt><dd>time lat lon depth</dd></dl></div><div class='xr-var-data'><pre>array([1, 1, 1, ..., 1, 1, 1], dtype=uint8)</pre></div></li><li class='xr-var-item'><div class='xr-var-name'><span>conductivity_qc_results</span></div><div class='xr-var-dims'>(time)</div><div class='xr-var-dtype'>uint8</div><div class='xr-var-preview xr-preview'>28 28 28 28 28 ... 28 28 28 28 28</div><input id='attrs-c0af7e7f-1058-4125-80eb-4dd4b2d084db' class='xr-var-attrs-in' type='checkbox' ><label for='attrs-c0af7e7f-1058-4125-80eb-4dd4b2d084db' title='Show/Hide attributes'><svg class='icon xr-icon-file-text2'><use xlink:href='#icon-file-text2'></use></svg></label><input id='data-dae974dc-b2cc-44cb-99cd-0c7c95eacb6e' class='xr-var-data-in' type='checkbox'><label for='data-dae974dc-b2cc-44cb-99cd-0c7c95eacb6e' title='Show/Hide data repr'><svg class='icon xr-icon-database'><use xlink:href='#icon-database'></use></svg></label><div class='xr-var-attrs'><dl class='xr-attrs'><dt><span>coordinates :</span></dt><dd>time lat lon depth</dd></dl></div><div class='xr-var-data'><pre>array([28, 28, 28, ..., 28, 28, 28], dtype=uint8)</pre></div></li><li class='xr-var-item'><div class='xr-var-name'><span>pressure_temp</span></div><div class='xr-var-dims'>(time)</div><div class='xr-var-dtype'>int32</div><div class='xr-var-preview xr-preview'>19326 19333 19386 ... 20228 20243</div><input id='attrs-7a812f61-acea-4b9f-aad5-ca514d65b4d3' class='xr-var-attrs-in' type='checkbox' ><label for='attrs-7a812f61-acea-4b9f-aad5-ca514d65b4d3' title='Show/Hide attributes'><svg class='icon xr-icon-file-text2'><use xlink:href='#icon-file-text2'></use></svg></label><input id='data-808c5828-6888-4bae-8883-ac0f76640758' class='xr-var-data-in' type='checkbox'><label for='data-808c5828-6888-4bae-8883-ac0f76640758' title='Show/Hide data repr'><svg class='icon xr-icon-database'><use xlink:href='#icon-database'></use></svg></label><div class='xr-var-attrs'><dl class='xr-attrs'><dt><span>_FillValue :</span></dt><dd>-9999999</dd><dt><span>comment :</span></dt><dd>Unprocessed temperature from the pressure sensor (inside the housing, but isolated from housing and the electronics) used to calculate CTD output parameters.</dd><dt><span>precision :</span></dt><dd>0</dd><dt><span>coordinates :</span></dt><dd>time lat lon depth</dd><dt><span>long_name :</span></dt><dd>Internal Pressure Sensor Temperature</dd><dt><span>units :</span></dt><dd>counts</dd></dl></div><div class='xr-var-data'><pre>array([19326, 19333, 19386, ..., 20241, 20228, 20243])</pre></div></li><li class='xr-var-item'><div class='xr-var-name'><span>internal_timestamp</span></div><div class='xr-var-dims'>(time)</div><div class='xr-var-dtype'>datetime64[ns]</div><div class='xr-var-preview xr-preview'>2015-11-14T22:00:03 ... 2016-06-...</div><input id='attrs-995679e6-69a4-4b23-ac67-688ee01da825' class='xr-var-attrs-in' type='checkbox' disabled><label for='attrs-995679e6-69a4-4b23-ac67-688ee01da825' title='Show/Hide attributes'><svg class='icon xr-icon-file-text2'><use xlink:href='#icon-file-text2'></use></svg></label><input id='data-60c25510-4a53-4672-aa7d-68febb13caaf' class='xr-var-data-in' type='checkbox'><label for='data-60c25510-4a53-4672-aa7d-68febb13caaf' title='Show/Hide data repr'><svg class='icon xr-icon-database'><use xlink:href='#icon-database'></use></svg></label><div class='xr-var-attrs'><dl class='xr-attrs'></dl></div><div class='xr-var-data'><pre>array([&#x27;2015-11-14T22:00:03.000000000&#x27;, &#x27;2015-11-14T23:00:03.000000000&#x27;,\n",
       "       &#x27;2015-11-15T00:00:03.000000000&#x27;, ...,\n",
       "       &#x27;2016-06-06T14:00:03.000000000&#x27;, &#x27;2016-06-06T15:00:03.000000000&#x27;,\n",
       "       &#x27;2016-06-06T22:00:03.000000000&#x27;], dtype=&#x27;datetime64[ns]&#x27;)</pre></div></li><li class='xr-var-item'><div class='xr-var-name'><span>sea_water_density_qc_results</span></div><div class='xr-var-dims'>(time)</div><div class='xr-var-dtype'>uint8</div><div class='xr-var-preview xr-preview'>29 29 29 29 29 ... 29 29 29 29 29</div><input id='attrs-d4db6228-7499-4837-85c4-1228e7df1b64' class='xr-var-attrs-in' type='checkbox' ><label for='attrs-d4db6228-7499-4837-85c4-1228e7df1b64' title='Show/Hide attributes'><svg class='icon xr-icon-file-text2'><use xlink:href='#icon-file-text2'></use></svg></label><input id='data-c8456222-dd3c-4ec6-b665-5f30222e6621' class='xr-var-data-in' type='checkbox'><label for='data-c8456222-dd3c-4ec6-b665-5f30222e6621' title='Show/Hide data repr'><svg class='icon xr-icon-database'><use xlink:href='#icon-database'></use></svg></label><div class='xr-var-attrs'><dl class='xr-attrs'><dt><span>alternate_parameter_name :</span></dt><dd>density_qc_results</dd><dt><span>coordinates :</span></dt><dd>time lat lon depth</dd></dl></div><div class='xr-var-data'><pre>array([29, 29, 29, ..., 29, 29, 29], dtype=uint8)</pre></div></li><li class='xr-var-item'><div class='xr-var-name'><span>sea_water_pressure_qartod_executed</span></div><div class='xr-var-dims'>(time)</div><div class='xr-var-dtype'>object</div><div class='xr-var-preview xr-preview'>&#x27;1&#x27; &#x27;1&#x27; &#x27;1&#x27; &#x27;1&#x27; ... &#x27;1&#x27; &#x27;1&#x27; &#x27;1&#x27; &#x27;1&#x27;</div><input id='attrs-ccc5b90a-4bc1-4f89-82ec-00504824dc64' class='xr-var-attrs-in' type='checkbox' ><label for='attrs-ccc5b90a-4bc1-4f89-82ec-00504824dc64' title='Show/Hide attributes'><svg class='icon xr-icon-file-text2'><use xlink:href='#icon-file-text2'></use></svg></label><input id='data-e7d64a30-f1e3-4d9d-ad57-3981d28f109c' class='xr-var-data-in' type='checkbox'><label for='data-e7d64a30-f1e3-4d9d-ad57-3981d28f109c' title='Show/Hide data repr'><svg class='icon xr-icon-database'><use xlink:href='#icon-database'></use></svg></label><div class='xr-var-attrs'><dl class='xr-attrs'><dt><span>tests_executed :</span></dt><dd>gross_range_test</dd><dt><span>standard_name :</span></dt><dd>sea_water_pressure status_flag</dd><dt><span>long_name :</span></dt><dd>Seawater Pressure Individual QARTOD Flags</dd><dt><span>references :</span></dt><dd>https://ioos.noaa.gov/project/qartod https://github.com/ioos/ioos_qc</dd><dt><span>comment :</span></dt><dd>Individual QARTOD test flags. For each datum, flags are listed in a string matching the order of the tests_executed attribute. Flags should be interpreted using the standard QARTOD mapping: [1: pass, 2: not_evaluated, 3: suspect_or_of_high_interest, 4: fail, 9: missing_data].</dd><dt><span>alternate_parameter_name :</span></dt><dd>ctdbp_seawater_pressure_qartod_executed</dd><dt><span>coordinates :</span></dt><dd>time lat lon depth</dd></dl></div><div class='xr-var-data'><pre>array([&#x27;1&#x27;, &#x27;1&#x27;, &#x27;1&#x27;, ..., &#x27;1&#x27;, &#x27;1&#x27;, &#x27;1&#x27;], dtype=object)</pre></div></li><li class='xr-var-item'><div class='xr-var-name'><span>sea_water_practical_salinity</span></div><div class='xr-var-dims'>(time)</div><div class='xr-var-dtype'>float64</div><div class='xr-var-preview xr-preview'>34.54 34.54 34.56 ... 35.25 35.26</div><input id='attrs-9cf05f88-3675-44d5-ab1a-a7d3d1ee6361' class='xr-var-attrs-in' type='checkbox' ><label for='attrs-9cf05f88-3675-44d5-ab1a-a7d3d1ee6361' title='Show/Hide attributes'><svg class='icon xr-icon-file-text2'><use xlink:href='#icon-file-text2'></use></svg></label><input id='data-40ce6726-3c11-4355-b5cf-8e2c8709975f' class='xr-var-data-in' type='checkbox'><label for='data-40ce6726-3c11-4355-b5cf-8e2c8709975f' title='Show/Hide data repr'><svg class='icon xr-icon-database'><use xlink:href='#icon-database'></use></svg></label><div class='xr-var-attrs'><dl class='xr-attrs'><dt><span>_FillValue :</span></dt><dd>-9999999.0</dd><dt><span>comment :</span></dt><dd>Salinity is generally defined as the concentration of dissolved salt in a parcel of seawater. Practical Salinity is a more specific unitless quantity calculated from the conductivity of seawater and adjusted for temperature and pressure. It is approximately equivalent to Absolute Salinity (the mass fraction of dissolved salt in seawater) but they are not interchangeable.</dd><dt><span>long_name :</span></dt><dd>Practical Salinity</dd><dt><span>precision :</span></dt><dd>4</dd><dt><span>coordinates :</span></dt><dd>time lat lon depth</dd><dt><span>data_product_identifier :</span></dt><dd>PRACSAL_L2</dd><dt><span>standard_name :</span></dt><dd>sea_water_practical_salinity</dd><dt><span>units :</span></dt><dd>1</dd><dt><span>ancillary_variables :</span></dt><dd>practical_salinity_qartod_results practical_salinity_qartod_executed sea_water_pressure sea_water_electrical_conductivity sea_water_temperature</dd><dt><span>alternate_parameter_name :</span></dt><dd>practical_salinity</dd></dl></div><div class='xr-var-data'><pre>array([34.54065226, 34.53942395, 34.56470755, ..., 35.25731379,\n",
       "       35.24825276, 35.25518619])</pre></div></li><li class='xr-var-item'><div class='xr-var-name'><span>pressure</span></div><div class='xr-var-dims'>(time)</div><div class='xr-var-dtype'>int32</div><div class='xr-var-preview xr-preview'>575116 575162 ... 575480 575749</div><input id='attrs-8367a47b-a473-4b88-95b8-6ccf5560c4c6' class='xr-var-attrs-in' type='checkbox' ><label for='attrs-8367a47b-a473-4b88-95b8-6ccf5560c4c6' title='Show/Hide attributes'><svg class='icon xr-icon-file-text2'><use xlink:href='#icon-file-text2'></use></svg></label><input id='data-0fad46a7-1b2b-4e7e-b01b-1f9ca957fa6c' class='xr-var-data-in' type='checkbox'><label for='data-0fad46a7-1b2b-4e7e-b01b-1f9ca957fa6c' title='Show/Hide data repr'><svg class='icon xr-icon-database'><use xlink:href='#icon-database'></use></svg></label><div class='xr-var-attrs'><dl class='xr-attrs'><dt><span>_FillValue :</span></dt><dd>-9999999</dd><dt><span>comment :</span></dt><dd>Unprocessed pressure data that are output directly from the sensor. Seawater Pressure refers to the pressure exerted on a sensor in situ by the weight of the column of seawater above it. It is calculated by subtracting one standard atmosphere from the absolute pressure at the sensor to remove the weight of the atmosphere on top of the water column. The pressure at a sensor in situ provides a metric of the depth of that sensor.</dd><dt><span>long_name :</span></dt><dd>Unprocessed (L0) Seawater Pressure</dd><dt><span>precision :</span></dt><dd>0</dd><dt><span>coordinates :</span></dt><dd>time lat lon depth</dd><dt><span>data_product_identifier :</span></dt><dd>PRESWAT_L0</dd><dt><span>units :</span></dt><dd>counts</dd></dl></div><div class='xr-var-data'><pre>array([575116, 575162, 575098, ..., 575423, 575480, 575749])</pre></div></li><li class='xr-var-item'><div class='xr-var-name'><span>sea_water_density_qc_executed</span></div><div class='xr-var-dims'>(time)</div><div class='xr-var-dtype'>uint8</div><div class='xr-var-preview xr-preview'>29 29 29 29 29 ... 29 29 29 29 29</div><input id='attrs-ce887cb1-ee56-4f2b-b5aa-e3ae9d33ed86' class='xr-var-attrs-in' type='checkbox' ><label for='attrs-ce887cb1-ee56-4f2b-b5aa-e3ae9d33ed86' title='Show/Hide attributes'><svg class='icon xr-icon-file-text2'><use xlink:href='#icon-file-text2'></use></svg></label><input id='data-d63400cf-b569-4a69-ac18-2fecbcc7c029' class='xr-var-data-in' type='checkbox'><label for='data-d63400cf-b569-4a69-ac18-2fecbcc7c029' title='Show/Hide data repr'><svg class='icon xr-icon-database'><use xlink:href='#icon-database'></use></svg></label><div class='xr-var-attrs'><dl class='xr-attrs'><dt><span>alternate_parameter_name :</span></dt><dd>density_qc_executed</dd><dt><span>coordinates :</span></dt><dd>time lat lon depth</dd></dl></div><div class='xr-var-data'><pre>array([29, 29, 29, ..., 29, 29, 29], dtype=uint8)</pre></div></li><li class='xr-var-item'><div class='xr-var-name'><span>sea_water_temperature_qartod_executed</span></div><div class='xr-var-dims'>(time)</div><div class='xr-var-dtype'>object</div><div class='xr-var-preview xr-preview'>&#x27;11&#x27; &#x27;11&#x27; &#x27;11&#x27; ... &#x27;11&#x27; &#x27;11&#x27; &#x27;11&#x27;</div><input id='attrs-5846994e-62d0-4653-8390-a4ba44c7e1cd' class='xr-var-attrs-in' type='checkbox' ><label for='attrs-5846994e-62d0-4653-8390-a4ba44c7e1cd' title='Show/Hide attributes'><svg class='icon xr-icon-file-text2'><use xlink:href='#icon-file-text2'></use></svg></label><input id='data-91c697e1-e8bb-4e35-a682-458f0c877676' class='xr-var-data-in' type='checkbox'><label for='data-91c697e1-e8bb-4e35-a682-458f0c877676' title='Show/Hide data repr'><svg class='icon xr-icon-database'><use xlink:href='#icon-database'></use></svg></label><div class='xr-var-attrs'><dl class='xr-attrs'><dt><span>tests_executed :</span></dt><dd>gross_range_test, climatology_test</dd><dt><span>standard_name :</span></dt><dd>sea_water_temperature status_flag</dd><dt><span>long_name :</span></dt><dd>Seawater Temperature Individual QARTOD Flags</dd><dt><span>references :</span></dt><dd>https://ioos.noaa.gov/project/qartod https://github.com/ioos/ioos_qc</dd><dt><span>comment :</span></dt><dd>Individual QARTOD test flags. For each datum, flags are listed in a string matching the order of the tests_executed attribute. Flags should be interpreted using the standard QARTOD mapping: [1: pass, 2: not_evaluated, 3: suspect_or_of_high_interest, 4: fail, 9: missing_data].</dd><dt><span>alternate_parameter_name :</span></dt><dd>ctdbp_seawater_temperature_qartod_executed</dd><dt><span>coordinates :</span></dt><dd>time lat lon depth</dd></dl></div><div class='xr-var-data'><pre>array([&#x27;11&#x27;, &#x27;11&#x27;, &#x27;11&#x27;, ..., &#x27;11&#x27;, &#x27;11&#x27;, &#x27;11&#x27;], dtype=object)</pre></div></li><li class='xr-var-item'><div class='xr-var-name'><span>deployment</span></div><div class='xr-var-dims'>(time)</div><div class='xr-var-dtype'>int32</div><div class='xr-var-preview xr-preview'>2 2 2 2 2 2 2 2 ... 2 2 2 2 2 2 2 2</div><input id='attrs-dbffdd22-b83c-43f2-90da-caab5b5898ae' class='xr-var-attrs-in' type='checkbox' ><label for='attrs-dbffdd22-b83c-43f2-90da-caab5b5898ae' title='Show/Hide attributes'><svg class='icon xr-icon-file-text2'><use xlink:href='#icon-file-text2'></use></svg></label><input id='data-1c5911e2-cfaa-4b45-b803-bd976859b6e8' class='xr-var-data-in' type='checkbox'><label for='data-1c5911e2-cfaa-4b45-b803-bd976859b6e8' title='Show/Hide data repr'><svg class='icon xr-icon-database'><use xlink:href='#icon-database'></use></svg></label><div class='xr-var-attrs'><dl class='xr-attrs'><dt><span>name :</span></dt><dd>deployment</dd></dl></div><div class='xr-var-data'><pre>array([2, 2, 2, ..., 2, 2, 2])</pre></div></li><li class='xr-var-item'><div class='xr-var-name'><span>pressure_qc_results</span></div><div class='xr-var-dims'>(time)</div><div class='xr-var-dtype'>uint8</div><div class='xr-var-preview xr-preview'>28 28 28 28 28 ... 28 28 28 28 28</div><input id='attrs-9db4a968-059b-4484-bf55-0e5fc77f8417' class='xr-var-attrs-in' type='checkbox' ><label for='attrs-9db4a968-059b-4484-bf55-0e5fc77f8417' title='Show/Hide attributes'><svg class='icon xr-icon-file-text2'><use xlink:href='#icon-file-text2'></use></svg></label><input id='data-4206193b-a60c-4aec-a000-17b3710158a0' class='xr-var-data-in' type='checkbox'><label for='data-4206193b-a60c-4aec-a000-17b3710158a0' title='Show/Hide data repr'><svg class='icon xr-icon-database'><use xlink:href='#icon-database'></use></svg></label><div class='xr-var-attrs'><dl class='xr-attrs'><dt><span>coordinates :</span></dt><dd>time lat lon depth</dd></dl></div><div class='xr-var-data'><pre>array([28, 28, 28, ..., 28, 28, 28], dtype=uint8)</pre></div></li><li class='xr-var-item'><div class='xr-var-name'><span>pressure_qc_executed</span></div><div class='xr-var-dims'>(time)</div><div class='xr-var-dtype'>uint8</div><div class='xr-var-preview xr-preview'>29 29 29 29 29 ... 29 29 29 29 29</div><input id='attrs-010baafd-2497-46d1-ab4c-45cb7d1d1270' class='xr-var-attrs-in' type='checkbox' ><label for='attrs-010baafd-2497-46d1-ab4c-45cb7d1d1270' title='Show/Hide attributes'><svg class='icon xr-icon-file-text2'><use xlink:href='#icon-file-text2'></use></svg></label><input id='data-b468b895-050c-4298-a189-980f482d3234' class='xr-var-data-in' type='checkbox'><label for='data-b468b895-050c-4298-a189-980f482d3234' title='Show/Hide data repr'><svg class='icon xr-icon-database'><use xlink:href='#icon-database'></use></svg></label><div class='xr-var-attrs'><dl class='xr-attrs'><dt><span>coordinates :</span></dt><dd>time lat lon depth</dd></dl></div><div class='xr-var-data'><pre>array([29, 29, 29, ..., 29, 29, 29], dtype=uint8)</pre></div></li><li class='xr-var-item'><div class='xr-var-name'><span>sea_water_practical_salinity_qc_results</span></div><div class='xr-var-dims'>(time)</div><div class='xr-var-dtype'>uint8</div><div class='xr-var-preview xr-preview'>29 29 29 29 29 ... 29 29 29 29 29</div><input id='attrs-22328891-475f-4038-a6bf-381c6a218b83' class='xr-var-attrs-in' type='checkbox' ><label for='attrs-22328891-475f-4038-a6bf-381c6a218b83' title='Show/Hide attributes'><svg class='icon xr-icon-file-text2'><use xlink:href='#icon-file-text2'></use></svg></label><input id='data-1dd29371-cea0-47ef-b32b-0fbce2b75fc2' class='xr-var-data-in' type='checkbox'><label for='data-1dd29371-cea0-47ef-b32b-0fbce2b75fc2' title='Show/Hide data repr'><svg class='icon xr-icon-database'><use xlink:href='#icon-database'></use></svg></label><div class='xr-var-attrs'><dl class='xr-attrs'><dt><span>alternate_parameter_name :</span></dt><dd>practical_salinity_qc_results</dd><dt><span>coordinates :</span></dt><dd>time lat lon depth</dd></dl></div><div class='xr-var-data'><pre>array([29, 29, 29, ..., 29, 29, 29], dtype=uint8)</pre></div></li><li class='xr-var-item'><div class='xr-var-name'><span>sea_water_practical_salinity_qartod_results</span></div><div class='xr-var-dims'>(time)</div><div class='xr-var-dtype'>uint8</div><div class='xr-var-preview xr-preview'>1 1 1 1 1 1 1 1 ... 3 3 3 3 3 3 3 3</div><input id='attrs-dcd1ef0e-cbd8-4a8d-bc4b-a68392f24e0b' class='xr-var-attrs-in' type='checkbox' ><label for='attrs-dcd1ef0e-cbd8-4a8d-bc4b-a68392f24e0b' title='Show/Hide attributes'><svg class='icon xr-icon-file-text2'><use xlink:href='#icon-file-text2'></use></svg></label><input id='data-64bd427e-4038-4f92-ac35-fcb66bb368d8' class='xr-var-data-in' type='checkbox'><label for='data-64bd427e-4038-4f92-ac35-fcb66bb368d8' title='Show/Hide data repr'><svg class='icon xr-icon-database'><use xlink:href='#icon-database'></use></svg></label><div class='xr-var-attrs'><dl class='xr-attrs'><dt><span>flag_values :</span></dt><dd>[1 2 3 4 9]</dd><dt><span>flag_meanings :</span></dt><dd>pass not_evaluated suspect_or_of_high_interest fail missing_data</dd><dt><span>standard_name :</span></dt><dd>sea_water_practical_salinity status_flag</dd><dt><span>long_name :</span></dt><dd>Practical Salinity QARTOD Summary Flag</dd><dt><span>references :</span></dt><dd>https://ioos.noaa.gov/project/qartod https://github.com/ioos/ioos_qc</dd><dt><span>comment :</span></dt><dd>Summary QARTOD test flags. For each datum, the flag is set to the most significant result of all QARTOD tests run for that datum.</dd><dt><span>alternate_parameter_name :</span></dt><dd>practical_salinity_qartod_results</dd><dt><span>coordinates :</span></dt><dd>time lat lon depth</dd></dl></div><div class='xr-var-data'><pre>array([1, 1, 1, ..., 3, 3, 3], dtype=uint8)</pre></div></li><li class='xr-var-item'><div class='xr-var-name'><span>sea_water_electrical_conductivity</span></div><div class='xr-var-dims'>(time)</div><div class='xr-var-dtype'>float64</div><div class='xr-var-preview xr-preview'>3.782 3.814 3.806 ... 4.203 4.208</div><input id='attrs-4f62cfdb-aa5d-4099-b34c-5e51498df573' class='xr-var-attrs-in' type='checkbox' ><label for='attrs-4f62cfdb-aa5d-4099-b34c-5e51498df573' title='Show/Hide attributes'><svg class='icon xr-icon-file-text2'><use xlink:href='#icon-file-text2'></use></svg></label><input id='data-c25d47c9-dcc7-4e89-9c51-a3c425f79093' class='xr-var-data-in' type='checkbox'><label for='data-c25d47c9-dcc7-4e89-9c51-a3c425f79093' title='Show/Hide data repr'><svg class='icon xr-icon-database'><use xlink:href='#icon-database'></use></svg></label><div class='xr-var-attrs'><dl class='xr-attrs'><dt><span>_FillValue :</span></dt><dd>-9999999.0</dd><dt><span>comment :</span></dt><dd>Seawater conductivity refers to the ability of seawater to conduct electricity. The presence of ions in the seawater, such as salt, increases the electrical conducting ability of seawater. As such, conductivity can be used as a proxy for determining the quantity of salt in a sample of seawater.</dd><dt><span>long_name :</span></dt><dd>Seawater Conductivity</dd><dt><span>precision :</span></dt><dd>6</dd><dt><span>coordinates :</span></dt><dd>time lat lon depth</dd><dt><span>data_product_identifier :</span></dt><dd>CONDWAT_L1</dd><dt><span>standard_name :</span></dt><dd>sea_water_electrical_conductivity</dd><dt><span>units :</span></dt><dd>S m-1</dd><dt><span>ancillary_variables :</span></dt><dd>ctdbp_seawater_conductivity_qartod_results ctdbp_seawater_conductivity_qartod_executed sea_water_pressure sea_water_temperature conductivity</dd><dt><span>alternate_parameter_name :</span></dt><dd>ctdbp_seawater_conductivity</dd></dl></div><div class='xr-var-data'><pre>array([3.78238356, 3.81382769, 3.80579887, ..., 4.20838005, 4.20269218,\n",
       "       4.20796637])</pre></div></li><li class='xr-var-item'><div class='xr-var-name'><span>conductivity_qc_executed</span></div><div class='xr-var-dims'>(time)</div><div class='xr-var-dtype'>uint8</div><div class='xr-var-preview xr-preview'>29 29 29 29 29 ... 29 29 29 29 29</div><input id='attrs-bc5461a5-050f-4c2d-b007-bcfe5271d876' class='xr-var-attrs-in' type='checkbox' ><label for='attrs-bc5461a5-050f-4c2d-b007-bcfe5271d876' title='Show/Hide attributes'><svg class='icon xr-icon-file-text2'><use xlink:href='#icon-file-text2'></use></svg></label><input id='data-bee0b1ca-faf7-4de9-b46f-7647033044b4' class='xr-var-data-in' type='checkbox'><label for='data-bee0b1ca-faf7-4de9-b46f-7647033044b4' title='Show/Hide data repr'><svg class='icon xr-icon-database'><use xlink:href='#icon-database'></use></svg></label><div class='xr-var-attrs'><dl class='xr-attrs'><dt><span>coordinates :</span></dt><dd>time lat lon depth</dd></dl></div><div class='xr-var-data'><pre>array([29, 29, 29, ..., 29, 29, 29], dtype=uint8)</pre></div></li><li class='xr-var-item'><div class='xr-var-name'><span>sea_water_density</span></div><div class='xr-var-dims'>(time)</div><div class='xr-var-dtype'>float64</div><div class='xr-var-preview xr-preview'>1.027e+03 1.027e+03 ... 1.027e+03</div><input id='attrs-ac11b91e-98a4-4afe-95d7-57958864ff93' class='xr-var-attrs-in' type='checkbox' ><label for='attrs-ac11b91e-98a4-4afe-95d7-57958864ff93' title='Show/Hide attributes'><svg class='icon xr-icon-file-text2'><use xlink:href='#icon-file-text2'></use></svg></label><input id='data-3bb4b722-317b-40dd-b0b3-59fbd62a36f5' class='xr-var-data-in' type='checkbox'><label for='data-3bb4b722-317b-40dd-b0b3-59fbd62a36f5' title='Show/Hide data repr'><svg class='icon xr-icon-database'><use xlink:href='#icon-database'></use></svg></label><div class='xr-var-attrs'><dl class='xr-attrs'><dt><span>_FillValue :</span></dt><dd>-9999999.0</dd><dt><span>comment :</span></dt><dd>Seawater Density is defined as mass per unit volume and is calculated from the conductivity, temperature and depth of a seawater sample using the TEOS-10 equation.</dd><dt><span>long_name :</span></dt><dd>Seawater Density</dd><dt><span>precision :</span></dt><dd>3</dd><dt><span>coordinates :</span></dt><dd>time lat lon depth</dd><dt><span>data_product_identifier :</span></dt><dd>DENSITY_L2</dd><dt><span>standard_name :</span></dt><dd>sea_water_density</dd><dt><span>units :</span></dt><dd>kg m-3</dd><dt><span>alternate_parameter_name :</span></dt><dd>density</dd><dt><span>ancillary_variables :</span></dt><dd>sea_water_pressure sea_water_practical_salinity sea_water_temperature</dd></dl></div><div class='xr-var-data'><pre>array([1026.93278131, 1026.87342649, 1026.91231294, ..., 1026.78602836,\n",
       "       1026.7896166 , 1026.78749308])</pre></div></li><li class='xr-var-item'><div class='xr-var-name'><span>depth</span></div><div class='xr-var-dims'>(time)</div><div class='xr-var-dtype'>float64</div><div class='xr-var-preview xr-preview'>79.73 79.81 79.69 ... 80.41 80.89</div><input id='attrs-bb4a856a-7a51-4fa6-be34-bca91122351d' class='xr-var-attrs-in' type='checkbox' ><label for='attrs-bb4a856a-7a51-4fa6-be34-bca91122351d' title='Show/Hide attributes'><svg class='icon xr-icon-file-text2'><use xlink:href='#icon-file-text2'></use></svg></label><input id='data-44d43bbf-e3e4-4cd8-8c31-e3f4bf4ba8d1' class='xr-var-data-in' type='checkbox'><label for='data-44d43bbf-e3e4-4cd8-8c31-e3f4bf4ba8d1' title='Show/Hide data repr'><svg class='icon xr-icon-database'><use xlink:href='#icon-database'></use></svg></label><div class='xr-var-attrs'><dl class='xr-attrs'><dt><span>_FillValue :</span></dt><dd>-9999999.0</dd><dt><span>comment :</span></dt><dd>Depth (m) calculated from pressure (dbar) and latitude.</dd><dt><span>precision :</span></dt><dd>3</dd><dt><span>long_name :</span></dt><dd>Depth calculated from pressure</dd><dt><span>units :</span></dt><dd>m</dd><dt><span>ancillary_variables :</span></dt><dd>sea_water_pressure</dd><dt><span>axis :</span></dt><dd>Z</dd></dl></div><div class='xr-var-data'><pre>array([79.72529724, 79.80883506, 79.69411727, ..., 80.3026114 ,\n",
       "       80.40563902, 80.89350721])</pre></div></li><li class='xr-var-item'><div class='xr-var-name'><span>sea_water_pressure_qartod_results</span></div><div class='xr-var-dims'>(time)</div><div class='xr-var-dtype'>uint8</div><div class='xr-var-preview xr-preview'>1 1 1 1 1 1 1 1 ... 1 1 1 1 1 1 1 1</div><input id='attrs-5cb0b566-935d-4cb6-90dd-effb16a51f18' class='xr-var-attrs-in' type='checkbox' ><label for='attrs-5cb0b566-935d-4cb6-90dd-effb16a51f18' title='Show/Hide attributes'><svg class='icon xr-icon-file-text2'><use xlink:href='#icon-file-text2'></use></svg></label><input id='data-6d010bd0-5fac-449e-9319-7b1f575ca636' class='xr-var-data-in' type='checkbox'><label for='data-6d010bd0-5fac-449e-9319-7b1f575ca636' title='Show/Hide data repr'><svg class='icon xr-icon-database'><use xlink:href='#icon-database'></use></svg></label><div class='xr-var-attrs'><dl class='xr-attrs'><dt><span>flag_values :</span></dt><dd>[1 2 3 4 9]</dd><dt><span>flag_meanings :</span></dt><dd>pass not_evaluated suspect_or_of_high_interest fail missing_data</dd><dt><span>standard_name :</span></dt><dd>sea_water_pressure status_flag</dd><dt><span>long_name :</span></dt><dd>Seawater Pressure QARTOD Summary Flag</dd><dt><span>references :</span></dt><dd>https://ioos.noaa.gov/project/qartod https://github.com/ioos/ioos_qc</dd><dt><span>comment :</span></dt><dd>Summary QARTOD test flags. For each datum, the flag is set to the most significant result of all QARTOD tests run for that datum.</dd><dt><span>alternate_parameter_name :</span></dt><dd>ctdbp_seawater_pressure_qartod_results</dd><dt><span>coordinates :</span></dt><dd>time lat lon depth</dd></dl></div><div class='xr-var-data'><pre>array([1, 1, 1, ..., 1, 1, 1], dtype=uint8)</pre></div></li><li class='xr-var-item'><div class='xr-var-name'><span>sea_water_electrical_conductivity_qartod_executed</span></div><div class='xr-var-dims'>(time)</div><div class='xr-var-dtype'>object</div><div class='xr-var-preview xr-preview'>&#x27;1&#x27; &#x27;1&#x27; &#x27;1&#x27; &#x27;1&#x27; ... &#x27;3&#x27; &#x27;3&#x27; &#x27;3&#x27; &#x27;3&#x27;</div><input id='attrs-816c8e9c-2334-4ad7-9d88-c1439b0f20c1' class='xr-var-attrs-in' type='checkbox' ><label for='attrs-816c8e9c-2334-4ad7-9d88-c1439b0f20c1' title='Show/Hide attributes'><svg class='icon xr-icon-file-text2'><use xlink:href='#icon-file-text2'></use></svg></label><input id='data-74463103-a75c-40d9-a3f0-bf7605df158b' class='xr-var-data-in' type='checkbox'><label for='data-74463103-a75c-40d9-a3f0-bf7605df158b' title='Show/Hide data repr'><svg class='icon xr-icon-database'><use xlink:href='#icon-database'></use></svg></label><div class='xr-var-attrs'><dl class='xr-attrs'><dt><span>tests_executed :</span></dt><dd>gross_range_test</dd><dt><span>standard_name :</span></dt><dd>sea_water_electrical_conductivity status_flag</dd><dt><span>long_name :</span></dt><dd>Seawater Conductivity Individual QARTOD Flags</dd><dt><span>references :</span></dt><dd>https://ioos.noaa.gov/project/qartod https://github.com/ioos/ioos_qc</dd><dt><span>comment :</span></dt><dd>Individual QARTOD test flags. For each datum, flags are listed in a string matching the order of the tests_executed attribute. Flags should be interpreted using the standard QARTOD mapping: [1: pass, 2: not_evaluated, 3: suspect_or_of_high_interest, 4: fail, 9: missing_data].</dd><dt><span>alternate_parameter_name :</span></dt><dd>ctdbp_seawater_conductivity_qartod_executed</dd><dt><span>coordinates :</span></dt><dd>time lat lon depth</dd></dl></div><div class='xr-var-data'><pre>array([&#x27;1&#x27;, &#x27;1&#x27;, &#x27;1&#x27;, ..., &#x27;3&#x27;, &#x27;3&#x27;, &#x27;3&#x27;], dtype=object)</pre></div></li><li class='xr-var-item'><div class='xr-var-name'><span>sea_water_temperature</span></div><div class='xr-var-dims'>(time)</div><div class='xr-var-dtype'>float64</div><div class='xr-var-preview xr-preview'>10.16 10.49 10.38 ... 13.78 13.83</div><input id='attrs-fd3747e4-a228-42fc-a122-b0790c0a04d1' class='xr-var-attrs-in' type='checkbox' ><label for='attrs-fd3747e4-a228-42fc-a122-b0790c0a04d1' title='Show/Hide attributes'><svg class='icon xr-icon-file-text2'><use xlink:href='#icon-file-text2'></use></svg></label><input id='data-f85f0a6e-96f4-48c2-acce-96b2dd21fc4d' class='xr-var-data-in' type='checkbox'><label for='data-f85f0a6e-96f4-48c2-acce-96b2dd21fc4d' title='Show/Hide data repr'><svg class='icon xr-icon-database'><use xlink:href='#icon-database'></use></svg></label><div class='xr-var-attrs'><dl class='xr-attrs'><dt><span>_FillValue :</span></dt><dd>-9999999.0</dd><dt><span>comment :</span></dt><dd>Seawater temperature near the sensor.</dd><dt><span>long_name :</span></dt><dd>Seawater Temperature</dd><dt><span>precision :</span></dt><dd>4</dd><dt><span>coordinates :</span></dt><dd>time lat lon depth</dd><dt><span>data_product_identifier :</span></dt><dd>TEMPWAT_L1</dd><dt><span>standard_name :</span></dt><dd>sea_water_temperature</dd><dt><span>units :</span></dt><dd>degrees_Celsius</dd><dt><span>ancillary_variables :</span></dt><dd>ctdbp_seawater_temperature_qartod_results ctdbp_seawater_temperature_qartod_executed temperature</dd><dt><span>alternate_parameter_name :</span></dt><dd>ctdbp_seawater_temperature</dd></dl></div><div class='xr-var-data'><pre>array([10.15678899, 10.49310621, 10.38109478, ..., 13.8312856 ,\n",
       "       13.78311595, 13.82911145])</pre></div></li><li class='xr-var-item'><div class='xr-var-name'><span>sea_water_practical_salinity_qartod_executed</span></div><div class='xr-var-dims'>(time)</div><div class='xr-var-dtype'>object</div><div class='xr-var-preview xr-preview'>&#x27;11&#x27; &#x27;11&#x27; &#x27;11&#x27; ... &#x27;31&#x27; &#x27;31&#x27; &#x27;31&#x27;</div><input id='attrs-dee88f0e-b343-4dce-8985-7f31117b7a93' class='xr-var-attrs-in' type='checkbox' ><label for='attrs-dee88f0e-b343-4dce-8985-7f31117b7a93' title='Show/Hide attributes'><svg class='icon xr-icon-file-text2'><use xlink:href='#icon-file-text2'></use></svg></label><input id='data-cc2d352a-8077-42bb-98cf-2120059e6121' class='xr-var-data-in' type='checkbox'><label for='data-cc2d352a-8077-42bb-98cf-2120059e6121' title='Show/Hide data repr'><svg class='icon xr-icon-database'><use xlink:href='#icon-database'></use></svg></label><div class='xr-var-attrs'><dl class='xr-attrs'><dt><span>tests_executed :</span></dt><dd>gross_range_test, climatology_test</dd><dt><span>standard_name :</span></dt><dd>sea_water_practical_salinity status_flag</dd><dt><span>long_name :</span></dt><dd>Practical Salinity Individual QARTOD Flags</dd><dt><span>references :</span></dt><dd>https://ioos.noaa.gov/project/qartod https://github.com/ioos/ioos_qc</dd><dt><span>comment :</span></dt><dd>Individual QARTOD test flags. For each datum, flags are listed in a string matching the order of the tests_executed attribute. Flags should be interpreted using the standard QARTOD mapping: [1: pass, 2: not_evaluated, 3: suspect_or_of_high_interest, 4: fail, 9: missing_data].</dd><dt><span>alternate_parameter_name :</span></dt><dd>practical_salinity_qartod_executed</dd><dt><span>coordinates :</span></dt><dd>time lat lon depth</dd></dl></div><div class='xr-var-data'><pre>array([&#x27;11&#x27;, &#x27;11&#x27;, &#x27;11&#x27;, ..., &#x27;31&#x27;, &#x27;31&#x27;, &#x27;31&#x27;], dtype=object)</pre></div></li></ul></div></li><li class='xr-section-item'><input id='section-54b3859e-9e39-4de8-8196-fac17261ee3c' class='xr-section-summary-in' type='checkbox'  ><label for='section-54b3859e-9e39-4de8-8196-fac17261ee3c' class='xr-section-summary' >Indexes: <span>(1)</span></label><div class='xr-section-inline-details'></div><div class='xr-section-details'><ul class='xr-var-list'><li class='xr-var-item'><div class='xr-index-name'><div>time</div></div><div class='xr-index-preview'>PandasIndex</div><div></div><input id='index-a70db722-bc0e-4b27-9f08-4e56227a7377' class='xr-index-data-in' type='checkbox'/><label for='index-a70db722-bc0e-4b27-9f08-4e56227a7377' title='Show/Hide index repr'><svg class='icon xr-icon-database'><use xlink:href='#icon-database'></use></svg></label><div class='xr-index-data'><pre>PandasIndex(DatetimeIndex([&#x27;2015-11-14 22:00:03&#x27;, &#x27;2015-11-14 23:00:03&#x27;,\n",
       "               &#x27;2015-11-15 00:00:03&#x27;, &#x27;2015-11-15 01:00:03&#x27;,\n",
       "               &#x27;2015-11-15 02:00:03&#x27;, &#x27;2015-11-15 03:00:03&#x27;,\n",
       "               &#x27;2015-11-15 04:00:03&#x27;, &#x27;2015-11-15 05:00:03&#x27;,\n",
       "               &#x27;2015-11-15 06:00:03&#x27;, &#x27;2015-11-15 07:00:03&#x27;,\n",
       "               ...\n",
       "               &#x27;2016-06-06 02:00:03&#x27;, &#x27;2016-06-06 03:00:03&#x27;,\n",
       "               &#x27;2016-06-06 04:00:03&#x27;, &#x27;2016-06-06 05:00:03&#x27;,\n",
       "               &#x27;2016-06-06 06:00:03&#x27;, &#x27;2016-06-06 08:00:03&#x27;,\n",
       "               &#x27;2016-06-06 11:00:03&#x27;, &#x27;2016-06-06 14:00:03&#x27;,\n",
       "               &#x27;2016-06-06 15:00:03&#x27;, &#x27;2016-06-06 22:00:03&#x27;],\n",
       "              dtype=&#x27;datetime64[ns]&#x27;, name=&#x27;time&#x27;, length=4909, freq=None))</pre></div></li></ul></div></li><li class='xr-section-item'><input id='section-0dc6ea8f-6632-4d92-b4d1-91e53e288c7a' class='xr-section-summary-in' type='checkbox'  ><label for='section-0dc6ea8f-6632-4d92-b4d1-91e53e288c7a' class='xr-section-summary' >Attributes: <span>(69)</span></label><div class='xr-section-inline-details'></div><div class='xr-section-details'><dl class='xr-attrs'><dt><span>node :</span></dt><dd>RII11</dd><dt><span>comment :</span></dt><dd>Data collected from the OOI M2M API and reworked for use in locally stored NetCDF files.</dd><dt><span>publisher_email :</span></dt><dd></dd><dt><span>sourceUrl :</span></dt><dd>http://oceanobservatories.org/</dd><dt><span>collection_method :</span></dt><dd>recovered_inst</dd><dt><span>stream :</span></dt><dd>ctdbp_cdef_instrument_recovered</dd><dt><span>featureType :</span></dt><dd>timeSeries</dd><dt><span>creator_email :</span></dt><dd></dd><dt><span>publisher_name :</span></dt><dd>Ocean Observatories Initiative</dd><dt><span>date_modified :</span></dt><dd>2022-09-16T07:52:32.963802</dd><dt><span>keywords :</span></dt><dd></dd><dt><span>cdm_data_type :</span></dt><dd>Station</dd><dt><span>references :</span></dt><dd>More information can be found at http://oceanobservatories.org/</dd><dt><span>Metadata_Conventions :</span></dt><dd>Unidata Dataset Discovery v1.0</dd><dt><span>date_created :</span></dt><dd>2022-09-16T07:52:32.963799</dd><dt><span>id :</span></dt><dd>GA01SUMO-RII11-02-CTDBPP032-recovered_inst-ctdbp_cdef_instrument_recovered</dd><dt><span>requestUUID :</span></dt><dd>8cf91377-9331-4426-a700-377f5866aa6d</dd><dt><span>contributor_role :</span></dt><dd></dd><dt><span>summary :</span></dt><dd>Dataset Generated by Stream Engine from Ocean Observatories Initiative</dd><dt><span>keywords_vocabulary :</span></dt><dd></dd><dt><span>institution :</span></dt><dd>Ocean Observatories Initiative</dd><dt><span>naming_authority :</span></dt><dd>org.oceanobservatories</dd><dt><span>infoUrl :</span></dt><dd>http://oceanobservatories.org/</dd><dt><span>license :</span></dt><dd></dd><dt><span>contributor_name :</span></dt><dd></dd><dt><span>uuid :</span></dt><dd>8cf91377-9331-4426-a700-377f5866aa6d</dd><dt><span>creator_name :</span></dt><dd>Ocean Observatories Initiative</dd><dt><span>title :</span></dt><dd>Data produced by Stream Engine version 1.20.2 for GA01SUMO-RII11-02-CTDBPP032-recovered_inst-ctdbp_cdef_instrument_recovered</dd><dt><span>sensor :</span></dt><dd>02-CTDBPP032</dd><dt><span>standard_name_vocabulary :</span></dt><dd>NetCDF Climate and Forecast (CF) Metadata Convention Standard Name Table 29</dd><dt><span>acknowledgement :</span></dt><dd>National Science Foundation</dd><dt><span>Conventions :</span></dt><dd>CF-1.6</dd><dt><span>project :</span></dt><dd>Ocean Observatories Initiative</dd><dt><span>source :</span></dt><dd>GA01SUMO-RII11-02-CTDBPP032-recovered_inst-ctdbp_cdef_instrument_recovered</dd><dt><span>publisher_url :</span></dt><dd>http://oceanobservatories.org/</dd><dt><span>creator_url :</span></dt><dd>http://oceanobservatories.org/</dd><dt><span>nodc_template_version :</span></dt><dd>NODC_NetCDF_TimeSeries_Orthogonal_Template_v1.1</dd><dt><span>subsite :</span></dt><dd>GA01SUMO</dd><dt><span>processing_level :</span></dt><dd>L2</dd><dt><span>history :</span></dt><dd>2022-09-16T07:52:32.963762 generated from Stream Engine</dd><dt><span>Manufacturer :</span></dt><dd>Sea-Bird Electronics</dd><dt><span>ModelNumber :</span></dt><dd>SBE 16plus-IM V2</dd><dt><span>SerialNumber :</span></dt><dd>16-50075</dd><dt><span>Description :</span></dt><dd>CTD Pumped: CTDBP Series P</dd><dt><span>FirmwareVersion :</span></dt><dd>Not specified.</dd><dt><span>SoftwareVersion :</span></dt><dd>Not specified.</dd><dt><span>AssetUniqueID :</span></dt><dd>CGINS-CTDBPP-50075</dd><dt><span>Notes :</span></dt><dd>Not specified.</dd><dt><span>Owner :</span></dt><dd>Not specified.</dd><dt><span>RemoteResources :</span></dt><dd>[]</dd><dt><span>ShelfLifeExpirationDate :</span></dt><dd>Not specified.</dd><dt><span>Mobile :</span></dt><dd>False</dd><dt><span>AssetManagementRecordLastModified :</span></dt><dd>2022-09-02T13:10:26.560000</dd><dt><span>time_coverage_start :</span></dt><dd>2015-11-14T22:00:03</dd><dt><span>time_coverage_end :</span></dt><dd>2016-06-06T22:00:03</dd><dt><span>time_coverage_resolution :</span></dt><dd>P3608.07S</dd><dt><span>geospatial_lat_min :</span></dt><dd>-42.9246</dd><dt><span>geospatial_lat_max :</span></dt><dd>-42.9246</dd><dt><span>geospatial_lat_units :</span></dt><dd>degrees_north</dd><dt><span>geospatial_lat_resolution :</span></dt><dd>0.1</dd><dt><span>geospatial_lon_min :</span></dt><dd>-42.58668</dd><dt><span>geospatial_lon_max :</span></dt><dd>-42.58668</dd><dt><span>geospatial_lon_units :</span></dt><dd>degrees_east</dd><dt><span>geospatial_lon_resolution :</span></dt><dd>0.1</dd><dt><span>geospatial_vertical_units :</span></dt><dd>meters</dd><dt><span>geospatial_vertical_resolution :</span></dt><dd>0.1</dd><dt><span>geospatial_vertical_positive :</span></dt><dd>down</dd><dt><span>lat :</span></dt><dd>-42.9246</dd><dt><span>lon :</span></dt><dd>-42.58668</dd></dl></div></li></ul></div></div>"
      ],
      "text/plain": [
       "<xarray.Dataset>\n",
       "Dimensions:                                            (time: 4909)\n",
       "Coordinates:\n",
       "  * time                                               (time) datetime64[ns] ...\n",
       "Data variables: (12/29)\n",
       "    sea_water_pressure                                 (time) float64 80.38 ....\n",
       "    sea_water_electrical_conductivity_qartod_results   (time) uint8 1 1 ... 3 3\n",
       "    ctd_time                                           (time) int32 500853603...\n",
       "    sea_water_practical_salinity_qc_executed           (time) uint8 29 29 ... 29\n",
       "    conductivity                                       (time) int32 1422301 ....\n",
       "    temperature                                        (time) int32 401365 .....\n",
       "    ...                                                 ...\n",
       "    sea_water_density                                  (time) float64 1.027e+...\n",
       "    depth                                              (time) float64 79.73 ....\n",
       "    sea_water_pressure_qartod_results                  (time) uint8 1 1 ... 1 1\n",
       "    sea_water_electrical_conductivity_qartod_executed  (time) object '1' ... '3'\n",
       "    sea_water_temperature                              (time) float64 10.16 ....\n",
       "    sea_water_practical_salinity_qartod_executed       (time) object '11' ......\n",
       "Attributes: (12/69)\n",
       "    node:                               RII11\n",
       "    comment:                            Data collected from the OOI M2M API a...\n",
       "    publisher_email:                    \n",
       "    sourceUrl:                          http://oceanobservatories.org/\n",
       "    collection_method:                  recovered_inst\n",
       "    stream:                             ctdbp_cdef_instrument_recovered\n",
       "    ...                                 ...\n",
       "    geospatial_lon_resolution:          0.1\n",
       "    geospatial_vertical_units:          meters\n",
       "    geospatial_vertical_resolution:     0.1\n",
       "    geospatial_vertical_positive:       down\n",
       "    lat:                                -42.9246\n",
       "    lon:                                -42.58668"
      ]
     },
     "execution_count": 6,
     "metadata": {},
     "output_type": "execute_result"
    }
   ],
   "source": [
    "ds = process_file(file, gc=True)\n",
    "ds"
   ]
  },
  {
   "cell_type": "code",
   "execution_count": 5,
   "id": "399a4282",
   "metadata": {},
   "outputs": [],
   "source": [
    "# Now build the url to access the data\n",
    "sensor_files = [re.sub(\"catalog.html\\?dataset=\", M2M.URLS[\"goldCopy_dodsC\"], file) for file in sensor_files]\n",
    "sensor_files = [re.sub(\"https\", \"http\", file) for file in sensor_files]\n",
    "\n",
    "# build path to folder where data will be saved\n",
    "folder_path = os.path.join(os.path.relpath('../data'), 'external', method, stream, refdes)\n",
    "# make folder if it does not already exist\n",
    "if not os.path.exists(folder_path):\n",
    "    os.makedirs(folder_path)"
   ]
  },
  {
   "cell_type": "code",
   "execution_count": 6,
   "id": "30e697b2",
   "metadata": {},
   "outputs": [
    {
     "data": {
      "text/plain": [
       "['http://thredds.dataexplorer.oceanobservatories.org/thredds/dodsC/ooigoldcopy/public/CP01CNSM-RID27-03-CTDBPC000-recovered_inst-ctdbp_cdef_instrument_recovered/deployment0001_CP01CNSM-RID27-03-CTDBPC000-recovered_inst-ctdbp_cdef_instrument_recovered_20131121T181601-20140217T132711.nc',\n",
       " 'http://thredds.dataexplorer.oceanobservatories.org/thredds/dodsC/ooigoldcopy/public/CP01CNSM-RID27-03-CTDBPC000-recovered_inst-ctdbp_cdef_instrument_recovered/deployment0004_CP01CNSM-RID27-03-CTDBPC000-recovered_inst-ctdbp_cdef_instrument_recovered_20151023T191528-20160402T034848.nc',\n",
       " 'http://thredds.dataexplorer.oceanobservatories.org/thredds/dodsC/ooigoldcopy/public/CP01CNSM-RID27-03-CTDBPC000-recovered_inst-ctdbp_cdef_instrument_recovered/deployment0005_CP01CNSM-RID27-03-CTDBPC000-recovered_inst-ctdbp_cdef_instrument_recovered_20160513T135001-20161013T193001.nc',\n",
       " 'http://thredds.dataexplorer.oceanobservatories.org/thredds/dodsC/ooigoldcopy/public/CP01CNSM-RID27-03-CTDBPC000-recovered_inst-ctdbp_cdef_instrument_recovered/deployment0006_CP01CNSM-RID27-03-CTDBPC000-recovered_inst-ctdbp_cdef_instrument_recovered_20161013T183731-20161122T190001.nc',\n",
       " 'http://thredds.dataexplorer.oceanobservatories.org/thredds/dodsC/ooigoldcopy/public/CP01CNSM-RID27-03-CTDBPC000-recovered_inst-ctdbp_cdef_instrument_recovered/deployment0007_CP01CNSM-RID27-03-CTDBPC000-recovered_inst-ctdbp_cdef_instrument_recovered_20170609T142931-20171101T202931.nc',\n",
       " 'http://thredds.dataexplorer.oceanobservatories.org/thredds/dodsC/ooigoldcopy/public/CP01CNSM-RID27-03-CTDBPC000-recovered_inst-ctdbp_cdef_instrument_recovered/deployment0008_CP01CNSM-RID27-03-CTDBPC000-recovered_inst-ctdbp_cdef_instrument_recovered_20171029T141519-20180329T190320.nc',\n",
       " 'http://thredds.dataexplorer.oceanobservatories.org/thredds/dodsC/ooigoldcopy/public/CP01CNSM-RID27-03-CTDBPC000-recovered_inst-ctdbp_cdef_instrument_recovered/deployment0009_CP01CNSM-RID27-03-CTDBPC000-recovered_inst-ctdbp_cdef_instrument_recovered_20180324T213207-20180502T203844.nc',\n",
       " 'http://thredds.dataexplorer.oceanobservatories.org/thredds/dodsC/ooigoldcopy/public/CP01CNSM-RID27-03-CTDBPC000-recovered_inst-ctdbp_cdef_instrument_recovered/deployment0010_CP01CNSM-RID27-03-CTDBPC000-recovered_inst-ctdbp_cdef_instrument_recovered_20181030T014808-20190407T131809.nc',\n",
       " 'http://thredds.dataexplorer.oceanobservatories.org/thredds/dodsC/ooigoldcopy/public/CP01CNSM-RID27-03-CTDBPC000-recovered_inst-ctdbp_cdef_instrument_recovered/deployment0011_CP01CNSM-RID27-03-CTDBPC000-recovered_inst-ctdbp_cdef_instrument_recovered_20190406T144517-20190926T161808.nc',\n",
       " 'http://thredds.dataexplorer.oceanobservatories.org/thredds/dodsC/ooigoldcopy/public/CP01CNSM-RID27-03-CTDBPC000-recovered_inst-ctdbp_cdef_instrument_recovered/deployment0012_CP01CNSM-RID27-03-CTDBPC000-recovered_inst-ctdbp_cdef_instrument_recovered_20190927T183018-20201106T114826.nc',\n",
       " 'http://thredds.dataexplorer.oceanobservatories.org/thredds/dodsC/ooigoldcopy/public/CP01CNSM-RID27-03-CTDBPC000-recovered_inst-ctdbp_cdef_instrument_recovered/deployment0013_CP01CNSM-RID27-03-CTDBPC000-recovered_inst-ctdbp_cdef_instrument_recovered_20201029T150015-20210403T110053.nc',\n",
       " 'http://thredds.dataexplorer.oceanobservatories.org/thredds/dodsC/ooigoldcopy/public/CP01CNSM-RID27-03-CTDBPC000-recovered_inst-ctdbp_cdef_instrument_recovered/deployment0014_CP01CNSM-RID27-03-CTDBPC000-recovered_inst-ctdbp_cdef_instrument_recovered_20210331T154518-20211103T160251.nc',\n",
       " 'http://thredds.dataexplorer.oceanobservatories.org/thredds/dodsC/ooigoldcopy/public/CP01CNSM-RID27-03-CTDBPC000-recovered_inst-ctdbp_cdef_instrument_recovered/deployment0015_CP01CNSM-RID27-03-CTDBPC000-recovered_inst-ctdbp_cdef_instrument_recovered_20211103T144517-20220413T111757.nc',\n",
       " 'http://thredds.dataexplorer.oceanobservatories.org/thredds/dodsC/ooigoldcopy/public/CP01CNSM-RID27-03-CTDBPC000-recovered_inst-ctdbp_cdef_instrument_recovered/deployment0016_CP01CNSM-RID27-03-CTDBPC000-recovered_inst-ctdbp_cdef_instrument_recovered_20220413T111757-20221111T131501.nc']"
      ]
     },
     "execution_count": 6,
     "metadata": {},
     "output_type": "execute_result"
    }
   ],
   "source": [
    "sensor_files"
   ]
  },
  {
   "cell_type": "code",
   "execution_count": 8,
   "id": "2b898308",
   "metadata": {},
   "outputs": [
    {
     "data": {
      "text/html": [
       "<div>\n",
       "<style scoped>\n",
       "    .dataframe tbody tr th:only-of-type {\n",
       "        vertical-align: middle;\n",
       "    }\n",
       "\n",
       "    .dataframe tbody tr th {\n",
       "        vertical-align: top;\n",
       "    }\n",
       "\n",
       "    .dataframe thead th {\n",
       "        text-align: right;\n",
       "    }\n",
       "</style>\n",
       "<table border=\"1\" class=\"dataframe\">\n",
       "  <thead>\n",
       "    <tr style=\"text-align: right;\">\n",
       "      <th></th>\n",
       "      <th>refdes</th>\n",
       "      <th>method</th>\n",
       "      <th>stream</th>\n",
       "    </tr>\n",
       "  </thead>\n",
       "  <tbody>\n",
       "    <tr>\n",
       "      <th>0</th>\n",
       "      <td>CP01CNSM-RID27-03-CTDBPC000</td>\n",
       "      <td>recovered_host</td>\n",
       "      <td>ctdbp_cdef_dcl_instrument_recovered</td>\n",
       "    </tr>\n",
       "    <tr>\n",
       "      <th>1</th>\n",
       "      <td>CP01CNSM-RID27-03-CTDBPC000</td>\n",
       "      <td>recovered_inst</td>\n",
       "      <td>ctdbp_cdef_instrument_recovered</td>\n",
       "    </tr>\n",
       "    <tr>\n",
       "      <th>2</th>\n",
       "      <td>CP01CNSM-RID27-03-CTDBPC000</td>\n",
       "      <td>telemetered</td>\n",
       "      <td>ctdbp_cdef_dcl_instrument</td>\n",
       "    </tr>\n",
       "  </tbody>\n",
       "</table>\n",
       "</div>"
      ],
      "text/plain": [
       "                        refdes          method  \\\n",
       "0  CP01CNSM-RID27-03-CTDBPC000  recovered_host   \n",
       "1  CP01CNSM-RID27-03-CTDBPC000  recovered_inst   \n",
       "2  CP01CNSM-RID27-03-CTDBPC000     telemetered   \n",
       "\n",
       "                                stream  \n",
       "0  ctdbp_cdef_dcl_instrument_recovered  \n",
       "1      ctdbp_cdef_instrument_recovered  \n",
       "2            ctdbp_cdef_dcl_instrument  "
      ]
     },
     "execution_count": 8,
     "metadata": {},
     "output_type": "execute_result"
    }
   ],
   "source": [
    "streams = M2M.get_datastreams(refdes)\n",
    "streams"
   ]
  },
  {
   "cell_type": "code",
   "execution_count": 10,
   "id": "820fa0c6",
   "metadata": {},
   "outputs": [
    {
     "ename": "MissingSchema",
     "evalue": "Invalid URL 'catalog.html?dataset=ooigoldcopy/public/GA01SUMO-RII11-02-CTDBPP032-recovered_inst-ctdbp_cdef_instrument_recovered/deployment0002_GA01SUMO-RII11-02-CTDBPP032-recovered_inst-ctdbp_cdef_instrument_recovered_20151114T220003-20160606T220003.nc': No scheme supplied. Perhaps you meant https://catalog.html?dataset=ooigoldcopy/public/GA01SUMO-RII11-02-CTDBPP032-recovered_inst-ctdbp_cdef_instrument_recovered/deployment0002_GA01SUMO-RII11-02-CTDBPP032-recovered_inst-ctdbp_cdef_instrument_recovered_20151114T220003-20160606T220003.nc?",
     "output_type": "error",
     "traceback": [
      "\u001b[1;31m---------------------------------------------------------------------------\u001b[0m",
      "\u001b[1;31mMissingSchema\u001b[0m                             Traceback (most recent call last)",
      "Cell \u001b[1;32mIn[10], line 5\u001b[0m\n\u001b[0;32m      2\u001b[0m file \u001b[39m=\u001b[39m sensor_files[\u001b[39m0\u001b[39m]\n\u001b[0;32m      4\u001b[0m file_name \u001b[39m=\u001b[39m re\u001b[39m.\u001b[39mfindall(\u001b[39m\"\u001b[39m\u001b[39mdeployment.*\u001b[39m\u001b[39m\\\u001b[39m\u001b[39m.nc$\u001b[39m\u001b[39m\"\u001b[39m, file)[\u001b[39m0\u001b[39m]\n\u001b[1;32m----> 5\u001b[0m r \u001b[39m=\u001b[39m SESSION\u001b[39m.\u001b[39mget(file, timeout\u001b[39m=\u001b[39m(\u001b[39m3.05\u001b[39m, \u001b[39m120\u001b[39m), auth\u001b[39m=\u001b[39m(login, password))\n\u001b[0;32m      6\u001b[0m r\u001b[39m.\u001b[39mok\n",
      "File \u001b[1;32mc:\\Users\\kylene.cooley\\AppData\\Local\\anaconda3\\envs\\qartod_test\\Lib\\site-packages\\requests\\sessions.py:600\u001b[0m, in \u001b[0;36mSession.get\u001b[1;34m(self, url, **kwargs)\u001b[0m\n\u001b[0;32m    592\u001b[0m \u001b[39m\u001b[39m\u001b[39mr\u001b[39m\u001b[39m\"\"\"Sends a GET request. Returns :class:`Response` object.\u001b[39;00m\n\u001b[0;32m    593\u001b[0m \n\u001b[0;32m    594\u001b[0m \u001b[39m:param url: URL for the new :class:`Request` object.\u001b[39;00m\n\u001b[0;32m    595\u001b[0m \u001b[39m:param \\*\\*kwargs: Optional arguments that ``request`` takes.\u001b[39;00m\n\u001b[0;32m    596\u001b[0m \u001b[39m:rtype: requests.Response\u001b[39;00m\n\u001b[0;32m    597\u001b[0m \u001b[39m\"\"\"\u001b[39;00m\n\u001b[0;32m    599\u001b[0m kwargs\u001b[39m.\u001b[39msetdefault(\u001b[39m\"\u001b[39m\u001b[39mallow_redirects\u001b[39m\u001b[39m\"\u001b[39m, \u001b[39mTrue\u001b[39;00m)\n\u001b[1;32m--> 600\u001b[0m \u001b[39mreturn\u001b[39;00m \u001b[39mself\u001b[39m\u001b[39m.\u001b[39mrequest(\u001b[39m\"\u001b[39m\u001b[39mGET\u001b[39m\u001b[39m\"\u001b[39m, url, \u001b[39m*\u001b[39m\u001b[39m*\u001b[39mkwargs)\n",
      "File \u001b[1;32mc:\\Users\\kylene.cooley\\AppData\\Local\\anaconda3\\envs\\qartod_test\\Lib\\site-packages\\requests\\sessions.py:573\u001b[0m, in \u001b[0;36mSession.request\u001b[1;34m(self, method, url, params, data, headers, cookies, files, auth, timeout, allow_redirects, proxies, hooks, stream, verify, cert, json)\u001b[0m\n\u001b[0;32m    560\u001b[0m \u001b[39m# Create the Request.\u001b[39;00m\n\u001b[0;32m    561\u001b[0m req \u001b[39m=\u001b[39m Request(\n\u001b[0;32m    562\u001b[0m     method\u001b[39m=\u001b[39mmethod\u001b[39m.\u001b[39mupper(),\n\u001b[0;32m    563\u001b[0m     url\u001b[39m=\u001b[39murl,\n\u001b[1;32m   (...)\u001b[0m\n\u001b[0;32m    571\u001b[0m     hooks\u001b[39m=\u001b[39mhooks,\n\u001b[0;32m    572\u001b[0m )\n\u001b[1;32m--> 573\u001b[0m prep \u001b[39m=\u001b[39m \u001b[39mself\u001b[39m\u001b[39m.\u001b[39mprepare_request(req)\n\u001b[0;32m    575\u001b[0m proxies \u001b[39m=\u001b[39m proxies \u001b[39mor\u001b[39;00m {}\n\u001b[0;32m    577\u001b[0m settings \u001b[39m=\u001b[39m \u001b[39mself\u001b[39m\u001b[39m.\u001b[39mmerge_environment_settings(\n\u001b[0;32m    578\u001b[0m     prep\u001b[39m.\u001b[39murl, proxies, stream, verify, cert\n\u001b[0;32m    579\u001b[0m )\n",
      "File \u001b[1;32mc:\\Users\\kylene.cooley\\AppData\\Local\\anaconda3\\envs\\qartod_test\\Lib\\site-packages\\requests\\sessions.py:484\u001b[0m, in \u001b[0;36mSession.prepare_request\u001b[1;34m(self, request)\u001b[0m\n\u001b[0;32m    481\u001b[0m     auth \u001b[39m=\u001b[39m get_netrc_auth(request\u001b[39m.\u001b[39murl)\n\u001b[0;32m    483\u001b[0m p \u001b[39m=\u001b[39m PreparedRequest()\n\u001b[1;32m--> 484\u001b[0m p\u001b[39m.\u001b[39mprepare(\n\u001b[0;32m    485\u001b[0m     method\u001b[39m=\u001b[39mrequest\u001b[39m.\u001b[39mmethod\u001b[39m.\u001b[39mupper(),\n\u001b[0;32m    486\u001b[0m     url\u001b[39m=\u001b[39mrequest\u001b[39m.\u001b[39murl,\n\u001b[0;32m    487\u001b[0m     files\u001b[39m=\u001b[39mrequest\u001b[39m.\u001b[39mfiles,\n\u001b[0;32m    488\u001b[0m     data\u001b[39m=\u001b[39mrequest\u001b[39m.\u001b[39mdata,\n\u001b[0;32m    489\u001b[0m     json\u001b[39m=\u001b[39mrequest\u001b[39m.\u001b[39mjson,\n\u001b[0;32m    490\u001b[0m     headers\u001b[39m=\u001b[39mmerge_setting(\n\u001b[0;32m    491\u001b[0m         request\u001b[39m.\u001b[39mheaders, \u001b[39mself\u001b[39m\u001b[39m.\u001b[39mheaders, dict_class\u001b[39m=\u001b[39mCaseInsensitiveDict\n\u001b[0;32m    492\u001b[0m     ),\n\u001b[0;32m    493\u001b[0m     params\u001b[39m=\u001b[39mmerge_setting(request\u001b[39m.\u001b[39mparams, \u001b[39mself\u001b[39m\u001b[39m.\u001b[39mparams),\n\u001b[0;32m    494\u001b[0m     auth\u001b[39m=\u001b[39mmerge_setting(auth, \u001b[39mself\u001b[39m\u001b[39m.\u001b[39mauth),\n\u001b[0;32m    495\u001b[0m     cookies\u001b[39m=\u001b[39mmerged_cookies,\n\u001b[0;32m    496\u001b[0m     hooks\u001b[39m=\u001b[39mmerge_hooks(request\u001b[39m.\u001b[39mhooks, \u001b[39mself\u001b[39m\u001b[39m.\u001b[39mhooks),\n\u001b[0;32m    497\u001b[0m )\n\u001b[0;32m    498\u001b[0m \u001b[39mreturn\u001b[39;00m p\n",
      "File \u001b[1;32mc:\\Users\\kylene.cooley\\AppData\\Local\\anaconda3\\envs\\qartod_test\\Lib\\site-packages\\requests\\models.py:368\u001b[0m, in \u001b[0;36mPreparedRequest.prepare\u001b[1;34m(self, method, url, headers, files, data, params, auth, cookies, hooks, json)\u001b[0m\n\u001b[0;32m    365\u001b[0m \u001b[39m\u001b[39m\u001b[39m\"\"\"Prepares the entire request with the given parameters.\"\"\"\u001b[39;00m\n\u001b[0;32m    367\u001b[0m \u001b[39mself\u001b[39m\u001b[39m.\u001b[39mprepare_method(method)\n\u001b[1;32m--> 368\u001b[0m \u001b[39mself\u001b[39m\u001b[39m.\u001b[39mprepare_url(url, params)\n\u001b[0;32m    369\u001b[0m \u001b[39mself\u001b[39m\u001b[39m.\u001b[39mprepare_headers(headers)\n\u001b[0;32m    370\u001b[0m \u001b[39mself\u001b[39m\u001b[39m.\u001b[39mprepare_cookies(cookies)\n",
      "File \u001b[1;32mc:\\Users\\kylene.cooley\\AppData\\Local\\anaconda3\\envs\\qartod_test\\Lib\\site-packages\\requests\\models.py:439\u001b[0m, in \u001b[0;36mPreparedRequest.prepare_url\u001b[1;34m(self, url, params)\u001b[0m\n\u001b[0;32m    436\u001b[0m     \u001b[39mraise\u001b[39;00m InvalidURL(\u001b[39m*\u001b[39me\u001b[39m.\u001b[39margs)\n\u001b[0;32m    438\u001b[0m \u001b[39mif\u001b[39;00m \u001b[39mnot\u001b[39;00m scheme:\n\u001b[1;32m--> 439\u001b[0m     \u001b[39mraise\u001b[39;00m MissingSchema(\n\u001b[0;32m    440\u001b[0m         \u001b[39mf\u001b[39m\u001b[39m\"\u001b[39m\u001b[39mInvalid URL \u001b[39m\u001b[39m{\u001b[39;00murl\u001b[39m!r}\u001b[39;00m\u001b[39m: No scheme supplied. \u001b[39m\u001b[39m\"\u001b[39m\n\u001b[0;32m    441\u001b[0m         \u001b[39mf\u001b[39m\u001b[39m\"\u001b[39m\u001b[39mPerhaps you meant https://\u001b[39m\u001b[39m{\u001b[39;00murl\u001b[39m}\u001b[39;00m\u001b[39m?\u001b[39m\u001b[39m\"\u001b[39m\n\u001b[0;32m    442\u001b[0m     )\n\u001b[0;32m    444\u001b[0m \u001b[39mif\u001b[39;00m \u001b[39mnot\u001b[39;00m host:\n\u001b[0;32m    445\u001b[0m     \u001b[39mraise\u001b[39;00m InvalidURL(\u001b[39mf\u001b[39m\u001b[39m\"\u001b[39m\u001b[39mInvalid URL \u001b[39m\u001b[39m{\u001b[39;00murl\u001b[39m!r}\u001b[39;00m\u001b[39m: No host supplied\u001b[39m\u001b[39m\"\u001b[39m)\n",
      "\u001b[1;31mMissingSchema\u001b[0m: Invalid URL 'catalog.html?dataset=ooigoldcopy/public/GA01SUMO-RII11-02-CTDBPP032-recovered_inst-ctdbp_cdef_instrument_recovered/deployment0002_GA01SUMO-RII11-02-CTDBPP032-recovered_inst-ctdbp_cdef_instrument_recovered_20151114T220003-20160606T220003.nc': No scheme supplied. Perhaps you meant https://catalog.html?dataset=ooigoldcopy/public/GA01SUMO-RII11-02-CTDBPP032-recovered_inst-ctdbp_cdef_instrument_recovered/deployment0002_GA01SUMO-RII11-02-CTDBPP032-recovered_inst-ctdbp_cdef_instrument_recovered_20151114T220003-20160606T220003.nc?"
     ]
    }
   ],
   "source": [
    "# Try data download with just one file\n",
    "file = sensor_files[0]\n",
    "\n",
    "file_name = re.findall(\"deployment.*\\.nc$\", file)[0]\n",
    "r = SESSION.get(file, timeout=(3.05, 120), auth=(login, password))\n",
    "r.ok"
   ]
  },
  {
   "cell_type": "code",
   "execution_count": 10,
   "id": "d9480603",
   "metadata": {},
   "outputs": [
    {
     "data": {
      "text/plain": [
       "b'Error {\\n    code = 400;\\n    message = \"Unrecognized request\";\\n};\\n'"
      ]
     },
     "execution_count": 10,
     "metadata": {},
     "output_type": "execute_result"
    }
   ],
   "source": [
    "# Figure out why r.ok is false\n",
    "r.content"
   ]
  },
  {
   "cell_type": "code",
   "execution_count": 28,
   "id": "58cee5e6",
   "metadata": {},
   "outputs": [
    {
     "ename": "JSONDecodeError",
     "evalue": "Expecting value: line 1 column 1 (char 0)",
     "output_type": "error",
     "traceback": [
      "\u001b[1;31m---------------------------------------------------------------------------\u001b[0m",
      "\u001b[1;31mJSONDecodeError\u001b[0m                           Traceback (most recent call last)",
      "File \u001b[1;32mc:\\Users\\kylene.cooley\\AppData\\Local\\anaconda3\\envs\\qartod_test\\Lib\\site-packages\\requests\\models.py:971\u001b[0m, in \u001b[0;36mResponse.json\u001b[1;34m(self, **kwargs)\u001b[0m\n\u001b[0;32m    970\u001b[0m \u001b[39mtry\u001b[39;00m:\n\u001b[1;32m--> 971\u001b[0m     \u001b[39mreturn\u001b[39;00m complexjson\u001b[39m.\u001b[39mloads(\u001b[39mself\u001b[39m\u001b[39m.\u001b[39mtext, \u001b[39m*\u001b[39m\u001b[39m*\u001b[39mkwargs)\n\u001b[0;32m    972\u001b[0m \u001b[39mexcept\u001b[39;00m JSONDecodeError \u001b[39mas\u001b[39;00m e:\n\u001b[0;32m    973\u001b[0m     \u001b[39m# Catch JSON-related errors and raise as requests.JSONDecodeError\u001b[39;00m\n\u001b[0;32m    974\u001b[0m     \u001b[39m# This aliases json.JSONDecodeError and simplejson.JSONDecodeError\u001b[39;00m\n",
      "File \u001b[1;32mc:\\Users\\kylene.cooley\\AppData\\Local\\anaconda3\\envs\\qartod_test\\Lib\\json\\__init__.py:346\u001b[0m, in \u001b[0;36mloads\u001b[1;34m(s, cls, object_hook, parse_float, parse_int, parse_constant, object_pairs_hook, **kw)\u001b[0m\n\u001b[0;32m    343\u001b[0m \u001b[39mif\u001b[39;00m (\u001b[39mcls\u001b[39m \u001b[39mis\u001b[39;00m \u001b[39mNone\u001b[39;00m \u001b[39mand\u001b[39;00m object_hook \u001b[39mis\u001b[39;00m \u001b[39mNone\u001b[39;00m \u001b[39mand\u001b[39;00m\n\u001b[0;32m    344\u001b[0m         parse_int \u001b[39mis\u001b[39;00m \u001b[39mNone\u001b[39;00m \u001b[39mand\u001b[39;00m parse_float \u001b[39mis\u001b[39;00m \u001b[39mNone\u001b[39;00m \u001b[39mand\u001b[39;00m\n\u001b[0;32m    345\u001b[0m         parse_constant \u001b[39mis\u001b[39;00m \u001b[39mNone\u001b[39;00m \u001b[39mand\u001b[39;00m object_pairs_hook \u001b[39mis\u001b[39;00m \u001b[39mNone\u001b[39;00m \u001b[39mand\u001b[39;00m \u001b[39mnot\u001b[39;00m kw):\n\u001b[1;32m--> 346\u001b[0m     \u001b[39mreturn\u001b[39;00m _default_decoder\u001b[39m.\u001b[39mdecode(s)\n\u001b[0;32m    347\u001b[0m \u001b[39mif\u001b[39;00m \u001b[39mcls\u001b[39m \u001b[39mis\u001b[39;00m \u001b[39mNone\u001b[39;00m:\n",
      "File \u001b[1;32mc:\\Users\\kylene.cooley\\AppData\\Local\\anaconda3\\envs\\qartod_test\\Lib\\json\\decoder.py:337\u001b[0m, in \u001b[0;36mJSONDecoder.decode\u001b[1;34m(self, s, _w)\u001b[0m\n\u001b[0;32m    333\u001b[0m \u001b[39m\u001b[39m\u001b[39m\"\"\"Return the Python representation of ``s`` (a ``str`` instance\u001b[39;00m\n\u001b[0;32m    334\u001b[0m \u001b[39mcontaining a JSON document).\u001b[39;00m\n\u001b[0;32m    335\u001b[0m \n\u001b[0;32m    336\u001b[0m \u001b[39m\"\"\"\u001b[39;00m\n\u001b[1;32m--> 337\u001b[0m obj, end \u001b[39m=\u001b[39m \u001b[39mself\u001b[39m\u001b[39m.\u001b[39mraw_decode(s, idx\u001b[39m=\u001b[39m_w(s, \u001b[39m0\u001b[39m)\u001b[39m.\u001b[39mend())\n\u001b[0;32m    338\u001b[0m end \u001b[39m=\u001b[39m _w(s, end)\u001b[39m.\u001b[39mend()\n",
      "File \u001b[1;32mc:\\Users\\kylene.cooley\\AppData\\Local\\anaconda3\\envs\\qartod_test\\Lib\\json\\decoder.py:355\u001b[0m, in \u001b[0;36mJSONDecoder.raw_decode\u001b[1;34m(self, s, idx)\u001b[0m\n\u001b[0;32m    354\u001b[0m \u001b[39mexcept\u001b[39;00m \u001b[39mStopIteration\u001b[39;00m \u001b[39mas\u001b[39;00m err:\n\u001b[1;32m--> 355\u001b[0m     \u001b[39mraise\u001b[39;00m JSONDecodeError(\u001b[39m\"\u001b[39m\u001b[39mExpecting value\u001b[39m\u001b[39m\"\u001b[39m, s, err\u001b[39m.\u001b[39mvalue) \u001b[39mfrom\u001b[39;00m \u001b[39mNone\u001b[39;00m\n\u001b[0;32m    356\u001b[0m \u001b[39mreturn\u001b[39;00m obj, end\n",
      "\u001b[1;31mJSONDecodeError\u001b[0m: Expecting value: line 1 column 1 (char 0)",
      "\nDuring handling of the above exception, another exception occurred:\n",
      "\u001b[1;31mJSONDecodeError\u001b[0m                           Traceback (most recent call last)",
      "Cell \u001b[1;32mIn[28], line 1\u001b[0m\n\u001b[1;32m----> 1\u001b[0m r\u001b[39m.\u001b[39mjson()\n",
      "File \u001b[1;32mc:\\Users\\kylene.cooley\\AppData\\Local\\anaconda3\\envs\\qartod_test\\Lib\\site-packages\\requests\\models.py:975\u001b[0m, in \u001b[0;36mResponse.json\u001b[1;34m(self, **kwargs)\u001b[0m\n\u001b[0;32m    971\u001b[0m     \u001b[39mreturn\u001b[39;00m complexjson\u001b[39m.\u001b[39mloads(\u001b[39mself\u001b[39m\u001b[39m.\u001b[39mtext, \u001b[39m*\u001b[39m\u001b[39m*\u001b[39mkwargs)\n\u001b[0;32m    972\u001b[0m \u001b[39mexcept\u001b[39;00m JSONDecodeError \u001b[39mas\u001b[39;00m e:\n\u001b[0;32m    973\u001b[0m     \u001b[39m# Catch JSON-related errors and raise as requests.JSONDecodeError\u001b[39;00m\n\u001b[0;32m    974\u001b[0m     \u001b[39m# This aliases json.JSONDecodeError and simplejson.JSONDecodeError\u001b[39;00m\n\u001b[1;32m--> 975\u001b[0m     \u001b[39mraise\u001b[39;00m RequestsJSONDecodeError(e\u001b[39m.\u001b[39mmsg, e\u001b[39m.\u001b[39mdoc, e\u001b[39m.\u001b[39mpos)\n",
      "\u001b[1;31mJSONDecodeError\u001b[0m: Expecting value: line 1 column 1 (char 0)"
     ]
    }
   ],
   "source": [
    "r.json()"
   ]
  },
  {
   "cell_type": "code",
   "execution_count": 50,
   "id": "3dbd8828",
   "metadata": {},
   "outputs": [
    {
     "data": {
      "text/plain": [
       "'http://thredds.dataexplorer.oceanobservatories.org/thredds/dodsC/ooigoldcopy/public/CP01CNSM-RID27-03-CTDBPC000-recovered_inst-ctdbp_cdef_instrument_recovered/deployment0001_CP01CNSM-RID27-03-CTDBPC000-recovered_inst-ctdbp_cdef_instrument_recovered_20131121T181601-20140217T132711.nc'"
      ]
     },
     "execution_count": 50,
     "metadata": {},
     "output_type": "execute_result"
    }
   ],
   "source": [
    "# What is in file?\n",
    "file"
   ]
  },
  {
   "cell_type": "code",
   "execution_count": null,
   "id": "a7ec5a1f",
   "metadata": {},
   "outputs": [],
   "source": [
    "if r.ok:\n",
    "    # load the data file\n",
    "    if use_dask:\n",
    "        ds = xr.open_dataset(io.BytesIO(r.content), decode_cf=False, chunks=10000)\n",
    "    else:\n",
    "        ds = xr.load_dataset(io.BytesIO(r.content), decode_cf=False)\n",
    "\n",
    "        # ds = M2M.get_api(ds)\n",
    "        # r = SESSION.get(ds, timeout=(3.05, 120))\n",
    "        # ds = xr.open_dataset(ds, chunks={})\n",
    "        ds = process_file(ds)\n",
    "        file_path = os.path.join(folder_path, file_name)\n",
    "        ds.to_netcdf(file_path)\n",
    "else:\n",
    "    print(\"bad request\")"
   ]
  },
  {
   "attachments": {},
   "cell_type": "markdown",
   "id": "f0d49e9e",
   "metadata": {},
   "source": [
    "##### Using ooi_data_explorations modules"
   ]
  },
  {
   "cell_type": "code",
   "execution_count": 9,
   "id": "1a56034e",
   "metadata": {},
   "outputs": [
    {
     "name": "stdout",
     "output_type": "stream",
     "text": [
      "Downloading 15 data file(s) from the OOI Gold Copy THREDSS catalog\n",
      "Downloading and Processing Data Files: 100%|██████████| 15/15 [03:29<00:00, 13.94s/it]\n"
     ]
    }
   ],
   "source": [
    "# Load data with common module\n",
    "\n",
    "data = common.load_gc_thredds(site,node,sensor,method,stream,use_dask=True)    # Request the gold copy data through THREDDs catalog\n",
    "\n",
    "# It looks like the OOINet module method attempts to avoid collecting ancillary files in addition to the requested sensor files which could add time to the download and open dataset step.\n",
    "# load_gc_thredds() also calls process_file() within gc_collect() so we achieve the same preprocessing as in the preprocess() defined above."
   ]
  },
  {
   "cell_type": "code",
   "execution_count": null,
   "id": "cfb1da0e",
   "metadata": {},
   "outputs": [],
   "source": [
    "# Make a copy of the data with a unique name\n",
    "\n",
    "ds_prod = data.copy()\n",
    "ds_prod"
   ]
  },
  {
   "attachments": {},
   "cell_type": "markdown",
   "id": "579c9255",
   "metadata": {},
   "source": [
    "##### Save datasets for test in production to interim data folder for further processing"
   ]
  },
  {
   "cell_type": "code",
   "execution_count": null,
   "id": "a8d540ca",
   "metadata": {},
   "outputs": [],
   "source": [
    "prod_path = dp.build_data_path(refdes, method, stream, 'prod', folder='external') # added this folder='external' as I was updating the notebook. not sure if I want to put requested data in interim or external going forward\n",
    "\n",
    "ds_prod.to_netcdf(path=prod_path)                           # repeat for ds_prod"
   ]
  },
  {
   "attachments": {},
   "cell_type": "markdown",
   "id": "81992ff3",
   "metadata": {},
   "source": [
    "### QARTOD in Development: Request data from dev1 server\n",
    "\n",
    "We may also want to examine new QARTOD tests which are on staging in the Dev-1 environment before they are moved to production. The Development environemt at ooinet-dev1-west.intra.oceanobservatories.org. In order to access data on Dev-1, you need to be granted access and be connected to the CI-West VPN (vpn-west.oceanobservatories.org) at Oregon State."
   ]
  },
  {
   "cell_type": "code",
   "execution_count": null,
   "id": "53b4dba9",
   "metadata": {},
   "outputs": [],
   "source": [
    "# Setup parameters needed to request data \n",
    "# Check that instrument parameters match an available OOI datasets on dev1 server\n",
    "# Maybe change this section to look for data sets programatically with ooi-data-explorations functions (list platforms/sites, list methods, list streams,...)\n",
    "\n",
    "refdes = \"CP03ISSM-RID27-03-CTDBPC000\"              # Coastal Pioneer Array (NES) - Inshore Surface Mooring Near Surface Instrument Frame - Bottom-pumped CTD\n",
    "method = \"recovered_inst\"                           # non-decimated data from recovered instrument\n",
    "stream = \"ctdbp_cdef_instrument_recovered\"          # name of data stream\n",
    "\n",
    "# Site, node, and sensor info from deconstructed reference designator\n",
    "[site, node, sensor] = refdes.split('-', 2)\n",
    "\n",
    "# Set optional parameters \n",
    "# We specify a date range to control the size of the dataset requested \n",
    "params = {\n",
    "  'beginDT':'2019-09-26T13:50:00.000Z',\n",
    "  'endDT':'2020-11-01T13:16:00.000Z',\n",
    "  'format':'application/netcdf',\n",
    "  'include_provenance':'true',\n",
    "  'include_annotations':'true'\n",
    "}"
   ]
  },
  {
   "attachments": {},
   "cell_type": "markdown",
   "id": "9570f07c",
   "metadata": {},
   "source": [
    "The Dev-1 environment has no \"goldcopy\" equivalent THREDDs catalog. Instead we'll have to do the normal request and wait for the datasets to be assembled and made available for download."
   ]
  },
  {
   "attachments": {},
   "cell_type": "markdown",
   "id": "0622102c",
   "metadata": {},
   "source": [
    "We are using a different process for downloading data than in the OOINet section since the default URLs that are set within the other functions connect to OOINet. \n",
    "The development environment also doesn't have a gold copy, although different functions to request non-gold copy datasets from OOINet exist in the OOINet and ooi-data-explorations modules.\n"
   ]
  },
  {
   "attachments": {},
   "cell_type": "markdown",
   "id": "38bde888",
   "metadata": {},
   "source": [
    "Our choice of URL is similar to the URL used in the M2M example notebook here: https://github.com/ooi-data-review/2018-data-workshops/blob/master/chemistry/examples/quickstart_python.ipynb \n",
    "The rest of the data request process through this section is modeled after the linked tutorial above. "
   ]
  },
  {
   "cell_type": "code",
   "execution_count": null,
   "id": "ef6c2440",
   "metadata": {},
   "outputs": [],
   "source": [
    "# Connect to ci-west vpn before running this cell\n",
    "data = dp.dev1_request(site, node, sensor, method, stream, params)"
   ]
  },
  {
   "cell_type": "code",
   "execution_count": null,
   "id": "13ae7494",
   "metadata": {},
   "outputs": [],
   "source": [
    "# Make a copy of the data with a unique name\n",
    "\n",
    "ds_dev = data.copy()\n",
    "ds_dev"
   ]
  },
  {
   "attachments": {},
   "cell_type": "markdown",
   "id": "bcf34610",
   "metadata": {},
   "source": [
    "##### Save datasets for test in development to interim data folder for further processing"
   ]
  },
  {
   "cell_type": "code",
   "execution_count": null,
   "id": "1280270f",
   "metadata": {},
   "outputs": [],
   "source": [
    "interim_data = os.path.relpath('../data/interim')           # path to interim data folder from notebook folder\n",
    "\n",
    "dev_filename = '-'.join(('dev',ds_dev.id,))+'.nc'           # build ds_dev filename from dataset attributes\n",
    "\n",
    "dev_path=os.path.join(interim_data, dev_filename)           # build full relative path with ds_dev filename\n",
    "\n",
    "ds_dev.to_netcdf(path=dev_path)                             # provide both relative path and filename for ds_dev in path parameter"
   ]
  },
  {
   "cell_type": "code",
   "execution_count": null,
   "id": "96f6bd5c",
   "metadata": {},
   "outputs": [],
   "source": []
  }
 ],
 "metadata": {
  "kernelspec": {
   "display_name": "Python 3 (ipykernel)",
   "language": "python",
   "name": "python3"
  },
  "language_info": {
   "codemirror_mode": {
    "name": "ipython",
    "version": 3
   },
   "file_extension": ".py",
   "mimetype": "text/x-python",
   "name": "python",
   "nbconvert_exporter": "python",
   "pygments_lexer": "ipython3",
   "version": "3.11.4"
  }
 },
 "nbformat": 4,
 "nbformat_minor": 5
}
