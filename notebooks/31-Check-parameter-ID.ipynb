{
 "cells": [
  {
   "cell_type": "markdown",
   "id": "52dfb30d-e5d4-4809-b3f7-abbce41d3841",
   "metadata": {},
   "source": [
    "# 31 - Check parameter ID\n",
    "As more automated QC test results are added to Data Explorer, HITL quality flags from annotations are also being applied to datasets. Some HITL quality flags for VELPT instruments and derived measurements that depend on data from VELPT sensors have been applied to other measurments made at the same nodes that should not be impacted by the VELPT data quality. Parameters that are impacted by an annotation are given by a parameter ID number if the flag is applicable to a specific subset of parameters. These numbers are not humman readable or listed in an existing parameter list. We must use parameter metadata M2M requests to check the parameters that each annotation is applied to."
   ]
  },
  {
   "cell_type": "code",
   "execution_count": 1,
   "id": "4d77c89e-f80c-486a-911c-a1da45a8bf18",
   "metadata": {},
   "outputs": [],
   "source": [
    "# Use this group of notebooks (3x-...) to explore or define how QARTOD flags are applied to the data.\n",
    "# Import libraries used in this notebook\n",
    "import pandas as pd\n",
    "from ooi_data_explorations.common import get_parameter_information"
   ]
  },
  {
   "cell_type": "markdown",
   "id": "704599c9-8d4d-40e1-bbd2-9d8a7142c796",
   "metadata": {
    "jp-MarkdownHeadingCollapsed": true,
    "tags": []
   },
   "source": [
    "### Annotation 5060"
   ]
  },
  {
   "cell_type": "code",
   "execution_count": 3,
   "id": "0bf25a86-a06e-4206-ac11-954ce6613a75",
   "metadata": {
    "tags": []
   },
   "outputs": [],
   "source": [
    "# Create list of parameter ID's referenced in one VELPT annotation\n",
    "anno5060 = [\"3072\", \"3073\", \"3070\", \"3071\"]"
   ]
  },
  {
   "cell_type": "code",
   "execution_count": 6,
   "id": "50beb293-58a4-4a8e-850d-afe4abd9c8b5",
   "metadata": {
    "tags": []
   },
   "outputs": [],
   "source": [
    "# Get parameter info for parameters in annotation #5060\n",
    "param5060={}\n",
    "for num in anno5060:\n",
    "    param5060[num] = get_parameter_information(num)"
   ]
  },
  {
   "cell_type": "code",
   "execution_count": 7,
   "id": "53b8ca62-31e7-4d33-a758-577a2ff7e843",
   "metadata": {
    "tags": []
   },
   "outputs": [
    {
     "data": {
      "text/plain": [
       "{'name': 'met_relwind_direction',\n",
       " 'display_name': 'Relative Wind Direction',\n",
       " 'netcdf_name': 'met_relwind_direction',\n",
       " 'standard_name': None,\n",
       " 'description': 'RELWIND_DIR-AUX, the direction of the vector difference of wind velocity (from METBK measurements) and surface current (from VELPT measurements). It is anticipated that the wind measurements will be roughly each minute and that the current measurements will be broadcast to that resolution.',\n",
       " 'id': 3072,\n",
       " 'data_product_identifier': 'RELWIND_DIR-AUX',\n",
       " 'precision': 4,\n",
       " 'fill_value': {'value': '-9999999'},\n",
       " 'unit': {'value': 'degrees'},\n",
       " 'data_level': None,\n",
       " 'code_set': None,\n",
       " 'value_encoding': {'value': 'float32'},\n",
       " 'parameter_type': {'value': 'function'},\n",
       " 'parameter_function': {'id': 148,\n",
       "  'name': 'RELWIND_DIR-AUX',\n",
       "  'function_type': {'value': 'PythonFunction'},\n",
       "  'function': 'met_relwind_direction',\n",
       "  'owner': 'ion_functions.data.met_functions',\n",
       "  'description': 'Calculates RELWIND_DIR-AUX, the direction of the vector difference of wind velocity (from METBK measurements) and surface current (from VELPT measurements). It is anticipated that the wind measurements will be roughly each minute and that the current measurements will be broadcast to that resolution.',\n",
       "  'qc_flag': None},\n",
       " 'data_product_type': None,\n",
       " 'dimensions': [],\n",
       " 'parameter_function_map': '{\"vln_wind\": \"PD3069\", \"vle_water\": \"PD1154\", \"use_velptmn_with_metbk\": \"CC_use_velpt\", \"vle_wind\": \"PD3068\", \"vln_water\": \"PD1155\"}',\n",
       " 'visible': True}"
      ]
     },
     "execution_count": 7,
     "metadata": {},
     "output_type": "execute_result"
    }
   ],
   "source": [
    "param5060[\"3072\"]"
   ]
  },
  {
   "cell_type": "code",
   "execution_count": 8,
   "id": "d2f2af61-141c-468f-96fd-641cbe9782dc",
   "metadata": {
    "tags": []
   },
   "outputs": [
    {
     "data": {
      "text/plain": [
       "{'name': 'met_relwind_speed',\n",
       " 'display_name': 'Relative Wind Speed',\n",
       " 'netcdf_name': 'met_relwind_speed',\n",
       " 'standard_name': None,\n",
       " 'description': 'RELWIND_SPD-AUX, the magnitude of the vector difference of surface current (from VELPT measurements) from wind velocity (from METBK measurements). This is the fundamental windspeed variable used in the METBK toga-coare algorithms. It is anticipated that the wind measurements will be roughly each minute and that the current measurements will be broadcast to that resolution.',\n",
       " 'id': 3073,\n",
       " 'data_product_identifier': 'RELWIND_SPD-AUX',\n",
       " 'precision': 4,\n",
       " 'fill_value': {'value': '-9999999'},\n",
       " 'unit': {'value': 'm s-1'},\n",
       " 'data_level': None,\n",
       " 'code_set': None,\n",
       " 'value_encoding': {'value': 'float32'},\n",
       " 'parameter_type': {'value': 'function'},\n",
       " 'parameter_function': {'id': 149,\n",
       "  'name': 'RELWIND_SPD-AUX',\n",
       "  'function_type': {'value': 'PythonFunction'},\n",
       "  'function': 'met_relwind_speed',\n",
       "  'owner': 'ion_functions.data.met_functions',\n",
       "  'description': 'Calculates RELWIND_SPD-AUX, the magnitude of the vector difference of surface current (from VELPT measurements) from wind velocity (from METBK measurements). This is the fundamental windspeed variable used in the METBK toga-coare algorithms. It is anticipated that the wind measurements will be roughly each minute and that the current measurements will be broadcast to that resolution.',\n",
       "  'qc_flag': None},\n",
       " 'data_product_type': None,\n",
       " 'dimensions': [],\n",
       " 'parameter_function_map': '{\"vln_wind\": \"PD3069\", \"vle_water\": \"PD1154\", \"use_velptmn_with_metbk\": \"CC_use_velpt\", \"vle_wind\": \"PD3068\", \"vln_water\": \"PD1155\"}',\n",
       " 'visible': True}"
      ]
     },
     "execution_count": 8,
     "metadata": {},
     "output_type": "execute_result"
    }
   ],
   "source": [
    "param5060[\"3073\"]"
   ]
  },
  {
   "cell_type": "code",
   "execution_count": 9,
   "id": "1f5ac730-f024-4f75-a8d6-18d09b00c24a",
   "metadata": {
    "tags": []
   },
   "outputs": [
    {
     "data": {
      "text/plain": [
       "{'name': 'met_current_speed',\n",
       " 'display_name': 'Surface Current Speed',\n",
       " 'netcdf_name': 'met_current_speed',\n",
       " 'standard_name': None,\n",
       " 'description': 'Estimated magnitude of the surface current using the eastward and northward velocity components from the VELPT mounted on the surface buoy. This is the meta-data \"product\" CURRENT specified by the DPS referenced below (Section 4.3, step 4). This product is not used in the METBK code; rather, the magnitude of the vector difference of te wind and current vectors is the fundamental variable used in the METBK calculations (see RELWIND_SPD-AUX). Because the direction of the current will also be calculated so as to be made available, the CURRENT metadata product is sub-divided into: CURRENT_SPD (calculated by this code) and CURRENT_DIR.',\n",
       " 'id': 3071,\n",
       " 'data_product_identifier': 'CURRENT_SPD',\n",
       " 'precision': 4,\n",
       " 'fill_value': {'value': '-9999999'},\n",
       " 'unit': {'value': 'm s-1'},\n",
       " 'data_level': None,\n",
       " 'code_set': None,\n",
       " 'value_encoding': {'value': 'float32'},\n",
       " 'parameter_type': {'value': 'function'},\n",
       " 'parameter_function': {'id': 147,\n",
       "  'name': 'CURRENT_SPD',\n",
       "  'function_type': {'value': 'PythonFunction'},\n",
       "  'function': 'met_current_speed',\n",
       "  'owner': 'ion_functions.data.met_functions',\n",
       "  'description': 'Estimate the magnitude of the surface current using the eastward and northward velocity components from the VELPT mounted on the surface buoy. This is the meta-data \"product\" CURRENT specified by the DPS referenced below (Section 4.3, step 4). This product is not used in the METBK code; rather, the magnitude of the vector difference of te wind and current vectors is the fundamental variable used in the METBK calculations (see RELWIND_SPD-AUX). Because the direction of the current will also be calculated so as to be made available, the CURRENT metadata product is sub-divided into: CURRENT_SPD (calculated by this code) and CURRENT_DIR.',\n",
       "  'qc_flag': None},\n",
       " 'data_product_type': None,\n",
       " 'dimensions': [],\n",
       " 'parameter_function_map': '{\"vle_water\": \"PD1154\", \"use_velptmn_with_metbk\": \"CC_use_velpt\", \"vln_water\": \"PD1155\"}',\n",
       " 'visible': True}"
      ]
     },
     "execution_count": 9,
     "metadata": {},
     "output_type": "execute_result"
    }
   ],
   "source": [
    "param5060[\"3071\"]"
   ]
  },
  {
   "cell_type": "code",
   "execution_count": 10,
   "id": "d95c33cd-567a-4d18-be1a-9bd0b4b6db54",
   "metadata": {
    "tags": []
   },
   "outputs": [
    {
     "data": {
      "text/plain": [
       "{'name': 'met_current_direction',\n",
       " 'display_name': 'Surface Current Direction',\n",
       " 'netcdf_name': 'met_current_direction',\n",
       " 'standard_name': None,\n",
       " 'description': 'The direction of the surface current using the eastward and northward velocity components from the VELPT mounted on the surface buoy.',\n",
       " 'id': 3070,\n",
       " 'data_product_identifier': 'CURRENT_DIR',\n",
       " 'precision': 4,\n",
       " 'fill_value': {'value': '-9999999'},\n",
       " 'unit': {'value': 'degrees'},\n",
       " 'data_level': None,\n",
       " 'code_set': None,\n",
       " 'value_encoding': {'value': 'float32'},\n",
       " 'parameter_type': {'value': 'function'},\n",
       " 'parameter_function': {'id': 146,\n",
       "  'name': 'CURRENT_DIR',\n",
       "  'function_type': {'value': 'PythonFunction'},\n",
       "  'function': 'met_current_direction',\n",
       "  'owner': 'ion_functions.data.met_functions',\n",
       "  'description': 'Calculates the direction of the surface current using the eastward and northward velocity components from the VELPT mounted on the surface buoy.',\n",
       "  'qc_flag': None},\n",
       " 'data_product_type': None,\n",
       " 'dimensions': [],\n",
       " 'parameter_function_map': '{\"vle_water\": \"PD1154\", \"use_velptmn_with_metbk\": \"CC_use_velpt\", \"vln_water\": \"PD1155\"}',\n",
       " 'visible': True}"
      ]
     },
     "execution_count": 10,
     "metadata": {},
     "output_type": "execute_result"
    }
   ],
   "source": [
    "param5060[\"3070\"]"
   ]
  },
  {
   "cell_type": "markdown",
   "id": "bc5f0397-5d60-437a-b190-93fe5c617b26",
   "metadata": {
    "jp-MarkdownHeadingCollapsed": true,
    "tags": []
   },
   "source": [
    "### Annotation 4468"
   ]
  },
  {
   "cell_type": "code",
   "execution_count": 2,
   "id": "54ab78dc-86c2-44e0-9cf6-bf5343547567",
   "metadata": {
    "tags": []
   },
   "outputs": [],
   "source": [
    "# Create list of parameter ID's referenced in one VELPT annotation\n",
    "anno4468 = [\"1059\",\"1060\"]"
   ]
  },
  {
   "cell_type": "code",
   "execution_count": 3,
   "id": "8922408b-f96e-4b2e-8a8d-029daa73e3d7",
   "metadata": {
    "tags": []
   },
   "outputs": [],
   "source": [
    "# Get parameter info for parameters in annotation #5060\n",
    "param4468={}\n",
    "for num in anno4468:\n",
    "    param4468[num] = get_parameter_information(num)"
   ]
  },
  {
   "cell_type": "code",
   "execution_count": 10,
   "id": "5b03b3cf-9145-496e-b23d-ab9a0d1ba320",
   "metadata": {
    "tags": []
   },
   "outputs": [
    {
     "name": "stdout",
     "output_type": "stream",
     "text": [
      "1059 : eastward_wind_velocity\n",
      "1060 : northward_wind_velocity\n"
     ]
    }
   ],
   "source": [
    "for key in param4468:\n",
    "    print(key, \":\", param4468[key].get(\"name\"))"
   ]
  },
  {
   "cell_type": "markdown",
   "id": "02b98441-4a2d-47c6-afaf-5d1ebc8ecb71",
   "metadata": {
    "jp-MarkdownHeadingCollapsed": true,
    "tags": []
   },
   "source": [
    "### Annotation XXXX"
   ]
  },
  {
   "cell_type": "code",
   "execution_count": 2,
   "id": "de6113ca-f089-4763-a2bf-366513ec5404",
   "metadata": {
    "tags": []
   },
   "outputs": [],
   "source": [
    "# Create list of parameter ID's referenced in one VELPT annotation\n",
    "anno4468 = [\"1059\",\"1060\"]"
   ]
  },
  {
   "cell_type": "code",
   "execution_count": 3,
   "id": "ccdf1b67-8a45-4c53-b019-ed7b44d8b962",
   "metadata": {
    "tags": []
   },
   "outputs": [],
   "source": [
    "# Get parameter info for parameters in annotation #5060\n",
    "param4468={}\n",
    "for num in anno4468:\n",
    "    param4468[num] = get_parameter_information(num)"
   ]
  },
  {
   "cell_type": "code",
   "execution_count": 10,
   "id": "d01bfea5-ae4c-47c1-acd0-bb455f0c29ed",
   "metadata": {
    "tags": []
   },
   "outputs": [
    {
     "name": "stdout",
     "output_type": "stream",
     "text": [
      "1059 : eastward_wind_velocity\n",
      "1060 : northward_wind_velocity\n"
     ]
    }
   ],
   "source": [
    "for key in param4468:\n",
    "    print(key, \":\", param4468[key].get(\"name\"))"
   ]
  },
  {
   "cell_type": "code",
   "execution_count": null,
   "id": "e9453980-d4de-4f2b-aeb6-8fb2443d2f31",
   "metadata": {},
   "outputs": [],
   "source": []
  }
 ],
 "metadata": {
  "kernelspec": {
   "display_name": "qartod_test",
   "language": "python",
   "name": "qartod_test"
  },
  "language_info": {
   "codemirror_mode": {
    "name": "ipython",
    "version": 3
   },
   "file_extension": ".py",
   "mimetype": "text/x-python",
   "name": "python",
   "nbconvert_exporter": "python",
   "pygments_lexer": "ipython3",
   "version": "3.11.3"
  }
 },
 "nbformat": 4,
 "nbformat_minor": 5
}
