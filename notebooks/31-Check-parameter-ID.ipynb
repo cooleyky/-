{
 "cells": [
  {
   "cell_type": "code",
   "execution_count": null,
   "id": "4d77c89e-f80c-486a-911c-a1da45a8bf18",
   "metadata": {},
   "outputs": [],
   "source": [
    "# Check parameter IDs from annotations\n",
    "# Use this group of notebooks (3x-...) to explore or define how QARTOD flags are applied to the data.\n",
    "from ooi-data-explorations.common import get_parameter_information"
   ]
  }
 ],
 "metadata": {
  "kernelspec": {
   "display_name": "qartod_test",
   "language": "python",
   "name": "qartod_test"
  },
  "language_info": {
   "codemirror_mode": {
    "name": "ipython",
    "version": 3
   },
   "file_extension": ".py",
   "mimetype": "text/x-python",
   "name": "python",
   "nbconvert_exporter": "python",
   "pygments_lexer": "ipython3",
   "version": "3.11.3"
  }
 },
 "nbformat": 4,
 "nbformat_minor": 5
}
