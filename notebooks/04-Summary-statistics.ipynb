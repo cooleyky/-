{
 "cells": [
  {
   "attachments": {},
   "cell_type": "markdown",
   "id": "99412598",
   "metadata": {},
   "source": [
    "# Descriptive Statistics\n",
    "Next, we want to calculate the statistics of the different QARTOD flags for the different tests that are applied to the different parameters in the dataset. The example ```qartod_results_summary``` below simply counts the total number of different flags (e.g 1, 3, 4) and their relative percentages for each test (gross range, climatology, etc) for each parameter that the tests area applied to. "
   ]
  },
  {
   "attachments": {},
   "cell_type": "markdown",
   "id": "8c9bbd7b",
   "metadata": {},
   "source": [
    "### Import modules used in this notebook"
   ]
  },
  {
   "cell_type": "code",
   "execution_count": 1,
   "id": "2c47a324",
   "metadata": {},
   "outputs": [],
   "source": [
    "# Import libraries\n",
    "import os\n",
    "import re\n",
    "import requests\n",
    "import gc\n",
    "import io\n",
    "import ast\n",
    "import pandas as pd\n",
    "import numpy as np\n",
    "import xarray as xr\n",
    "import warnings\n",
    "warnings.filterwarnings(\"ignore\")\n",
    "import sys"
   ]
  },
  {
   "cell_type": "code",
   "execution_count": 2,
   "id": "470b1665",
   "metadata": {},
   "outputs": [],
   "source": [
    "# Import function to build relative path to data files\n",
    "from qartod_testing.data_processing import build_data_path"
   ]
  },
  {
   "cell_type": "code",
   "execution_count": 3,
   "id": "b10bf1f8",
   "metadata": {},
   "outputs": [],
   "source": [
    "# Set reference designator, data stream, and method \n",
    "\n",
    "refdes = \"CP01CNSM-MFD37-03-CTDBPD000\"              \n",
    "method = \"recovered_inst\"                           # non-decimated data from recovered instrument\n",
    "stream = \"ctdbp_cdef_instrument_recovered\"          # name of data stream\n"
   ]
  },
  {
   "cell_type": "code",
   "execution_count": null,
   "id": "f1c7e2ed",
   "metadata": {},
   "outputs": [],
   "source": [
    "# # Build path to data files with local test results and load to workspace - Might not use this\n",
    "# gr_local_test_path = build_data_path(refdes,method,stream,'prod-gr-result',folder='processed')\n",
    "# clim_local_test_path = build_data_path(refdes, method, stream, 'prod-clim-result', folder=\"processed\")\n",
    "\n",
    "# # Load local test data from .nc files\n",
    "# gr_results_local = xr.open_dataset(gr_local_test_path)\n",
    "# clim_results_local = xr.open_dataset(clim_local_test_path)"
   ]
  },
  {
   "cell_type": "code",
   "execution_count": 4,
   "id": "1100cc55",
   "metadata": {},
   "outputs": [
    {
     "data": {
      "text/plain": [
       "{'sea_water_electrical_conductivity': 'ctdbp_seawater_conductivity',\n",
       " 'sea_water_temperature': 'ctdbp_seawater_temperature',\n",
       " 'sea_water_practical_salinity': 'practical_salinity',\n",
       " 'sea_water_pressure': 'ctdbp_seawater_pressure'}"
      ]
     },
     "execution_count": 4,
     "metadata": {},
     "output_type": "execute_result"
    }
   ],
   "source": [
    "# Load expected results data from interim data folder\n",
    "expected_ds_path = build_data_path(refdes,method,stream,'prod',folder='interim')\n",
    "ds_expected = xr.open_dataset(expected_ds_path)\n",
    "\n",
    "# Create a dictionary of key-value pairs of dataset variable name:alternate parameter name\n",
    "test_parameters={}\n",
    "for var in ds_expected.variables:\n",
    "    if \"qartod_results\" in var:\n",
    "        # Get the parameter name\n",
    "        param = var.split(\"_qartod\")[0]\n",
    "        \n",
    "        # Check if the parameter has an alternative ooinet_name\n",
    "        if \"alternate_parameter_name\" in ds_expected[param].attrs:\n",
    "            ooinet_name = ds_expected[param].attrs[\"alternate_parameter_name\"]\n",
    "        else:\n",
    "            ooinet_name = param\n",
    "        \n",
    "        # Save the results in a dictionary\n",
    "        test_parameters.update({\n",
    "            param: ooinet_name\n",
    "        })\n",
    "# Print out the results\n",
    "test_parameters"
   ]
  },
  {
   "cell_type": "code",
   "execution_count": 5,
   "id": "9c665180",
   "metadata": {},
   "outputs": [],
   "source": [
    "def parse_qartod_executed(ds, parameters):\n",
    "    \"\"\"\n",
    "    Parses the qartod tests for the given parameter into separate variables.\n",
    "    \n",
    "    Parameters\n",
    "    ----------\n",
    "    ds: xarray.DataSet\n",
    "        The dataset downloaded from OOI with the QARTOD flags applied.\n",
    "    parameters: list[str]\n",
    "        The name of the parameters in the dataset to parse the QARTOD flags\n",
    "        \n",
    "    Returns\n",
    "    -------\n",
    "    ds: xarray.DataSet\n",
    "        The dataset with the QARTOD test for the given parameters split out\n",
    "        into new seperate data variables using the naming convention:\n",
    "        {parameter}_qartod_{test_name}\n",
    "    \"\"\"\n",
    "    # For the params into a list if only a string\n",
    "    if type(parameters) is not list:\n",
    "        parameters = list(parameters)\n",
    "    \n",
    "    # Iterate through each parameter\n",
    "    for param in parameters:\n",
    "        # Generate the qartod executed name\n",
    "        qartod_name = f\"{param}_qartod_executed\"\n",
    "        \n",
    "        if qartod_name not in ds.variables:\n",
    "            continue\n",
    "    \n",
    "        # Fix the test types\n",
    "        ds[qartod_name] = ds[qartod_name].astype(str)\n",
    "    \n",
    "        # Get the test order\n",
    "        test_order = ds[qartod_name].attrs[\"tests_executed\"].split(\",\")\n",
    "    \n",
    "        # Iterate through the available tests and create separate variables with the results\n",
    "        for test in test_order:\n",
    "            test_index = test_order.index(test)\n",
    "            test_name = f\"{param}_qartod_{test.strip()}\"\n",
    "            ds[test_name] = ds[qartod_name].str.get(test_index)\n",
    "\n",
    "    return ds"
   ]
  },
  {
   "cell_type": "code",
   "execution_count": 6,
   "id": "d0dc89e1",
   "metadata": {},
   "outputs": [],
   "source": [
    "# Put the test parameter names in the dataset into a list\n",
    "parameters = [x for x in test_parameters.keys()]"
   ]
  },
  {
   "cell_type": "code",
   "execution_count": 7,
   "id": "128134fb",
   "metadata": {},
   "outputs": [],
   "source": [
    "# Parse all of the variables with QARTOD tests applied into separate tests\n",
    "results_expected = parse_qartod_executed(ds_expected, parameters)"
   ]
  },
  {
   "cell_type": "code",
   "execution_count": 8,
   "id": "08d21460",
   "metadata": {},
   "outputs": [],
   "source": [
    "def qartod_results_summary(ds, params, tests):\n",
    "    \"\"\"\n",
    "    Calculate the statistics for parameter qartod flags.\n",
    "    \n",
    "    This function takes in a list of the parameters and\n",
    "    the associated QARTOD tests to calculate the number\n",
    "    of each flag and the percent of the flag.\n",
    "    \n",
    "    Parameters\n",
    "    ----------\n",
    "    ds: xarray.DataSet\n",
    "        An xarray dataset which contains the data\n",
    "    params: list[strings]\n",
    "        A list of the variables/parameters in the given\n",
    "        dataset that have been tested with QARTOD\n",
    "    tests: list[strings]\n",
    "        A list of the QARTOD test names which to parse\n",
    "        for the given parameters.\n",
    "        \n",
    "    Returns\n",
    "    -------\n",
    "    results: dict\n",
    "        A dictionary which contains the number of each\n",
    "        QARTOD flag and the percent of the total flags\n",
    "        for each test applied to each parameter in the\n",
    "        given dataset.\n",
    "        \n",
    "        results = {'parameter':\n",
    "                        {'test_name':\n",
    "                            {'total data points': int,\n",
    "                            'good data points': (int, %),\n",
    "                            'suspect data points': (int, %),\n",
    "                            'bad data points': (int, %)}\n",
    "                            },\n",
    "                        }\n",
    "    \"\"\"\n",
    "    # Check that the inputs are a list\n",
    "    if type(params) is not list:\n",
    "        params = [params]\n",
    "        \n",
    "    if type(tests) is not list:\n",
    "        tests = [tests]\n",
    "    \n",
    "    # Initialize the result dictionary and iterate \n",
    "    # through the parameters for each test\n",
    "    results = {}\n",
    "    for param in params:\n",
    "        \n",
    "        # Now iterate through each test\n",
    "        test_results = {}\n",
    "        for test in tests:\n",
    "            \n",
    "            # First, check that the test was applied\n",
    "            test_name = f\"{param}_qartod_{test}_test\"\n",
    "            if test_name not in ds.variables:\n",
    "                continue\n",
    "                \n",
    "            # Count the total number of values\n",
    "            n = ds[test_name].count().compute().values\n",
    "            \n",
    "            # First calculate the gross range results\n",
    "            good = np.where(ds[test_name] == \"1\")[0]\n",
    "\n",
    "            # Count the number of suspect/interesting\n",
    "            suspect = np.where(ds[test_name] == \"3\")[0]\n",
    "    \n",
    "            # Count the number of fails\n",
    "            bad = np.where(ds[test_name] == \"4'\")[0]\n",
    "    \n",
    "            test_results.update({test :{\n",
    "                     \"total\": int(n),\n",
    "                     \"good\": (len(good), np.round(len(good)/n*100, 2)),\n",
    "                     \"suspect\": (len(suspect), np.round(len(suspect)/n*100, 2)),\n",
    "                     \"fail\": (len(bad), np.round(len(bad)/n*100, 2))\n",
    "                    }\n",
    "                }\n",
    "            )\n",
    "        \n",
    "        # Save the test results for each parameter\n",
    "        results.update({\n",
    "            param: test_results\n",
    "        })\n",
    "    \n",
    "    return results"
   ]
  },
  {
   "cell_type": "code",
   "execution_count": 9,
   "id": "7a3bcc6c",
   "metadata": {},
   "outputs": [
    {
     "data": {
      "text/plain": [
       "{'sea_water_electrical_conductivity': {'gross_range': {'total': 263600,\n",
       "   'good': (258753, 98.16),\n",
       "   'suspect': (4846, 1.84),\n",
       "   'fail': (0, 0.0)}},\n",
       " 'sea_water_temperature': {'gross_range': {'total': 263600,\n",
       "   'good': (258314, 97.99),\n",
       "   'suspect': (5286, 2.01),\n",
       "   'fail': (0, 0.0)},\n",
       "  'climatology': {'total': 263600,\n",
       "   'good': (231212, 87.71),\n",
       "   'suspect': (32388, 12.29),\n",
       "   'fail': (0, 0.0)}},\n",
       " 'sea_water_practical_salinity': {'gross_range': {'total': 263600,\n",
       "   'good': (258046, 97.89),\n",
       "   'suspect': (5554, 2.11),\n",
       "   'fail': (0, 0.0)},\n",
       "  'climatology': {'total': 263600,\n",
       "   'good': (242335, 91.93),\n",
       "   'suspect': (21265, 8.07),\n",
       "   'fail': (0, 0.0)}},\n",
       " 'sea_water_pressure': {'gross_range': {'total': 263600,\n",
       "   'good': (262941, 99.75),\n",
       "   'suspect': (656, 0.25),\n",
       "   'fail': (0, 0.0)}}}"
      ]
     },
     "execution_count": 9,
     "metadata": {},
     "output_type": "execute_result"
    }
   ],
   "source": [
    "qartod_results = qartod_results_summary(results_expected, parameters, [\"gross_range\", \"climatology\"])\n",
    "qartod_results"
   ]
  },
  {
   "cell_type": "code",
   "execution_count": 10,
   "id": "082b3763",
   "metadata": {},
   "outputs": [],
   "source": [
    "qartod_flag_stats = pd.DataFrame.from_dict(qartod_results, orient='index')"
   ]
  },
  {
   "cell_type": "code",
   "execution_count": 11,
   "id": "ae2a4bbe",
   "metadata": {},
   "outputs": [],
   "source": [
    "csv_path = build_data_path(refdes, method, stream, 'qartod-stats', folder='processed', suffix='.csv')\n",
    "qartod_flag_stats.to_csv(csv_path)"
   ]
  },
  {
   "cell_type": "code",
   "execution_count": null,
   "id": "cec9974f",
   "metadata": {},
   "outputs": [],
   "source": []
  }
 ],
 "metadata": {
  "kernelspec": {
   "display_name": "Python 3 (ipykernel)",
   "language": "python",
   "name": "python3"
  },
  "language_info": {
   "codemirror_mode": {
    "name": "ipython",
    "version": 3
   },
   "file_extension": ".py",
   "mimetype": "text/x-python",
   "name": "python",
   "nbconvert_exporter": "python",
   "pygments_lexer": "ipython3",
   "version": "3.10.9"
  }
 },
 "nbformat": 4,
 "nbformat_minor": 5
}
