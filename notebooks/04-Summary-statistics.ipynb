{
 "cells": [
  {
   "attachments": {},
   "cell_type": "markdown",
   "id": "99412598",
   "metadata": {},
   "source": [
    "# Descriptive Statistics\n",
    "Next, we want to calculate the statistics of the different QARTOD flags for the different tests that are applied to the different parameters in the dataset. The example ```qartod_results_summary``` below simply counts the total number of different flags (e.g 1, 3, 4) and their relative percentages for each test (gross range, climatology, etc) for each parameter that the tests area applied to. "
   ]
  },
  {
   "attachments": {},
   "cell_type": "markdown",
   "id": "8c9bbd7b",
   "metadata": {},
   "source": [
    "### Import modules used in this notebook"
   ]
  },
  {
   "cell_type": "code",
   "execution_count": null,
   "id": "2c47a324",
   "metadata": {},
   "outputs": [],
   "source": [
    "# Import libraries\n",
    "import os\n",
    "import re\n",
    "import gc\n",
    "import io\n",
    "import ast\n",
    "import pandas as pd\n",
    "import numpy as np\n",
    "import xarray as xr\n",
    "import warnings\n",
    "warnings.filterwarnings(\"ignore\")\n",
    "import sys"
   ]
  },
  {
   "cell_type": "code",
   "execution_count": null,
   "id": "3c90a8a1",
   "metadata": {},
   "outputs": [],
   "source": [
    "# Import dask tools and ProgressBar\n",
    "import dask\n",
    "from dask.diagnostics import ProgressBar"
   ]
  },
  {
   "cell_type": "code",
   "execution_count": null,
   "id": "08d21460",
   "metadata": {},
   "outputs": [],
   "source": [
    "def qartod_results_summary(ds, params, tests):\n",
    "    \"\"\"\n",
    "    Calculate the statistics for parameter qartod flags.\n",
    "    \n",
    "    This function takes in a list of the parameters and\n",
    "    the associated QARTOD tests to calculate the number\n",
    "    of each flag and the percent of the flag.\n",
    "    \n",
    "    Parameters\n",
    "    ----------\n",
    "    ds: xarray.DataSet\n",
    "        An xarray dataset which contains the data\n",
    "    params: list[strings]\n",
    "        A list of the variables/parameters in the given\n",
    "        dataset that have been tested with QARTOD\n",
    "    tests: list[strings]\n",
    "        A list of the QARTOD test names which to parse\n",
    "        for the given parameters.\n",
    "        \n",
    "    Returns\n",
    "    -------\n",
    "    results: dict\n",
    "        A dictionary which contains the number of each\n",
    "        QARTOD flag and the percent of the total flags\n",
    "        for each test applied to each parameter in the\n",
    "        given dataset.\n",
    "        \n",
    "        results = {'parameter':\n",
    "                        {'test_name':\n",
    "                            {'total data points': int,\n",
    "                            'good data points': (int, %),\n",
    "                            'suspect data points': (int, %),\n",
    "                            'bad data points': (int, %)}\n",
    "                            },\n",
    "                        }\n",
    "    \"\"\"\n",
    "    # Check that the inputs are a list\n",
    "    if type(params) is not list:\n",
    "        params = [params]\n",
    "        \n",
    "    if type(tests) is not list:\n",
    "        tests = [tests]\n",
    "    \n",
    "    # Initialize the result dictionary and iterate \n",
    "    # through the parameters for each test\n",
    "    results = {}\n",
    "    for param in params:\n",
    "        \n",
    "        # Now iterate through each test\n",
    "        test_results = {}\n",
    "        for test in tests:\n",
    "            \n",
    "            # First, check that the test was applied\n",
    "            test_name = f\"{param}_qartod_{test}_test\"\n",
    "            if test_name not in ds.variables:\n",
    "                continue\n",
    "                \n",
    "            # Count the total number of values\n",
    "            n = ds[test_name].count().compute().values\n",
    "            \n",
    "            # First calculate the gross range results\n",
    "            good = np.where(ds[test_name] == \"1\")[0]\n",
    "\n",
    "            # Count the number of suspect/interesting\n",
    "            suspect = np.where(ds[test_name] == \"3\")[0]\n",
    "    \n",
    "            # Count the number of fails\n",
    "            bad = np.where(ds[test_name] == \"4'\")[0]\n",
    "    \n",
    "            test_results.update({test :{\n",
    "                     \"total\": int(n),\n",
    "                     \"good\": (len(good), np.round(len(good)/n*100, 2)),\n",
    "                     \"suspect\": (len(suspect), np.round(len(suspect)/n*100, 2)),\n",
    "                     \"fail\": (len(bad), np.round(len(bad)/n*100, 2))\n",
    "                    }\n",
    "                }\n",
    "            )\n",
    "        \n",
    "        # Save the test results for each parameter\n",
    "        results.update({\n",
    "            param: test_results\n",
    "        })\n",
    "    \n",
    "    return results"
   ]
  },
  {
   "cell_type": "code",
   "execution_count": null,
   "id": "7a3bcc6c",
   "metadata": {},
   "outputs": [],
   "source": [
    "qartod_results = qartod_results_summary(ds, parameters, [\"gross_range\", \"climatology\"])\n",
    "qartod_results"
   ]
  }
 ],
 "metadata": {
  "kernelspec": {
   "display_name": "Python 3 (ipykernel)",
   "language": "python",
   "name": "python3"
  },
  "language_info": {
   "codemirror_mode": {
    "name": "ipython",
    "version": 3
   },
   "file_extension": ".py",
   "mimetype": "text/x-python",
   "name": "python",
   "nbconvert_exporter": "python",
   "pygments_lexer": "ipython3",
   "version": "3.9.16"
  }
 },
 "nbformat": 4,
 "nbformat_minor": 5
}
