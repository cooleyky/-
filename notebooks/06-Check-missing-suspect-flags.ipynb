{
 "cells": [
  {
   "cell_type": "markdown",
   "id": "8babcd4d-4566-4c5c-aa2e-9bf3e1214477",
   "metadata": {},
   "source": [
    "# Check values in datasets that have no suspect flags relative to QARTOD test thresholds"
   ]
  },
  {
   "cell_type": "code",
   "execution_count": 1,
   "id": "416db7bf-ec86-40a7-9d97-e1e1a6c72344",
   "metadata": {
    "tags": []
   },
   "outputs": [],
   "source": [
    "import matplotlib.pyplot as plt\n",
    "import xarray as xr\n",
    "\n",
    "from qartod_testing.local_qc_test import load_gross_range_qartod_test_values, load_climatology_qartod_test_values"
   ]
  },
  {
   "cell_type": "code",
   "execution_count": null,
   "id": "4a9e7523-20ea-485d-bddf-49ebec03aa95",
   "metadata": {},
   "outputs": [],
   "source": []
  }
 ],
 "metadata": {
  "kernelspec": {
   "display_name": "qartod_test",
   "language": "python",
   "name": "qartod_test"
  },
  "language_info": {
   "codemirror_mode": {
    "name": "ipython",
    "version": 3
   },
   "file_extension": ".py",
   "mimetype": "text/x-python",
   "name": "python",
   "nbconvert_exporter": "python",
   "pygments_lexer": "ipython3",
   "version": "3.11.3"
  }
 },
 "nbformat": 4,
 "nbformat_minor": 5
}
