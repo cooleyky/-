{
 "cells": [
  {
   "cell_type": "markdown",
   "id": "f7e679a3",
   "metadata": {},
   "source": [
    "### Import modules used in this notebook"
   ]
  },
  {
   "cell_type": "code",
   "execution_count": null,
   "id": "b3f54d96",
   "metadata": {},
   "outputs": [],
   "source": [
    "# Import libraries\n",
    "import os\n",
    "import re\n",
    "import gc\n",
    "import io\n",
    "import ast\n",
    "import pandas as pd\n",
    "import numpy as np\n",
    "import xarray as xr\n",
    "import warnings\n",
    "warnings.filterwarnings(\"ignore\")\n",
    "import sys"
   ]
  },
  {
   "cell_type": "code",
   "execution_count": null,
   "id": "3656318d",
   "metadata": {},
   "outputs": [],
   "source": [
    "# Import OOINet library\n",
    "sys.path.append(\"c:\\\\Users\\\\cooleyky\\\\Documents\\\\GitHub\\\\OOINet\") # this is what was missing from the steps I followed to install ooinet and ooi-data-explorations as local dev repo\n",
    "from ooinet import M2M\n",
    "from ooinet.Instrument.common import process_file"
   ]
  },
  {
   "cell_type": "code",
   "execution_count": null,
   "id": "a762e843",
   "metadata": {},
   "outputs": [],
   "source": [
    "# Import functions from ooi-data-explorations library\n",
    "sys.path.append(\"c:\\\\Users\\\\cooleyky\\\\Documents\\\\GitHub\\\\ooi-data-explorations\\\\python\") # why did the initial install not include this?\n",
    "from ooi_data_explorations.uncabled.process_dosta import dosta_datalogger\n",
    "from ooi_data_explorations.combine_data import combine_datasets"
   ]
  },
  {
   "cell_type": "code",
   "execution_count": null,
   "id": "fdc97e28",
   "metadata": {},
   "outputs": [],
   "source": [
    "# Import dask tools and ProgressBar\n",
    "import dask\n",
    "from dask.diagnostics import ProgressBar"
   ]
  },
  {
   "attachments": {},
   "cell_type": "markdown",
   "id": "ec35d745",
   "metadata": {},
   "source": [
    "### Define reference designator and file paths for chosen variable"
   ]
  },
  {
   "attachments": {},
   "cell_type": "markdown",
   "id": "e8fcb2ee",
   "metadata": {},
   "source": [
    "### Load test QARTOD test flags from local processed dataset"
   ]
  },
  {
   "attachments": {},
   "cell_type": "markdown",
   "id": "a3193400",
   "metadata": {},
   "source": [
    "### Extract expected QC results from local interim dataset"
   ]
  },
  {
   "cell_type": "markdown",
   "id": "3e6e2063",
   "metadata": {},
   "source": [
    "### Comparing local results of QARTOD tests to expected results "
   ]
  },
  {
   "cell_type": "markdown",
   "id": "d3f1d9c6",
   "metadata": {},
   "source": [
    "### Identify differences in results"
   ]
  },
  {
   "attachments": {},
   "cell_type": "markdown",
   "id": "dc3016fc",
   "metadata": {},
   "source": [
    "### Export differing values to CSV with relevant metadata\n",
    "metadata could include: date & time, sensor, node, site, local & expected test results... whatever"
   ]
  },
  {
   "cell_type": "markdown",
   "id": "7ca1c582",
   "metadata": {},
   "source": []
  }
 ],
 "metadata": {
  "kernelspec": {
   "display_name": "Python 3 (ipykernel)",
   "language": "python",
   "name": "python3"
  },
  "language_info": {
   "codemirror_mode": {
    "name": "ipython",
    "version": 3
   },
   "file_extension": ".py",
   "mimetype": "text/x-python",
   "name": "python",
   "nbconvert_exporter": "python",
   "pygments_lexer": "ipython3",
   "version": "3.9.16"
  }
 },
 "nbformat": 4,
 "nbformat_minor": 5
}
