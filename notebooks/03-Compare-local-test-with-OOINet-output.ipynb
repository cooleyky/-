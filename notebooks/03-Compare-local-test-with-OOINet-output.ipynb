{
 "cells": [
  {
   "attachments": {},
   "cell_type": "markdown",
   "id": "c0f54a26",
   "metadata": {},
   "source": [
    "# Compare local QARTOD Climatology and Gross Range Test Results to Expected Flags"
   ]
  },
  {
   "attachments": {},
   "cell_type": "markdown",
   "id": "f7e679a3",
   "metadata": {},
   "source": [
    "### Import modules used in this notebook"
   ]
  },
  {
   "cell_type": "code",
   "execution_count": null,
   "id": "b3f54d96",
   "metadata": {},
   "outputs": [],
   "source": [
    "# Import libraries\n",
    "import os\n",
    "import re\n",
    "import gc\n",
    "import io\n",
    "import ast\n",
    "import pandas as pd\n",
    "import numpy as np\n",
    "import xarray as xr\n",
    "import warnings\n",
    "warnings.filterwarnings(\"ignore\")\n",
    "import sys"
   ]
  },
  {
   "cell_type": "code",
   "execution_count": null,
   "id": "3656318d",
   "metadata": {},
   "outputs": [],
   "source": [
    "# Import OOINet library\n",
    "from ooinet import M2M\n",
    "from ooinet.Instrument.common import process_file"
   ]
  },
  {
   "cell_type": "code",
   "execution_count": null,
   "id": "a762e843",
   "metadata": {},
   "outputs": [],
   "source": [
    "# Import functions from ooi-data-explorations library\n",
    "from ooi_data_explorations.uncabled.process_dosta import dosta_datalogger\n",
    "from ooi_data_explorations.combine_data import combine_datasets"
   ]
  },
  {
   "cell_type": "code",
   "execution_count": null,
   "id": "fdc97e28",
   "metadata": {},
   "outputs": [],
   "source": [
    "# Import dask tools and ProgressBar\n",
    "import dask\n",
    "from dask.diagnostics import ProgressBar"
   ]
  },
  {
   "attachments": {},
   "cell_type": "markdown",
   "id": "ec35d745",
   "metadata": {},
   "source": [
    "### Define reference designator and file paths for chosen variable"
   ]
  },
  {
   "cell_type": "code",
   "execution_count": null,
   "id": "5eca4e5c",
   "metadata": {},
   "outputs": [],
   "source": [
    "# Set reference designator, data stream, and method \n",
    "\n",
    "site = \"CP01CNSM\"                                   # Coastal Pioneer Array (NES) - Central Surface Mooring\n",
    "node = \"MFD37\"                                      # \n",
    "sensor = \"03-CTDBPD000\"                             # CTD Bottom-pumped\n",
    "method = \"recovered_inst\"                           # non-decimated data from recovered instrument\n",
    "stream = \"ctdbp_cdef_instrument_recovered\"          # name of data stream\n",
    "\n",
    "refdes = '-'.join((site,node,sensor))               # build reference designator\n",
    "\n",
    "type = 'prod'                                       # dataset saved from OOINet/\"production\" or from dev1"
   ]
  },
  {
   "cell_type": "code",
   "execution_count": null,
   "id": "920f4bf1",
   "metadata": {},
   "outputs": [],
   "source": [
    "# Build path to data files with local test results and load to workspace\n",
    "from qartod_testing.data_processing import build_data_path\n",
    "ds_path = build_data_path(refdes,method,stream,'prod',folder='interim')\n",
    "\n",
    "# Load data from .nc files\n",
    "ds_expected = xr.open_dataset(ds_path)\n",
    "ds_expected"
   ]
  },
  {
   "attachments": {},
   "cell_type": "markdown",
   "id": "e8fcb2ee",
   "metadata": {},
   "source": [
    "### Load test QARTOD test flags from local processed dataset"
   ]
  },
  {
   "cell_type": "code",
   "execution_count": null,
   "id": "9dd37e2e",
   "metadata": {},
   "outputs": [],
   "source": [
    "# Build path to data files with local test results and load to workspace\n",
    "from qartod_testing.data_processing import build_data_path\n",
    "ds_path = build_data_path(refdes,method,stream,'prod',folder='processed')\n",
    "\n",
    "# Load data from .nc files\n",
    "ds_local = xr.open_dataset(ds_path)\n",
    "ds_local"
   ]
  },
  {
   "attachments": {},
   "cell_type": "markdown",
   "id": "a3193400",
   "metadata": {},
   "source": [
    "### Extract expected QC results from local interim dataset"
   ]
  },
  {
   "cell_type": "code",
   "execution_count": null,
   "id": "f7b0d5b2",
   "metadata": {},
   "outputs": [],
   "source": [
    "# Create a dictionary of key-value pairs of dataset variable name:alternate parameter name\n",
    "test_parameters={}\n",
    "for var in ds_prod.variables:\n",
    "    if \"qartod_results\" in var:\n",
    "        # Get the parameter name\n",
    "        param = var.split(\"_qartod\")[0]\n",
    "        \n",
    "        # Check if the parameter has an alternative ooinet_name\n",
    "        if \"alternate_parameter_name\" in ds_prod[param].attrs:\n",
    "            ooinet_name = ds_prod[param].attrs[\"alternate_parameter_name\"]\n",
    "        else:\n",
    "            ooinet_name = param\n",
    "        \n",
    "        # Save the results in a dictionary\n",
    "        test_parameters.update({\n",
    "            param: ooinet_name\n",
    "        })\n",
    "# Print out the results\n",
    "test_parameters"
   ]
  },
  {
   "cell_type": "code",
   "execution_count": null,
   "id": "041a8ef7",
   "metadata": {},
   "outputs": [],
   "source": [
    "results_expected = ds_expected[test_parameters]"
   ]
  },
  {
   "attachments": {},
   "cell_type": "markdown",
   "id": "3e6e2063",
   "metadata": {},
   "source": [
    "### Comparing local results of QARTOD tests to expected results "
   ]
  },
  {
   "cell_type": "code",
   "execution_count": null,
   "id": "60848a88",
   "metadata": {},
   "outputs": [],
   "source": [
    "comparison = []\n",
    "for param in test_parameters:\n",
    "    comparison[param] = results_expected[param] == ds_local[param]"
   ]
  },
  {
   "cell_type": "code",
   "execution_count": null,
   "id": "6bc7fee7",
   "metadata": {},
   "outputs": [],
   "source": [
    "# or something like Andrew's example:\n",
    "\n",
    "def run_comparison(ds, param, test_results):\n",
    "    \"\"\"\n",
    "    Runs a comparison between the qartod results returned as part of the dataset\n",
    "    and results calculated locally.\n",
    "    \"\"\"\n",
    "    # Get the local test results and convert to string type for comparison\n",
    "    local_results = test_results[param].astype(str)\n",
    "    \n",
    "    # Run comparison\n",
    "    not_equal = np.where(ds[f\"{param}_qartod_gross_range_test\"] != local_results)[0]\n",
    "    \n",
    "    if len(not_equal) == 0:\n",
    "        return None\n",
    "    else:\n",
    "        return not_equal"
   ]
  },
  {
   "attachments": {},
   "cell_type": "markdown",
   "id": "d3f1d9c6",
   "metadata": {},
   "source": [
    "### Identify differences in results"
   ]
  },
  {
   "attachments": {},
   "cell_type": "markdown",
   "id": "dc3016fc",
   "metadata": {},
   "source": [
    "### Export differing values to CSV with relevant metadata\n",
    "metadata could include: date & time, sensor, node, site, local & expected test results... whatever"
   ]
  },
  {
   "attachments": {},
   "cell_type": "markdown",
   "id": "7ca1c582",
   "metadata": {},
   "source": []
  }
 ],
 "metadata": {
  "kernelspec": {
   "display_name": "Python 3 (ipykernel)",
   "language": "python",
   "name": "python3"
  },
  "language_info": {
   "codemirror_mode": {
    "name": "ipython",
    "version": 3
   },
   "file_extension": ".py",
   "mimetype": "text/x-python",
   "name": "python",
   "nbconvert_exporter": "python",
   "pygments_lexer": "ipython3",
   "version": "3.9.16"
  }
 },
 "nbformat": 4,
 "nbformat_minor": 5
}
