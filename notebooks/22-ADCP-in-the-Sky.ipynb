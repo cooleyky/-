{
 "cells": [
  {
   "cell_type": "markdown",
   "id": "346d92c9-b3c0-4d81-acff-6a953b22916a",
   "metadata": {},
   "source": [
    "# ADCP Assessment 2.2: ADCP in the Sky\n",
    "\n",
    "At the time that this notebook was created, there was an issue with the ADCP data displayed on the OOI Data Explorer. The y-axis of pcolormesh plots for ADCP time series have depths up to -500 m which puts these measurements \"in the Sky\". In this notebook, I will compare the datasets available from the Data Explorer ERDDAP server with datasets for the same sensors from OOINet. We hope this will clarify where the issue is in the data pipeline."
   ]
  },
  {
   "cell_type": "code",
   "execution_count": null,
   "id": "11a50ffe-b542-4f50-818b-69e5f380e5bd",
   "metadata": {},
   "outputs": [],
   "source": []
  }
 ],
 "metadata": {
  "kernelspec": {
   "display_name": "qartod_test",
   "language": "python",
   "name": "qartod_test"
  },
  "language_info": {
   "codemirror_mode": {
    "name": "ipython",
    "version": 3
   },
   "file_extension": ".py",
   "mimetype": "text/x-python",
   "name": "python",
   "nbconvert_exporter": "python",
   "pygments_lexer": "ipython3",
   "version": "3.11.3"
  }
 },
 "nbformat": 4,
 "nbformat_minor": 5
}
