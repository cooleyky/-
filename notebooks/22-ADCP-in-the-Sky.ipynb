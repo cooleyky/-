{
 "cells": [
  {
   "cell_type": "markdown",
   "id": "346d92c9-b3c0-4d81-acff-6a953b22916a",
   "metadata": {},
   "source": [
    "# ADCP Assessment 2.2: ADCP in the Sky\n",
    "\n",
    "At the time that this notebook was created, there was an issue with the ADCP data displayed on the OOI Data Explorer (DE). The y-axis of pcolormesh plots on DE for ADCP time series have depths up to -500 m which puts these measurements \"in the Sky\". In this notebook, I will compare the datasets available from the Data Explorer ERDDAP server with datasets for the same sensors from OOINet. We hope this will clarify where the issue is in the data pipeline."
   ]
  },
  {
   "cell_type": "code",
   "execution_count": 16,
   "id": "b03d4ed3-5070-4c1b-8266-3ab9ec90409c",
   "metadata": {
    "tags": []
   },
   "outputs": [],
   "source": [
    "# Import libraries\n",
    "import numpy as np\n",
    "import xarray as xr\n",
    "\n",
    "from ooi_data_explorations.common import load_gc_thredds\n",
    "from ooi_data_explorations.combine_data import combine_datasets"
   ]
  },
  {
   "cell_type": "code",
   "execution_count": 20,
   "id": "11a50ffe-b542-4f50-818b-69e5f380e5bd",
   "metadata": {},
   "outputs": [],
   "source": [
    "# Load datasets from DE ERDDAP server \n",
    "gp_de_file = \"~/code/qartod_testing/data/external/adcp_in_the_sky/ooi-gp03flmb-rim01-02-adcpsl007_f266_5e70_1f9c.nc\"\n",
    "gp_de = xr.open_dataset(gp_de_file)\n",
    "gp_de.set_coords(\"time\")\n",
    "gp_de = gp_de.swap_dims({\"row\": \"time\"})\n",
    "\n",
    "gs_de_file = \"~/code/qartod_testing/data/external/adcp_in_the_sky/ooi-gs01sumo-rii11-02-adcpsn010_f9b4_6bbe_e00e.nc\"\n",
    "gs_de = xr.open_dataset(gs_de_file)\n",
    "gs_de.set_coords(\"time\")\n",
    "gs_de = gs_de.swap_dims({\"row\": \"time\"})"
   ]
  },
  {
   "cell_type": "code",
   "execution_count": 27,
   "id": "47633a26-529c-4b26-a2f9-9f546e34142f",
   "metadata": {
    "tags": []
   },
   "outputs": [],
   "source": [
    "# Initialize parameters for goldcopy data request from OOINet\n",
    "gp_refdes = \"GP03FLMB-RIM01-02-ADCPSL007\"\n",
    "gpsite, gpnode, gpsensor = gp_refdes.split(\"-\", 2)\n",
    "\n",
    "gs_refdes = \"GS01SUMO-RII11-02-ADCPSN010\"\n",
    "gssite, gsnode, gssensor = gs_refdes.split(\"-\", 2)"
   ]
  },
  {
   "cell_type": "code",
   "execution_count": 28,
   "id": "8b76069e-c2ec-4be1-881b-ec1c2bfbd0dc",
   "metadata": {
    "tags": []
   },
   "outputs": [
    {
     "name": "stdout",
     "output_type": "stream",
     "text": [
      "Downloading 12 data file(s) from the OOI Gold Copy THREDSS catalog\n",
      "Downloading and Processing Data Files: 100%|██████████| 12/12 [00:25<00:00,  2.10s/it]\n"
     ]
    },
    {
     "name": "stderr",
     "output_type": "stream",
     "text": [
      "/home/jovyan/code/ooi-data-explorations/python/ooi_data_explorations/common.py:1021: UserWarning: 6 of the 12 downloaded files failed to merge.\n",
      "  warnings.warn(message)\n"
     ]
    },
    {
     "name": "stdout",
     "output_type": "stream",
     "text": [
      "Downloading 16 data file(s) from the OOI Gold Copy THREDSS catalog\n",
      "Downloading and Processing Data Files: 100%|██████████| 16/16 [00:36<00:00,  2.28s/it]\n"
     ]
    },
    {
     "name": "stderr",
     "output_type": "stream",
     "text": [
      "/home/jovyan/code/ooi-data-explorations/python/ooi_data_explorations/common.py:1021: UserWarning: 8 of the 16 downloaded files failed to merge.\n",
      "  warnings.warn(message)\n"
     ]
    },
    {
     "name": "stdout",
     "output_type": "stream",
     "text": [
      "Downloading 19 data file(s) from the OOI Gold Copy THREDSS catalog\n",
      "Downloading and Processing Data Files: 100%|██████████| 19/19 [00:57<00:00,  3.03s/it]\n"
     ]
    },
    {
     "name": "stderr",
     "output_type": "stream",
     "text": [
      "/home/jovyan/code/ooi-data-explorations/python/ooi_data_explorations/common.py:1021: UserWarning: 9 of the 19 downloaded files failed to merge.\n",
      "  warnings.warn(message)\n"
     ]
    },
    {
     "name": "stdout",
     "output_type": "stream",
     "text": [
      "Downloading 0 data file(s) from the OOI Gold Copy THREDSS catalog\n"
     ]
    },
    {
     "name": "stderr",
     "output_type": "stream",
     "text": [
      "Downloading and Processing Data Files: 0it [00:00, ?it/s]\n",
      "/home/jovyan/code/ooi-data-explorations/python/ooi_data_explorations/common.py:782: UserWarning: No data files were downloaded from the Gold Copy THREDDS server.\n",
      "  warnings.warn(message)\n"
     ]
    },
    {
     "name": "stdout",
     "output_type": "stream",
     "text": [
      "Downloading 0 data file(s) from the OOI Gold Copy THREDSS catalog\n"
     ]
    },
    {
     "name": "stderr",
     "output_type": "stream",
     "text": [
      "Downloading and Processing Data Files: 0it [00:00, ?it/s]\n"
     ]
    },
    {
     "name": "stdout",
     "output_type": "stream",
     "text": [
      "Downloading 8 data file(s) from the OOI Gold Copy THREDSS catalog\n",
      "Downloading and Processing Data Files: 100%|██████████| 8/8 [00:19<00:00,  2.50s/it]\n"
     ]
    },
    {
     "name": "stderr",
     "output_type": "stream",
     "text": [
      "/home/jovyan/code/ooi-data-explorations/python/ooi_data_explorations/common.py:1021: UserWarning: 4 of the 8 downloaded files failed to merge.\n",
      "  warnings.warn(message)\n"
     ]
    }
   ],
   "source": [
    "# Request telemtered, recovered host, and recovered instrument data to\n",
    "# combine. The DE dataset of all deployments combines all delivery\n",
    "# methods.\n",
    "gptelem = load_gc_thredds(gpsite, gpnode, gpsensor, \"telemetered\", \"adcps_jln_sio_mule_instrument\")\n",
    "gphost = load_gc_thredds(gpsite, gpnode, gpsensor, \"recovered_host\", \"adcps_jln_sio_mule_instrument\")\n",
    "gpinst = load_gc_thredds(gpsite, gpnode, gpsensor, \"recovered_inst\", \"adcp_velocity_earth\")\n",
    "\n",
    "gstelem = load_gc_thredds(gssite, gsnode, gssensor, \"telemetered\", \"adcps_jln_sio_mule_instrument\")\n",
    "gshost = load_gc_thredds(gssite, gsnode, gssensor, \"recovered_host\", \"adcps_jln_sio_mule_instrument\")\n",
    "gsinst = load_gc_thredds(gssite, gsnode, gssensor, \"recovered_inst\", \"adcp_velocity_earth\")"
   ]
  },
  {
   "cell_type": "code",
   "execution_count": 29,
   "id": "737903df-df8e-422a-b898-86fccdf05f84",
   "metadata": {
    "tags": []
   },
   "outputs": [],
   "source": [
    "# Combine data delivery methods into single dataset for each sensor\n",
    "gp_gc = combine_datasets(gptelem, gphost, gpinst, None)\n",
    "gs_gc = combine_datasets(gstelem, gshost, gsinst, None)"
   ]
  },
  {
   "cell_type": "markdown",
   "id": "b0df065c-a507-4ea2-9d13-e88be732d469",
   "metadata": {},
   "source": [
    "Now that we have all of our combined-stream datasets loaded into the notebook, we can check the range of depths in each dataset, and depth timeseries. There are four depth type parameters in the combined gold copy datasets: two with no instrument source in the attributes(`depth_from_pressure` and `non_zero_depth`) and two from the co-located CTDMO (`ctdmo_ghqr_sio_mule_instrument-depth` and `depth`). \n",
    "The datasets from the DE ERDDAP server have just one depth-type parameter: `z`."
   ]
  },
  {
   "cell_type": "code",
   "execution_count": 19,
   "id": "90d72a1c-7524-487e-a601-e7cde3c331ee",
   "metadata": {
    "tags": []
   },
   "outputs": [
    {
     "name": "stdout",
     "output_type": "stream",
     "text": [
      "Station PAPA z range from DE:[<xarray.DataArray 'z' ()>\n",
      "array(0.), <xarray.DataArray 'z' ()>\n",
      "array(0.)]\n",
      "Southern Ocean z range from DE:0.0\n"
     ]
    }
   ],
   "source": [
    "# Check ranges of depth parameters\n",
    "print(f\"Station PAPA z range from DE:[{gp_de['z'].min()}, {gp_de['z'].max()}]\")\n",
    "print(f\"Southern Ocean z range from DE:{np.ptp(gs_de['z'].values)}\")"
   ]
  },
  {
   "cell_type": "code",
   "execution_count": 21,
   "id": "e6d5ee33-9a9a-4651-a49e-2b00b9ca5abc",
   "metadata": {
    "tags": []
   },
   "outputs": [
    {
     "data": {
      "text/plain": [
       "[<matplotlib.lines.Line2D at 0x7f86c3362510>]"
      ]
     },
     "execution_count": 21,
     "metadata": {},
     "output_type": "execute_result"
    },
    {
     "data": {
      "image/png": "[encoded data removed]",
      "text/plain": [
       "<Figure size 640x480 with 1 Axes>"
      ]
     },
     "metadata": {},
     "output_type": "display_data"
    }
   ],
   "source": [
    "gp_de['z'].plot()"
   ]
  },
  {
   "cell_type": "code",
   "execution_count": 22,
   "id": "a50247b1-3959-4d2e-8ec2-b1921b329e1d",
   "metadata": {
    "tags": []
   },
   "outputs": [
    {
     "data": {
      "text/html": [
       "<div><svg style=\"position: absolute; width: 0; height: 0; overflow: hidden\">\n",
       "<defs>\n",
       "<symbol id=\"icon-database\" viewBox=\"0 0 32 32\">\n",
       "<path d=\"M16 0c-8.837 0-16 2.239-16 5v4c0 2.761 7.163 5 16 5s16-2.239 16-5v-4c0-2.761-7.163-5-16-5z\"></path>\n",
       "<path d=\"M16 17c-8.837 0-16-2.239-16-5v6c0 2.761 7.163 5 16 5s16-2.239 16-5v-6c0 2.761-7.163 5-16 5z\"></path>\n",
       "<path d=\"M16 26c-8.837 0-16-2.239-16-5v6c0 2.761 7.163 5 16 5s16-2.239 16-5v-6c0 2.761-7.163 5-16 5z\"></path>\n",
       "</symbol>\n",
       "<symbol id=\"icon-file-text2\" viewBox=\"0 0 32 32\">\n",
       "<path d=\"M28.681 7.159c-0.694-0.947-1.662-2.053-2.724-3.116s-2.169-2.030-3.116-2.724c-1.612-1.182-2.393-1.319-2.841-1.319h-15.5c-1.378 0-2.5 1.121-2.5 2.5v27c0 1.378 1.122 2.5 2.5 2.5h23c1.378 0 2.5-1.122 2.5-2.5v-19.5c0-0.448-0.137-1.23-1.319-2.841zM24.543 5.457c0.959 0.959 1.712 1.825 2.268 2.543h-4.811v-4.811c0.718 0.556 1.584 1.309 2.543 2.268zM28 29.5c0 0.271-0.229 0.5-0.5 0.5h-23c-0.271 0-0.5-0.229-0.5-0.5v-27c0-0.271 0.229-0.5 0.5-0.5 0 0 15.499-0 15.5 0v7c0 0.552 0.448 1 1 1h7v19.5z\"></path>\n",
       "<path d=\"M23 26h-14c-0.552 0-1-0.448-1-1s0.448-1 1-1h14c0.552 0 1 0.448 1 1s-0.448 1-1 1z\"></path>\n",
       "<path d=\"M23 22h-14c-0.552 0-1-0.448-1-1s0.448-1 1-1h14c0.552 0 1 0.448 1 1s-0.448 1-1 1z\"></path>\n",
       "<path d=\"M23 18h-14c-0.552 0-1-0.448-1-1s0.448-1 1-1h14c0.552 0 1 0.448 1 1s-0.448 1-1 1z\"></path>\n",
       "</symbol>\n",
       "</defs>\n",
       "</svg>\n",
       "<style>/* CSS stylesheet for displaying xarray objects in jupyterlab.\n",
       " *\n",
       " */\n",
       "\n",
       ":root {\n",
       "  --xr-font-color0: var(--jp-content-font-color0, rgba(0, 0, 0, 1));\n",
       "  --xr-font-color2: var(--jp-content-font-color2, rgba(0, 0, 0, 0.54));\n",
       "  --xr-font-color3: var(--jp-content-font-color3, rgba(0, 0, 0, 0.38));\n",
       "  --xr-border-color: var(--jp-border-color2, #e0e0e0);\n",
       "  --xr-disabled-color: var(--jp-layout-color3, #bdbdbd);\n",
       "  --xr-background-color: var(--jp-layout-color0, white);\n",
       "  --xr-background-color-row-even: var(--jp-layout-color1, white);\n",
       "  --xr-background-color-row-odd: var(--jp-layout-color2, #eeeeee);\n",
       "}\n",
       "\n",
       "html[theme=dark],\n",
       "body[data-theme=dark],\n",
       "body.vscode-dark {\n",
       "  --xr-font-color0: rgba(255, 255, 255, 1);\n",
       "  --xr-font-color2: rgba(255, 255, 255, 0.54);\n",
       "  --xr-font-color3: rgba(255, 255, 255, 0.38);\n",
       "  --xr-border-color: #1F1F1F;\n",
       "  --xr-disabled-color: #515151;\n",
       "  --xr-background-color: #111111;\n",
       "  --xr-background-color-row-even: #111111;\n",
       "  --xr-background-color-row-odd: #313131;\n",
       "}\n",
       "\n",
       ".xr-wrap {\n",
       "  display: block !important;\n",
       "  min-width: 300px;\n",
       "  max-width: 700px;\n",
       "}\n",
       "\n",
       ".xr-text-repr-fallback {\n",
       "  /* fallback to plain text repr when CSS is not injected (untrusted notebook) */\n",
       "  display: none;\n",
       "}\n",
       "\n",
       ".xr-header {\n",
       "  padding-top: 6px;\n",
       "  padding-bottom: 6px;\n",
       "  margin-bottom: 4px;\n",
       "  border-bottom: solid 1px var(--xr-border-color);\n",
       "}\n",
       "\n",
       ".xr-header > div,\n",
       ".xr-header > ul {\n",
       "  display: inline;\n",
       "  margin-top: 0;\n",
       "  margin-bottom: 0;\n",
       "}\n",
       "\n",
       ".xr-obj-type,\n",
       ".xr-array-name {\n",
       "  margin-left: 2px;\n",
       "  margin-right: 10px;\n",
       "}\n",
       "\n",
       ".xr-obj-type {\n",
       "  color: var(--xr-font-color2);\n",
       "}\n",
       "\n",
       ".xr-sections {\n",
       "  padding-left: 0 !important;\n",
       "  display: grid;\n",
       "  grid-template-columns: 150px auto auto 1fr 20px 20px;\n",
       "}\n",
       "\n",
       ".xr-section-item {\n",
       "  display: contents;\n",
       "}\n",
       "\n",
       ".xr-section-item input {\n",
       "  display: none;\n",
       "}\n",
       "\n",
       ".xr-section-item input + label {\n",
       "  color: var(--xr-disabled-color);\n",
       "}\n",
       "\n",
       ".xr-section-item input:enabled + label {\n",
       "  cursor: pointer;\n",
       "  color: var(--xr-font-color2);\n",
       "}\n",
       "\n",
       ".xr-section-item input:enabled + label:hover {\n",
       "  color: var(--xr-font-color0);\n",
       "}\n",
       "\n",
       ".xr-section-summary {\n",
       "  grid-column: 1;\n",
       "  color: var(--xr-font-color2);\n",
       "  font-weight: 500;\n",
       "}\n",
       "\n",
       ".xr-section-summary > span {\n",
       "  display: inline-block;\n",
       "  padding-left: 0.5em;\n",
       "}\n",
       "\n",
       ".xr-section-summary-in:disabled + label {\n",
       "  color: var(--xr-font-color2);\n",
       "}\n",
       "\n",
       ".xr-section-summary-in + label:before {\n",
       "  display: inline-block;\n",
       "  content: '►';\n",
       "  font-size: 11px;\n",
       "  width: 15px;\n",
       "  text-align: center;\n",
       "}\n",
       "\n",
       ".xr-section-summary-in:disabled + label:before {\n",
       "  color: var(--xr-disabled-color);\n",
       "}\n",
       "\n",
       ".xr-section-summary-in:checked + label:before {\n",
       "  content: '▼';\n",
       "}\n",
       "\n",
       ".xr-section-summary-in:checked + label > span {\n",
       "  display: none;\n",
       "}\n",
       "\n",
       ".xr-section-summary,\n",
       ".xr-section-inline-details {\n",
       "  padding-top: 4px;\n",
       "  padding-bottom: 4px;\n",
       "}\n",
       "\n",
       ".xr-section-inline-details {\n",
       "  grid-column: 2 / -1;\n",
       "}\n",
       "\n",
       ".xr-section-details {\n",
       "  display: none;\n",
       "  grid-column: 1 / -1;\n",
       "  margin-bottom: 5px;\n",
       "}\n",
       "\n",
       ".xr-section-summary-in:checked ~ .xr-section-details {\n",
       "  display: contents;\n",
       "}\n",
       "\n",
       ".xr-array-wrap {\n",
       "  grid-column: 1 / -1;\n",
       "  display: grid;\n",
       "  grid-template-columns: 20px auto;\n",
       "}\n",
       "\n",
       ".xr-array-wrap > label {\n",
       "  grid-column: 1;\n",
       "  vertical-align: top;\n",
       "}\n",
       "\n",
       ".xr-preview {\n",
       "  color: var(--xr-font-color3);\n",
       "}\n",
       "\n",
       ".xr-array-preview,\n",
       ".xr-array-data {\n",
       "  padding: 0 5px !important;\n",
       "  grid-column: 2;\n",
       "}\n",
       "\n",
       ".xr-array-data,\n",
       ".xr-array-in:checked ~ .xr-array-preview {\n",
       "  display: none;\n",
       "}\n",
       "\n",
       ".xr-array-in:checked ~ .xr-array-data,\n",
       ".xr-array-preview {\n",
       "  display: inline-block;\n",
       "}\n",
       "\n",
       ".xr-dim-list {\n",
       "  display: inline-block !important;\n",
       "  list-style: none;\n",
       "  padding: 0 !important;\n",
       "  margin: 0;\n",
       "}\n",
       "\n",
       ".xr-dim-list li {\n",
       "  display: inline-block;\n",
       "  padding: 0;\n",
       "  margin: 0;\n",
       "}\n",
       "\n",
       ".xr-dim-list:before {\n",
       "  content: '(';\n",
       "}\n",
       "\n",
       ".xr-dim-list:after {\n",
       "  content: ')';\n",
       "}\n",
       "\n",
       ".xr-dim-list li:not(:last-child):after {\n",
       "  content: ',';\n",
       "  padding-right: 5px;\n",
       "}\n",
       "\n",
       ".xr-has-index {\n",
       "  font-weight: bold;\n",
       "}\n",
       "\n",
       ".xr-var-list,\n",
       ".xr-var-item {\n",
       "  display: contents;\n",
       "}\n",
       "\n",
       ".xr-var-item > div,\n",
       ".xr-var-item label,\n",
       ".xr-var-item > .xr-var-name span {\n",
       "  background-color: var(--xr-background-color-row-even);\n",
       "  margin-bottom: 0;\n",
       "}\n",
       "\n",
       ".xr-var-item > .xr-var-name:hover span {\n",
       "  padding-right: 5px;\n",
       "}\n",
       "\n",
       ".xr-var-list > li:nth-child(odd) > div,\n",
       ".xr-var-list > li:nth-child(odd) > label,\n",
       ".xr-var-list > li:nth-child(odd) > .xr-var-name span {\n",
       "  background-color: var(--xr-background-color-row-odd);\n",
       "}\n",
       "\n",
       ".xr-var-name {\n",
       "  grid-column: 1;\n",
       "}\n",
       "\n",
       ".xr-var-dims {\n",
       "  grid-column: 2;\n",
       "}\n",
       "\n",
       ".xr-var-dtype {\n",
       "  grid-column: 3;\n",
       "  text-align: right;\n",
       "  color: var(--xr-font-color2);\n",
       "}\n",
       "\n",
       ".xr-var-preview {\n",
       "  grid-column: 4;\n",
       "}\n",
       "\n",
       ".xr-index-preview {\n",
       "  grid-column: 2 / 5;\n",
       "  color: var(--xr-font-color2);\n",
       "}\n",
       "\n",
       ".xr-var-name,\n",
       ".xr-var-dims,\n",
       ".xr-var-dtype,\n",
       ".xr-preview,\n",
       ".xr-attrs dt {\n",
       "  white-space: nowrap;\n",
       "  overflow: hidden;\n",
       "  text-overflow: ellipsis;\n",
       "  padding-right: 10px;\n",
       "}\n",
       "\n",
       ".xr-var-name:hover,\n",
       ".xr-var-dims:hover,\n",
       ".xr-var-dtype:hover,\n",
       ".xr-attrs dt:hover {\n",
       "  overflow: visible;\n",
       "  width: auto;\n",
       "  z-index: 1;\n",
       "}\n",
       "\n",
       ".xr-var-attrs,\n",
       ".xr-var-data,\n",
       ".xr-index-data {\n",
       "  display: none;\n",
       "  background-color: var(--xr-background-color) !important;\n",
       "  padding-bottom: 5px !important;\n",
       "}\n",
       "\n",
       ".xr-var-attrs-in:checked ~ .xr-var-attrs,\n",
       ".xr-var-data-in:checked ~ .xr-var-data,\n",
       ".xr-index-data-in:checked ~ .xr-index-data {\n",
       "  display: block;\n",
       "}\n",
       "\n",
       ".xr-var-data > table {\n",
       "  float: right;\n",
       "}\n",
       "\n",
       ".xr-var-name span,\n",
       ".xr-var-data,\n",
       ".xr-index-name div,\n",
       ".xr-index-data,\n",
       ".xr-attrs {\n",
       "  padding-left: 25px !important;\n",
       "}\n",
       "\n",
       ".xr-attrs,\n",
       ".xr-var-attrs,\n",
       ".xr-var-data,\n",
       ".xr-index-data {\n",
       "  grid-column: 1 / -1;\n",
       "}\n",
       "\n",
       "dl.xr-attrs {\n",
       "  padding: 0;\n",
       "  margin: 0;\n",
       "  display: grid;\n",
       "  grid-template-columns: 125px auto;\n",
       "}\n",
       "\n",
       ".xr-attrs dt,\n",
       ".xr-attrs dd {\n",
       "  padding: 0;\n",
       "  margin: 0;\n",
       "  float: left;\n",
       "  padding-right: 10px;\n",
       "  width: auto;\n",
       "}\n",
       "\n",
       ".xr-attrs dt {\n",
       "  font-weight: normal;\n",
       "  grid-column: 1;\n",
       "}\n",
       "\n",
       ".xr-attrs dt:hover span {\n",
       "  display: inline-block;\n",
       "  background: var(--xr-background-color);\n",
       "  padding-right: 10px;\n",
       "}\n",
       "\n",
       ".xr-attrs dd {\n",
       "  grid-column: 2;\n",
       "  white-space: pre-wrap;\n",
       "  word-break: break-all;\n",
       "}\n",
       "\n",
       ".xr-icon-database,\n",
       ".xr-icon-file-text2,\n",
       ".xr-no-icon {\n",
       "  display: inline-block;\n",
       "  vertical-align: middle;\n",
       "  width: 1em;\n",
       "  height: 1.5em !important;\n",
       "  stroke-width: 0;\n",
       "  stroke: currentColor;\n",
       "  fill: currentColor;\n",
       "}\n",
       "</style><pre class='xr-text-repr-fallback'>&lt;xarray.DataArray &#x27;time&#x27; (time: 4912518)&gt;\n",
       "array([&#x27;2013-07-24T07:26:00.000000000&#x27;, &#x27;2013-07-24T07:26:00.000000000&#x27;,\n",
       "       &#x27;2013-07-24T07:26:00.000000000&#x27;, ..., &#x27;1970-01-01T00:00:00.000000000&#x27;,\n",
       "       &#x27;1970-01-01T00:00:00.000000000&#x27;, &#x27;1970-01-01T00:00:00.000000000&#x27;],\n",
       "      dtype=&#x27;datetime64[ns]&#x27;)\n",
       "Coordinates:\n",
       "  * time     (time) datetime64[ns] 2013-07-24T07:26:00 ... 1970-01-01\n",
       "Attributes:\n",
       "    _ChunkSizes:          512\n",
       "    _CoordinateAxisType:  Time\n",
       "    actual_range:         [1.37465076e+09 1.68477840e+09]\n",
       "    axis:                 T\n",
       "    cf_role:              profile_id\n",
       "    ioos_category:        Time\n",
       "    long_name:            Time\n",
       "    standard_name:        time\n",
       "    time_origin:          01-JAN-1970 00:00:00</pre><div class='xr-wrap' style='display:none'><div class='xr-header'><div class='xr-obj-type'>xarray.DataArray</div><div class='xr-array-name'>'time'</div><ul class='xr-dim-list'><li><span class='xr-has-index'>time</span>: 4912518</li></ul></div><ul class='xr-sections'><li class='xr-section-item'><div class='xr-array-wrap'><input id='section-c7ca3c7a-a498-40f8-9a41-99176a5a5ee0' class='xr-array-in' type='checkbox' checked><label for='section-c7ca3c7a-a498-40f8-9a41-99176a5a5ee0' title='Show/hide data repr'><svg class='icon xr-icon-database'><use xlink:href='#icon-database'></use></svg></label><div class='xr-array-preview xr-preview'><span>2013-07-24T07:26:00 2013-07-24T07:26:00 ... 1970-01-01 1970-01-01</span></div><div class='xr-array-data'><pre>array([&#x27;2013-07-24T07:26:00.000000000&#x27;, &#x27;2013-07-24T07:26:00.000000000&#x27;,\n",
       "       &#x27;2013-07-24T07:26:00.000000000&#x27;, ..., &#x27;1970-01-01T00:00:00.000000000&#x27;,\n",
       "       &#x27;1970-01-01T00:00:00.000000000&#x27;, &#x27;1970-01-01T00:00:00.000000000&#x27;],\n",
       "      dtype=&#x27;datetime64[ns]&#x27;)</pre></div></div></li><li class='xr-section-item'><input id='section-7d2fb15f-18c7-45c0-be1a-5e5041f931bc' class='xr-section-summary-in' type='checkbox'  checked><label for='section-7d2fb15f-18c7-45c0-be1a-5e5041f931bc' class='xr-section-summary' >Coordinates: <span>(1)</span></label><div class='xr-section-inline-details'></div><div class='xr-section-details'><ul class='xr-var-list'><li class='xr-var-item'><div class='xr-var-name'><span class='xr-has-index'>time</span></div><div class='xr-var-dims'>(time)</div><div class='xr-var-dtype'>datetime64[ns]</div><div class='xr-var-preview xr-preview'>2013-07-24T07:26:00 ... 1970-01-01</div><input id='attrs-e0a0aa0f-f10c-4910-94cd-6227618cae2e' class='xr-var-attrs-in' type='checkbox' ><label for='attrs-e0a0aa0f-f10c-4910-94cd-6227618cae2e' title='Show/Hide attributes'><svg class='icon xr-icon-file-text2'><use xlink:href='#icon-file-text2'></use></svg></label><input id='data-2e384409-cb88-4373-aee0-81e30dd4dec7' class='xr-var-data-in' type='checkbox'><label for='data-2e384409-cb88-4373-aee0-81e30dd4dec7' title='Show/Hide data repr'><svg class='icon xr-icon-database'><use xlink:href='#icon-database'></use></svg></label><div class='xr-var-attrs'><dl class='xr-attrs'><dt><span>_ChunkSizes :</span></dt><dd>512</dd><dt><span>_CoordinateAxisType :</span></dt><dd>Time</dd><dt><span>actual_range :</span></dt><dd>[1.37465076e+09 1.68477840e+09]</dd><dt><span>axis :</span></dt><dd>T</dd><dt><span>cf_role :</span></dt><dd>profile_id</dd><dt><span>ioos_category :</span></dt><dd>Time</dd><dt><span>long_name :</span></dt><dd>Time</dd><dt><span>standard_name :</span></dt><dd>time</dd><dt><span>time_origin :</span></dt><dd>01-JAN-1970 00:00:00</dd></dl></div><div class='xr-var-data'><pre>array([&#x27;2013-07-24T07:26:00.000000000&#x27;, &#x27;2013-07-24T07:26:00.000000000&#x27;,\n",
       "       &#x27;2013-07-24T07:26:00.000000000&#x27;, ..., &#x27;1970-01-01T00:00:00.000000000&#x27;,\n",
       "       &#x27;1970-01-01T00:00:00.000000000&#x27;, &#x27;1970-01-01T00:00:00.000000000&#x27;],\n",
       "      dtype=&#x27;datetime64[ns]&#x27;)</pre></div></li></ul></div></li><li class='xr-section-item'><input id='section-a21737ee-4f0b-4e7d-8bc4-a434fa0551ee' class='xr-section-summary-in' type='checkbox'  ><label for='section-a21737ee-4f0b-4e7d-8bc4-a434fa0551ee' class='xr-section-summary' >Indexes: <span>(1)</span></label><div class='xr-section-inline-details'></div><div class='xr-section-details'><ul class='xr-var-list'><li class='xr-var-item'><div class='xr-index-name'><div>time</div></div><div class='xr-index-preview'>PandasIndex</div><div></div><input id='index-2a4804b2-9e4f-4136-bba4-86df15db520d' class='xr-index-data-in' type='checkbox'/><label for='index-2a4804b2-9e4f-4136-bba4-86df15db520d' title='Show/Hide index repr'><svg class='icon xr-icon-database'><use xlink:href='#icon-database'></use></svg></label><div class='xr-index-data'><pre>PandasIndex(DatetimeIndex([&#x27;2013-07-24 07:26:00&#x27;, &#x27;2013-07-24 07:26:00&#x27;,\n",
       "               &#x27;2013-07-24 07:26:00&#x27;, &#x27;2013-07-24 07:26:00&#x27;,\n",
       "               &#x27;2013-07-24 07:26:00&#x27;, &#x27;2013-07-24 07:26:00&#x27;,\n",
       "               &#x27;2013-07-24 07:26:00&#x27;, &#x27;2013-07-24 07:26:00&#x27;,\n",
       "               &#x27;2013-07-24 07:26:00&#x27;, &#x27;2013-07-24 07:26:00&#x27;,\n",
       "               ...\n",
       "               &#x27;1970-01-01 00:00:00&#x27;, &#x27;1970-01-01 00:00:00&#x27;,\n",
       "               &#x27;1970-01-01 00:00:00&#x27;, &#x27;1970-01-01 00:00:00&#x27;,\n",
       "               &#x27;1970-01-01 00:00:00&#x27;, &#x27;1970-01-01 00:00:00&#x27;,\n",
       "               &#x27;1970-01-01 00:00:00&#x27;, &#x27;1970-01-01 00:00:00&#x27;,\n",
       "               &#x27;1970-01-01 00:00:00&#x27;, &#x27;1970-01-01 00:00:00&#x27;],\n",
       "              dtype=&#x27;datetime64[ns]&#x27;, name=&#x27;time&#x27;, length=4912518, freq=None))</pre></div></li></ul></div></li><li class='xr-section-item'><input id='section-72d8badf-962a-4d42-81db-8bfac34f337b' class='xr-section-summary-in' type='checkbox'  checked><label for='section-72d8badf-962a-4d42-81db-8bfac34f337b' class='xr-section-summary' >Attributes: <span>(9)</span></label><div class='xr-section-inline-details'></div><div class='xr-section-details'><dl class='xr-attrs'><dt><span>_ChunkSizes :</span></dt><dd>512</dd><dt><span>_CoordinateAxisType :</span></dt><dd>Time</dd><dt><span>actual_range :</span></dt><dd>[1.37465076e+09 1.68477840e+09]</dd><dt><span>axis :</span></dt><dd>T</dd><dt><span>cf_role :</span></dt><dd>profile_id</dd><dt><span>ioos_category :</span></dt><dd>Time</dd><dt><span>long_name :</span></dt><dd>Time</dd><dt><span>standard_name :</span></dt><dd>time</dd><dt><span>time_origin :</span></dt><dd>01-JAN-1970 00:00:00</dd></dl></div></li></ul></div></div>"
      ],
      "text/plain": [
       "<xarray.DataArray 'time' (time: 4912518)>\n",
       "array(['2013-07-24T07:26:00.000000000', '2013-07-24T07:26:00.000000000',\n",
       "       '2013-07-24T07:26:00.000000000', ..., '1970-01-01T00:00:00.000000000',\n",
       "       '1970-01-01T00:00:00.000000000', '1970-01-01T00:00:00.000000000'],\n",
       "      dtype='datetime64[ns]')\n",
       "Coordinates:\n",
       "  * time     (time) datetime64[ns] 2013-07-24T07:26:00 ... 1970-01-01\n",
       "Attributes:\n",
       "    _ChunkSizes:          512\n",
       "    _CoordinateAxisType:  Time\n",
       "    actual_range:         [1.37465076e+09 1.68477840e+09]\n",
       "    axis:                 T\n",
       "    cf_role:              profile_id\n",
       "    ioos_category:        Time\n",
       "    long_name:            Time\n",
       "    standard_name:        time\n",
       "    time_origin:          01-JAN-1970 00:00:00"
      ]
     },
     "execution_count": 22,
     "metadata": {},
     "output_type": "execute_result"
    }
   ],
   "source": [
    "gp_de['time']"
   ]
  },
  {
   "cell_type": "code",
   "execution_count": 31,
   "id": "aa38104e-e2b6-46dc-8400-148c81a49a5c",
   "metadata": {
    "tags": []
   },
   "outputs": [
    {
     "name": "stdout",
     "output_type": "stream",
     "text": [
      "Station PAPA depth_from_pressure range from DE:[481.8108615552479, 557.467162700832]\n",
      "Southern Ocean depth_from_pressure range from DE:[18.897096405406707, 505.66615180355086]\n",
      "Station PAPA non_zero_depth range from DE:[481.8108615552479, 557.467162700832]\n",
      "Southern Ocean non_zero_depth range from DE:[18.897096405406707, 505.66615180355086]\n",
      "Station PAPA ctdmo_ghqr_sio_mule_instrument-depth range from DE:[171.24286632302181, 565.9338353985949]\n",
      "Station PAPA depth range from DE:[1.00874583311923, 565.9338353985949]\n"
     ]
    }
   ],
   "source": [
    "# Check ranges of gold copy depth parameters\n",
    "print(f\"Station PAPA depth_from_pressure range from DE:[{gp_gc['depth_from_pressure'].min().values}, {gp_gc['depth_from_pressure'].max().values}]\")\n",
    "print(f\"Southern Ocean depth_from_pressure range from DE:[{gs_gc['depth_from_pressure'].min().values}, {gs_gc['depth_from_pressure'].max().values}]\")\n",
    "\n",
    "print(f\"Station PAPA non_zero_depth range from DE:[{gp_gc['non_zero_depth'].min().values}, {gp_gc['non_zero_depth'].max().values}]\")\n",
    "print(f\"Southern Ocean non_zero_depth range from DE:[{gs_gc['non_zero_depth'].min().values}, {gs_gc['non_zero_depth'].max().values}]\")\n",
    "\n",
    "print(f\"Station PAPA ctdmo_ghqr_sio_mule_instrument-depth range from DE:[{gp_gc['ctdmo_ghqr_sio_mule_instrument-depth'].min().values}, {gp_gc['ctdmo_ghqr_sio_mule_instrument-depth'].max().values}]\")\n",
    "# print(f\"Southern Ocean ctdmo_ghqr_sio_mule_instrument-depth range from DE:[{gs_gc['ctdmo_ghqr_sio_mule_instrument-depth'].min().values}, {gs_gc['ctdmo_ghqr_sio_mule_instrument-depth'].max().values}]\")\n",
    "\n",
    "print(f\"Station PAPA depth range from DE:[{gp_gc['depth'].min().values}, {gp_gc['depth'].max().values}]\")\n",
    "# print(f\"Southern Ocean depth range from DE:[{gs_gc['depth'].min().values}, {gs_gc['depth'].max().values}]\")"
   ]
  },
  {
   "cell_type": "code",
   "execution_count": null,
   "id": "c124c587-b4d5-433b-9db2-d1d1e4feac6b",
   "metadata": {},
   "outputs": [],
   "source": []
  }
 ],
 "metadata": {
  "kernelspec": {
   "display_name": "qartod_test",
   "language": "python",
   "name": "qartod_test"
  },
  "language_info": {
   "codemirror_mode": {
    "name": "ipython",
    "version": 3
   },
   "file_extension": ".py",
   "mimetype": "text/x-python",
   "name": "python",
   "nbconvert_exporter": "python",
   "pygments_lexer": "ipython3",
   "version": "3.11.3"
  }
 },
 "nbformat": 4,
 "nbformat_minor": 5
}
